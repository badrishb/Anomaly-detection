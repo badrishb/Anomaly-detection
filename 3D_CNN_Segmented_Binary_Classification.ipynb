{
  "nbformat": 4,
  "nbformat_minor": 0,
  "metadata": {
    "colab": {
      "name": "3D-CNN Segmented Binary Classification.ipynb",
      "provenance": [],
      "collapsed_sections": [
        "IGGphePNOJk2",
        "GlqsJA-ZOhg0",
        "Zv5oUUYDOSvx",
        "a2ZZczKBLhZG",
        "iTbtbDX4LlJc",
        "xQzNgkhLLtPM",
        "w2l6bl_U3ReV",
        "7OlgUPd6qP77",
        "bLNz2H4Me-39",
        "GxYSc3I4JurW",
        "N0CE4PZ8J0uW",
        "A4AbzQQyM7ZR"
      ],
      "toc_visible": true,
      "machine_shape": "hm",
      "include_colab_link": true
    },
    "kernelspec": {
      "name": "python3",
      "display_name": "Python 3"
    },
    "accelerator": "GPU"
  },
  "cells": [
    {
      "cell_type": "markdown",
      "metadata": {
        "id": "view-in-github",
        "colab_type": "text"
      },
      "source": [
        "<a href=\"https://colab.research.google.com/github/badrishb/Anomaly-detection/blob/main/3D_CNN_Segmented_Binary_Classification.ipynb\" target=\"_parent\"><img src=\"https://colab.research.google.com/assets/colab-badge.svg\" alt=\"Open In Colab\"/></a>"
      ]
    },
    {
      "cell_type": "markdown",
      "metadata": {
        "id": "IGGphePNOJk2"
      },
      "source": [
        "# Importing Libraries and preprocessing Data"
      ]
    },
    {
      "cell_type": "code",
      "metadata": {
        "id": "7FWh1ExUxT7K"
      },
      "source": [
        "# !pip install -q imageio\n",
        "# !pip install -q opencv-python\n",
        "# !pip install -q git+https://github.com/tensorflow/docs\n",
        "import os\n",
        "import pandas as pd\n",
        "import numpy as np\n",
        "import cv2\n",
        "import keras"
      ],
      "execution_count": 1,
      "outputs": []
    },
    {
      "cell_type": "code",
      "metadata": {
        "id": "CHE5Xzts0nBp"
      },
      "source": [
        "# UCF_ROOT = \"/content/drive/My Drive/Dataset/tozip/\"  "
      ],
      "execution_count": 2,
      "outputs": []
    },
    {
      "cell_type": "code",
      "metadata": {
        "id": "qPua_Of4zMhC"
      },
      "source": [
        "labels=['Crime','norm']"
      ],
      "execution_count": 3,
      "outputs": []
    },
    {
      "cell_type": "code",
      "metadata": {
        "id": "ARq3cpEDA9oA",
        "outputId": "6675e19d-1230-496b-cf00-42f68cabd496",
        "colab": {
          "base_uri": "https://localhost:8080/"
        }
      },
      "source": [
        "#mount saebasasuke\n",
        "from google.colab import drive\n",
        "drive.mount('/content/drive',force_remount=True)"
      ],
      "execution_count": 4,
      "outputs": [
        {
          "output_type": "stream",
          "text": [
            "Mounted at /content/drive\n"
          ],
          "name": "stdout"
        }
      ]
    },
    {
      "cell_type": "code",
      "metadata": {
        "id": "qKBcQzRWzdUK"
      },
      "source": [
        "from tensorflow.keras.preprocessing.image import ImageDataGenerator\n",
        "imagen=ImageDataGenerator(rotation_range=20,width_shift_range=0.10,height_shift_range=0.10,rescale=1/255,shear_range=0.1,zoom_range=0.1,horizontal_flip=True,fill_mode='nearest')"
      ],
      "execution_count": null,
      "outputs": []
    },
    {
      "cell_type": "code",
      "metadata": {
        "id": "nei4Th1UeneU",
        "outputId": "ef5efa99-22b3-44f8-c096-3a0cb5f9c77e",
        "colab": {
          "base_uri": "https://localhost:8080/"
        }
      },
      "source": [
        "# !pip install pyunpack\n",
        "# !pip install patool\n",
        "# !rm -rf \"/content/Crime\"\n",
        "# !pip install unrar\n",
        "!cp '/content/drive/My Drive/seg.rar' './'\n",
        "!unrar x 'seg.rar'\n",
        "# !unzip \"/content/drive/My Drive/seg.rar\""
      ],
      "execution_count": 5,
      "outputs": [
        {
          "output_type": "stream",
          "text": [
            "\n",
            "UNRAR 5.50 freeware      Copyright (c) 1993-2017 Alexander Roshal\n",
            "\n",
            "\n",
            "Extracting from seg.rar\n",
            "\n",
            "Creating    Crime                                                     OK\n",
            "Extracting  Crime/Burglary001_x264.mp4                                   \b\b\b\b  0%\b\b\b\b\b  OK \n",
            "Extracting  Crime/Burglary002_x264.mp4                                   \b\b\b\b  0%\b\b\b\b\b  OK \n",
            "Extracting  Crime/Burglary003_x264.mp4                                   \b\b\b\b  0%\b\b\b\b\b  OK \n",
            "Extracting  Crime/Burglary004_x264.mp4                                   \b\b\b\b  0%\b\b\b\b\b  OK \n",
            "Extracting  Crime/Burglary005_x264.mp4                                   \b\b\b\b  0%\b\b\b\b\b  OK \n",
            "Extracting  Crime/Burglary006_x264.mp4                                   \b\b\b\b  0%\b\b\b\b  1%\b\b\b\b\b  OK \n",
            "Extracting  Crime/Burglary007_x264.mp4                                   \b\b\b\b  1%\b\b\b\b\b  OK \n",
            "Extracting  Crime/Burglary008_x264.mp4                                   \b\b\b\b  1%\b\b\b\b\b  OK \n",
            "Extracting  Crime/Burglary009_x264.mp4                                   \b\b\b\b  1%\b\b\b\b\b  OK \n",
            "Extracting  Crime/Burglary010_x264.mp4                                   \b\b\b\b  1%\b\b\b\b\b  OK \n",
            "Extracting  Crime/Burglary011_x264.mp4                                   \b\b\b\b  1%\b\b\b\b\b  OK \n",
            "Extracting  Crime/Burglary012_x264.mp4                                   \b\b\b\b  1%\b\b\b\b\b  OK \n",
            "Extracting  Crime/Burglary013_x264.mp4                                   \b\b\b\b  2%\b\b\b\b\b  OK \n",
            "Extracting  Crime/Burglary014_x264.mp4                                   \b\b\b\b  2%\b\b\b\b\b  OK \n",
            "Extracting  Crime/Burglary015_x264.mp4                                   \b\b\b\b  2%\b\b\b\b\b  OK \n",
            "Extracting  Crime/Burglary016_x264.mp4                                   \b\b\b\b  2%\b\b\b\b\b  OK \n",
            "Extracting  Crime/Burglary017_x264.mp4                                   \b\b\b\b  2%\b\b\b\b\b  OK \n",
            "Extracting  Crime/Burglary018_x264.mp4                                   \b\b\b\b  2%\b\b\b\b\b  OK \n",
            "Extracting  Crime/Burglary019_x264.mp4                                   \b\b\b\b  2%\b\b\b\b  3%\b\b\b\b\b  OK \n",
            "Extracting  Crime/Burglary020_x264.mp4                                   \b\b\b\b  3%\b\b\b\b\b  OK \n",
            "Extracting  Crime/Burglary021_x264.mp4                                   \b\b\b\b  3%\b\b\b\b\b  OK \n",
            "Extracting  Crime/Burglary022_x264.mp4                                   \b\b\b\b  3%\b\b\b\b\b  OK \n",
            "Extracting  Crime/Burglary023_x264.mp4                                   \b\b\b\b  3%\b\b\b\b  4%\b\b\b\b\b  OK \n",
            "Extracting  Crime/Burglary024_x264.mp4                                   \b\b\b\b  4%\b\b\b\b\b  OK \n",
            "Extracting  Crime/Burglary025_x264.mp4                                   \b\b\b\b  4%\b\b\b\b\b  OK \n",
            "Extracting  Crime/Burglary026_x264.mp4                                   \b\b\b\b  4%\b\b\b\b\b  OK \n",
            "Extracting  Crime/Burglary027_x264.mp4                                   \b\b\b\b  4%\b\b\b\b\b  OK \n",
            "Extracting  Crime/Burglary028_x264.mp4                                   \b\b\b\b  4%\b\b\b\b\b  OK \n",
            "Extracting  Crime/Burglary029_x264.mp4                                   \b\b\b\b  4%\b\b\b\b  5%\b\b\b\b\b  OK \n",
            "Extracting  Crime/Burglary030_x264.mp4                                   \b\b\b\b  5%\b\b\b\b\b  OK \n",
            "Extracting  Crime/Burglary031_x264.mp4                                   \b\b\b\b  5%\b\b\b\b\b  OK \n",
            "Extracting  Crime/Burglary032_x264.mp4                                   \b\b\b\b  5%\b\b\b\b  6%\b\b\b\b\b  OK \n",
            "Extracting  Crime/Burglary033_x264.mp4                                   \b\b\b\b  6%\b\b\b\b\b  OK \n",
            "Extracting  Crime/Burglary034_x264.mp4                                   \b\b\b\b  6%\b\b\b\b\b  OK \n",
            "Extracting  Crime/Burglary035_x264.mp4                                   \b\b\b\b  6%\b\b\b\b\b  OK \n",
            "Extracting  Crime/Burglary036_x264.mp4                                   \b\b\b\b  6%\b\b\b\b\b  OK \n",
            "Extracting  Crime/Burglary037_x264.mp4                                   \b\b\b\b  6%\b\b\b\b\b  OK \n",
            "Extracting  Crime/Burglary038_x264.mp4                                   \b\b\b\b  6%\b\b\b\b\b  OK \n",
            "Extracting  Crime/Burglary039_x264.mp4                                   \b\b\b\b  6%\b\b\b\b  7%\b\b\b\b\b  OK \n",
            "Extracting  Crime/Burglary040_x264.mp4                                   \b\b\b\b  7%\b\b\b\b\b  OK \n",
            "Extracting  Crime/Burglary041_x264.mp4                                   \b\b\b\b  7%\b\b\b\b\b  OK \n",
            "Extracting  Crime/Burglary042_x264.mp4                                   \b\b\b\b  7%\b\b\b\b\b  OK \n",
            "Extracting  Crime/Burglary043_x264.mp4                                   \b\b\b\b  7%\b\b\b\b\b  OK \n",
            "Extracting  Crime/Burglary044_x264.mp4                                   \b\b\b\b  7%\b\b\b\b  8%\b\b\b\b\b  OK \n",
            "Extracting  Crime/Burglary045_x264.mp4                                   \b\b\b\b  8%\b\b\b\b\b  OK \n",
            "Extracting  Crime/Burglary046_x264.mp4                                   \b\b\b\b  8%\b\b\b\b\b  OK \n",
            "Extracting  Crime/Burglary047_x264.mp4                                   \b\b\b\b  8%\b\b\b\b\b  OK \n",
            "Extracting  Crime/Burglary048_x264.mp4                                   \b\b\b\b  8%\b\b\b\b\b  OK \n",
            "Extracting  Crime/Burglary049_x264.mp4                                   \b\b\b\b  8%\b\b\b\b\b  OK \n",
            "Extracting  Crime/Burglary050_x264.mp4                                   \b\b\b\b  8%\b\b\b\b\b  OK \n",
            "Extracting  Crime/Burglary051_x264.mp4                                   \b\b\b\b  8%\b\b\b\b\b  OK \n",
            "Extracting  Crime/Burglary052_x264.mp4                                   \b\b\b\b  8%\b\b\b\b  9%\b\b\b\b\b  OK \n",
            "Extracting  Crime/Burglary053_x264.mp4                                   \b\b\b\b  9%\b\b\b\b\b  OK \n",
            "Extracting  Crime/Burglary054_x264.mp4                                   \b\b\b\b  9%\b\b\b\b\b  OK \n",
            "Extracting  Crime/Burglary055_x264.mp4                                   \b\b\b\b  9%\b\b\b\b\b  OK \n",
            "Extracting  Crime/Burglary056_x264.mp4                                   \b\b\b\b 10%\b\b\b\b\b  OK \n",
            "Extracting  Crime/Burglary057_x264.mp4                                   \b\b\b\b 10%\b\b\b\b\b  OK \n",
            "Extracting  Crime/Burglary058_x264.mp4                                   \b\b\b\b 10%\b\b\b\b\b  OK \n",
            "Extracting  Crime/Burglary059_x264.mp4                                   \b\b\b\b 10%\b\b\b\b\b  OK \n",
            "Extracting  Crime/Burglary060_x264.mp4                                   \b\b\b\b 11%\b\b\b\b\b  OK \n",
            "Extracting  Crime/Burglary061_x264.mp4                                   \b\b\b\b 11%\b\b\b\b\b  OK \n",
            "Extracting  Crime/Burglary062_x264.mp4                                   \b\b\b\b 11%\b\b\b\b\b  OK \n",
            "Extracting  Crime/Burglary063_x264.mp4                                   \b\b\b\b 11%\b\b\b\b\b  OK \n",
            "Extracting  Crime/Burglary064_x264.mp4                                   \b\b\b\b 11%\b\b\b\b 12%\b\b\b\b 13%\b\b\b\b\b  OK \n",
            "Extracting  Crime/Burglary065_x264.mp4                                   \b\b\b\b 13%\b\b\b\b\b  OK \n",
            "Extracting  Crime/Burglary066_x264.mp4                                   \b\b\b\b 13%\b\b\b\b\b  OK \n",
            "Extracting  Crime/Burglary067_x264.mp4                                   \b\b\b\b 13%\b\b\b\b\b  OK \n",
            "Extracting  Crime/Burglary068_x264.mp4                                   \b\b\b\b 13%\b\b\b\b\b  OK \n",
            "Extracting  Crime/Burglary069_x264.mp4                                   \b\b\b\b 13%\b\b\b\b\b  OK \n",
            "Extracting  Crime/Burglary070_x264.mp4                                   \b\b\b\b 13%\b\b\b\b\b  OK \n",
            "Extracting  Crime/Burglary071_x264.mp4                                   \b\b\b\b 13%\b\b\b\b\b  OK \n",
            "Extracting  Crime/Burglary072_x264.mp4                                   \b\b\b\b 13%\b\b\b\b 14%\b\b\b\b\b  OK \n",
            "Extracting  Crime/Burglary073_x264.mp4                                   \b\b\b\b 14%\b\b\b\b\b  OK \n",
            "Extracting  Crime/Burglary074_x264.mp4                                   \b\b\b\b 14%\b\b\b\b\b  OK \n",
            "Extracting  Crime/Burglary075_x264.mp4                                   \b\b\b\b 14%\b\b\b\b 15%\b\b\b\b\b  OK \n",
            "Extracting  Crime/Burglary076_x264.mp4                                   \b\b\b\b 15%\b\b\b\b\b  OK \n",
            "Extracting  Crime/Burglary077_x264.mp4                                   \b\b\b\b 15%\b\b\b\b\b  OK \n",
            "Extracting  Crime/Burglary078_x264.mp4                                   \b\b\b\b 15%\b\b\b\b\b  OK \n",
            "Extracting  Crime/Burglary079_x264.mp4                                   \b\b\b\b 15%\b\b\b\b 16%\b\b\b\b\b  OK \n",
            "Extracting  Crime/Burglary080_x264.mp4                                   \b\b\b\b 16%\b\b\b\b\b  OK \n",
            "Extracting  Crime/Burglary081_x264.mp4                                   \b\b\b\b 16%\b\b\b\b\b  OK \n",
            "Extracting  Crime/Burglary082_x264.mp4                                   \b\b\b\b 16%\b\b\b\b\b  OK \n",
            "Extracting  Crime/Burglary083_x264.mp4                                   \b\b\b\b 16%\b\b\b\b\b  OK \n",
            "Extracting  Crime/Burglary084_x264.mp4                                   \b\b\b\b 16%\b\b\b\b\b  OK \n",
            "Extracting  Crime/Burglary085_x264.mp4                                   \b\b\b\b 16%\b\b\b\b\b  OK \n",
            "Extracting  Crime/Burglary086_x264.mp4                                   \b\b\b\b 16%\b\b\b\b 17%\b\b\b\b\b  OK \n",
            "Extracting  Crime/Burglary087_x264.mp4                                   \b\b\b\b 17%\b\b\b\b\b  OK \n",
            "Extracting  Crime/Burglary088_x264.mp4                                   \b\b\b\b 17%\b\b\b\b\b  OK \n",
            "Extracting  Crime/Burglary089_x264.mp4                                   \b\b\b\b 17%\b\b\b\b\b  OK \n",
            "Extracting  Crime/Burglary090_x264.mp4                                   \b\b\b\b 17%\b\b\b\b\b  OK \n",
            "Extracting  Crime/Burglary091_x264.mp4                                   \b\b\b\b 17%\b\b\b\b 18%\b\b\b\b\b  OK \n",
            "Extracting  Crime/Burglary092_x264.mp4                                   \b\b\b\b 18%\b\b\b\b\b  OK \n",
            "Extracting  Crime/Burglary093_x264.mp4                                   \b\b\b\b 18%\b\b\b\b\b  OK \n",
            "Extracting  Crime/Burglary094_x264.mp4                                   \b\b\b\b 18%\b\b\b\b\b  OK \n",
            "Extracting  Crime/Burglary095_x264.mp4                                   \b\b\b\b 18%\b\b\b\b\b  OK \n",
            "Extracting  Crime/Burglary096_x264.mp4                                   \b\b\b\b 19%\b\b\b\b\b  OK \n",
            "Extracting  Crime/Burglary097_x264.mp4                                   \b\b\b\b 19%\b\b\b\b\b  OK \n",
            "Extracting  Crime/Burglary098_x264.mp4                                   \b\b\b\b 19%\b\b\b\b\b  OK \n",
            "Extracting  Crime/Burglary099_x264.mp4                                   \b\b\b\b 19%\b\b\b\b\b  OK \n",
            "Extracting  Crime/Burglary100_x264.mp4                                   \b\b\b\b 19%\b\b\b\b\b  OK \n",
            "Extracting  Crime/Robbery001_x264.mp4                                    \b\b\b\b 19%\b\b\b\b\b  OK \n",
            "Extracting  Crime/Robbery002_x264.mp4                                    \b\b\b\b 19%\b\b\b\b\b  OK \n",
            "Extracting  Crime/Robbery003_x264.mp4                                    \b\b\b\b 19%\b\b\b\b\b  OK \n",
            "Extracting  Crime/Robbery004_x264.mp4                                    \b\b\b\b 19%\b\b\b\b\b  OK \n",
            "Extracting  Crime/Robbery005_x264.mp4                                    \b\b\b\b 20%\b\b\b\b\b  OK \n",
            "Extracting  Crime/Robbery006_x264.mp4                                    \b\b\b\b 20%\b\b\b\b\b  OK \n",
            "Extracting  Crime/Robbery007_x264.mp4                                    \b\b\b\b 20%\b\b\b\b\b  OK \n",
            "Extracting  Crime/Robbery008_x264.mp4                                    \b\b\b\b 20%\b\b\b\b\b  OK \n",
            "Extracting  Crime/Robbery009_x264.mp4                                    \b\b\b\b 20%\b\b\b\b\b  OK \n",
            "Extracting  Crime/Robbery010_x264.mp4                                    \b\b\b\b 20%\b\b\b\b\b  OK \n",
            "Extracting  Crime/Robbery011_x264.mp4                                    \b\b\b\b 20%\b\b\b\b\b  OK \n",
            "Extracting  Crime/Robbery012_x264.mp4                                    \b\b\b\b 20%\b\b\b\b\b  OK \n",
            "Extracting  Crime/Robbery013_x264.mp4                                    \b\b\b\b 20%\b\b\b\b\b  OK \n",
            "Extracting  Crime/Robbery014_x264.mp4                                    \b\b\b\b 20%\b\b\b\b 21%\b\b\b\b\b  OK \n",
            "Extracting  Crime/Robbery015_x264.mp4                                    \b\b\b\b 21%\b\b\b\b\b  OK \n",
            "Extracting  Crime/Robbery016_x264.mp4                                    \b\b\b\b 21%\b\b\b\b\b  OK \n",
            "Extracting  Crime/Robbery017_x264.mp4                                    \b\b\b\b 21%\b\b\b\b\b  OK \n",
            "Extracting  Crime/Robbery018_x264.mp4                                    \b\b\b\b 21%\b\b\b\b\b  OK \n",
            "Extracting  Crime/Robbery019_x264.mp4                                    \b\b\b\b 21%\b\b\b\b 22%\b\b\b\b\b  OK \n",
            "Extracting  Crime/Robbery020_x264.mp4                                    \b\b\b\b 22%\b\b\b\b\b  OK \n",
            "Extracting  Crime/Robbery021_x264.mp4                                    \b\b\b\b 22%\b\b\b\b\b  OK \n",
            "Extracting  Crime/Robbery022_x264.mp4                                    \b\b\b\b 22%\b\b\b\b\b  OK \n",
            "Extracting  Crime/Robbery023_x264.mp4                                    \b\b\b\b 22%\b\b\b\b\b  OK \n",
            "Extracting  Crime/Robbery024_x264.mp4                                    \b\b\b\b 22%\b\b\b\b\b  OK \n",
            "Extracting  Crime/Robbery025_x264.mp4                                    \b\b\b\b 22%\b\b\b\b\b  OK \n",
            "Extracting  Crime/Robbery026_x264.mp4                                    \b\b\b\b 22%\b\b\b\b 23%\b\b\b\b\b  OK \n",
            "Extracting  Crime/Robbery027_x264.mp4                                    \b\b\b\b 23%\b\b\b\b\b  OK \n",
            "Extracting  Crime/Robbery028_x264.mp4                                    \b\b\b\b 23%\b\b\b\b\b  OK \n",
            "Extracting  Crime/Robbery029_x264.mp4                                    \b\b\b\b 23%\b\b\b\b\b  OK \n",
            "Extracting  Crime/Robbery030_x264.mp4                                    \b\b\b\b 23%\b\b\b\b\b  OK \n",
            "Extracting  Crime/Robbery031_x264.mp4                                    \b\b\b\b 23%\b\b\b\b\b  OK \n",
            "Extracting  Crime/Robbery032_x264.mp4                                    \b\b\b\b 23%\b\b\b\b\b  OK \n",
            "Extracting  Crime/Robbery033_x264.mp4                                    \b\b\b\b 23%\b\b\b\b\b  OK \n",
            "Extracting  Crime/Robbery034_x264.mp4                                    \b\b\b\b 23%\b\b\b\b 24%\b\b\b\b\b  OK \n",
            "Extracting  Crime/Robbery035_x264.mp4                                    \b\b\b\b 24%\b\b\b\b\b  OK \n",
            "Extracting  Crime/Robbery037_x264.mp4                                    \b\b\b\b 24%\b\b\b\b\b  OK \n",
            "Extracting  Crime/Robbery038_x264.mp4                                    \b\b\b\b 24%\b\b\b\b\b  OK \n",
            "Extracting  Crime/Robbery039_x264.mp4                                    \b\b\b\b 24%\b\b\b\b\b  OK \n",
            "Extracting  Crime/Robbery040_x264.mp4                                    \b\b\b\b 24%\b\b\b\b\b  OK \n",
            "Extracting  Crime/Robbery041_x264.mp4                                    \b\b\b\b 24%\b\b\b\b\b  OK \n",
            "Extracting  Crime/Robbery042_x264.mp4                                    \b\b\b\b 24%\b\b\b\b\b  OK \n",
            "Extracting  Crime/Robbery043_x264.mp4                                    \b\b\b\b 24%\b\b\b\b\b  OK \n",
            "Extracting  Crime/Robbery044_x264.mp4                                    \b\b\b\b 24%\b\b\b\b\b  OK \n",
            "Extracting  Crime/Robbery045_x264.mp4                                    \b\b\b\b 24%\b\b\b\b\b  OK \n",
            "Extracting  Crime/Robbery046_x264.mp4                                    \b\b\b\b 25%\b\b\b\b\b  OK \n",
            "Extracting  Crime/Robbery047_x264.mp4                                    \b\b\b\b 25%\b\b\b\b\b  OK \n",
            "Extracting  Crime/Robbery048_x264.mp4                                    \b\b\b\b 25%\b\b\b\b\b  OK \n",
            "Extracting  Crime/Robbery049_x264.mp4                                    \b\b\b\b 25%\b\b\b\b\b  OK \n",
            "Extracting  Crime/Robbery050_x264.mp4                                    \b\b\b\b 25%\b\b\b\b\b  OK \n",
            "Extracting  Crime/Robbery051_x264.mp4                                    \b\b\b\b 25%\b\b\b\b\b  OK \n",
            "Extracting  Crime/Robbery052_x264.mp4                                    \b\b\b\b 25%\b\b\b\b\b  OK \n",
            "Extracting  Crime/Robbery053_x264.mp4                                    \b\b\b\b 25%\b\b\b\b\b  OK \n",
            "Extracting  Crime/Robbery054_x264.mp4                                    \b\b\b\b 25%\b\b\b\b\b  OK \n",
            "Extracting  Crime/Robbery055_x264.mp4                                    \b\b\b\b 25%\b\b\b\b\b  OK \n",
            "Extracting  Crime/Robbery056_x264.mp4                                    \b\b\b\b 25%\b\b\b\b\b  OK \n",
            "Extracting  Crime/Robbery057_x264.mp4                                    \b\b\b\b 25%\b\b\b\b 26%\b\b\b\b\b  OK \n",
            "Extracting  Crime/Robbery058_x264.mp4                                    \b\b\b\b 26%\b\b\b\b\b  OK \n",
            "Extracting  Crime/Robbery059_x264.mp4                                    \b\b\b\b 26%\b\b\b\b\b  OK \n",
            "Extracting  Crime/Robbery060_x264.mp4                                    \b\b\b\b 26%\b\b\b\b\b  OK \n",
            "Extracting  Crime/Robbery061_x264.mp4                                    \b\b\b\b 26%\b\b\b\b\b  OK \n",
            "Extracting  Crime/Robbery062_x264.mp4                                    \b\b\b\b 26%\b\b\b\b\b  OK \n",
            "Extracting  Crime/Robbery063_x264.mp4                                    \b\b\b\b 26%\b\b\b\b\b  OK \n",
            "Extracting  Crime/Robbery064_x264.mp4                                    \b\b\b\b 26%\b\b\b\b\b  OK \n",
            "Extracting  Crime/Robbery065_x264.mp4                                    \b\b\b\b 26%\b\b\b\b\b  OK \n",
            "Extracting  Crime/Robbery066_x264.mp4                                    \b\b\b\b 26%\b\b\b\b 27%\b\b\b\b\b  OK \n",
            "Extracting  Crime/Robbery067_x264.mp4                                    \b\b\b\b 27%\b\b\b\b\b  OK \n",
            "Extracting  Crime/Robbery068_x264.mp4                                    \b\b\b\b 27%\b\b\b\b\b  OK \n",
            "Extracting  Crime/Robbery069_x264.mp4                                    \b\b\b\b 27%\b\b\b\b\b  OK \n",
            "Extracting  Crime/Robbery070_x264.mp4                                    \b\b\b\b 27%\b\b\b\b\b  OK \n",
            "Extracting  Crime/Robbery071_x264.mp4                                    \b\b\b\b 27%\b\b\b\b\b  OK \n",
            "Extracting  Crime/Robbery072_x264.mp4                                    \b\b\b\b 27%\b\b\b\b\b  OK \n",
            "Extracting  Crime/Robbery073_x264.mp4                                    \b\b\b\b 27%\b\b\b\b\b  OK \n",
            "Extracting  Crime/Robbery074_x264.mp4                                    \b\b\b\b 27%\b\b\b\b\b  OK \n",
            "Extracting  Crime/Robbery075_x264.mp4                                    \b\b\b\b 27%\b\b\b\b\b  OK \n",
            "Extracting  Crime/Robbery076_x264.mp4                                    \b\b\b\b 27%\b\b\b\b\b  OK \n",
            "Extracting  Crime/Robbery077_x264.mp4                                    \b\b\b\b 27%\b\b\b\b\b  OK \n",
            "Extracting  Crime/Robbery078_x264.mp4                                    \b\b\b\b 28%\b\b\b\b\b  OK \n",
            "Extracting  Crime/Robbery079_x264.mp4                                    \b\b\b\b 28%\b\b\b\b\b  OK \n",
            "Extracting  Crime/Robbery080_x264.mp4                                    \b\b\b\b 28%\b\b\b\b\b  OK \n",
            "Extracting  Crime/Robbery081_x264.mp4                                    \b\b\b\b 28%\b\b\b\b\b  OK \n",
            "Extracting  Crime/Robbery082_x264.mp4                                    \b\b\b\b 28%\b\b\b\b\b  OK \n",
            "Extracting  Crime/Robbery083_x264.mp4                                    \b\b\b\b 28%\b\b\b\b\b  OK \n",
            "Extracting  Crime/Robbery084_x264.mp4                                    \b\b\b\b 28%\b\b\b\b\b  OK \n",
            "Extracting  Crime/Robbery085_x264.mp4                                    \b\b\b\b 28%\b\b\b\b\b  OK \n",
            "Extracting  Crime/Robbery086_x264.mp4                                    \b\b\b\b 28%\b\b\b\b\b  OK \n",
            "Extracting  Crime/Robbery087_x264.mp4                                    \b\b\b\b 28%\b\b\b\b\b  OK \n",
            "Extracting  Crime/Robbery088_x264.mp4                                    \b\b\b\b 29%\b\b\b\b\b  OK \n",
            "Extracting  Crime/Robbery089_x264.mp4                                    \b\b\b\b 29%\b\b\b\b\b  OK \n",
            "Extracting  Crime/Robbery090_x264.mp4                                    \b\b\b\b 29%\b\b\b\b\b  OK \n",
            "Extracting  Crime/Robbery091_x264.mp4                                    \b\b\b\b 29%\b\b\b\b\b  OK \n",
            "Extracting  Crime/Robbery092_x264.mp4                                    \b\b\b\b 29%\b\b\b\b\b  OK \n",
            "Extracting  Crime/Robbery094_x264.mp4                                    \b\b\b\b 29%\b\b\b\b\b  OK \n",
            "Extracting  Crime/Robbery095_x264.mp4                                    \b\b\b\b 29%\b\b\b\b\b  OK \n",
            "Extracting  Crime/Robbery096_x264.mp4                                    \b\b\b\b 29%\b\b\b\b\b  OK \n",
            "Extracting  Crime/Robbery097_x264.mp4                                    \b\b\b\b 29%\b\b\b\b\b  OK \n",
            "Extracting  Crime/Robbery098_x264.mp4                                    \b\b\b\b 29%\b\b\b\b\b  OK \n",
            "Extracting  Crime/Robbery099_x264.mp4                                    \b\b\b\b 29%\b\b\b\b\b  OK \n",
            "Extracting  Crime/Robbery100_x264.mp4                                    \b\b\b\b 30%\b\b\b\b\b  OK \n",
            "Extracting  Crime/Shoplifting001_x264.mp4                                \b\b\b\b 30%\b\b\b\b\b  OK \n",
            "Extracting  Crime/Shoplifting003_x264.mp4                                \b\b\b\b 30%\b\b\b\b\b  OK \n",
            "Extracting  Crime/Shoplifting004_x264.mp4                                \b\b\b\b 30%\b\b\b\b\b  OK \n",
            "Extracting  Crime/Shoplifting005_x264.mp4                                \b\b\b\b 30%\b\b\b\b\b  OK \n",
            "Extracting  Crime/Shoplifting006_x264.mp4                                \b\b\b\b 30%\b\b\b\b\b  OK \n",
            "Extracting  Crime/Shoplifting007_x264.mp4                                \b\b\b\b 30%\b\b\b\b\b  OK \n",
            "Extracting  Crime/Shoplifting008_x264.mp4                                \b\b\b\b 30%\b\b\b\b\b  OK \n",
            "Extracting  Crime/Shoplifting009_x264.mp4                                \b\b\b\b 30%\b\b\b\b\b  OK \n",
            "Extracting  Crime/Shoplifting010_x264.mp4                                \b\b\b\b 30%\b\b\b\b\b  OK \n",
            "Extracting  Crime/Shoplifting012_x264.mp4                                \b\b\b\b 30%\b\b\b\b\b  OK \n",
            "Extracting  Crime/Shoplifting013_x264.mp4                                \b\b\b\b 30%\b\b\b\b\b  OK \n",
            "Extracting  Crime/Shoplifting014_x264.mp4                                \b\b\b\b 30%\b\b\b\b\b  OK \n",
            "Extracting  Crime/Shoplifting015_x264.mp4                                \b\b\b\b 30%\b\b\b\b\b  OK \n",
            "Extracting  Crime/Shoplifting016_x264.mp4                                \b\b\b\b 30%\b\b\b\b\b  OK \n",
            "Extracting  Crime/Shoplifting017_x264.mp4                                \b\b\b\b 30%\b\b\b\b\b  OK \n",
            "Extracting  Crime/Shoplifting018_x264.mp4                                \b\b\b\b 30%\b\b\b\b\b  OK \n",
            "Extracting  Crime/Shoplifting019_x264.mp4                                \b\b\b\b 30%\b\b\b\b\b  OK \n",
            "Extracting  Crime/Shoplifting020_x264.mp4                                \b\b\b\b 30%\b\b\b\b\b  OK \n",
            "Extracting  Crime/Shoplifting021_x264.mp4                                \b\b\b\b 31%\b\b\b\b\b  OK \n",
            "Extracting  Crime/Shoplifting022_x264.mp4                                \b\b\b\b 31%\b\b\b\b\b  OK \n",
            "Extracting  Crime/Shoplifting024_x264.mp4                                \b\b\b\b 31%\b\b\b\b\b  OK \n",
            "Extracting  Crime/Shoplifting025_x264.mp4                                \b\b\b\b 31%\b\b\b\b\b  OK \n",
            "Extracting  Crime/Shoplifting026_x264.mp4                                \b\b\b\b 31%\b\b\b\b\b  OK \n",
            "Extracting  Crime/Shoplifting027_x264.mp4                                \b\b\b\b 31%\b\b\b\b\b  OK \n",
            "Extracting  Crime/Shoplifting028_x264.mp4                                \b\b\b\b 31%\b\b\b\b\b  OK \n",
            "Extracting  Crime/Shoplifting029_x264.mp4                                \b\b\b\b 31%\b\b\b\b\b  OK \n",
            "Extracting  Crime/Shoplifting030_x264.mp4                                \b\b\b\b 31%\b\b\b\b\b  OK \n",
            "Extracting  Crime/Shoplifting031_x264.mp4                                \b\b\b\b 31%\b\b\b\b\b  OK \n",
            "Extracting  Crime/Shoplifting032_x264.mp4                                \b\b\b\b 31%\b\b\b\b\b  OK \n",
            "Extracting  Crime/Shoplifting033_x264.mp4                                \b\b\b\b 31%\b\b\b\b\b  OK \n",
            "Extracting  Crime/Shoplifting034_x264.mp4                                \b\b\b\b 31%\b\b\b\b 32%\b\b\b\b\b  OK \n",
            "Extracting  Crime/Shoplifting036_x264.mp4                                \b\b\b\b 32%\b\b\b\b\b  OK \n",
            "Extracting  Crime/Shoplifting037_x264.mp4                                \b\b\b\b 32%\b\b\b\b\b  OK \n",
            "Extracting  Crime/Shoplifting038_x264.mp4                                \b\b\b\b 32%\b\b\b\b\b  OK \n",
            "Extracting  Crime/Shoplifting039_x264.mp4                                \b\b\b\b 32%\b\b\b\b\b  OK \n",
            "Extracting  Crime/Shoplifting040_x264.mp4                                \b\b\b\b 32%\b\b\b\b\b  OK \n",
            "Extracting  Crime/Shoplifting041_x264.mp4                                \b\b\b\b 32%\b\b\b\b\b  OK \n",
            "Extracting  Crime/Shoplifting042_x264.mp4                                \b\b\b\b 32%\b\b\b\b\b  OK \n",
            "Extracting  Crime/Shoplifting043_x264.mp4                                \b\b\b\b 32%\b\b\b\b\b  OK \n",
            "Extracting  Crime/Shoplifting044_x264.mp4                                \b\b\b\b 32%\b\b\b\b\b  OK \n",
            "Extracting  Crime/Shoplifting045_x264.mp4                                \b\b\b\b 32%\b\b\b\b\b  OK \n",
            "Extracting  Crime/Shoplifting047_x264.mp4                                \b\b\b\b 32%\b\b\b\b\b  OK \n",
            "Extracting  Crime/Shoplifting048_x264.mp4                                \b\b\b\b 32%\b\b\b\b\b  OK \n",
            "Extracting  Crime/Shoplifting049_x264.mp4                                \b\b\b\b 32%\b\b\b\b\b  OK \n",
            "Extracting  Crime/Shoplifting050_x264.mp4                                \b\b\b\b 32%\b\b\b\b\b  OK \n",
            "Extracting  Crime/Shoplifting051_x264.mp4                                \b\b\b\b 33%\b\b\b\b\b  OK \n",
            "Extracting  Crime/Shoplifting052_x264.mp4                                \b\b\b\b 33%\b\b\b\b\b  OK \n",
            "Extracting  Crime/Shoplifting053_x264.mp4                                \b\b\b\b 33%\b\b\b\b\b  OK \n",
            "Extracting  Crime/Shoplifting054_x264.mp4                                \b\b\b\b 33%\b\b\b\b\b  OK \n",
            "Extracting  Crime/Shoplifting055_x264.mp4                                \b\b\b\b 33%\b\b\b\b\b  OK \n",
            "Extracting  Crime/Stealing002_x264.mp4                                   \b\b\b\b 33%\b\b\b\b\b  OK \n",
            "Extracting  Crime/Stealing003_x264.mp4                                   \b\b\b\b 33%\b\b\b\b\b  OK \n",
            "Extracting  Crime/Stealing004_x264.mp4                                   \b\b\b\b 33%\b\b\b\b\b  OK \n",
            "Extracting  Crime/Stealing006_x264.mp4                                   \b\b\b\b 33%\b\b\b\b\b  OK \n",
            "Extracting  Crime/Stealing007_x264.mp4                                   \b\b\b\b 33%\b\b\b\b\b  OK \n",
            "Extracting  Crime/Stealing008_x264.mp4                                   \b\b\b\b 33%\b\b\b\b\b  OK \n",
            "Extracting  Crime/Stealing009_x264.mp4                                   \b\b\b\b 33%\b\b\b\b\b  OK \n",
            "Extracting  Crime/Stealing010_x264.mp4                                   \b\b\b\b 33%\b\b\b\b\b  OK \n",
            "Extracting  Crime/Stealing011_x264.mp4                                   \b\b\b\b 33%\b\b\b\b 34%\b\b\b\b\b  OK \n",
            "Extracting  Crime/Stealing012_x264.mp4                                   \b\b\b\b 34%\b\b\b\b\b  OK \n",
            "Extracting  Crime/Stealing013_x264.mp4                                   \b\b\b\b 34%\b\b\b\b\b  OK \n",
            "Extracting  Crime/Stealing014_x264.mp4                                   \b\b\b\b 34%\b\b\b\b\b  OK \n",
            "Extracting  Crime/Stealing015_x264.mp4                                   \b\b\b\b 34%\b\b\b\b\b  OK \n",
            "Extracting  Crime/Stealing016_x264.mp4                                   \b\b\b\b 34%\b\b\b\b\b  OK \n",
            "Extracting  Crime/Stealing017_x264.mp4                                   \b\b\b\b 34%\b\b\b\b\b  OK \n",
            "Extracting  Crime/Stealing018_x264.mp4                                   \b\b\b\b 34%\b\b\b\b 35%\b\b\b\b\b  OK \n",
            "Extracting  Crime/Stealing019_x264.mp4                                   \b\b\b\b 35%\b\b\b\b\b  OK \n",
            "Extracting  Crime/Stealing020_x264.mp4                                   \b\b\b\b 35%\b\b\b\b\b  OK \n",
            "Extracting  Crime/Stealing021_x264.mp4                                   \b\b\b\b 35%\b\b\b\b\b  OK \n",
            "Extracting  Crime/Stealing022_x264.mp4                                   \b\b\b\b 35%\b\b\b\b\b  OK \n",
            "Extracting  Crime/Stealing023_x264.mp4                                   \b\b\b\b 35%\b\b\b\b\b  OK \n",
            "Extracting  Crime/Stealing024_x264.mp4                                   \b\b\b\b 35%\b\b\b\b\b  OK \n",
            "Extracting  Crime/Stealing025_x264.mp4                                   \b\b\b\b 35%\b\b\b\b\b  OK \n",
            "Extracting  Crime/Stealing026_x264.mp4                                   \b\b\b\b 36%\b\b\b\b\b  OK \n",
            "Extracting  Crime/Stealing027_x264.mp4                                   \b\b\b\b 36%\b\b\b\b\b  OK \n",
            "Extracting  Crime/Stealing028_x264.mp4                                   \b\b\b\b 36%\b\b\b\b\b  OK \n",
            "Extracting  Crime/Stealing029_x264.mp4                                   \b\b\b\b 36%\b\b\b\b\b  OK \n",
            "Extracting  Crime/Stealing030_x264.mp4                                   \b\b\b\b 36%\b\b\b\b\b  OK \n",
            "Extracting  Crime/Stealing031_x264.mp4                                   \b\b\b\b 36%\b\b\b\b\b  OK \n",
            "Extracting  Crime/Stealing032_x264.mp4                                   \b\b\b\b 36%\b\b\b\b\b  OK \n",
            "Extracting  Crime/Stealing035_x264.mp4                                   \b\b\b\b 36%\b\b\b\b\b  OK \n",
            "Extracting  Crime/Stealing036_x264.mp4                                   \b\b\b\b 36%\b\b\b\b\b  OK \n",
            "Extracting  Crime/Stealing037_x264.mp4                                   \b\b\b\b 36%\b\b\b\b 37%\b\b\b\b\b  OK \n",
            "Extracting  Crime/Stealing042_x264.mp4                                   \b\b\b\b 37%\b\b\b\b\b  OK \n",
            "Extracting  Crime/Stealing043_x264.mp4                                   \b\b\b\b 37%\b\b\b\b\b  OK \n",
            "Extracting  Crime/Stealing044_x264.mp4                                   \b\b\b\b 37%\b\b\b\b\b  OK \n",
            "Extracting  Crime/Stealing045_x264.mp4                                   \b\b\b\b 37%\b\b\b\b\b  OK \n",
            "Extracting  Crime/Stealing046_x264.mp4                                   \b\b\b\b 37%\b\b\b\b\b  OK \n",
            "Extracting  Crime/Stealing047_x264.mp4                                   \b\b\b\b 37%\b\b\b\b\b  OK \n",
            "Extracting  Crime/Stealing048_x264.mp4                                   \b\b\b\b 37%\b\b\b\b 38%\b\b\b\b\b  OK \n",
            "Extracting  Crime/Stealing049_x264.mp4                                   \b\b\b\b 38%\b\b\b\b\b  OK \n",
            "Extracting  Crime/Stealing050_x264.mp4                                   \b\b\b\b 38%\b\b\b\b\b  OK \n",
            "Extracting  Crime/Stealing051_x264.mp4                                   \b\b\b\b 38%\b\b\b\b\b  OK \n",
            "Extracting  Crime/Stealing052_x264.mp4                                   \b\b\b\b 38%\b\b\b\b\b  OK \n",
            "Extracting  Crime/Stealing053_x264.mp4                                   \b\b\b\b 39%\b\b\b\b\b  OK \n",
            "Extracting  Crime/Stealing054_x264.mp4                                   \b\b\b\b 39%\b\b\b\b\b  OK \n",
            "Extracting  Crime/Stealing055_x264.mp4                                   \b\b\b\b 39%\b\b\b\b\b  OK \n",
            "Extracting  Crime/Stealing057_x264.mp4                                   \b\b\b\b 39%\b\b\b\b\b  OK \n",
            "Extracting  Crime/Stealing058_x264.mp4                                   \b\b\b\b 39%\b\b\b\b 40%\b\b\b\b\b  OK \n",
            "Extracting  Crime/Stealing059_x264.mp4                                   \b\b\b\b 40%\b\b\b\b\b  OK \n",
            "Extracting  Crime/Stealing060_x264.mp4                                   \b\b\b\b 40%\b\b\b\b\b  OK \n",
            "Extracting  Crime/Stealing061_x264.mp4                                   \b\b\b\b 40%\b\b\b\b\b  OK \n",
            "Extracting  Crime/Stealing062_x264.mp4                                   \b\b\b\b 40%\b\b\b\b\b  OK \n",
            "Extracting  Crime/Stealing063_x264.mp4                                   \b\b\b\b 40%\b\b\b\b\b  OK \n",
            "Extracting  Crime/Stealing065_x264.mp4                                   \b\b\b\b 40%\b\b\b\b\b  OK \n",
            "Extracting  Crime/Stealing066_x264.mp4                                   \b\b\b\b 40%\b\b\b\b\b  OK \n",
            "Extracting  Crime/Stealing067_x264.mp4                                   \b\b\b\b 40%\b\b\b\b\b  OK \n",
            "Extracting  Crime/Stealing068_x264.mp4                                   \b\b\b\b 40%\b\b\b\b 41%\b\b\b\b\b  OK \n",
            "Extracting  Crime/Stealing069_x264.mp4                                   \b\b\b\b 41%\b\b\b\b\b  OK \n",
            "Extracting  Crime/Stealing070_x264.mp4                                   \b\b\b\b 41%\b\b\b\b\b  OK \n",
            "Extracting  Crime/Stealing071_x264.mp4                                   \b\b\b\b 41%\b\b\b\b\b  OK \n",
            "Extracting  Crime/Stealing072_x264.mp4                                   \b\b\b\b 41%\b\b\b\b\b  OK \n",
            "Extracting  Crime/Stealing073_x264.mp4                                   \b\b\b\b 41%\b\b\b\b\b  OK \n",
            "Extracting  Crime/Stealing074_x264.mp4                                   \b\b\b\b 41%\b\b\b\b\b  OK \n",
            "Extracting  Crime/Stealing075_x264.mp4                                   \b\b\b\b 41%\b\b\b\b 42%\b\b\b\b\b  OK \n",
            "Extracting  Crime/Stealing077_x264.mp4                                   \b\b\b\b 42%\b\b\b\b\b  OK \n",
            "Extracting  Crime/Stealing078_x264.mp4                                   \b\b\b\b 42%\b\b\b\b\b  OK \n",
            "Extracting  Crime/Stealing079_x264.mp4                                   \b\b\b\b 42%\b\b\b\b\b  OK \n",
            "Extracting  Crime/Stealing080_x264.mp4                                   \b\b\b\b 42%\b\b\b\b\b  OK \n",
            "Extracting  Crime/Stealing081_x264.mp4                                   \b\b\b\b 42%\b\b\b\b\b  OK \n",
            "Extracting  Crime/Stealing082_x264.mp4                                   \b\b\b\b 42%\b\b\b\b\b  OK \n",
            "Extracting  Crime/Stealing083_x264.mp4                                   \b\b\b\b 42%\b\b\b\b\b  OK \n",
            "Extracting  Crime/Stealing084_x264.mp4                                   \b\b\b\b 42%\b\b\b\b 43%\b\b\b\b\b  OK \n",
            "Extracting  Crime/Stealing086_x264.mp4                                   \b\b\b\b 43%\b\b\b\b\b  OK \n",
            "Extracting  Crime/Stealing087_x264.mp4                                   \b\b\b\b 43%\b\b\b\b\b  OK \n",
            "Extracting  Crime/Stealing088_x264.mp4                                   \b\b\b\b 43%\b\b\b\b\b  OK \n",
            "Extracting  Crime/Stealing089_x264.mp4                                   \b\b\b\b 43%\b\b\b\b 44%\b\b\b\b\b  OK \n",
            "Extracting  Crime/Stealing091_x264.mp4                                   \b\b\b\b 44%\b\b\b\b\b  OK \n",
            "Extracting  Crime/Stealing092_x264.mp4                                   \b\b\b\b 44%\b\b\b\b\b  OK \n",
            "Extracting  Crime/Stealing093_x264.mp4                                   \b\b\b\b 44%\b\b\b\b\b  OK \n",
            "Extracting  Crime/Stealing094_x264.mp4                                   \b\b\b\b 45%\b\b\b\b\b  OK \n",
            "Extracting  Crime/Stealing095_x264.mp4                                   \b\b\b\b 45%\b\b\b\b\b  OK \n",
            "Extracting  Crime/Stealing096_x264.mp4                                   \b\b\b\b 45%\b\b\b\b\b  OK \n",
            "Extracting  Crime/Stealing097_x264.mp4                                   \b\b\b\b 45%\b\b\b\b\b  OK \n",
            "Extracting  Crime/Stealing098_x264.mp4                                   \b\b\b\b 45%\b\b\b\b\b  OK \n",
            "Extracting  Crime/Stealing100_x264.mp4                                   \b\b\b\b 45%\b\b\b\b 46%\b\b\b\b\b  OK \n",
            "Extracting  Crime/Stealing101_x264.mp4                                   \b\b\b\b 46%\b\b\b\b\b  OK \n",
            "Extracting  Crime/Stealing102_x264.mp4                                   \b\b\b\b 46%\b\b\b\b\b  OK \n",
            "Extracting  Crime/Stealing103_x264.mp4                                   \b\b\b\b 46%\b\b\b\b\b  OK \n",
            "Extracting  Crime/Stealing104_x264.mp4                                   \b\b\b\b 46%\b\b\b\b\b  OK \n",
            "Extracting  Crime/Stealing105_x264.mp4                                   \b\b\b\b 46%\b\b\b\b\b  OK \n",
            "Extracting  Crime/Stealing106_x264.mp4                                   \b\b\b\b 46%\b\b\b\b\b  OK \n",
            "Extracting  Crime/Stealing107_x264.mp4                                   \b\b\b\b 47%\b\b\b\b\b  OK \n",
            "Extracting  Crime/Stealing108_x264.mp4                                   \b\b\b\b 47%\b\b\b\b\b  OK \n",
            "Extracting  Crime/Stealing109_x264.mp4                                   \b\b\b\b 47%\b\b\b\b\b  OK \n",
            "Extracting  Crime/Stealing110_x264.mp4                                   \b\b\b\b 47%\b\b\b\b\b  OK \n",
            "Extracting  Crime/Stealing111_x264.mp4                                   \b\b\b\b 47%\b\b\b\b\b  OK \n",
            "Extracting  Crime/Stealing112_x264.mp4                                   \b\b\b\b 47%\b\b\b\b\b  OK \n",
            "Extracting  Crime/Stealing113_x264.mp4                                   \b\b\b\b 48%\b\b\b\b\b  OK \n",
            "Extracting  Crime/Stealing114_x264.mp4                                   \b\b\b\b 48%\b\b\b\b\b  OK \n",
            "Creating    norm                                                      OK\n",
            "Extracting  norm/Burglary001_x264.mp4                                    \b\b\b\b 48%\b\b\b\b\b  OK \n",
            "Extracting  norm/Burglary001_x2642.mp4                                   \b\b\b\b 48%\b\b\b\b\b  OK \n",
            "Extracting  norm/Burglary002_x264.mp4                                    \b\b\b\b 48%\b\b\b\b\b  OK \n",
            "Extracting  norm/Burglary002_x2642.mp4                                   \b\b\b\b 48%\b\b\b\b\b  OK \n",
            "Extracting  norm/Burglary003_x264.mp4                                    \b\b\b\b 48%\b\b\b\b\b  OK \n",
            "Extracting  norm/Burglary003_x2642.mp4                                   \b\b\b\b 48%\b\b\b\b\b  OK \n",
            "Extracting  norm/Burglary004_x264.mp4                                    \b\b\b\b 48%\b\b\b\b\b  OK \n",
            "Extracting  norm/Burglary004_x2642.mp4                                   \b\b\b\b 48%\b\b\b\b\b  OK \n",
            "Extracting  norm/Burglary005_x264.mp4                                    \b\b\b\b 48%\b\b\b\b\b  OK \n",
            "Extracting  norm/Burglary005_x2642.mp4                                   \b\b\b\b 48%\b\b\b\b\b  OK \n",
            "Extracting  norm/Burglary006_x264.mp4                                    \b\b\b\b 48%\b\b\b\b\b  OK \n",
            "Extracting  norm/Burglary006_x2642.mp4                                   \b\b\b\b 48%\b\b\b\b\b  OK \n",
            "Extracting  norm/Burglary007_x264.mp4                                    \b\b\b\b 48%\b\b\b\b\b  OK \n",
            "Extracting  norm/Burglary007_x2642.mp4                                   \b\b\b\b 48%\b\b\b\b\b  OK \n",
            "Extracting  norm/Burglary008_x264.mp4                                    \b\b\b\b 48%\b\b\b\b\b  OK \n",
            "Extracting  norm/Burglary008_x2642.mp4                                   \b\b\b\b 48%\b\b\b\b\b  OK \n",
            "Extracting  norm/Burglary009_x264.mp4                                    \b\b\b\b 48%\b\b\b\b\b  OK \n",
            "Extracting  norm/Burglary009_x2642.mp4                                   \b\b\b\b 48%\b\b\b\b\b  OK \n",
            "Extracting  norm/Burglary010_x264.mp4                                    \b\b\b\b 48%\b\b\b\b\b  OK \n",
            "Extracting  norm/Burglary010_x2642.mp4                                   \b\b\b\b 48%\b\b\b\b\b  OK \n",
            "Extracting  norm/Burglary011_x264.mp4                                    \b\b\b\b 48%\b\b\b\b\b  OK \n",
            "Extracting  norm/Burglary011_x2642.mp4                                   \b\b\b\b 48%\b\b\b\b\b  OK \n",
            "Extracting  norm/Burglary012_x264.mp4                                    \b\b\b\b 48%\b\b\b\b\b  OK \n",
            "Extracting  norm/Burglary012_x2642.mp4                                   \b\b\b\b 48%\b\b\b\b\b  OK \n",
            "Extracting  norm/Burglary013_x264.mp4                                    \b\b\b\b 48%\b\b\b\b\b  OK \n",
            "Extracting  norm/Burglary013_x2642.mp4                                   \b\b\b\b 48%\b\b\b\b\b  OK \n",
            "Extracting  norm/Burglary014_x264.mp4                                    \b\b\b\b 48%\b\b\b\b\b  OK \n",
            "Extracting  norm/Burglary014_x2642.mp4                                   \b\b\b\b 48%\b\b\b\b\b  OK \n",
            "Extracting  norm/Burglary015_x264.mp4                                    \b\b\b\b 48%\b\b\b\b\b  OK \n",
            "Extracting  norm/Burglary015_x2642.mp4                                   \b\b\b\b 48%\b\b\b\b\b  OK \n",
            "Extracting  norm/Burglary016_x264.mp4                                    \b\b\b\b 49%\b\b\b\b\b  OK \n",
            "Extracting  norm/Burglary016_x2642.mp4                                   \b\b\b\b 49%\b\b\b\b\b  OK \n",
            "Extracting  norm/Burglary017_x264.mp4                                    \b\b\b\b 49%\b\b\b\b\b  OK \n",
            "Extracting  norm/Burglary017_x2642.mp4                                   \b\b\b\b 49%\b\b\b\b\b  OK \n",
            "Extracting  norm/Burglary018_x264.mp4                                    \b\b\b\b 49%\b\b\b\b\b  OK \n",
            "Extracting  norm/Burglary018_x2642.mp4                                   \b\b\b\b 49%\b\b\b\b\b  OK \n",
            "Extracting  norm/Burglary019_x264.mp4                                    \b\b\b\b 49%\b\b\b\b\b  OK \n",
            "Extracting  norm/Burglary019_x2642.mp4                                   \b\b\b\b 49%\b\b\b\b\b  OK \n",
            "Extracting  norm/Burglary020_x264.mp4                                    \b\b\b\b 49%\b\b\b\b\b  OK \n",
            "Extracting  norm/Burglary020_x2642.mp4                                   \b\b\b\b 49%\b\b\b\b\b  OK \n",
            "Extracting  norm/Burglary021_x264.mp4                                    \b\b\b\b 49%\b\b\b\b\b  OK \n",
            "Extracting  norm/Burglary021_x2642.mp4                                   \b\b\b\b 49%\b\b\b\b\b  OK \n",
            "Extracting  norm/Burglary022_x264.mp4                                    \b\b\b\b 49%\b\b\b\b\b  OK \n",
            "Extracting  norm/Burglary022_x2642.mp4                                   \b\b\b\b 49%\b\b\b\b\b  OK \n",
            "Extracting  norm/Burglary023_x264.mp4                                    \b\b\b\b 49%\b\b\b\b\b  OK \n",
            "Extracting  norm/Burglary023_x2642.mp4                                   \b\b\b\b 49%\b\b\b\b\b  OK \n",
            "Extracting  norm/Burglary024_x264.mp4                                    \b\b\b\b 49%\b\b\b\b\b  OK \n",
            "Extracting  norm/Burglary024_x2642.mp4                                   \b\b\b\b 49%\b\b\b\b\b  OK \n",
            "Extracting  norm/Burglary025_x264.mp4                                    \b\b\b\b 49%\b\b\b\b\b  OK \n",
            "Extracting  norm/Burglary025_x2642.mp4                                   \b\b\b\b 49%\b\b\b\b\b  OK \n",
            "Extracting  norm/Burglary026_x264.mp4                                    \b\b\b\b 49%\b\b\b\b\b  OK \n",
            "Extracting  norm/Burglary026_x2642.mp4                                   \b\b\b\b 49%\b\b\b\b\b  OK \n",
            "Extracting  norm/Burglary027_x264.mp4                                    \b\b\b\b 49%\b\b\b\b\b  OK \n",
            "Extracting  norm/Burglary027_x2642.mp4                                   \b\b\b\b 49%\b\b\b\b\b  OK \n",
            "Extracting  norm/Burglary028_x264.mp4                                    \b\b\b\b 49%\b\b\b\b\b  OK \n",
            "Extracting  norm/Burglary028_x2642.mp4                                   \b\b\b\b 49%\b\b\b\b\b  OK \n",
            "Extracting  norm/Burglary029_x264.mp4                                    \b\b\b\b 49%\b\b\b\b\b  OK \n",
            "Extracting  norm/Burglary029_x2642.mp4                                   \b\b\b\b 49%\b\b\b\b\b  OK \n",
            "Extracting  norm/Burglary030_x264.mp4                                    \b\b\b\b 49%\b\b\b\b\b  OK \n",
            "Extracting  norm/Burglary030_x2642.mp4                                   \b\b\b\b 49%\b\b\b\b\b  OK \n",
            "Extracting  norm/Burglary031_x264.mp4                                    \b\b\b\b 49%\b\b\b\b\b  OK \n",
            "Extracting  norm/Burglary031_x2642.mp4                                   \b\b\b\b 49%\b\b\b\b\b  OK \n",
            "Extracting  norm/Burglary032_x264.mp4                                    \b\b\b\b 49%\b\b\b\b\b  OK \n",
            "Extracting  norm/Burglary032_x2642.mp4                                   \b\b\b\b 49%\b\b\b\b\b  OK \n",
            "Extracting  norm/Burglary033_x264.mp4                                    \b\b\b\b 49%\b\b\b\b\b  OK \n",
            "Extracting  norm/Burglary033_x2642.mp4                                   \b\b\b\b 49%\b\b\b\b\b  OK \n",
            "Extracting  norm/Burglary034_x264.mp4                                    \b\b\b\b 50%\b\b\b\b\b  OK \n",
            "Extracting  norm/Burglary034_x2642.mp4                                   \b\b\b\b 50%\b\b\b\b\b  OK \n",
            "Extracting  norm/Burglary035_x264.mp4                                    \b\b\b\b 50%\b\b\b\b\b  OK \n",
            "Extracting  norm/Burglary035_x2642.mp4                                   \b\b\b\b 50%\b\b\b\b\b  OK \n",
            "Extracting  norm/Burglary036_x264.mp4                                    \b\b\b\b 50%\b\b\b\b\b  OK \n",
            "Extracting  norm/Burglary036_x2642.mp4                                   \b\b\b\b 50%\b\b\b\b\b  OK \n",
            "Extracting  norm/Burglary037_x264.mp4                                    \b\b\b\b 50%\b\b\b\b\b  OK \n",
            "Extracting  norm/Burglary037_x2642.mp4                                   \b\b\b\b 50%\b\b\b\b\b  OK \n",
            "Extracting  norm/Burglary038_x264.mp4                                    \b\b\b\b 50%\b\b\b\b\b  OK \n",
            "Extracting  norm/Burglary038_x2642.mp4                                   \b\b\b\b 50%\b\b\b\b\b  OK \n",
            "Extracting  norm/Burglary039_x264.mp4                                    \b\b\b\b 50%\b\b\b\b\b  OK \n",
            "Extracting  norm/Burglary039_x2642.mp4                                   \b\b\b\b 50%\b\b\b\b\b  OK \n",
            "Extracting  norm/Burglary040_x264.mp4                                    \b\b\b\b 50%\b\b\b\b\b  OK \n",
            "Extracting  norm/Burglary040_x2642.mp4                                   \b\b\b\b 50%\b\b\b\b\b  OK \n",
            "Extracting  norm/Burglary041_x264.mp4                                    \b\b\b\b 50%\b\b\b\b\b  OK \n",
            "Extracting  norm/Burglary041_x2642.mp4                                   \b\b\b\b 50%\b\b\b\b\b  OK \n",
            "Extracting  norm/Burglary042_x264.mp4                                    \b\b\b\b 50%\b\b\b\b\b  OK \n",
            "Extracting  norm/Burglary042_x2642.mp4                                   \b\b\b\b 50%\b\b\b\b\b  OK \n",
            "Extracting  norm/Burglary043_x264.mp4                                    \b\b\b\b 50%\b\b\b\b\b  OK \n",
            "Extracting  norm/Burglary043_x2642.mp4                                   \b\b\b\b 50%\b\b\b\b\b  OK \n",
            "Extracting  norm/Burglary044_x264.mp4                                    \b\b\b\b 50%\b\b\b\b\b  OK \n",
            "Extracting  norm/Burglary044_x2642.mp4                                   \b\b\b\b 50%\b\b\b\b\b  OK \n",
            "Extracting  norm/Burglary045_x264.mp4                                    \b\b\b\b 50%\b\b\b\b\b  OK \n",
            "Extracting  norm/Burglary045_x2642.mp4                                   \b\b\b\b 50%\b\b\b\b\b  OK \n",
            "Extracting  norm/Burglary046_x264.mp4                                    \b\b\b\b 50%\b\b\b\b\b  OK \n",
            "Extracting  norm/Burglary046_x2642.mp4                                   \b\b\b\b 50%\b\b\b\b\b  OK \n",
            "Extracting  norm/Burglary047_x264.mp4                                    \b\b\b\b 50%\b\b\b\b\b  OK \n",
            "Extracting  norm/Burglary047_x2642.mp4                                   \b\b\b\b 50%\b\b\b\b\b  OK \n",
            "Extracting  norm/Burglary048_x264.mp4                                    \b\b\b\b 50%\b\b\b\b\b  OK \n",
            "Extracting  norm/Burglary048_x2642.mp4                                   \b\b\b\b 50%\b\b\b\b\b  OK \n",
            "Extracting  norm/Burglary049_x264.mp4                                    \b\b\b\b 50%\b\b\b\b\b  OK \n",
            "Extracting  norm/Burglary049_x2642.mp4                                   \b\b\b\b 50%\b\b\b\b\b  OK \n",
            "Extracting  norm/Burglary050_x264.mp4                                    \b\b\b\b 50%\b\b\b\b\b  OK \n",
            "Extracting  norm/Burglary050_x2642.mp4                                   \b\b\b\b 50%\b\b\b\b\b  OK \n",
            "Extracting  norm/Burglary051_x264.mp4                                    \b\b\b\b 50%\b\b\b\b\b  OK \n",
            "Extracting  norm/Burglary051_x2642.mp4                                   \b\b\b\b 50%\b\b\b\b\b  OK \n",
            "Extracting  norm/Burglary052_x264.mp4                                    \b\b\b\b 50%\b\b\b\b\b  OK \n",
            "Extracting  norm/Burglary052_x2642.mp4                                   \b\b\b\b 51%\b\b\b\b\b  OK \n",
            "Extracting  norm/Burglary053_x264.mp4                                    \b\b\b\b 51%\b\b\b\b\b  OK \n",
            "Extracting  norm/Burglary053_x2642.mp4                                   \b\b\b\b 51%\b\b\b\b\b  OK \n",
            "Extracting  norm/Burglary054_x264.mp4                                    \b\b\b\b 51%\b\b\b\b\b  OK \n",
            "Extracting  norm/Burglary054_x2642.mp4                                   \b\b\b\b 51%\b\b\b\b\b  OK \n",
            "Extracting  norm/Burglary055_x264.mp4                                    \b\b\b\b 51%\b\b\b\b\b  OK \n",
            "Extracting  norm/Burglary055_x2642.mp4                                   \b\b\b\b 51%\b\b\b\b\b  OK \n",
            "Extracting  norm/Burglary056_x264.mp4                                    \b\b\b\b 51%\b\b\b\b\b  OK \n",
            "Extracting  norm/Burglary056_x2642.mp4                                   \b\b\b\b 51%\b\b\b\b\b  OK \n",
            "Extracting  norm/Burglary057_x264.mp4                                    \b\b\b\b 51%\b\b\b\b\b  OK \n",
            "Extracting  norm/Burglary057_x2642.mp4                                   \b\b\b\b 51%\b\b\b\b\b  OK \n",
            "Extracting  norm/Burglary058_x264.mp4                                    \b\b\b\b 51%\b\b\b\b\b  OK \n",
            "Extracting  norm/Burglary058_x2642.mp4                                   \b\b\b\b 51%\b\b\b\b\b  OK \n",
            "Extracting  norm/Burglary059_x264.mp4                                    \b\b\b\b 51%\b\b\b\b\b  OK \n",
            "Extracting  norm/Burglary059_x2642.mp4                                   \b\b\b\b 51%\b\b\b\b\b  OK \n",
            "Extracting  norm/Burglary060_x264.mp4                                    \b\b\b\b 51%\b\b\b\b\b  OK \n",
            "Extracting  norm/Burglary060_x2642.mp4                                   \b\b\b\b 51%\b\b\b\b\b  OK \n",
            "Extracting  norm/Burglary061_x264.mp4                                    \b\b\b\b 51%\b\b\b\b\b  OK \n",
            "Extracting  norm/Burglary061_x2642.mp4                                   \b\b\b\b 51%\b\b\b\b\b  OK \n",
            "Extracting  norm/Burglary062_x264.mp4                                    \b\b\b\b 51%\b\b\b\b\b  OK \n",
            "Extracting  norm/Burglary062_x2642.mp4                                   \b\b\b\b 51%\b\b\b\b\b  OK \n",
            "Extracting  norm/Burglary063_x264.mp4                                    \b\b\b\b 51%\b\b\b\b\b  OK \n",
            "Extracting  norm/Burglary063_x2642.mp4                                   \b\b\b\b 51%\b\b\b\b\b  OK \n",
            "Extracting  norm/Burglary064_x264.mp4                                    \b\b\b\b 51%\b\b\b\b\b  OK \n",
            "Extracting  norm/Burglary064_x2642.mp4                                   \b\b\b\b 51%\b\b\b\b 52%\b\b\b\b\b  OK \n",
            "Extracting  norm/Burglary065_x264.mp4                                    \b\b\b\b 52%\b\b\b\b\b  OK \n",
            "Extracting  norm/Burglary065_x2642.mp4                                   \b\b\b\b 52%\b\b\b\b\b  OK \n",
            "Extracting  norm/Burglary066_x264.mp4                                    \b\b\b\b 52%\b\b\b\b\b  OK \n",
            "Extracting  norm/Burglary066_x2642.mp4                                   \b\b\b\b 52%\b\b\b\b\b  OK \n",
            "Extracting  norm/Burglary067_x264.mp4                                    \b\b\b\b 52%\b\b\b\b\b  OK \n",
            "Extracting  norm/Burglary067_x2642.mp4                                   \b\b\b\b 52%\b\b\b\b\b  OK \n",
            "Extracting  norm/Burglary068_x264.mp4                                    \b\b\b\b 52%\b\b\b\b\b  OK \n",
            "Extracting  norm/Burglary068_x2642.mp4                                   \b\b\b\b 52%\b\b\b\b\b  OK \n",
            "Extracting  norm/Burglary069_x264.mp4                                    \b\b\b\b 52%\b\b\b\b\b  OK \n",
            "Extracting  norm/Burglary069_x2642.mp4                                   \b\b\b\b 52%\b\b\b\b\b  OK \n",
            "Extracting  norm/Burglary070_x264.mp4                                    \b\b\b\b 52%\b\b\b\b\b  OK \n",
            "Extracting  norm/Burglary070_x2642.mp4                                   \b\b\b\b 52%\b\b\b\b\b  OK \n",
            "Extracting  norm/Burglary071_x264.mp4                                    \b\b\b\b 52%\b\b\b\b\b  OK \n",
            "Extracting  norm/Burglary071_x2642.mp4                                   \b\b\b\b 52%\b\b\b\b\b  OK \n",
            "Extracting  norm/Burglary072_x264.mp4                                    \b\b\b\b 52%\b\b\b\b\b  OK \n",
            "Extracting  norm/Burglary072_x2642.mp4                                   \b\b\b\b 52%\b\b\b\b\b  OK \n",
            "Extracting  norm/Burglary073_x264.mp4                                    \b\b\b\b 52%\b\b\b\b\b  OK \n",
            "Extracting  norm/Burglary073_x2642.mp4                                   \b\b\b\b 52%\b\b\b\b\b  OK \n",
            "Extracting  norm/Burglary074_x264.mp4                                    \b\b\b\b 52%\b\b\b\b\b  OK \n",
            "Extracting  norm/Burglary074_x2642.mp4                                   \b\b\b\b 52%\b\b\b\b\b  OK \n",
            "Extracting  norm/Burglary075_x264.mp4                                    \b\b\b\b 52%\b\b\b\b\b  OK \n",
            "Extracting  norm/Burglary075_x2642.mp4                                   \b\b\b\b 52%\b\b\b\b 53%\b\b\b\b\b  OK \n",
            "Extracting  norm/Burglary076_x264.mp4                                    \b\b\b\b 53%\b\b\b\b\b  OK \n",
            "Extracting  norm/Burglary076_x2642.mp4                                   \b\b\b\b 53%\b\b\b\b\b  OK \n",
            "Extracting  norm/Burglary077_x264.mp4                                    \b\b\b\b 53%\b\b\b\b\b  OK \n",
            "Extracting  norm/Burglary077_x2642.mp4                                   \b\b\b\b 53%\b\b\b\b\b  OK \n",
            "Extracting  norm/Burglary078_x264.mp4                                    \b\b\b\b 53%\b\b\b\b\b  OK \n",
            "Extracting  norm/Burglary078_x2642.mp4                                   \b\b\b\b 53%\b\b\b\b\b  OK \n",
            "Extracting  norm/Burglary079_x264.mp4                                    \b\b\b\b 53%\b\b\b\b\b  OK \n",
            "Extracting  norm/Burglary079_x2642.mp4                                   \b\b\b\b 53%\b\b\b\b\b  OK \n",
            "Extracting  norm/Burglary080_x264.mp4                                    \b\b\b\b 53%\b\b\b\b\b  OK \n",
            "Extracting  norm/Burglary080_x2642.mp4                                   \b\b\b\b 53%\b\b\b\b\b  OK \n",
            "Extracting  norm/Burglary081_x264.mp4                                    \b\b\b\b 53%\b\b\b\b\b  OK \n",
            "Extracting  norm/Burglary081_x2642.mp4                                   \b\b\b\b 53%\b\b\b\b\b  OK \n",
            "Extracting  norm/Burglary082_x264.mp4                                    \b\b\b\b 53%\b\b\b\b\b  OK \n",
            "Extracting  norm/Burglary082_x2642.mp4                                   \b\b\b\b 53%\b\b\b\b\b  OK \n",
            "Extracting  norm/Burglary083_x264.mp4                                    \b\b\b\b 53%\b\b\b\b\b  OK \n",
            "Extracting  norm/Burglary083_x2642.mp4                                   \b\b\b\b 53%\b\b\b\b\b  OK \n",
            "Extracting  norm/Burglary084_x264.mp4                                    \b\b\b\b 53%\b\b\b\b\b  OK \n",
            "Extracting  norm/Burglary084_x2642.mp4                                   \b\b\b\b 53%\b\b\b\b\b  OK \n",
            "Extracting  norm/Burglary085_x264.mp4                                    \b\b\b\b 53%\b\b\b\b\b  OK \n",
            "Extracting  norm/Burglary085_x2642.mp4                                   \b\b\b\b 53%\b\b\b\b\b  OK \n",
            "Extracting  norm/Burglary086_x264.mp4                                    \b\b\b\b 53%\b\b\b\b\b  OK \n",
            "Extracting  norm/Burglary086_x2642.mp4                                   \b\b\b\b 53%\b\b\b\b\b  OK \n",
            "Extracting  norm/Burglary087_x264.mp4                                    \b\b\b\b 53%\b\b\b\b\b  OK \n",
            "Extracting  norm/Burglary087_x2642.mp4                                   \b\b\b\b 53%\b\b\b\b\b  OK \n",
            "Extracting  norm/Burglary088_x264.mp4                                    \b\b\b\b 53%\b\b\b\b\b  OK \n",
            "Extracting  norm/Burglary088_x2642.mp4                                   \b\b\b\b 53%\b\b\b\b\b  OK \n",
            "Extracting  norm/Burglary089_x264.mp4                                    \b\b\b\b 53%\b\b\b\b\b  OK \n",
            "Extracting  norm/Burglary089_x2642.mp4                                   \b\b\b\b 53%\b\b\b\b\b  OK \n",
            "Extracting  norm/Burglary090_x264.mp4                                    \b\b\b\b 53%\b\b\b\b\b  OK \n",
            "Extracting  norm/Burglary090_x2642.mp4                                   \b\b\b\b 53%\b\b\b\b\b  OK \n",
            "Extracting  norm/Burglary091_x264.mp4                                    \b\b\b\b 53%\b\b\b\b\b  OK \n",
            "Extracting  norm/Burglary091_x2642.mp4                                   \b\b\b\b 53%\b\b\b\b\b  OK \n",
            "Extracting  norm/Burglary092_x264.mp4                                    \b\b\b\b 53%\b\b\b\b\b  OK \n",
            "Extracting  norm/Burglary092_x2642.mp4                                   \b\b\b\b 54%\b\b\b\b\b  OK \n",
            "Extracting  norm/Burglary093_x264.mp4                                    \b\b\b\b 54%\b\b\b\b\b  OK \n",
            "Extracting  norm/Burglary093_x2642.mp4                                   \b\b\b\b 54%\b\b\b\b\b  OK \n",
            "Extracting  norm/Burglary094_x264.mp4                                    \b\b\b\b 54%\b\b\b\b\b  OK \n",
            "Extracting  norm/Burglary094_x2642.mp4                                   \b\b\b\b 54%\b\b\b\b\b  OK \n",
            "Extracting  norm/Burglary095_x264.mp4                                    \b\b\b\b 54%\b\b\b\b\b  OK \n",
            "Extracting  norm/Burglary095_x2642.mp4                                   \b\b\b\b 54%\b\b\b\b\b  OK \n",
            "Extracting  norm/Burglary096_x264.mp4                                    \b\b\b\b 54%\b\b\b\b\b  OK \n",
            "Extracting  norm/Burglary096_x2642.mp4                                   \b\b\b\b 54%\b\b\b\b\b  OK \n",
            "Extracting  norm/Burglary097_x264.mp4                                    \b\b\b\b 54%\b\b\b\b\b  OK \n",
            "Extracting  norm/Burglary097_x2642.mp4                                   \b\b\b\b 54%\b\b\b\b\b  OK \n",
            "Extracting  norm/Burglary098_x264.mp4                                    \b\b\b\b 54%\b\b\b\b\b  OK \n",
            "Extracting  norm/Burglary098_x2642.mp4                                   \b\b\b\b 54%\b\b\b\b\b  OK \n",
            "Extracting  norm/Burglary099_x264.mp4                                    \b\b\b\b 54%\b\b\b\b\b  OK \n",
            "Extracting  norm/Burglary099_x2642.mp4                                   \b\b\b\b 54%\b\b\b\b\b  OK \n",
            "Extracting  norm/Burglary100_x264.mp4                                    \b\b\b\b 54%\b\b\b\b\b  OK \n",
            "Extracting  norm/Burglary100_x2642.mp4                                   \b\b\b\b 54%\b\b\b\b\b  OK \n",
            "Extracting  norm/darknet.py                                              \b\b\b\b 54%\b\b\b\b\b  OK \n",
            "Extracting  norm/LICENSE                                                 \b\b\b\b 54%\b\b\b\b\b  OK \n",
            "Extracting  norm/README.md                                               \b\b\b\b 54%\b\b\b\b\b  OK \n",
            "Extracting  norm/robbery.pickle                                          \b\b\b\b 54%\b\b\b\b\b  OK \n",
            "Extracting  norm/Robbery001_x264.mp4                                     \b\b\b\b 54%\b\b\b\b\b  OK \n",
            "Extracting  norm/Robbery001_x2642.mp4                                    \b\b\b\b 54%\b\b\b\b\b  OK \n",
            "Extracting  norm/Robbery002_x264.mp4                                     \b\b\b\b 54%\b\b\b\b\b  OK \n",
            "Extracting  norm/Robbery002_x2642.mp4                                    \b\b\b\b 54%\b\b\b\b\b  OK \n",
            "Extracting  norm/Robbery003_x264.mp4                                     \b\b\b\b 54%\b\b\b\b\b  OK \n",
            "Extracting  norm/Robbery003_x2642.mp4                                    \b\b\b\b 54%\b\b\b\b\b  OK \n",
            "Extracting  norm/Robbery004_x264.mp4                                     \b\b\b\b 54%\b\b\b\b\b  OK \n",
            "Extracting  norm/Robbery004_x2642.mp4                                    \b\b\b\b 54%\b\b\b\b\b  OK \n",
            "Extracting  norm/Robbery005_x264.mp4                                     \b\b\b\b 54%\b\b\b\b\b  OK \n",
            "Extracting  norm/Robbery005_x2642.mp4                                    \b\b\b\b 54%\b\b\b\b\b  OK \n",
            "Extracting  norm/Robbery006_x264.mp4                                     \b\b\b\b 54%\b\b\b\b\b  OK \n",
            "Extracting  norm/Robbery006_x2642.mp4                                    \b\b\b\b 54%\b\b\b\b\b  OK \n",
            "Extracting  norm/Robbery007_x264.mp4                                     \b\b\b\b 55%\b\b\b\b\b  OK \n",
            "Extracting  norm/Robbery007_x2642.mp4                                    \b\b\b\b 55%\b\b\b\b\b  OK \n",
            "Extracting  norm/Robbery008_x264.mp4                                     \b\b\b\b 55%\b\b\b\b\b  OK \n",
            "Extracting  norm/Robbery008_x2642.mp4                                    \b\b\b\b 55%\b\b\b\b\b  OK \n",
            "Extracting  norm/Robbery009_x264.mp4                                     \b\b\b\b 55%\b\b\b\b\b  OK \n",
            "Extracting  norm/Robbery009_x2642.mp4                                    \b\b\b\b 55%\b\b\b\b\b  OK \n",
            "Extracting  norm/Robbery010_x264.mp4                                     \b\b\b\b 55%\b\b\b\b\b  OK \n",
            "Extracting  norm/Robbery010_x2642.mp4                                    \b\b\b\b 55%\b\b\b\b\b  OK \n",
            "Extracting  norm/Robbery011_x264.mp4                                     \b\b\b\b 55%\b\b\b\b\b  OK \n",
            "Extracting  norm/Robbery011_x2642.mp4                                    \b\b\b\b 55%\b\b\b\b\b  OK \n",
            "Extracting  norm/Robbery012_x264.mp4                                     \b\b\b\b 55%\b\b\b\b\b  OK \n",
            "Extracting  norm/Robbery012_x2642.mp4                                    \b\b\b\b 55%\b\b\b\b\b  OK \n",
            "Extracting  norm/Robbery013_x264.mp4                                     \b\b\b\b 55%\b\b\b\b\b  OK \n",
            "Extracting  norm/Robbery013_x2642.mp4                                    \b\b\b\b 55%\b\b\b\b\b  OK \n",
            "Extracting  norm/Robbery014_x264.mp4                                     \b\b\b\b 55%\b\b\b\b 56%\b\b\b\b\b  OK \n",
            "Extracting  norm/Robbery014_x2642.mp4                                    \b\b\b\b 56%\b\b\b\b\b  OK \n",
            "Extracting  norm/Robbery015_x264.mp4                                     \b\b\b\b 56%\b\b\b\b\b  OK \n",
            "Extracting  norm/Robbery015_x2642.mp4                                    \b\b\b\b 56%\b\b\b\b\b  OK \n",
            "Extracting  norm/Robbery016_x264.mp4                                     \b\b\b\b 56%\b\b\b\b\b  OK \n",
            "Extracting  norm/Robbery016_x2642.mp4                                    \b\b\b\b 56%\b\b\b\b\b  OK \n",
            "Extracting  norm/Robbery017_x264.mp4                                     \b\b\b\b 56%\b\b\b\b\b  OK \n",
            "Extracting  norm/Robbery017_x2642.mp4                                    \b\b\b\b 56%\b\b\b\b\b  OK \n",
            "Extracting  norm/Robbery018_x264.mp4                                     \b\b\b\b 56%\b\b\b\b\b  OK \n",
            "Extracting  norm/Robbery018_x2642.mp4                                    \b\b\b\b 56%\b\b\b\b\b  OK \n",
            "Extracting  norm/Robbery019_x264.mp4                                     \b\b\b\b 56%\b\b\b\b\b  OK \n",
            "Extracting  norm/Robbery019_x2642.mp4                                    \b\b\b\b 56%\b\b\b\b\b  OK \n",
            "Extracting  norm/Robbery020_x264.mp4                                     \b\b\b\b 56%\b\b\b\b\b  OK \n",
            "Extracting  norm/Robbery020_x2642.mp4                                    \b\b\b\b 56%\b\b\b\b\b  OK \n",
            "Extracting  norm/Robbery021_x264.mp4                                     \b\b\b\b 56%\b\b\b\b 57%\b\b\b\b\b  OK \n",
            "Extracting  norm/Robbery021_x2642.mp4                                    \b\b\b\b 57%\b\b\b\b\b  OK \n",
            "Extracting  norm/Robbery022_x264.mp4                                     \b\b\b\b 57%\b\b\b\b\b  OK \n",
            "Extracting  norm/Robbery022_x2642.mp4                                    \b\b\b\b 57%\b\b\b\b\b  OK \n",
            "Extracting  norm/Robbery023_x264.mp4                                     \b\b\b\b 57%\b\b\b\b\b  OK \n",
            "Extracting  norm/Robbery023_x2642.mp4                                    \b\b\b\b 57%\b\b\b\b\b  OK \n",
            "Extracting  norm/Robbery024_x264.mp4                                     \b\b\b\b 57%\b\b\b\b\b  OK \n",
            "Extracting  norm/Robbery024_x2642.mp4                                    \b\b\b\b 57%\b\b\b\b\b  OK \n",
            "Extracting  norm/Robbery025_x264.mp4                                     \b\b\b\b 57%\b\b\b\b\b  OK \n",
            "Extracting  norm/Robbery025_x2642.mp4                                    \b\b\b\b 57%\b\b\b\b\b  OK \n",
            "Extracting  norm/Robbery026_x264.mp4                                     \b\b\b\b 57%\b\b\b\b 58%\b\b\b\b\b  OK \n",
            "Extracting  norm/Robbery026_x2642.mp4                                    \b\b\b\b 58%\b\b\b\b\b  OK \n",
            "Extracting  norm/Robbery027_x264.mp4                                     \b\b\b\b 58%\b\b\b\b\b  OK \n",
            "Extracting  norm/Robbery027_x2642.mp4                                    \b\b\b\b 58%\b\b\b\b\b  OK \n",
            "Extracting  norm/Robbery028_x264.mp4                                     \b\b\b\b 58%\b\b\b\b\b  OK \n",
            "Extracting  norm/Robbery028_x2642.mp4                                    \b\b\b\b 58%\b\b\b\b\b  OK \n",
            "Extracting  norm/Robbery029_x264.mp4                                     \b\b\b\b 58%\b\b\b\b\b  OK \n",
            "Extracting  norm/Robbery029_x2642.mp4                                    \b\b\b\b 58%\b\b\b\b\b  OK \n",
            "Extracting  norm/Robbery030_x264.mp4                                     \b\b\b\b 58%\b\b\b\b\b  OK \n",
            "Extracting  norm/Robbery030_x2642.mp4                                    \b\b\b\b 58%\b\b\b\b\b  OK \n",
            "Extracting  norm/Robbery031_x264.mp4                                     \b\b\b\b 58%\b\b\b\b\b  OK \n",
            "Extracting  norm/Robbery031_x2642.mp4                                    \b\b\b\b 58%\b\b\b\b\b  OK \n",
            "Extracting  norm/Robbery032_x264.mp4                                     \b\b\b\b 58%\b\b\b\b\b  OK \n",
            "Extracting  norm/Robbery032_x2642.mp4                                    \b\b\b\b 58%\b\b\b\b\b  OK \n",
            "Extracting  norm/Robbery033_x264.mp4                                     \b\b\b\b 58%\b\b\b\b\b  OK \n",
            "Extracting  norm/Robbery033_x2642.mp4                                    \b\b\b\b 58%\b\b\b\b\b  OK \n",
            "Extracting  norm/Robbery034_x264.mp4                                     \b\b\b\b 58%\b\b\b\b\b  OK \n",
            "Extracting  norm/Robbery034_x2642.mp4                                    \b\b\b\b 58%\b\b\b\b 59%\b\b\b\b\b  OK \n",
            "Extracting  norm/Robbery035_x264.mp4                                     \b\b\b\b 59%\b\b\b\b\b  OK \n",
            "Extracting  norm/Robbery035_x2642.mp4                                    \b\b\b\b 59%\b\b\b\b\b  OK \n",
            "Extracting  norm/Robbery037_x264.mp4                                     \b\b\b\b 59%\b\b\b\b\b  OK \n",
            "Extracting  norm/Robbery037_x2642.mp4                                    \b\b\b\b 59%\b\b\b\b\b  OK \n",
            "Extracting  norm/Robbery038_x264.mp4                                     \b\b\b\b 59%\b\b\b\b\b  OK \n",
            "Extracting  norm/Robbery038_x2642.mp4                                    \b\b\b\b 59%\b\b\b\b\b  OK \n",
            "Extracting  norm/Robbery039_x264.mp4                                     \b\b\b\b 59%\b\b\b\b\b  OK \n",
            "Extracting  norm/Robbery039_x2642.mp4                                    \b\b\b\b 59%\b\b\b\b\b  OK \n",
            "Extracting  norm/Robbery040_x264.mp4                                     \b\b\b\b 59%\b\b\b\b\b  OK \n",
            "Extracting  norm/Robbery040_x2642.mp4                                    \b\b\b\b 59%\b\b\b\b\b  OK \n",
            "Extracting  norm/Robbery041_x264.mp4                                     \b\b\b\b 59%\b\b\b\b\b  OK \n",
            "Extracting  norm/Robbery041_x2642.mp4                                    \b\b\b\b 59%\b\b\b\b\b  OK \n",
            "Extracting  norm/Robbery042_x264.mp4                                     \b\b\b\b 59%\b\b\b\b\b  OK \n",
            "Extracting  norm/Robbery042_x2642.mp4                                    \b\b\b\b 59%\b\b\b\b 60%\b\b\b\b\b  OK \n",
            "Extracting  norm/Robbery043_x264.mp4                                     \b\b\b\b 60%\b\b\b\b\b  OK \n",
            "Extracting  norm/Robbery043_x2642.mp4                                    \b\b\b\b 60%\b\b\b\b\b  OK \n",
            "Extracting  norm/Robbery044_x264.mp4                                     \b\b\b\b 60%\b\b\b\b\b  OK \n",
            "Extracting  norm/Robbery044_x2642.mp4                                    \b\b\b\b 60%\b\b\b\b\b  OK \n",
            "Extracting  norm/Robbery045_x264.mp4                                     \b\b\b\b 60%\b\b\b\b\b  OK \n",
            "Extracting  norm/Robbery045_x2642.mp4                                    \b\b\b\b 60%\b\b\b\b\b  OK \n",
            "Extracting  norm/Robbery046_x264.mp4                                     \b\b\b\b 60%\b\b\b\b\b  OK \n",
            "Extracting  norm/Robbery046_x2642.mp4                                    \b\b\b\b 60%\b\b\b\b\b  OK \n",
            "Extracting  norm/Robbery047_x264.mp4                                     \b\b\b\b 60%\b\b\b\b\b  OK \n",
            "Extracting  norm/Robbery047_x2642.mp4                                    \b\b\b\b 60%\b\b\b\b\b  OK \n",
            "Extracting  norm/Robbery048_x264.mp4                                     \b\b\b\b 60%\b\b\b\b\b  OK \n",
            "Extracting  norm/Robbery048_x2642.mp4                                    \b\b\b\b 60%\b\b\b\b\b  OK \n",
            "Extracting  norm/Robbery049_x264.mp4                                     \b\b\b\b 60%\b\b\b\b\b  OK \n",
            "Extracting  norm/Robbery049_x2642.mp4                                    \b\b\b\b 60%\b\b\b\b\b  OK \n",
            "Extracting  norm/Robbery050_x264.mp4                                     \b\b\b\b 60%\b\b\b\b\b  OK \n",
            "Extracting  norm/Robbery050_x2642.mp4                                    \b\b\b\b 60%\b\b\b\b\b  OK \n",
            "Extracting  norm/Robbery051_x264.mp4                                     \b\b\b\b 60%\b\b\b\b\b  OK \n",
            "Extracting  norm/Robbery051_x2642.mp4                                    \b\b\b\b 60%\b\b\b\b\b  OK \n",
            "Extracting  norm/Robbery052_x264.mp4                                     \b\b\b\b 60%\b\b\b\b\b  OK \n",
            "Extracting  norm/Robbery052_x2642.mp4                                    \b\b\b\b 60%\b\b\b\b\b  OK \n",
            "Extracting  norm/Robbery053_x264.mp4                                     \b\b\b\b 60%\b\b\b\b\b  OK \n",
            "Extracting  norm/Robbery053_x2642.mp4                                    \b\b\b\b 60%\b\b\b\b\b  OK \n",
            "Extracting  norm/Robbery054_x264.mp4                                     \b\b\b\b 60%\b\b\b\b\b  OK \n",
            "Extracting  norm/Robbery054_x2642.mp4                                    \b\b\b\b 60%\b\b\b\b\b  OK \n",
            "Extracting  norm/Robbery055_x264.mp4                                     \b\b\b\b 60%\b\b\b\b 61%\b\b\b\b\b  OK \n",
            "Extracting  norm/Robbery055_x2642.mp4                                    \b\b\b\b 61%\b\b\b\b\b  OK \n",
            "Extracting  norm/Robbery056_x264.mp4                                     \b\b\b\b 61%\b\b\b\b\b  OK \n",
            "Extracting  norm/Robbery056_x2642.mp4                                    \b\b\b\b 61%\b\b\b\b\b  OK \n",
            "Extracting  norm/Robbery057_x264.mp4                                     \b\b\b\b 61%\b\b\b\b\b  OK \n",
            "Extracting  norm/Robbery057_x2642.mp4                                    \b\b\b\b 61%\b\b\b\b\b  OK \n",
            "Extracting  norm/Robbery058_x264.mp4                                     \b\b\b\b 61%\b\b\b\b\b  OK \n",
            "Extracting  norm/Robbery058_x2642.mp4                                    \b\b\b\b 61%\b\b\b\b\b  OK \n",
            "Extracting  norm/Robbery059_x264.mp4                                     \b\b\b\b 61%\b\b\b\b\b  OK \n",
            "Extracting  norm/Robbery059_x2642.mp4                                    \b\b\b\b 61%\b\b\b\b\b  OK \n",
            "Extracting  norm/Robbery060_x264.mp4                                     \b\b\b\b 61%\b\b\b\b\b  OK \n",
            "Extracting  norm/Robbery060_x2642.mp4                                    \b\b\b\b 61%\b\b\b\b\b  OK \n",
            "Extracting  norm/Robbery061_x264.mp4                                     \b\b\b\b 61%\b\b\b\b\b  OK \n",
            "Extracting  norm/Robbery061_x2642.mp4                                    \b\b\b\b 61%\b\b\b\b\b  OK \n",
            "Extracting  norm/Robbery062_x264.mp4                                     \b\b\b\b 61%\b\b\b\b\b  OK \n",
            "Extracting  norm/Robbery062_x2642.mp4                                    \b\b\b\b 61%\b\b\b\b\b  OK \n",
            "Extracting  norm/Robbery063_x264.mp4                                     \b\b\b\b 61%\b\b\b\b\b  OK \n",
            "Extracting  norm/Robbery063_x2642.mp4                                    \b\b\b\b 61%\b\b\b\b\b  OK \n",
            "Extracting  norm/Robbery064_x264.mp4                                     \b\b\b\b 61%\b\b\b\b\b  OK \n",
            "Extracting  norm/Robbery064_x2642.mp4                                    \b\b\b\b 61%\b\b\b\b\b  OK \n",
            "Extracting  norm/Robbery065_x264.mp4                                     \b\b\b\b 61%\b\b\b\b\b  OK \n",
            "Extracting  norm/Robbery065_x2642.mp4                                    \b\b\b\b 61%\b\b\b\b\b  OK \n",
            "Extracting  norm/Robbery066_x264.mp4                                     \b\b\b\b 61%\b\b\b\b\b  OK \n",
            "Extracting  norm/Robbery066_x2642.mp4                                    \b\b\b\b 61%\b\b\b\b\b  OK \n",
            "Extracting  norm/Robbery067_x264.mp4                                     \b\b\b\b 61%\b\b\b\b\b  OK \n",
            "Extracting  norm/Robbery067_x2642.mp4                                    \b\b\b\b 61%\b\b\b\b\b  OK \n",
            "Extracting  norm/Robbery068_x264.mp4                                     \b\b\b\b 61%\b\b\b\b\b  OK \n",
            "Extracting  norm/Robbery068_x2642.mp4                                    \b\b\b\b 61%\b\b\b\b\b  OK \n",
            "Extracting  norm/Robbery069_x264.mp4                                     \b\b\b\b 61%\b\b\b\b\b  OK \n",
            "Extracting  norm/Robbery069_x2642.mp4                                    \b\b\b\b 61%\b\b\b\b\b  OK \n",
            "Extracting  norm/Robbery070_x264.mp4                                     \b\b\b\b 61%\b\b\b\b\b  OK \n",
            "Extracting  norm/Robbery070_x2642.mp4                                    \b\b\b\b 61%\b\b\b\b\b  OK \n",
            "Extracting  norm/Robbery071_x264.mp4                                     \b\b\b\b 61%\b\b\b\b\b  OK \n",
            "Extracting  norm/Robbery071_x2642.mp4                                    \b\b\b\b 61%\b\b\b\b\b  OK \n",
            "Extracting  norm/Robbery072_x264.mp4                                     \b\b\b\b 61%\b\b\b\b\b  OK \n",
            "Extracting  norm/Robbery072_x2642.mp4                                    \b\b\b\b 61%\b\b\b\b\b  OK \n",
            "Extracting  norm/Robbery073_x264.mp4                                     \b\b\b\b 62%\b\b\b\b\b  OK \n",
            "Extracting  norm/Robbery073_x2642.mp4                                    \b\b\b\b 62%\b\b\b\b\b  OK \n",
            "Extracting  norm/Robbery074_x264.mp4                                     \b\b\b\b 62%\b\b\b\b\b  OK \n",
            "Extracting  norm/Robbery074_x2642.mp4                                    \b\b\b\b 62%\b\b\b\b\b  OK \n",
            "Extracting  norm/Robbery075_x264.mp4                                     \b\b\b\b 62%\b\b\b\b\b  OK \n",
            "Extracting  norm/Robbery075_x2642.mp4                                    \b\b\b\b 62%\b\b\b\b\b  OK \n",
            "Extracting  norm/Robbery076_x264.mp4                                     \b\b\b\b 62%\b\b\b\b\b  OK \n",
            "Extracting  norm/Robbery076_x2642.mp4                                    \b\b\b\b 62%\b\b\b\b\b  OK \n",
            "Extracting  norm/Robbery077_x264.mp4                                     \b\b\b\b 62%\b\b\b\b\b  OK \n",
            "Extracting  norm/Robbery077_x2642.mp4                                    \b\b\b\b 62%\b\b\b\b\b  OK \n",
            "Extracting  norm/Robbery078_x264.mp4                                     \b\b\b\b 62%\b\b\b\b\b  OK \n",
            "Extracting  norm/Robbery078_x2642.mp4                                    \b\b\b\b 62%\b\b\b\b\b  OK \n",
            "Extracting  norm/Robbery079_x264.mp4                                     \b\b\b\b 62%\b\b\b\b\b  OK \n",
            "Extracting  norm/Robbery079_x2642.mp4                                    \b\b\b\b 62%\b\b\b\b\b  OK \n",
            "Extracting  norm/Robbery080_x264.mp4                                     \b\b\b\b 62%\b\b\b\b\b  OK \n",
            "Extracting  norm/Robbery080_x2642.mp4                                    \b\b\b\b 62%\b\b\b\b\b  OK \n",
            "Extracting  norm/Robbery081_x264.mp4                                     \b\b\b\b 62%\b\b\b\b\b  OK \n",
            "Extracting  norm/Robbery081_x2642.mp4                                    \b\b\b\b 62%\b\b\b\b\b  OK \n",
            "Extracting  norm/Robbery082_x264.mp4                                     \b\b\b\b 62%\b\b\b\b\b  OK \n",
            "Extracting  norm/Robbery082_x2642.mp4                                    \b\b\b\b 62%\b\b\b\b\b  OK \n",
            "Extracting  norm/Robbery083_x264.mp4                                     \b\b\b\b 62%\b\b\b\b\b  OK \n",
            "Extracting  norm/Robbery083_x2642.mp4                                    \b\b\b\b 62%\b\b\b\b\b  OK \n",
            "Extracting  norm/Robbery084_x264.mp4                                     \b\b\b\b 62%\b\b\b\b\b  OK \n",
            "Extracting  norm/Robbery084_x2642.mp4                                    \b\b\b\b 62%\b\b\b\b\b  OK \n",
            "Extracting  norm/Robbery085_x264.mp4                                     \b\b\b\b 62%\b\b\b\b\b  OK \n",
            "Extracting  norm/Robbery085_x2642.mp4                                    \b\b\b\b 62%\b\b\b\b\b  OK \n",
            "Extracting  norm/Robbery086_x264.mp4                                     \b\b\b\b 62%\b\b\b\b\b  OK \n",
            "Extracting  norm/Robbery086_x2642.mp4                                    \b\b\b\b 62%\b\b\b\b\b  OK \n",
            "Extracting  norm/Robbery087_x264.mp4                                     \b\b\b\b 62%\b\b\b\b\b  OK \n",
            "Extracting  norm/Robbery087_x2642.mp4                                    \b\b\b\b 62%\b\b\b\b\b  OK \n",
            "Extracting  norm/Robbery088_x264.mp4                                     \b\b\b\b 62%\b\b\b\b\b  OK \n",
            "Extracting  norm/Robbery088_x2642.mp4                                    \b\b\b\b 62%\b\b\b\b\b  OK \n",
            "Extracting  norm/Robbery089_x264.mp4                                     \b\b\b\b 62%\b\b\b\b\b  OK \n",
            "Extracting  norm/Robbery089_x2642.mp4                                    \b\b\b\b 62%\b\b\b\b\b  OK \n",
            "Extracting  norm/Robbery090_x264.mp4                                     \b\b\b\b 62%\b\b\b\b 63%\b\b\b\b\b  OK \n",
            "Extracting  norm/Robbery090_x2642.mp4                                    \b\b\b\b 63%\b\b\b\b\b  OK \n",
            "Extracting  norm/Robbery091_x264.mp4                                     \b\b\b\b 63%\b\b\b\b\b  OK \n",
            "Extracting  norm/Robbery091_x2642.mp4                                    \b\b\b\b 63%\b\b\b\b\b  OK \n",
            "Extracting  norm/Robbery092_x264.mp4                                     \b\b\b\b 63%\b\b\b\b\b  OK \n",
            "Extracting  norm/Robbery092_x2642.mp4                                    \b\b\b\b 63%\b\b\b\b\b  OK \n",
            "Extracting  norm/Robbery094_x264.mp4                                     \b\b\b\b 63%\b\b\b\b\b  OK \n",
            "Extracting  norm/Robbery094_x2642.mp4                                    \b\b\b\b 63%\b\b\b\b\b  OK \n",
            "Extracting  norm/Robbery095_x264.mp4                                     \b\b\b\b 63%\b\b\b\b\b  OK \n",
            "Extracting  norm/Robbery095_x2642.mp4                                    \b\b\b\b 63%\b\b\b\b\b  OK \n",
            "Extracting  norm/Robbery096_x264.mp4                                     \b\b\b\b 63%\b\b\b\b\b  OK \n",
            "Extracting  norm/Robbery096_x2642.mp4                                    \b\b\b\b 63%\b\b\b\b\b  OK \n",
            "Extracting  norm/Robbery097_x264.mp4                                     \b\b\b\b 63%\b\b\b\b\b  OK \n",
            "Extracting  norm/Robbery097_x2642.mp4                                    \b\b\b\b 63%\b\b\b\b\b  OK \n",
            "Extracting  norm/Robbery098_x264.mp4                                     \b\b\b\b 63%\b\b\b\b 64%\b\b\b\b\b  OK \n",
            "Extracting  norm/Robbery098_x2642.mp4                                    \b\b\b\b 64%\b\b\b\b\b  OK \n",
            "Extracting  norm/Robbery099_x264.mp4                                     \b\b\b\b 64%\b\b\b\b\b  OK \n",
            "Extracting  norm/Robbery099_x2642.mp4                                    \b\b\b\b 64%\b\b\b\b\b  OK \n",
            "Extracting  norm/Robbery100_x264.mp4                                     \b\b\b\b 64%\b\b\b\b\b  OK \n",
            "Extracting  norm/Robbery100_x2642.mp4                                    \b\b\b\b 64%\b\b\b\b\b  OK \n",
            "Extracting  norm/shop.pickle                                             \b\b\b\b 64%\b\b\b\b\b  OK \n",
            "Extracting  norm/Shoplifting.csv                                         \b\b\b\b 64%\b\b\b\b\b  OK \n",
            "Extracting  norm/Shoplifting001_x264.mp4                                 \b\b\b\b 64%\b\b\b\b\b  OK \n",
            "Extracting  norm/Shoplifting001_x2642.mp4                                \b\b\b\b 64%\b\b\b\b\b  OK \n",
            "Extracting  norm/Shoplifting003_x264.mp4                                 \b\b\b\b 65%\b\b\b\b\b  OK \n",
            "Extracting  norm/Shoplifting003_x2642.mp4                                \b\b\b\b 65%\b\b\b\b\b  OK \n",
            "Extracting  norm/Shoplifting004_x264.mp4                                 \b\b\b\b 65%\b\b\b\b\b  OK \n",
            "Extracting  norm/Shoplifting004_x2642.mp4                                \b\b\b\b 65%\b\b\b\b 66%\b\b\b\b\b  OK \n",
            "Extracting  norm/Shoplifting005_x264.mp4                                 \b\b\b\b 66%\b\b\b\b\b  OK \n",
            "Extracting  norm/Shoplifting005_x2642.mp4                                \b\b\b\b 66%\b\b\b\b\b  OK \n",
            "Extracting  norm/Shoplifting006_x264.mp4                                 \b\b\b\b 66%\b\b\b\b\b  OK \n",
            "Extracting  norm/Shoplifting006_x2642.mp4                                \b\b\b\b 66%\b\b\b\b\b  OK \n",
            "Extracting  norm/Shoplifting007_x264.mp4                                 \b\b\b\b 66%\b\b\b\b\b  OK \n",
            "Extracting  norm/Shoplifting007_x2642.mp4                                \b\b\b\b 67%\b\b\b\b\b  OK \n",
            "Extracting  norm/Shoplifting008_x264.mp4                                 \b\b\b\b 67%\b\b\b\b\b  OK \n",
            "Extracting  norm/Shoplifting008_x2642.mp4                                \b\b\b\b 67%\b\b\b\b\b  OK \n",
            "Extracting  norm/Shoplifting009_x264.mp4                                 \b\b\b\b 67%\b\b\b\b\b  OK \n",
            "Extracting  norm/Shoplifting009_x2642.mp4                                \b\b\b\b 67%\b\b\b\b 68%\b\b\b\b\b  OK \n",
            "Extracting  norm/Shoplifting010_x264.mp4                                 \b\b\b\b 68%\b\b\b\b\b  OK \n",
            "Extracting  norm/Shoplifting010_x2642.mp4                                \b\b\b\b 68%\b\b\b\b\b  OK \n",
            "Extracting  norm/Shoplifting012_x264.mp4                                 \b\b\b\b 68%\b\b\b\b 69%\b\b\b\b\b  OK \n",
            "Extracting  norm/Shoplifting012_x2642.mp4                                \b\b\b\b 69%\b\b\b\b 70%\b\b\b\b\b  OK \n",
            "Extracting  norm/Shoplifting013_x264.mp4                                 \b\b\b\b 70%\b\b\b\b\b  OK \n",
            "Extracting  norm/Shoplifting013_x2642.mp4                                \b\b\b\b 70%\b\b\b\b\b  OK \n",
            "Extracting  norm/Shoplifting014_x264.mp4                                 \b\b\b\b 70%\b\b\b\b 71%\b\b\b\b 72%\b\b\b\b 73%\b\b\b\b 74%\b\b\b\b\b  OK \n",
            "Extracting  norm/Shoplifting014_x2642.mp4                                \b\b\b\b 74%\b\b\b\b\b  OK \n",
            "Extracting  norm/Shoplifting015_x264.mp4                                 \b\b\b\b 74%\b\b\b\b\b  OK \n",
            "Extracting  norm/Shoplifting015_x2642.mp4                                \b\b\b\b 74%\b\b\b\b 75%\b\b\b\b\b  OK \n",
            "Extracting  norm/Shoplifting016_x264.mp4                                 \b\b\b\b 75%\b\b\b\b\b  OK \n",
            "Extracting  norm/Shoplifting016_x2642.mp4                                \b\b\b\b 75%\b\b\b\b\b  OK \n",
            "Extracting  norm/Shoplifting017_x264.mp4                                 \b\b\b\b 75%\b\b\b\b\b  OK \n",
            "Extracting  norm/Shoplifting017_x2642.mp4                                \b\b\b\b 75%\b\b\b\b\b  OK \n",
            "Extracting  norm/Shoplifting018_x264.mp4                                 \b\b\b\b 75%\b\b\b\b\b  OK \n",
            "Extracting  norm/Shoplifting018_x2642.mp4                                \b\b\b\b 75%\b\b\b\b\b  OK \n",
            "Extracting  norm/Shoplifting019_x264.mp4                                 \b\b\b\b 75%\b\b\b\b\b  OK \n",
            "Extracting  norm/Shoplifting019_x2642.mp4                                \b\b\b\b 75%\b\b\b\b\b  OK \n",
            "Extracting  norm/Shoplifting020_x264.mp4                                 \b\b\b\b 75%\b\b\b\b\b  OK \n",
            "Extracting  norm/Shoplifting020_x2642.mp4                                \b\b\b\b 75%\b\b\b\b\b  OK \n",
            "Extracting  norm/Shoplifting021_x264.mp4                                 \b\b\b\b 75%\b\b\b\b\b  OK \n",
            "Extracting  norm/Shoplifting021_x2642.mp4                                \b\b\b\b 75%\b\b\b\b 76%\b\b\b\b\b  OK \n",
            "Extracting  norm/Shoplifting022_x264.mp4                                 \b\b\b\b 76%\b\b\b\b\b  OK \n",
            "Extracting  norm/Shoplifting022_x2642.mp4                                \b\b\b\b 76%\b\b\b\b\b  OK \n",
            "Extracting  norm/Shoplifting024_x264.mp4                                 \b\b\b\b 76%\b\b\b\b\b  OK \n",
            "Extracting  norm/Shoplifting024_x2642.mp4                                \b\b\b\b 76%\b\b\b\b\b  OK \n",
            "Extracting  norm/Shoplifting025_x264.mp4                                 \b\b\b\b 76%\b\b\b\b\b  OK \n",
            "Extracting  norm/Shoplifting025_x2642.mp4                                \b\b\b\b 76%\b\b\b\b\b  OK \n",
            "Extracting  norm/Shoplifting026_x264.mp4                                 \b\b\b\b 76%\b\b\b\b\b  OK \n",
            "Extracting  norm/Shoplifting026_x2642.mp4                                \b\b\b\b 76%\b\b\b\b\b  OK \n",
            "Extracting  norm/Shoplifting027_x264.mp4                                 \b\b\b\b 76%\b\b\b\b\b  OK \n",
            "Extracting  norm/Shoplifting027_x2642.mp4                                \b\b\b\b 76%\b\b\b\b\b  OK \n",
            "Extracting  norm/Shoplifting028_x264.mp4                                 \b\b\b\b 76%\b\b\b\b\b  OK \n",
            "Extracting  norm/Shoplifting028_x2642.mp4                                \b\b\b\b 76%\b\b\b\b\b  OK \n",
            "Extracting  norm/Shoplifting029_x264.mp4                                 \b\b\b\b 76%\b\b\b\b\b  OK \n",
            "Extracting  norm/Shoplifting029_x2642.mp4                                \b\b\b\b 76%\b\b\b\b\b  OK \n",
            "Extracting  norm/Shoplifting030_x264.mp4                                 \b\b\b\b 76%\b\b\b\b 77%\b\b\b\b\b  OK \n",
            "Extracting  norm/Shoplifting030_x2642.mp4                                \b\b\b\b 77%\b\b\b\b 78%\b\b\b\b\b  OK \n",
            "Extracting  norm/Shoplifting031_x264.mp4                                 \b\b\b\b 78%\b\b\b\b\b  OK \n",
            "Extracting  norm/Shoplifting031_x2642.mp4                                \b\b\b\b 78%\b\b\b\b\b  OK \n",
            "Extracting  norm/Shoplifting032_x264.mp4                                 \b\b\b\b 78%\b\b\b\b\b  OK \n",
            "Extracting  norm/Shoplifting032_x2642.mp4                                \b\b\b\b 78%\b\b\b\b\b  OK \n",
            "Extracting  norm/Shoplifting033_x264.mp4                                 \b\b\b\b 78%\b\b\b\b\b  OK \n",
            "Extracting  norm/Shoplifting033_x2642.mp4                                \b\b\b\b 78%\b\b\b\b\b  OK \n",
            "Extracting  norm/Shoplifting034_x264.mp4                                 \b\b\b\b 78%\b\b\b\b\b  OK \n",
            "Extracting  norm/Shoplifting034_x2642.mp4                                \b\b\b\b 78%\b\b\b\b\b  OK \n",
            "Extracting  norm/Shoplifting036_x264.mp4                                 \b\b\b\b 78%\b\b\b\b\b  OK \n",
            "Extracting  norm/Shoplifting036_x2642.mp4                                \b\b\b\b 79%\b\b\b\b\b  OK \n",
            "Extracting  norm/Shoplifting037_x264.mp4                                 \b\b\b\b 79%\b\b\b\b\b  OK \n",
            "Extracting  norm/Shoplifting037_x2642.mp4                                \b\b\b\b 79%\b\b\b\b\b  OK \n",
            "Extracting  norm/Shoplifting038_x264.mp4                                 \b\b\b\b 79%\b\b\b\b\b  OK \n",
            "Extracting  norm/Shoplifting038_x2642.mp4                                \b\b\b\b 79%\b\b\b\b\b  OK \n",
            "Extracting  norm/Shoplifting039_x264.mp4                                 \b\b\b\b 79%\b\b\b\b\b  OK \n",
            "Extracting  norm/Shoplifting039_x2642.mp4                                \b\b\b\b 79%\b\b\b\b\b  OK \n",
            "Extracting  norm/Shoplifting040_x264.mp4                                 \b\b\b\b 79%\b\b\b\b 80%\b\b\b\b 81%\b\b\b\b\b  OK \n",
            "Extracting  norm/Shoplifting040_x2642.mp4                                \b\b\b\b 81%\b\b\b\b\b  OK \n",
            "Extracting  norm/Shoplifting041_x264.mp4                                 \b\b\b\b 81%\b\b\b\b\b  OK \n",
            "Extracting  norm/Shoplifting041_x2642.mp4                                \b\b\b\b 81%\b\b\b\b 82%\b\b\b\b\b  OK \n",
            "Extracting  norm/Shoplifting042_x264.mp4                                 \b\b\b\b 82%\b\b\b\b\b  OK \n",
            "Extracting  norm/Shoplifting042_x2642.mp4                                \b\b\b\b 82%\b\b\b\b\b  OK \n",
            "Extracting  norm/Shoplifting043_x264.mp4                                 \b\b\b\b 82%\b\b\b\b\b  OK \n",
            "Extracting  norm/Shoplifting043_x2642.mp4                                \b\b\b\b 82%\b\b\b\b 83%\b\b\b\b\b  OK \n",
            "Extracting  norm/Shoplifting044_x264.mp4                                 \b\b\b\b 83%\b\b\b\b\b  OK \n",
            "Extracting  norm/Shoplifting044_x2642.mp4                                \b\b\b\b 83%\b\b\b\b 84%\b\b\b\b\b  OK \n",
            "Extracting  norm/Shoplifting045_x264.mp4                                 \b\b\b\b 84%\b\b\b\b\b  OK \n",
            "Extracting  norm/Shoplifting045_x2642.mp4                                \b\b\b\b 84%\b\b\b\b\b  OK \n",
            "Extracting  norm/Shoplifting047_x264.mp4                                 \b\b\b\b 84%\b\b\b\b\b  OK \n",
            "Extracting  norm/Shoplifting047_x2642.mp4                                \b\b\b\b 84%\b\b\b\b\b  OK \n",
            "Extracting  norm/Shoplifting048_x264.mp4                                 \b\b\b\b 84%\b\b\b\b\b  OK \n",
            "Extracting  norm/Shoplifting048_x2642.mp4                                \b\b\b\b 84%\b\b\b\b\b  OK \n",
            "Extracting  norm/Shoplifting049_x264.mp4                                 \b\b\b\b 84%\b\b\b\b\b  OK \n",
            "Extracting  norm/Shoplifting049_x2642.mp4                                \b\b\b\b 84%\b\b\b\b\b  OK \n",
            "Extracting  norm/Shoplifting050_x264.mp4                                 \b\b\b\b 84%\b\b\b\b 85%\b\b\b\b\b  OK \n",
            "Extracting  norm/Shoplifting050_x2642.mp4                                \b\b\b\b 85%\b\b\b\b\b  OK \n",
            "Extracting  norm/Shoplifting051_x264.mp4                                 \b\b\b\b 85%\b\b\b\b\b  OK \n",
            "Extracting  norm/Shoplifting051_x2642.mp4                                \b\b\b\b 85%\b\b\b\b\b  OK \n",
            "Extracting  norm/Shoplifting052_x264.mp4                                 \b\b\b\b 85%\b\b\b\b 86%\b\b\b\b\b  OK \n",
            "Extracting  norm/Shoplifting052_x2642.mp4                                \b\b\b\b 86%\b\b\b\b\b  OK \n",
            "Extracting  norm/Shoplifting053_x264.mp4                                 \b\b\b\b 86%\b\b\b\b\b  OK \n",
            "Extracting  norm/Shoplifting053_x2642.mp4                                \b\b\b\b 86%\b\b\b\b\b  OK \n",
            "Extracting  norm/Shoplifting054_x264.mp4                                 \b\b\b\b 86%\b\b\b\b\b  OK \n",
            "Extracting  norm/Shoplifting054_x2642.mp4                                \b\b\b\b 86%\b\b\b\b\b  OK \n",
            "Extracting  norm/Shoplifting055_x264.mp4                                 \b\b\b\b 86%\b\b\b\b\b  OK \n",
            "Extracting  norm/Shoplifting055_x2642.mp4                                \b\b\b\b 86%\b\b\b\b\b  OK \n",
            "Extracting  norm/Stealing.pickle                                         \b\b\b\b 86%\b\b\b\b\b  OK \n",
            "Extracting  norm/Stealing002_x264.mp4                                    \b\b\b\b 86%\b\b\b\b\b  OK \n",
            "Extracting  norm/Stealing002_x2642.mp4                                   \b\b\b\b 86%\b\b\b\b\b  OK \n",
            "Extracting  norm/Stealing003_x264.mp4                                    \b\b\b\b 86%\b\b\b\b\b  OK \n",
            "Extracting  norm/Stealing003_x2642.mp4                                   \b\b\b\b 86%\b\b\b\b 87%\b\b\b\b\b  OK \n",
            "Extracting  norm/Stealing004_x264.mp4                                    \b\b\b\b 87%\b\b\b\b\b  OK \n",
            "Extracting  norm/Stealing004_x2642.mp4                                   \b\b\b\b 87%\b\b\b\b\b  OK \n",
            "Extracting  norm/Stealing006_x264.mp4                                    \b\b\b\b 87%\b\b\b\b\b  OK \n",
            "Extracting  norm/Stealing006_x2642.mp4                                   \b\b\b\b 87%\b\b\b\b\b  OK \n",
            "Extracting  norm/Stealing007_x264.mp4                                    \b\b\b\b 87%\b\b\b\b\b  OK \n",
            "Extracting  norm/Stealing007_x2642.mp4                                   \b\b\b\b 87%\b\b\b\b\b  OK \n",
            "Extracting  norm/Stealing008_x264.mp4                                    \b\b\b\b 87%\b\b\b\b\b  OK \n",
            "Extracting  norm/Stealing008_x2642.mp4                                   \b\b\b\b 87%\b\b\b\b\b  OK \n",
            "Extracting  norm/Stealing009_x264.mp4                                    \b\b\b\b 87%\b\b\b\b\b  OK \n",
            "Extracting  norm/Stealing009_x2642.mp4                                   \b\b\b\b 87%\b\b\b\b\b  OK \n",
            "Extracting  norm/Stealing010_x264.mp4                                    \b\b\b\b 87%\b\b\b\b\b  OK \n",
            "Extracting  norm/Stealing010_x2642.mp4                                   \b\b\b\b 87%\b\b\b\b\b  OK \n",
            "Extracting  norm/Stealing011_x264.mp4                                    \b\b\b\b 87%\b\b\b\b\b  OK \n",
            "Extracting  norm/Stealing011_x2642.mp4                                   \b\b\b\b 87%\b\b\b\b\b  OK \n",
            "Extracting  norm/Stealing012_x264.mp4                                    \b\b\b\b 87%\b\b\b\b\b  OK \n",
            "Extracting  norm/Stealing012_x2642.mp4                                   \b\b\b\b 87%\b\b\b\b\b  OK \n",
            "Extracting  norm/Stealing013_x264.mp4                                    \b\b\b\b 87%\b\b\b\b 88%\b\b\b\b\b  OK \n",
            "Extracting  norm/Stealing013_x2642.mp4                                   \b\b\b\b 88%\b\b\b\b\b  OK \n",
            "Extracting  norm/Stealing014_x264.mp4                                    \b\b\b\b 88%\b\b\b\b\b  OK \n",
            "Extracting  norm/Stealing014_x2642.mp4                                   \b\b\b\b 88%\b\b\b\b\b  OK \n",
            "Extracting  norm/Stealing015_x264.mp4                                    \b\b\b\b 88%\b\b\b\b\b  OK \n",
            "Extracting  norm/Stealing015_x2642.mp4                                   \b\b\b\b 88%\b\b\b\b\b  OK \n",
            "Extracting  norm/Stealing016_x264.mp4                                    \b\b\b\b 88%\b\b\b\b\b  OK \n",
            "Extracting  norm/Stealing016_x2642.mp4                                   \b\b\b\b 88%\b\b\b\b\b  OK \n",
            "Extracting  norm/Stealing017_x264.mp4                                    \b\b\b\b 88%\b\b\b\b\b  OK \n",
            "Extracting  norm/Stealing017_x2642.mp4                                   \b\b\b\b 88%\b\b\b\b\b  OK \n",
            "Extracting  norm/Stealing018_x264.mp4                                    \b\b\b\b 88%\b\b\b\b\b  OK \n",
            "Extracting  norm/Stealing018_x2642.mp4                                   \b\b\b\b 88%\b\b\b\b\b  OK \n",
            "Extracting  norm/Stealing019_x264.mp4                                    \b\b\b\b 88%\b\b\b\b\b  OK \n",
            "Extracting  norm/Stealing019_x2642.mp4                                   \b\b\b\b 88%\b\b\b\b\b  OK \n",
            "Extracting  norm/Stealing020_x264.mp4                                    \b\b\b\b 88%\b\b\b\b\b  OK \n",
            "Extracting  norm/Stealing020_x2642.mp4                                   \b\b\b\b 88%\b\b\b\b\b  OK \n",
            "Extracting  norm/Stealing021_x264.mp4                                    \b\b\b\b 88%\b\b\b\b\b  OK \n",
            "Extracting  norm/Stealing021_x2642.mp4                                   \b\b\b\b 88%\b\b\b\b\b  OK \n",
            "Extracting  norm/Stealing022_x264.mp4                                    \b\b\b\b 88%\b\b\b\b\b  OK \n",
            "Extracting  norm/Stealing022_x2642.mp4                                   \b\b\b\b 88%\b\b\b\b\b  OK \n",
            "Extracting  norm/Stealing023_x264.mp4                                    \b\b\b\b 88%\b\b\b\b\b  OK \n",
            "Extracting  norm/Stealing023_x2642.mp4                                   \b\b\b\b 88%\b\b\b\b\b  OK \n",
            "Extracting  norm/Stealing024_x264.mp4                                    \b\b\b\b 88%\b\b\b\b\b  OK \n",
            "Extracting  norm/Stealing024_x2642.mp4                                   \b\b\b\b 88%\b\b\b\b 89%\b\b\b\b\b  OK \n",
            "Extracting  norm/Stealing025_x264.mp4                                    \b\b\b\b 89%\b\b\b\b\b  OK \n",
            "Extracting  norm/Stealing025_x2642.mp4                                   \b\b\b\b 89%\b\b\b\b 90%\b\b\b\b\b  OK \n",
            "Extracting  norm/Stealing026_x264.mp4                                    \b\b\b\b 90%\b\b\b\b\b  OK \n",
            "Extracting  norm/Stealing026_x2642.mp4                                   \b\b\b\b 90%\b\b\b\b\b  OK \n",
            "Extracting  norm/Stealing027_x264.mp4                                    \b\b\b\b 90%\b\b\b\b\b  OK \n",
            "Extracting  norm/Stealing027_x2642.mp4                                   \b\b\b\b 90%\b\b\b\b\b  OK \n",
            "Extracting  norm/Stealing028_x264.mp4                                    \b\b\b\b 90%\b\b\b\b\b  OK \n",
            "Extracting  norm/Stealing028_x2642.mp4                                   \b\b\b\b 90%\b\b\b\b\b  OK \n",
            "Extracting  norm/Stealing029_x264.mp4                                    \b\b\b\b 90%\b\b\b\b\b  OK \n",
            "Extracting  norm/Stealing029_x2642.mp4                                   \b\b\b\b 90%\b\b\b\b\b  OK \n",
            "Extracting  norm/Stealing030_x264.mp4                                    \b\b\b\b 90%\b\b\b\b\b  OK \n",
            "Extracting  norm/Stealing030_x2642.mp4                                   \b\b\b\b 90%\b\b\b\b\b  OK \n",
            "Extracting  norm/Stealing031_x264.mp4                                    \b\b\b\b 90%\b\b\b\b\b  OK \n",
            "Extracting  norm/Stealing031_x2642.mp4                                   \b\b\b\b 90%\b\b\b\b\b  OK \n",
            "Extracting  norm/Stealing032_x264.mp4                                    \b\b\b\b 90%\b\b\b\b\b  OK \n",
            "Extracting  norm/Stealing032_x2642.mp4                                   \b\b\b\b 90%\b\b\b\b\b  OK \n",
            "Extracting  norm/Stealing035_x264.mp4                                    \b\b\b\b 90%\b\b\b\b\b  OK \n",
            "Extracting  norm/Stealing035_x2642.mp4                                   \b\b\b\b 90%\b\b\b\b\b  OK \n",
            "Extracting  norm/Stealing036_x264.mp4                                    \b\b\b\b 90%\b\b\b\b\b  OK \n",
            "Extracting  norm/Stealing036_x2642.mp4                                   \b\b\b\b 91%\b\b\b\b\b  OK \n",
            "Extracting  norm/Stealing037_x264.mp4                                    \b\b\b\b 91%\b\b\b\b\b  OK \n",
            "Extracting  norm/Stealing037_x2642.mp4                                   \b\b\b\b 91%\b\b\b\b\b  OK \n",
            "Extracting  norm/Stealing042_x264.mp4                                    \b\b\b\b 91%\b\b\b\b\b  OK \n",
            "Extracting  norm/Stealing042_x2642.mp4                                   \b\b\b\b 91%\b\b\b\b\b  OK \n",
            "Extracting  norm/Stealing043_x264.mp4                                    \b\b\b\b 91%\b\b\b\b\b  OK \n",
            "Extracting  norm/Stealing043_x2642.mp4                                   \b\b\b\b 91%\b\b\b\b\b  OK \n",
            "Extracting  norm/Stealing044_x264.mp4                                    \b\b\b\b 91%\b\b\b\b\b  OK \n",
            "Extracting  norm/Stealing044_x2642.mp4                                   \b\b\b\b 91%\b\b\b\b\b  OK \n",
            "Extracting  norm/Stealing045_x264.mp4                                    \b\b\b\b 91%\b\b\b\b\b  OK \n",
            "Extracting  norm/Stealing045_x2642.mp4                                   \b\b\b\b 91%\b\b\b\b\b  OK \n",
            "Extracting  norm/Stealing046_x264.mp4                                    \b\b\b\b 91%\b\b\b\b 92%\b\b\b\b\b  OK \n",
            "Extracting  norm/Stealing046_x2642.mp4                                   \b\b\b\b 92%\b\b\b\b\b  OK \n",
            "Extracting  norm/Stealing047_x264.mp4                                    \b\b\b\b 92%\b\b\b\b\b  OK \n",
            "Extracting  norm/Stealing047_x2642.mp4                                   \b\b\b\b 92%\b\b\b\b\b  OK \n",
            "Extracting  norm/Stealing048_x264.mp4                                    \b\b\b\b 92%\b\b\b\b\b  OK \n",
            "Extracting  norm/Stealing048_x2642.mp4                                   \b\b\b\b 92%\b\b\b\b\b  OK \n",
            "Extracting  norm/Stealing049_x264.mp4                                    \b\b\b\b 92%\b\b\b\b\b  OK \n",
            "Extracting  norm/Stealing049_x2642.mp4                                   \b\b\b\b 92%\b\b\b\b\b  OK \n",
            "Extracting  norm/Stealing050_x264.mp4                                    \b\b\b\b 92%\b\b\b\b\b  OK \n",
            "Extracting  norm/Stealing050_x2642.mp4                                   \b\b\b\b 92%\b\b\b\b\b  OK \n",
            "Extracting  norm/Stealing051_x264.mp4                                    \b\b\b\b 92%\b\b\b\b\b  OK \n",
            "Extracting  norm/Stealing051_x2642.mp4                                   \b\b\b\b 92%\b\b\b\b\b  OK \n",
            "Extracting  norm/Stealing052_x264.mp4                                    \b\b\b\b 92%\b\b\b\b\b  OK \n",
            "Extracting  norm/Stealing052_x2642.mp4                                   \b\b\b\b 92%\b\b\b\b\b  OK \n",
            "Extracting  norm/Stealing053_x264.mp4                                    \b\b\b\b 92%\b\b\b\b\b  OK \n",
            "Extracting  norm/Stealing053_x2642.mp4                                   \b\b\b\b 92%\b\b\b\b\b  OK \n",
            "Extracting  norm/Stealing054_x264.mp4                                    \b\b\b\b 92%\b\b\b\b\b  OK \n",
            "Extracting  norm/Stealing054_x2642.mp4                                   \b\b\b\b 92%\b\b\b\b\b  OK \n",
            "Extracting  norm/Stealing055_x264.mp4                                    \b\b\b\b 92%\b\b\b\b\b  OK \n",
            "Extracting  norm/Stealing055_x2642.mp4                                   \b\b\b\b 92%\b\b\b\b\b  OK \n",
            "Extracting  norm/Stealing057_x264.mp4                                    \b\b\b\b 92%\b\b\b\b 93%\b\b\b\b\b  OK \n",
            "Extracting  norm/Stealing057_x2642.mp4                                   \b\b\b\b 93%\b\b\b\b\b  OK \n",
            "Extracting  norm/Stealing058_x264.mp4                                    \b\b\b\b 93%\b\b\b\b\b  OK \n",
            "Extracting  norm/Stealing058_x2642.mp4                                   \b\b\b\b 93%\b\b\b\b\b  OK \n",
            "Extracting  norm/Stealing059_x264.mp4                                    \b\b\b\b 93%\b\b\b\b\b  OK \n",
            "Extracting  norm/Stealing059_x2642.mp4                                   \b\b\b\b 93%\b\b\b\b\b  OK \n",
            "Extracting  norm/Stealing060_x264.mp4                                    \b\b\b\b 93%\b\b\b\b\b  OK \n",
            "Extracting  norm/Stealing060_x2642.mp4                                   \b\b\b\b 93%\b\b\b\b\b  OK \n",
            "Extracting  norm/Stealing061_x264.mp4                                    \b\b\b\b 93%\b\b\b\b\b  OK \n",
            "Extracting  norm/Stealing061_x2642.mp4                                   \b\b\b\b 93%\b\b\b\b\b  OK \n",
            "Extracting  norm/Stealing062_x264.mp4                                    \b\b\b\b 93%\b\b\b\b\b  OK \n",
            "Extracting  norm/Stealing062_x2642.mp4                                   \b\b\b\b 93%\b\b\b\b\b  OK \n",
            "Extracting  norm/Stealing063_x264.mp4                                    \b\b\b\b 93%\b\b\b\b\b  OK \n",
            "Extracting  norm/Stealing063_x2642.mp4                                   \b\b\b\b 93%\b\b\b\b\b  OK \n",
            "Extracting  norm/Stealing065_x264.mp4                                    \b\b\b\b 94%\b\b\b\b\b  OK \n",
            "Extracting  norm/Stealing065_x2642.mp4                                   \b\b\b\b 94%\b\b\b\b\b  OK \n",
            "Extracting  norm/Stealing066_x264.mp4                                    \b\b\b\b 94%\b\b\b\b\b  OK \n",
            "Extracting  norm/Stealing066_x2642.mp4                                   \b\b\b\b 94%\b\b\b\b\b  OK \n",
            "Extracting  norm/Stealing067_x264.mp4                                    \b\b\b\b 94%\b\b\b\b\b  OK \n",
            "Extracting  norm/Stealing067_x2642.mp4                                   \b\b\b\b 94%\b\b\b\b\b  OK \n",
            "Extracting  norm/Stealing068_x264.mp4                                    \b\b\b\b 94%\b\b\b\b\b  OK \n",
            "Extracting  norm/Stealing068_x2642.mp4                                   \b\b\b\b 94%\b\b\b\b\b  OK \n",
            "Extracting  norm/Stealing069_x264.mp4                                    \b\b\b\b 94%\b\b\b\b\b  OK \n",
            "Extracting  norm/Stealing069_x2642.mp4                                   \b\b\b\b 94%\b\b\b\b\b  OK \n",
            "Extracting  norm/Stealing070_x264.mp4                                    \b\b\b\b 94%\b\b\b\b\b  OK \n",
            "Extracting  norm/Stealing070_x2642.mp4                                   \b\b\b\b 94%\b\b\b\b\b  OK \n",
            "Extracting  norm/Stealing071_x264.mp4                                    \b\b\b\b 94%\b\b\b\b\b  OK \n",
            "Extracting  norm/Stealing071_x2642.mp4                                   \b\b\b\b 94%\b\b\b\b\b  OK \n",
            "Extracting  norm/Stealing072_x264.mp4                                    \b\b\b\b 94%\b\b\b\b\b  OK \n",
            "Extracting  norm/Stealing072_x2642.mp4                                   \b\b\b\b 94%\b\b\b\b\b  OK \n",
            "Extracting  norm/Stealing073_x264.mp4                                    \b\b\b\b 94%\b\b\b\b\b  OK \n",
            "Extracting  norm/Stealing073_x2642.mp4                                   \b\b\b\b 94%\b\b\b\b\b  OK \n",
            "Extracting  norm/Stealing074_x264.mp4                                    \b\b\b\b 94%\b\b\b\b\b  OK \n",
            "Extracting  norm/Stealing074_x2642.mp4                                   \b\b\b\b 94%\b\b\b\b\b  OK \n",
            "Extracting  norm/Stealing075_x264.mp4                                    \b\b\b\b 94%\b\b\b\b\b  OK \n",
            "Extracting  norm/Stealing075_x2642.mp4                                   \b\b\b\b 94%\b\b\b\b\b  OK \n",
            "Extracting  norm/Stealing077_x264.mp4                                    \b\b\b\b 94%\b\b\b\b 95%\b\b\b\b\b  OK \n",
            "Extracting  norm/Stealing077_x2642.mp4                                   \b\b\b\b 95%\b\b\b\b\b  OK \n",
            "Extracting  norm/Stealing078_x264.mp4                                    \b\b\b\b 95%\b\b\b\b\b  OK \n",
            "Extracting  norm/Stealing078_x2642.mp4                                   \b\b\b\b 95%\b\b\b\b\b  OK \n",
            "Extracting  norm/Stealing079_x264.mp4                                    \b\b\b\b 95%\b\b\b\b\b  OK \n",
            "Extracting  norm/Stealing079_x2642.mp4                                   \b\b\b\b 96%\b\b\b\b\b  OK \n",
            "Extracting  norm/Stealing080_x264.mp4                                    \b\b\b\b 96%\b\b\b\b\b  OK \n",
            "Extracting  norm/Stealing080_x2642.mp4                                   \b\b\b\b 96%\b\b\b\b\b  OK \n",
            "Extracting  norm/Stealing081_x264.mp4                                    \b\b\b\b 96%\b\b\b\b\b  OK \n",
            "Extracting  norm/Stealing081_x2642.mp4                                   \b\b\b\b 96%\b\b\b\b\b  OK \n",
            "Extracting  norm/Stealing082_x264.mp4                                    \b\b\b\b 96%\b\b\b\b\b  OK \n",
            "Extracting  norm/Stealing082_x2642.mp4                                   \b\b\b\b 96%\b\b\b\b\b  OK \n",
            "Extracting  norm/Stealing083_x264.mp4                                    \b\b\b\b 96%\b\b\b\b\b  OK \n",
            "Extracting  norm/Stealing083_x2642.mp4                                   \b\b\b\b 96%\b\b\b\b\b  OK \n",
            "Extracting  norm/Stealing084_x264.mp4                                    \b\b\b\b 96%\b\b\b\b\b  OK \n",
            "Extracting  norm/Stealing084_x2642.mp4                                   \b\b\b\b 96%\b\b\b\b\b  OK \n",
            "Extracting  norm/Stealing086_x264.mp4                                    \b\b\b\b 96%\b\b\b\b\b  OK \n",
            "Extracting  norm/Stealing086_x2642.mp4                                   \b\b\b\b 96%\b\b\b\b 97%\b\b\b\b\b  OK \n",
            "Extracting  norm/Stealing087_x264.mp4                                    \b\b\b\b 97%\b\b\b\b\b  OK \n",
            "Extracting  norm/Stealing087_x2642.mp4                                   \b\b\b\b 97%\b\b\b\b\b  OK \n",
            "Extracting  norm/Stealing088_x264.mp4                                    \b\b\b\b 97%\b\b\b\b 98%\b\b\b\b\b  OK \n",
            "Extracting  norm/Stealing088_x2642.mp4                                   \b\b\b\b 98%\b\b\b\b\b  OK \n",
            "Extracting  norm/Stealing089_x264.mp4                                    \b\b\b\b 98%\b\b\b\b\b  OK \n",
            "Extracting  norm/Stealing089_x2642.mp4                                   \b\b\b\b 98%\b\b\b\b\b  OK \n",
            "Extracting  norm/Stealing091_x264.mp4                                    \b\b\b\b 98%\b\b\b\b\b  OK \n",
            "Extracting  norm/Stealing091_x2642.mp4                                   \b\b\b\b 98%\b\b\b\b\b  OK \n",
            "Extracting  norm/Stealing092_x264.mp4                                    \b\b\b\b 98%\b\b\b\b\b  OK \n",
            "Extracting  norm/Stealing092_x2642.mp4                                   \b\b\b\b 98%\b\b\b\b\b  OK \n",
            "Extracting  norm/Stealing093_x264.mp4                                    \b\b\b\b 98%\b\b\b\b\b  OK \n",
            "Extracting  norm/Stealing093_x2642.mp4                                   \b\b\b\b 98%\b\b\b\b\b  OK \n",
            "Extracting  norm/Stealing094_x264.mp4                                    \b\b\b\b 98%\b\b\b\b\b  OK \n",
            "Extracting  norm/Stealing094_x2642.mp4                                   \b\b\b\b 98%\b\b\b\b\b  OK \n",
            "Extracting  norm/Stealing095_x264.mp4                                    \b\b\b\b 98%\b\b\b\b\b  OK \n",
            "Extracting  norm/Stealing095_x2642.mp4                                   \b\b\b\b 98%\b\b\b\b\b  OK \n",
            "Extracting  norm/Stealing096_x264.mp4                                    \b\b\b\b 98%\b\b\b\b\b  OK \n",
            "Extracting  norm/Stealing096_x2642.mp4                                   \b\b\b\b 99%\b\b\b\b\b  OK \n",
            "Extracting  norm/Stealing097_x264.mp4                                    \b\b\b\b 99%\b\b\b\b\b  OK \n",
            "Extracting  norm/Stealing097_x2642.mp4                                   \b\b\b\b 99%\b\b\b\b\b  OK \n",
            "Extracting  norm/Stealing098_x264.mp4                                    \b\b\b\b 99%\b\b\b\b\b  OK \n",
            "Extracting  norm/Stealing098_x2642.mp4                                   \b\b\b\b 99%\b\b\b\b\b  OK \n",
            "Extracting  norm/Stealing100_x264.mp4                                    \b\b\b\b 99%\b\b\b\b\b  OK \n",
            "Extracting  norm/Stealing100_x2642.mp4                                   \b\b\b\b 99%\b\b\b\b\b  OK \n",
            "Extracting  norm/Stealing101_x264.mp4                                    \b\b\b\b 99%\b\b\b\b\b  OK \n",
            "Extracting  norm/Stealing101_x2642.mp4                                   \b\b\b\b 99%\b\b\b\b\b  OK \n",
            "Extracting  norm/Stealing102_x264.mp4                                    \b\b\b\b 99%\b\b\b\b\b  OK \n",
            "Extracting  norm/Stealing102_x2642.mp4                                   \b\b\b\b 99%\b\b\b\b\b  OK \n",
            "Extracting  norm/Stealing103_x264.mp4                                    \b\b\b\b 99%\b\b\b\b\b  OK \n",
            "Extracting  norm/Stealing103_x2642.mp4                                   \b\b\b\b 99%\b\b\b\b\b  OK \n",
            "Extracting  norm/Stealing104_x264.mp4                                    \b\b\b\b 99%\b\b\b\b\b  OK \n",
            "Extracting  norm/Stealing104_x2642.mp4                                   \b\b\b\b 99%\b\b\b\b\b  OK \n",
            "Extracting  norm/Stealing105_x264.mp4                                    \b\b\b\b 99%\b\b\b\b\b  OK \n",
            "Extracting  norm/Stealing105_x2642.mp4                                   \b\b\b\b 99%\b\b\b\b\b  OK \n",
            "Extracting  norm/Stealing106_x264.mp4                                    \b\b\b\b 99%\b\b\b\b\b  OK \n",
            "Extracting  norm/Stealing106_x2642.mp4                                   \b\b\b\b 99%\b\b\b\b\b  OK \n",
            "Extracting  norm/Stealing107_x264.mp4                                    \b\b\b\b 99%\b\b\b\b\b  OK \n",
            "Extracting  norm/Stealing107_x2642.mp4                                   \b\b\b\b 99%\b\b\b\b\b  OK \n",
            "Extracting  norm/Stealing108_x264.mp4                                    \b\b\b\b 99%\b\b\b\b\b  OK \n",
            "Extracting  norm/Stealing108_x2642.mp4                                   \b\b\b\b 99%\b\b\b\b\b  OK \n",
            "Extracting  norm/Stealing109_x264.mp4                                    \b\b\b\b 99%\b\b\b\b\b  OK \n",
            "Extracting  norm/Stealing109_x2642.mp4                                   \b\b\b\b 99%\b\b\b\b\b  OK \n",
            "Extracting  norm/Stealing110_x264.mp4                                    \b\b\b\b 99%\b\b\b\b\b  OK \n",
            "Extracting  norm/Stealing110_x2642.mp4                                   \b\b\b\b 99%\b\b\b\b\b  OK \n",
            "Extracting  norm/Stealing111_x264.mp4                                    \b\b\b\b 99%\b\b\b\b\b  OK \n",
            "Extracting  norm/Stealing111_x2642.mp4                                   \b\b\b\b 99%\b\b\b\b\b  OK \n",
            "Extracting  norm/Stealing112_x264.mp4                                    \b\b\b\b 99%\b\b\b\b\b  OK \n",
            "Extracting  norm/Stealing112_x2642.mp4                                   \b\b\b\b 99%\b\b\b\b\b  OK \n",
            "Extracting  norm/Stealing113_x264.mp4                                    \b\b\b\b 99%\b\b\b\b\b  OK \n",
            "Extracting  norm/Stealing113_x2642.mp4                                   \b\b\b\b 99%\b\b\b\b\b  OK \n",
            "Extracting  norm/Stealing114_x264.mp4                                    \b\b\b\b 99%\b\b\b\b\b  OK \n",
            "Extracting  norm/Stealing114_x2642.mp4                                   \b\b\b\b 99%\b\b\b\b\b  OK \n",
            "All OK\n"
          ],
          "name": "stdout"
        }
      ]
    },
    {
      "cell_type": "code",
      "metadata": {
        "id": "imDOqdTG8HZB"
      },
      "source": [
        "# !rm -rf 'dataset'"
      ],
      "execution_count": 6,
      "outputs": []
    },
    {
      "cell_type": "code",
      "metadata": {
        "id": "zqYUC-2HkfR0"
      },
      "source": [
        "!mkdir dataset\n",
        "!mv './Crime' 'dataset'\n",
        "!mv './norm' 'dataset'"
      ],
      "execution_count": 7,
      "outputs": []
    },
    {
      "cell_type": "code",
      "metadata": {
        "id": "agKtYVn3ZZQ3",
        "outputId": "a3f67751-61b1-4bbb-a0bf-9160d178071d",
        "colab": {
          "base_uri": "https://localhost:8080/"
        }
      },
      "source": [
        "len(os.listdir('/content/dataset/Crime'))"
      ],
      "execution_count": 8,
      "outputs": [
        {
          "output_type": "execute_result",
          "data": {
            "text/plain": [
              "348"
            ]
          },
          "metadata": {
            "tags": []
          },
          "execution_count": 8
        }
      ]
    },
    {
      "cell_type": "code",
      "metadata": {
        "id": "PqKMyV_11QaV"
      },
      "source": [
        "# len(os.listdir('dataset/norm'))"
      ],
      "execution_count": null,
      "outputs": []
    },
    {
      "cell_type": "code",
      "metadata": {
        "id": "rrwXWV7YAH9_",
        "outputId": "e8eca923-850c-475b-e8aa-73be75af3320",
        "colab": {
          "base_uri": "https://localhost:8080/"
        }
      },
      "source": [
        "os.listdir('dataset')"
      ],
      "execution_count": null,
      "outputs": [
        {
          "output_type": "execute_result",
          "data": {
            "text/plain": [
              "['Crime', 'norm']"
            ]
          },
          "metadata": {
            "tags": []
          },
          "execution_count": 11
        }
      ]
    },
    {
      "cell_type": "code",
      "metadata": {
        "id": "Uo0Rk82FD2cb"
      },
      "source": [
        "import cv2\n",
        "for cls in labels:\n",
        "  temp=os.listdir(\"/content/dataset/\"+cls)\n",
        "  for vid in temp:  \n",
        "    try:\n",
        "      tempy=os.path.join(\"/content/dataset\",cls,vid)\n",
        "      cap = cv2.VideoCapture(\"/content/dataset/\"+cls+\"/\"+vid)\n",
        "      fps = cap.get(cv2.CAP_PROP_FPS)      # OpenCV2 version 2 used \"CV_CAP_PROP_FPS\"\n",
        "      frame_count = int(cap.get(cv2.CAP_PROP_FRAME_COUNT))\n",
        "      # print(tempy,frame_count)\n",
        "      # if(fps!=0):\n",
        "      duration = frame_count/fps\n",
        "      if(duration<0 or frame_count<1):\n",
        "        os.remove(tempy)\n",
        "        print(\"deleted\"+(tempy))\n",
        "      # else:\n",
        "      #   os.remove(tempy)\n",
        "    except:\n",
        "      os.remove(tempy)\n",
        "      print(\"deleted\"+(tempy))\n",
        "    cap.release()"
      ],
      "execution_count": 4,
      "outputs": []
    },
    {
      "cell_type": "code",
      "metadata": {
        "id": "FnfKL359a1Xe"
      },
      "source": [
        "from sklearn.preprocessing import LabelBinarizer\n",
        "from sklearn.model_selection import train_test_split\n",
        "from sklearn.metrics import classification_report, confusion_matrix\n",
        "\n",
        "import numpy as np\n",
        "import pandas as pd\n",
        "import matplotlib.pyplot as plt\n",
        "\n",
        "from tensorflow.keras.preprocessing.image import ImageDataGenerator\n",
        "from keras.layers import MaxPooling2D\n",
        "\n",
        "from tensorflow.keras.applications import ResNet50\n",
        "import keras\n",
        "from keras import layers\n",
        "from keras.layers import Dropout\n",
        "from keras.layers import Flatten\n",
        "from keras.layers import Dense\n",
        "from keras.layers import Input\n",
        "from keras.models import Model\n",
        "from keras.optimizers import Adam\n",
        "from keras.regularizers import l2\n"
      ],
      "execution_count": 5,
      "outputs": []
    },
    {
      "cell_type": "code",
      "metadata": {
        "id": "yzh5F-gbLZV3",
        "outputId": "15d42e18-40d7-4b3f-d3be-8a86269174c2",
        "colab": {
          "base_uri": "https://localhost:8080/"
        }
      },
      "source": [
        "!pip install keras-video-generators"
      ],
      "execution_count": 6,
      "outputs": [
        {
          "output_type": "stream",
          "text": [
            "Requirement already satisfied: keras-video-generators in /usr/local/lib/python3.6/dist-packages (1.0.14)\n",
            "Requirement already satisfied: keras>=2 in /usr/local/lib/python3.6/dist-packages (from keras-video-generators) (2.4.3)\n",
            "Requirement already satisfied: numpy in /usr/local/lib/python3.6/dist-packages (from keras-video-generators) (1.18.5)\n",
            "Requirement already satisfied: matplotlib in /usr/local/lib/python3.6/dist-packages (from keras-video-generators) (3.2.2)\n",
            "Requirement already satisfied: opencv-python in /usr/local/lib/python3.6/dist-packages (from keras-video-generators) (4.1.2.30)\n",
            "Requirement already satisfied: h5py in /usr/local/lib/python3.6/dist-packages (from keras>=2->keras-video-generators) (2.10.0)\n",
            "Requirement already satisfied: scipy>=0.14 in /usr/local/lib/python3.6/dist-packages (from keras>=2->keras-video-generators) (1.4.1)\n",
            "Requirement already satisfied: pyyaml in /usr/local/lib/python3.6/dist-packages (from keras>=2->keras-video-generators) (3.13)\n",
            "Requirement already satisfied: pyparsing!=2.0.4,!=2.1.2,!=2.1.6,>=2.0.1 in /usr/local/lib/python3.6/dist-packages (from matplotlib->keras-video-generators) (2.4.7)\n",
            "Requirement already satisfied: python-dateutil>=2.1 in /usr/local/lib/python3.6/dist-packages (from matplotlib->keras-video-generators) (2.8.1)\n",
            "Requirement already satisfied: kiwisolver>=1.0.1 in /usr/local/lib/python3.6/dist-packages (from matplotlib->keras-video-generators) (1.3.1)\n",
            "Requirement already satisfied: cycler>=0.10 in /usr/local/lib/python3.6/dist-packages (from matplotlib->keras-video-generators) (0.10.0)\n",
            "Requirement already satisfied: six in /usr/local/lib/python3.6/dist-packages (from h5py->keras>=2->keras-video-generators) (1.15.0)\n"
          ],
          "name": "stdout"
        }
      ]
    },
    {
      "cell_type": "code",
      "metadata": {
        "id": "SYGZoHKpsXvR"
      },
      "source": [
        "from keras_video import VideoFrameGenerator"
      ],
      "execution_count": 7,
      "outputs": []
    },
    {
      "cell_type": "markdown",
      "metadata": {
        "id": "GlqsJA-ZOhg0"
      },
      "source": [
        "# Number of Frames:5"
      ]
    },
    {
      "cell_type": "code",
      "metadata": {
        "id": "K6j3kf_cuFSo",
        "outputId": "6ac5cf15-f8d9-47a8-d44d-e1fb0a925bed",
        "colab": {
          "base_uri": "https://localhost:8080/"
        }
      },
      "source": [
        "import os\n",
        "import glob\n",
        "import keras\n",
        "classes=labels\n",
        "classes.sort()# some global params\n",
        "SIZE = (320, 240)\n",
        "CHANNELS = 3\n",
        "NBFRAME = 5\n",
        "BS = 8# pattern to get videos and classes\n",
        "glob_pattern='/content/dataset/{classname}/*.mp4'# for data augmentation\n",
        "data_aug = keras.preprocessing.image.ImageDataGenerator(\n",
        "  zoom_range=.1,\n",
        "  horizontal_flip=True,\n",
        "  rotation_range=8,\n",
        "  width_shift_range=.2,\n",
        "  height_shift_range=.2)# Create video frame generator\n",
        "train = VideoFrameGenerator(\n",
        "  classes=classes, \n",
        "  glob_pattern=glob_pattern,\n",
        "  nb_frames=NBFRAME,\n",
        "  split=.33, \n",
        "  shuffle=True,\n",
        "  batch_size=BS,\n",
        "  target_shape=SIZE,\n",
        "  nb_channel=CHANNELS,\n",
        "  transformation=data_aug,use_frame_cache=True)"
      ],
      "execution_count": null,
      "outputs": [
        {
          "output_type": "stream",
          "text": [
            "Warning, `split` argument is replaced by `split_val`, please condider to change your source code.The `split` argument will be removed in future releases.\n"
          ],
          "name": "stderr"
        },
        {
          "output_type": "stream",
          "text": [
            "class Crime, validation count: 114, train count: 234\n",
            "class norm, validation count: 223, train count: 455\n",
            "Total data: 2 classes for 689 files for train\n"
          ],
          "name": "stdout"
        }
      ]
    },
    {
      "cell_type": "code",
      "metadata": {
        "id": "DZnDuxIguPae"
      },
      "source": [
        "# import keras_video.utils\n",
        "# keras_video.utils.show_sample(train)"
      ],
      "execution_count": null,
      "outputs": []
    },
    {
      "cell_type": "code",
      "metadata": {
        "id": "PfKKdqGfzMnu"
      },
      "source": [
        "from keras.layers import Conv2D, BatchNormalization, MaxPool2D, GlobalMaxPool2D\n",
        "def build_convnet(shape=(320, 240, 3)):\n",
        "  momentum = .9\n",
        "  model = keras.Sequential()\n",
        "  model.add(Conv2D(128, (3,3), input_shape=shape,\n",
        "      padding='same', activation='relu'))\n",
        "  model.add(Conv2D(128, (3,3), padding='same', activation='relu'))\n",
        "  # model.add(BatchNormalization(momentum=momentum))\n",
        "  \n",
        "  model.add(MaxPool2D())\n",
        "  \n",
        "  # model.add(Conv2D(96, (3,3), padding='same', activation='relu'))\n",
        "  # model.add(Conv2D(96, (3,3), padding='same', activation='relu'))\n",
        "  # model.add(BatchNormalization(momentum=momentum))\n",
        "  \n",
        "  model.add(MaxPool2D())\n",
        "  \n",
        "  model.add(Conv2D(64, (3,3), padding='same', activation='relu'))\n",
        "  model.add(Conv2D(64, (3,3), padding='same', activation='relu'))\n",
        "  # model.add(BatchNormalization(momentum=momentum))\n",
        "  \n",
        "  model.add(MaxPool2D())\n",
        "  \n",
        "  model.add(Conv2D(32, (3,3), padding='same', activation='relu'))\n",
        "  model.add(Conv2D(32, (3,3), padding='same', activation='relu'))\n",
        "  # model.add(BatchNormalization(momentum=momentum))\n",
        "  \n",
        "  # flatten...\n",
        "  model.add(GlobalMaxPool2D())\n",
        "  return model"
      ],
      "execution_count": null,
      "outputs": []
    },
    {
      "cell_type": "code",
      "metadata": {
        "id": "k6er6BGGye02"
      },
      "source": [
        "from keras.layers import TimeDistributed, GRU, Dense, Dropout,LSTM\n",
        "def action_model(shape=(40, 320, 240, 3), nbout=1):\n",
        "  # Create our convnet with (320, 240, 3) input shape\n",
        "  convnet = build_convnet(shape[1:])\n",
        "  \n",
        "  # then create our final model\n",
        "  model = keras.Sequential()    # add the convnet with (5, 112, 112, 3) shape\n",
        "  model.add(TimeDistributed(convnet, input_shape=shape))    # here, you can also use GRU or LSTM\n",
        "  model.add(LSTM(256))    # and finally, we make a decision network\n",
        "  # model.add(Dense(128, activation='relu'))\n",
        "  # model.add(Dropout(.5))\n",
        "  # model.add(Dense(128, activation='relu'))\n",
        "  # model.add(Dropout(.5))\n",
        "  model.add(Dense(128, activation='relu'))\n",
        "  # model.add(Dropout(.5))\n",
        "  model.add(Dense(64, activation='relu'))\n",
        "  model.add(Dense(2, activation='softmax'))\n",
        "  return model"
      ],
      "execution_count": null,
      "outputs": []
    },
    {
      "cell_type": "code",
      "metadata": {
        "id": "HVF0hE-Py69O"
      },
      "source": [
        "INSHAPE=(NBFRAME,) + SIZE + (CHANNELS,) # (10, 320, 240, 3)\n",
        "model = action_model(INSHAPE, len(classes))\n",
        "optimizer = keras.optimizers.Adam(0.001)\n",
        "model.compile(\n",
        "    # optimizer,\n",
        "    \"adam\",\n",
        "    'categorical_crossentropy',\n",
        "    metrics=['acc']\n",
        ")"
      ],
      "execution_count": null,
      "outputs": []
    },
    {
      "cell_type": "code",
      "metadata": {
        "id": "y4EMF7nSzszG",
        "outputId": "acc96afe-6a57-4332-a707-b81bebcef483",
        "colab": {
          "base_uri": "https://localhost:8080/"
        }
      },
      "source": [
        "valid = train.get_validation_generator()\n",
        "test=train.get_test_generator()"
      ],
      "execution_count": null,
      "outputs": [
        {
          "output_type": "stream",
          "text": [
            "Total data: 2 classes for 337 files for validation\n",
            "Total data: 2 classes for 0 files for test\n"
          ],
          "name": "stdout"
        }
      ]
    },
    {
      "cell_type": "code",
      "metadata": {
        "id": "JuAyNS7r4qMT",
        "outputId": "1a752972-a8fe-447a-8bdf-ecc14f7fea1e",
        "colab": {
          "base_uri": "https://localhost:8080/"
        }
      },
      "source": [
        "model.summary()"
      ],
      "execution_count": null,
      "outputs": [
        {
          "output_type": "stream",
          "text": [
            "Model: \"sequential_5\"\n",
            "_________________________________________________________________\n",
            "Layer (type)                 Output Shape              Param #   \n",
            "=================================================================\n",
            "time_distributed_2 (TimeDist (None, 5, 32)             289600    \n",
            "_________________________________________________________________\n",
            "lstm_2 (LSTM)                (None, 256)               295936    \n",
            "_________________________________________________________________\n",
            "dense_6 (Dense)              (None, 128)               32896     \n",
            "_________________________________________________________________\n",
            "dense_7 (Dense)              (None, 64)                8256      \n",
            "_________________________________________________________________\n",
            "dense_8 (Dense)              (None, 2)                 130       \n",
            "=================================================================\n",
            "Total params: 626,818\n",
            "Trainable params: 626,818\n",
            "Non-trainable params: 0\n",
            "_________________________________________________________________\n"
          ],
          "name": "stdout"
        }
      ]
    },
    {
      "cell_type": "code",
      "metadata": {
        "id": "9CxPGofzzHdG",
        "outputId": "778eaf36-ecf8-4a39-c6f2-a441c79d3398",
        "colab": {
          "base_uri": "https://localhost:8080/"
        }
      },
      "source": [
        "#NB Frames=5,highly less complex model with many layers commented out,dataset<5 or frame_count<5\n",
        "EPOCHS=10\n",
        "callbacks = [\n",
        "keras.callbacks.ReduceLROnPlateau(verbose=1),\n",
        "keras.callbacks.ModelCheckpoint(\n",
        "    'chkp/weights.{epoch:02d}-{val_loss:.2f}.hdf5',\n",
        "    verbose=1),\n",
        "]\n",
        "history=model.fit(\n",
        "train,\n",
        "validation_data=valid,\n",
        "verbose=1,\n",
        "epochs=EPOCHS,\n",
        "callbacks=callbacks\n",
        ")"
      ],
      "execution_count": null,
      "outputs": [
        {
          "output_type": "stream",
          "text": [
            "Epoch 1/10\n",
            " 5/76 [>.............................] - ETA: 9:47 - loss: 0.6749 - acc: 0.7000"
          ],
          "name": "stdout"
        },
        {
          "output_type": "stream",
          "text": [
            "Frame count is not OK for video /content/dataset/norm/Burglary098_x264.mp4, 2 total, 1 extracted\n"
          ],
          "name": "stderr"
        },
        {
          "output_type": "stream",
          "text": [
            "16/76 [=====>........................] - ETA: 9:00 - loss: 0.6967 - acc: 0.5906"
          ],
          "name": "stdout"
        },
        {
          "output_type": "stream",
          "text": [
            "Frame count is not OK for video /content/dataset/norm/Burglary048_x264.mp4, 0 total, 0 extracted\n"
          ],
          "name": "stderr"
        },
        {
          "output_type": "stream",
          "text": [
            "44/76 [================>.............] - ETA: 5:01 - loss: 0.6848 - acc: 0.6200"
          ],
          "name": "stdout"
        },
        {
          "output_type": "stream",
          "text": [
            "Frame count is not OK for video /content/dataset/norm/Burglary068_x264.mp4, 4 total, 4 extracted\n"
          ],
          "name": "stderr"
        },
        {
          "output_type": "stream",
          "text": [
            "50/76 [==================>...........] - ETA: 3:56 - loss: 0.6800 - acc: 0.6247"
          ],
          "name": "stdout"
        },
        {
          "output_type": "stream",
          "text": [
            "Frame count is not OK for video /content/dataset/norm/Burglary003_x264.mp4, 4 total, 3 extracted\n"
          ],
          "name": "stderr"
        },
        {
          "output_type": "stream",
          "text": [
            "55/76 [====================>.........] - ETA: 3:28 - loss: 0.6732 - acc: 0.6376"
          ],
          "name": "stdout"
        },
        {
          "output_type": "stream",
          "text": [
            "Frame count is not OK for video /content/dataset/norm/Stealing042_x264.mp4, 0 total, 0 extracted\n"
          ],
          "name": "stderr"
        },
        {
          "output_type": "stream",
          "text": [
            "59/76 [======================>.......] - ETA: 2:43 - loss: 0.6763 - acc: 0.6338"
          ],
          "name": "stdout"
        },
        {
          "output_type": "stream",
          "text": [
            "Frame count is not OK for video /content/dataset/norm/Stealing071_x264.mp4, 2 total, 1 extracted\n"
          ],
          "name": "stderr"
        },
        {
          "output_type": "stream",
          "text": [
            "76/76 [==============================] - ETA: 0s - loss: 0.6811 - acc: 0.6130\n",
            "Epoch 00001: saving model to chkp/weights.01-0.68.hdf5\n",
            "76/76 [==============================] - 1080s 14s/step - loss: 0.6811 - acc: 0.6130 - val_loss: 0.6779 - val_acc: 0.6149\n",
            "Epoch 2/10\n",
            "22/76 [=======>......................] - ETA: 37s - loss: 0.6628 - acc: 0.6534"
          ],
          "name": "stdout"
        },
        {
          "output_type": "stream",
          "text": [
            "Frame count is not OK for video /content/dataset/norm/Burglary003_x264.mp4, 4 total, 3 extracted\n"
          ],
          "name": "stderr"
        },
        {
          "output_type": "stream",
          "text": [
            "34/76 [============>.................] - ETA: 28s - loss: 0.6791 - acc: 0.6089"
          ],
          "name": "stdout"
        },
        {
          "output_type": "stream",
          "text": [
            "Frame count is not OK for video /content/dataset/norm/Burglary098_x264.mp4, 2 total, 1 extracted\n"
          ],
          "name": "stderr"
        },
        {
          "output_type": "stream",
          "text": [
            "39/76 [==============>...............] - ETA: 24s - loss: 0.6740 - acc: 0.6194"
          ],
          "name": "stdout"
        },
        {
          "output_type": "stream",
          "text": [
            "Frame count is not OK for video /content/dataset/norm/Burglary068_x264.mp4, 4 total, 4 extracted\n",
            "Frame count is not OK for video /content/dataset/norm/Burglary048_x264.mp4, 0 total, 0 extracted\n"
          ],
          "name": "stderr"
        },
        {
          "output_type": "stream",
          "text": [
            "\b\b\b\b\b\b\b\b\b\b\b\b\b\b\b\b\b\b\b\b\b\b\b\b\b\b\b\b\b\b\b\b\b\b\b\b\b\b\b\b\b\b\b\b\b\b\b\b\b\b\b\b\b\b\b\b\b\b\b\b\b\b\b\b\b\b\b\b\b\b\b\b\b\b\b\b\b\b\r40/76 [==============>...............] - ETA: 25s - loss: 0.6723 - acc: 0.6234"
          ],
          "name": "stdout"
        },
        {
          "output_type": "stream",
          "text": [
            "Frame count is not OK for video /content/dataset/norm/Stealing042_x264.mp4, 0 total, 0 extracted\n"
          ],
          "name": "stderr"
        },
        {
          "output_type": "stream",
          "text": [
            "53/76 [===================>..........] - ETA: 15s - loss: 0.6715 - acc: 0.6205"
          ],
          "name": "stdout"
        },
        {
          "output_type": "stream",
          "text": [
            "Frame count is not OK for video /content/dataset/norm/Stealing071_x264.mp4, 2 total, 1 extracted\n"
          ],
          "name": "stderr"
        },
        {
          "output_type": "stream",
          "text": [
            "76/76 [==============================] - ETA: 0s - loss: 0.6737 - acc: 0.6113\n",
            "Epoch 00002: saving model to chkp/weights.02-0.66.hdf5\n",
            "76/76 [==============================] - 55s 720ms/step - loss: 0.6737 - acc: 0.6113 - val_loss: 0.6648 - val_acc: 0.6216\n",
            "Epoch 3/10\n",
            " 3/76 [>.............................] - ETA: 28s - loss: 0.6790 - acc: 0.5833"
          ],
          "name": "stdout"
        },
        {
          "output_type": "stream",
          "text": [
            "Frame count is not OK for video /content/dataset/norm/Burglary098_x264.mp4, 2 total, 1 extracted\n"
          ],
          "name": "stderr"
        },
        {
          "output_type": "stream",
          "text": [
            "28/76 [==========>...................] - ETA: 27s - loss: 0.6716 - acc: 0.6099"
          ],
          "name": "stdout"
        },
        {
          "output_type": "stream",
          "text": [
            "Frame count is not OK for video /content/dataset/norm/Burglary048_x264.mp4, 0 total, 0 extracted\n"
          ],
          "name": "stderr"
        },
        {
          "output_type": "stream",
          "text": [
            "50/76 [==================>...........] - ETA: 15s - loss: 0.6591 - acc: 0.6357"
          ],
          "name": "stdout"
        },
        {
          "output_type": "stream",
          "text": [
            "Frame count is not OK for video /content/dataset/norm/Stealing042_x264.mp4, 0 total, 0 extracted\n"
          ],
          "name": "stderr"
        },
        {
          "output_type": "stream",
          "text": [
            "60/76 [======================>.......] - ETA: 9s - loss: 0.6629 - acc: 0.6310 "
          ],
          "name": "stdout"
        },
        {
          "output_type": "stream",
          "text": [
            "Frame count is not OK for video /content/dataset/norm/Burglary068_x264.mp4, 4 total, 4 extracted\n"
          ],
          "name": "stderr"
        },
        {
          "output_type": "stream",
          "text": [
            "64/76 [========================>.....] - ETA: 7s - loss: 0.6645 - acc: 0.6280"
          ],
          "name": "stdout"
        },
        {
          "output_type": "stream",
          "text": [
            "Frame count is not OK for video /content/dataset/norm/Stealing071_x264.mp4, 2 total, 1 extracted\n"
          ],
          "name": "stderr"
        },
        {
          "output_type": "stream",
          "text": [
            "67/76 [=========================>....] - ETA: 5s - loss: 0.6648 - acc: 0.6271"
          ],
          "name": "stdout"
        },
        {
          "output_type": "stream",
          "text": [
            "Frame count is not OK for video /content/dataset/norm/Burglary003_x264.mp4, 4 total, 3 extracted\n"
          ],
          "name": "stderr"
        },
        {
          "output_type": "stream",
          "text": [
            "76/76 [==============================] - ETA: 0s - loss: 0.6699 - acc: 0.6146\n",
            "Epoch 00003: saving model to chkp/weights.03-0.67.hdf5\n",
            "76/76 [==============================] - 49s 650ms/step - loss: 0.6699 - acc: 0.6146 - val_loss: 0.6689 - val_acc: 0.6182\n",
            "Epoch 4/10\n",
            "13/76 [====>.........................] - ETA: 35s - loss: 0.6706 - acc: 0.6154"
          ],
          "name": "stdout"
        },
        {
          "output_type": "stream",
          "text": [
            "Frame count is not OK for video /content/dataset/norm/Burglary068_x264.mp4, 4 total, 4 extracted\n"
          ],
          "name": "stderr"
        },
        {
          "output_type": "stream",
          "text": [
            "25/76 [========>.....................] - ETA: 30s - loss: 0.6634 - acc: 0.6382"
          ],
          "name": "stdout"
        },
        {
          "output_type": "stream",
          "text": [
            "Frame count is not OK for video /content/dataset/norm/Burglary003_x264.mp4, 4 total, 3 extracted\n"
          ],
          "name": "stderr"
        },
        {
          "output_type": "stream",
          "text": [
            "38/76 [==============>...............] - ETA: 22s - loss: 0.6701 - acc: 0.6159"
          ],
          "name": "stdout"
        },
        {
          "output_type": "stream",
          "text": [
            "Frame count is not OK for video /content/dataset/norm/Stealing042_x264.mp4, 0 total, 0 extracted\n"
          ],
          "name": "stderr"
        },
        {
          "output_type": "stream",
          "text": [
            "55/76 [====================>.........] - ETA: 12s - loss: 0.6685 - acc: 0.6178"
          ],
          "name": "stdout"
        },
        {
          "output_type": "stream",
          "text": [
            "Frame count is not OK for video /content/dataset/norm/Burglary048_x264.mp4, 0 total, 0 extracted\n"
          ],
          "name": "stderr"
        },
        {
          "output_type": "stream",
          "text": [
            "70/76 [==========================>...] - ETA: 3s - loss: 0.6706 - acc: 0.6115"
          ],
          "name": "stdout"
        },
        {
          "output_type": "stream",
          "text": [
            "Frame count is not OK for video /content/dataset/norm/Burglary098_x264.mp4, 2 total, 1 extracted\n"
          ],
          "name": "stderr"
        },
        {
          "output_type": "stream",
          "text": [
            "74/76 [============================>.] - ETA: 1s - loss: 0.6712 - acc: 0.6099"
          ],
          "name": "stdout"
        },
        {
          "output_type": "stream",
          "text": [
            "Frame count is not OK for video /content/dataset/norm/Stealing071_x264.mp4, 2 total, 1 extracted\n"
          ],
          "name": "stderr"
        },
        {
          "output_type": "stream",
          "text": [
            "76/76 [==============================] - ETA: 0s - loss: 0.6698 - acc: 0.6130\n",
            "Epoch 00004: saving model to chkp/weights.04-0.66.hdf5\n",
            "76/76 [==============================] - 50s 652ms/step - loss: 0.6698 - acc: 0.6130 - val_loss: 0.6641 - val_acc: 0.6216\n",
            "Epoch 5/10\n",
            "26/76 [=========>....................] - ETA: 28s - loss: 0.6674 - acc: 0.6154"
          ],
          "name": "stdout"
        },
        {
          "output_type": "stream",
          "text": [
            "Frame count is not OK for video /content/dataset/norm/Stealing042_x264.mp4, 0 total, 0 extracted\n"
          ],
          "name": "stderr"
        },
        {
          "output_type": "stream",
          "text": [
            "30/76 [==========>...................] - ETA: 26s - loss: 0.6657 - acc: 0.6192"
          ],
          "name": "stdout"
        },
        {
          "output_type": "stream",
          "text": [
            "Frame count is not OK for video /content/dataset/norm/Stealing071_x264.mp4, 2 total, 1 extracted\n"
          ],
          "name": "stderr"
        },
        {
          "output_type": "stream",
          "text": [
            "38/76 [==============>...............] - ETA: 22s - loss: 0.6590 - acc: 0.6325"
          ],
          "name": "stdout"
        },
        {
          "output_type": "stream",
          "text": [
            "Frame count is not OK for video /content/dataset/norm/Burglary098_x264.mp4, 2 total, 1 extracted\n"
          ],
          "name": "stderr"
        },
        {
          "output_type": "stream",
          "text": [
            "40/76 [==============>...............] - ETA: 21s - loss: 0.6614 - acc: 0.6278"
          ],
          "name": "stdout"
        },
        {
          "output_type": "stream",
          "text": [
            "Frame count is not OK for video /content/dataset/norm/Burglary068_x264.mp4, 4 total, 4 extracted\n"
          ],
          "name": "stderr"
        },
        {
          "output_type": "stream",
          "text": [
            "45/76 [================>.............] - ETA: 18s - loss: 0.6637 - acc: 0.6236"
          ],
          "name": "stdout"
        },
        {
          "output_type": "stream",
          "text": [
            "Frame count is not OK for video /content/dataset/norm/Burglary048_x264.mp4, 0 total, 0 extracted\n"
          ],
          "name": "stderr"
        },
        {
          "output_type": "stream",
          "text": [
            "72/76 [===========================>..] - ETA: 2s - loss: 0.6682 - acc: 0.6147"
          ],
          "name": "stdout"
        },
        {
          "output_type": "stream",
          "text": [
            "Frame count is not OK for video /content/dataset/norm/Burglary003_x264.mp4, 4 total, 3 extracted\n"
          ],
          "name": "stderr"
        },
        {
          "output_type": "stream",
          "text": [
            "76/76 [==============================] - ETA: 0s - loss: 0.6695 - acc: 0.6113\n",
            "Epoch 00005: saving model to chkp/weights.05-0.67.hdf5\n",
            "76/76 [==============================] - 49s 645ms/step - loss: 0.6695 - acc: 0.6113 - val_loss: 0.6659 - val_acc: 0.6182\n",
            "Epoch 6/10\n",
            "12/76 [===>..........................] - ETA: 34s - loss: 0.6793 - acc: 0.5833"
          ],
          "name": "stdout"
        },
        {
          "output_type": "stream",
          "text": [
            "Frame count is not OK for video /content/dataset/norm/Stealing071_x264.mp4, 2 total, 1 extracted\n"
          ],
          "name": "stderr"
        },
        {
          "output_type": "stream",
          "text": [
            "15/76 [====>.........................] - ETA: 35s - loss: 0.6747 - acc: 0.5966"
          ],
          "name": "stdout"
        },
        {
          "output_type": "stream",
          "text": [
            "Frame count is not OK for video /content/dataset/norm/Burglary098_x264.mp4, 2 total, 1 extracted\n",
            "Frame count is not OK for video /content/dataset/norm/Burglary003_x264.mp4, 4 total, 3 extracted\n"
          ],
          "name": "stderr"
        },
        {
          "output_type": "stream",
          "text": [
            "\b\b\b\b\b\b\b\b\b\b\b\b\b\b\b\b\b\b\b\b\b\b\b\b\b\b\b\b\b\b\b\b\b\b\b\b\b\b\b\b\b\b\b\b\b\b\b\b\b\b\b\b\b\b\b\b\b\b\b\b\b\b\b\b\b\b\b\b\b\b\b\b\b\b\b\b\b\b\r16/76 [=====>........................] - ETA: 35s - loss: 0.6708 - acc: 0.6080"
          ],
          "name": "stdout"
        },
        {
          "output_type": "stream",
          "text": [
            "Frame count is not OK for video /content/dataset/norm/Burglary068_x264.mp4, 4 total, 4 extracted\n"
          ],
          "name": "stderr"
        },
        {
          "output_type": "stream",
          "text": [
            "27/76 [=========>....................] - ETA: 29s - loss: 0.6654 - acc: 0.6226"
          ],
          "name": "stdout"
        },
        {
          "output_type": "stream",
          "text": [
            "Frame count is not OK for video /content/dataset/norm/Stealing042_x264.mp4, 0 total, 0 extracted\n"
          ],
          "name": "stderr"
        },
        {
          "output_type": "stream",
          "text": [
            "61/76 [=======================>......] - ETA: 8s - loss: 0.6705 - acc: 0.6087"
          ],
          "name": "stdout"
        },
        {
          "output_type": "stream",
          "text": [
            "Frame count is not OK for video /content/dataset/norm/Burglary048_x264.mp4, 0 total, 0 extracted\n"
          ],
          "name": "stderr"
        },
        {
          "output_type": "stream",
          "text": [
            "76/76 [==============================] - ETA: 0s - loss: 0.6695 - acc: 0.6113\n",
            "Epoch 00006: saving model to chkp/weights.06-0.67.hdf5\n",
            "76/76 [==============================] - 49s 645ms/step - loss: 0.6695 - acc: 0.6113 - val_loss: 0.6671 - val_acc: 0.6149\n",
            "Epoch 7/10\n",
            "12/76 [===>..........................] - ETA: 34s - loss: 0.6547 - acc: 0.6458"
          ],
          "name": "stdout"
        },
        {
          "output_type": "stream",
          "text": [
            "Frame count is not OK for video /content/dataset/norm/Stealing071_x264.mp4, 2 total, 1 extracted\n"
          ],
          "name": "stderr"
        },
        {
          "output_type": "stream",
          "text": [
            "37/76 [=============>................] - ETA: 22s - loss: 0.6433 - acc: 0.6610"
          ],
          "name": "stdout"
        },
        {
          "output_type": "stream",
          "text": [
            "Frame count is not OK for video /content/dataset/norm/Stealing042_x264.mp4, 0 total, 0 extracted\n"
          ],
          "name": "stderr"
        },
        {
          "output_type": "stream",
          "text": [
            "51/76 [===================>..........] - ETA: 14s - loss: 0.6630 - acc: 0.6281"
          ],
          "name": "stdout"
        },
        {
          "output_type": "stream",
          "text": [
            "Frame count is not OK for video /content/dataset/norm/Burglary048_x264.mp4, 0 total, 0 extracted\n"
          ],
          "name": "stderr"
        },
        {
          "output_type": "stream",
          "text": [
            "68/76 [=========================>....] - ETA: 4s - loss: 0.6656 - acc: 0.6211"
          ],
          "name": "stdout"
        },
        {
          "output_type": "stream",
          "text": [
            "Frame count is not OK for video /content/dataset/norm/Burglary003_x264.mp4, 4 total, 3 extracted\n"
          ],
          "name": "stderr"
        },
        {
          "output_type": "stream",
          "text": [
            "\b\b\b\b\b\b\b\b\b\b\b\b\b\b\b\b\b\b\b\b\b\b\b\b\b\b\b\b\b\b\b\b\b\b\b\b\b\b\b\b\b\b\b\b\b\b\b\b\b\b\b\b\b\b\b\b\b\b\b\b\b\b\b\b\b\b\b\b\b\b\b\b\b\b\b\b\b\r69/76 [==========================>...] - ETA: 4s - loss: 0.6675 - acc: 0.6168"
          ],
          "name": "stdout"
        },
        {
          "output_type": "stream",
          "text": [
            "Frame count is not OK for video /content/dataset/norm/Burglary098_x264.mp4, 2 total, 1 extracted\n"
          ],
          "name": "stderr"
        },
        {
          "output_type": "stream",
          "text": [
            "73/76 [===========================>..] - ETA: 1s - loss: 0.6697 - acc: 0.6114"
          ],
          "name": "stdout"
        },
        {
          "output_type": "stream",
          "text": [
            "Frame count is not OK for video /content/dataset/norm/Burglary068_x264.mp4, 4 total, 4 extracted\n"
          ],
          "name": "stderr"
        },
        {
          "output_type": "stream",
          "text": [
            "76/76 [==============================] - ETA: 0s - loss: 0.6690 - acc: 0.6130\n",
            "Epoch 00007: saving model to chkp/weights.07-0.67.hdf5\n",
            "76/76 [==============================] - 49s 641ms/step - loss: 0.6690 - acc: 0.6130 - val_loss: 0.6661 - val_acc: 0.6182\n",
            "Epoch 8/10\n",
            "15/76 [====>.........................] - ETA: 33s - loss: 0.6855 - acc: 0.5667"
          ],
          "name": "stdout"
        },
        {
          "output_type": "stream",
          "text": [
            "Frame count is not OK for video /content/dataset/norm/Stealing071_x264.mp4, 2 total, 1 extracted\n"
          ],
          "name": "stderr"
        },
        {
          "output_type": "stream",
          "text": [
            "34/76 [============>.................] - ETA: 24s - loss: 0.6735 - acc: 0.6015"
          ],
          "name": "stdout"
        },
        {
          "output_type": "stream",
          "text": [
            "Frame count is not OK for video /content/dataset/norm/Stealing042_x264.mp4, 0 total, 0 extracted\n"
          ],
          "name": "stderr"
        },
        {
          "output_type": "stream",
          "text": [
            "44/76 [================>.............] - ETA: 18s - loss: 0.6696 - acc: 0.6114"
          ],
          "name": "stdout"
        },
        {
          "output_type": "stream",
          "text": [
            "Frame count is not OK for video /content/dataset/norm/Burglary068_x264.mp4, 4 total, 4 extracted\n"
          ],
          "name": "stderr"
        },
        {
          "output_type": "stream",
          "text": [
            "56/76 [=====================>........] - ETA: 11s - loss: 0.6689 - acc: 0.6135"
          ],
          "name": "stdout"
        },
        {
          "output_type": "stream",
          "text": [
            "Frame count is not OK for video /content/dataset/norm/Burglary003_x264.mp4, 4 total, 3 extracted\n"
          ],
          "name": "stderr"
        },
        {
          "output_type": "stream",
          "text": [
            "60/76 [======================>.......] - ETA: 9s - loss: 0.6698 - acc: 0.6113 "
          ],
          "name": "stdout"
        },
        {
          "output_type": "stream",
          "text": [
            "Frame count is not OK for video /content/dataset/norm/Burglary098_x264.mp4, 2 total, 1 extracted\n"
          ],
          "name": "stderr"
        },
        {
          "output_type": "stream",
          "text": [
            "63/76 [=======================>......] - ETA: 7s - loss: 0.6670 - acc: 0.6172"
          ],
          "name": "stdout"
        },
        {
          "output_type": "stream",
          "text": [
            "Frame count is not OK for video /content/dataset/norm/Burglary048_x264.mp4, 0 total, 0 extracted\n"
          ],
          "name": "stderr"
        },
        {
          "output_type": "stream",
          "text": [
            "76/76 [==============================] - ETA: 0s - loss: 0.6688 - acc: 0.6130\n",
            "Epoch 00008: saving model to chkp/weights.08-0.67.hdf5\n",
            "76/76 [==============================] - 49s 647ms/step - loss: 0.6688 - acc: 0.6130 - val_loss: 0.6665 - val_acc: 0.6149\n",
            "Epoch 9/10\n",
            "12/76 [===>..........................] - ETA: 34s - loss: 0.6419 - acc: 0.6667"
          ],
          "name": "stdout"
        },
        {
          "output_type": "stream",
          "text": [
            "Frame count is not OK for video /content/dataset/norm/Stealing071_x264.mp4, 2 total, 1 extracted\n"
          ],
          "name": "stderr"
        },
        {
          "output_type": "stream",
          "text": [
            "14/76 [====>.........................] - ETA: 34s - loss: 0.6323 - acc: 0.6847"
          ],
          "name": "stdout"
        },
        {
          "output_type": "stream",
          "text": [
            "Frame count is not OK for video /content/dataset/norm/Burglary003_x264.mp4, 4 total, 3 extracted\n"
          ],
          "name": "stderr"
        },
        {
          "output_type": "stream",
          "text": [
            "33/76 [============>.................] - ETA: 25s - loss: 0.6487 - acc: 0.6527"
          ],
          "name": "stdout"
        },
        {
          "output_type": "stream",
          "text": [
            "Frame count is not OK for video /content/dataset/norm/Burglary098_x264.mp4, 2 total, 1 extracted\n"
          ],
          "name": "stderr"
        },
        {
          "output_type": "stream",
          "text": [
            "37/76 [=============>................] - ETA: 23s - loss: 0.6490 - acc: 0.6519"
          ],
          "name": "stdout"
        },
        {
          "output_type": "stream",
          "text": [
            "Frame count is not OK for video /content/dataset/norm/Burglary068_x264.mp4, 4 total, 4 extracted\n"
          ],
          "name": "stderr"
        },
        {
          "output_type": "stream",
          "text": [
            "51/76 [===================>..........] - ETA: 14s - loss: 0.6650 - acc: 0.6213"
          ],
          "name": "stdout"
        },
        {
          "output_type": "stream",
          "text": [
            "Frame count is not OK for video /content/dataset/norm/Stealing042_x264.mp4, 0 total, 0 extracted\n"
          ],
          "name": "stderr"
        },
        {
          "output_type": "stream",
          "text": [
            "71/76 [===========================>..] - ETA: 3s - loss: 0.6690 - acc: 0.6110"
          ],
          "name": "stdout"
        },
        {
          "output_type": "stream",
          "text": [
            "Frame count is not OK for video /content/dataset/norm/Burglary048_x264.mp4, 0 total, 0 extracted\n"
          ],
          "name": "stderr"
        },
        {
          "output_type": "stream",
          "text": [
            "76/76 [==============================] - ETA: 0s - loss: 0.6682 - acc: 0.6130\n",
            "Epoch 00009: saving model to chkp/weights.09-0.67.hdf5\n",
            "76/76 [==============================] - 50s 652ms/step - loss: 0.6682 - acc: 0.6130 - val_loss: 0.6661 - val_acc: 0.6182\n",
            "Epoch 10/10\n",
            "11/76 [===>..........................] - ETA: 35s - loss: 0.6459 - acc: 0.6705"
          ],
          "name": "stdout"
        },
        {
          "output_type": "stream",
          "text": [
            "Frame count is not OK for video /content/dataset/norm/Burglary048_x264.mp4, 0 total, 0 extracted\n"
          ],
          "name": "stderr"
        },
        {
          "output_type": "stream",
          "text": [
            "17/76 [=====>........................] - ETA: 33s - loss: 0.6590 - acc: 0.6370"
          ],
          "name": "stdout"
        },
        {
          "output_type": "stream",
          "text": [
            "Frame count is not OK for video /content/dataset/norm/Burglary098_x264.mp4, 2 total, 1 extracted\n"
          ],
          "name": "stderr"
        },
        {
          "output_type": "stream",
          "text": [
            "23/76 [========>.....................] - ETA: 31s - loss: 0.6562 - acc: 0.6429"
          ],
          "name": "stdout"
        },
        {
          "output_type": "stream",
          "text": [
            "Frame count is not OK for video /content/dataset/norm/Burglary003_x264.mp4, 4 total, 3 extracted\n"
          ],
          "name": "stderr"
        },
        {
          "output_type": "stream",
          "text": [
            "50/76 [==================>...........] - ETA: 15s - loss: 0.6821 - acc: 0.5793"
          ],
          "name": "stdout"
        },
        {
          "output_type": "stream",
          "text": [
            "Frame count is not OK for video /content/dataset/norm/Stealing042_x264.mp4, 0 total, 0 extracted\n"
          ],
          "name": "stderr"
        },
        {
          "output_type": "stream",
          "text": [
            "63/76 [=======================>......] - ETA: 7s - loss: 0.6750 - acc: 0.6020"
          ],
          "name": "stdout"
        },
        {
          "output_type": "stream",
          "text": [
            "Frame count is not OK for video /content/dataset/norm/Burglary068_x264.mp4, 4 total, 4 extracted\n",
            "Frame count is not OK for video /content/dataset/norm/Stealing071_x264.mp4, 2 total, 1 extracted\n"
          ],
          "name": "stderr"
        },
        {
          "output_type": "stream",
          "text": [
            "76/76 [==============================] - ETA: 0s - loss: 0.6707 - acc: 0.6130\n",
            "Epoch 00010: saving model to chkp/weights.10-0.67.hdf5\n",
            "76/76 [==============================] - 49s 648ms/step - loss: 0.6707 - acc: 0.6130 - val_loss: 0.6654 - val_acc: 0.6182\n"
          ],
          "name": "stdout"
        }
      ]
    },
    {
      "cell_type": "code",
      "metadata": {
        "id": "OmhNijGbAsJm",
        "outputId": "da6fac02-9901-4d05-ce06-8f17bd2b85ac",
        "colab": {
          "base_uri": "https://localhost:8080/"
        }
      },
      "source": [
        "model.evaluate(valid)"
      ],
      "execution_count": null,
      "outputs": [
        {
          "output_type": "stream",
          "text": [
            "37/37 [==============================] - 4s 96ms/step - loss: 0.6668 - acc: 0.6149\n"
          ],
          "name": "stdout"
        },
        {
          "output_type": "execute_result",
          "data": {
            "text/plain": [
              "[0.6668440699577332, 0.6148648858070374]"
            ]
          },
          "metadata": {
            "tags": []
          },
          "execution_count": 48
        }
      ]
    },
    {
      "cell_type": "code",
      "metadata": {
        "id": "SGqDfZbw_O9a"
      },
      "source": [
        "from sklearn.metrics import classification_report, confusion_matrix,accuracy_score"
      ],
      "execution_count": null,
      "outputs": []
    },
    {
      "cell_type": "code",
      "metadata": {
        "id": "oSmsuVgnBf7U",
        "outputId": "f3bc828b-937e-45bd-b708-8b3f730dceb9",
        "colab": {
          "base_uri": "https://localhost:8080/"
        }
      },
      "source": [
        "temp=list(map(lambda x:x.strip('/content/dataset'),valid.files))\n",
        "temp=list(map(lambda x:x.split('/')[0],temp))\n",
        "temp=list(map(lambda x:\"no\"+x if x=='rm' else x,temp))\n",
        "temp=list(map(lambda x:labels.index(x),temp))\n",
        "# len(temp)\n",
        "len(temp)"
      ],
      "execution_count": null,
      "outputs": [
        {
          "output_type": "execute_result",
          "data": {
            "text/plain": [
              "298"
            ]
          },
          "metadata": {
            "tags": []
          },
          "execution_count": 50
        }
      ]
    },
    {
      "cell_type": "code",
      "metadata": {
        "id": "yyX8YotZA86a",
        "outputId": "aeffc8f4-6990-4a75-fbd4-a27abf2f111b",
        "colab": {
          "base_uri": "https://localhost:8080/"
        }
      },
      "source": [
        "#NB Frames=5,highly less complex model with many layers commented out,dataset<5 or frame_count<5\n",
        "# batch_size=64\n",
        "# y=model.predict(valid)\n",
        "# y_pred = np.argmax(y, axis=1)\n",
        "print(\"confusion Matrix\")\n",
        "print(confusion_matrix(temp[:-2], y_pred))\n",
        "print('Classification Report')\n",
        "target_names = labels\n",
        "print(classification_report(temp[:-2], y_pred, target_names=target_names))\n",
        "print(accuracy_score(temp[:-2],y_pred))"
      ],
      "execution_count": null,
      "outputs": [
        {
          "output_type": "stream",
          "text": [
            "confusion Matrix\n",
            "[[  0 114]\n",
            " [  0 182]]\n",
            "Classification Report\n",
            "              precision    recall  f1-score   support\n",
            "\n",
            "       Crime       0.00      0.00      0.00       114\n",
            "        norm       0.61      1.00      0.76       182\n",
            "\n",
            "    accuracy                           0.61       296\n",
            "   macro avg       0.31      0.50      0.38       296\n",
            "weighted avg       0.38      0.61      0.47       296\n",
            "\n",
            "0.6148648648648649\n"
          ],
          "name": "stdout"
        },
        {
          "output_type": "stream",
          "text": [
            "/usr/local/lib/python3.6/dist-packages/sklearn/metrics/_classification.py:1272: UndefinedMetricWarning: Precision and F-score are ill-defined and being set to 0.0 in labels with no predicted samples. Use `zero_division` parameter to control this behavior.\n",
            "  _warn_prf(average, modifier, msg_start, len(result))\n"
          ],
          "name": "stderr"
        }
      ]
    },
    {
      "cell_type": "markdown",
      "metadata": {
        "id": "Zv5oUUYDOSvx"
      },
      "source": [
        "# Number of Frames:20"
      ]
    },
    {
      "cell_type": "code",
      "metadata": {
        "id": "759NOoVGIxFW"
      },
      "source": [
        "import cv2\n",
        "for cls in labels:\n",
        "  temp=os.listdir(\"/content/dataset/\"+cls)\n",
        "  for vid in temp:  \n",
        "    try:\n",
        "      tempy=os.path.join(\"/content/dataset\",cls,vid)\n",
        "      cap = cv2.VideoCapture(\"/content/dataset/\"+cls+\"/\"+vid)\n",
        "      fps = cap.get(cv2.CAP_PROP_FPS)      # OpenCV2 version 2 used \"CV_CAP_PROP_FPS\"\n",
        "      frame_count = int(cap.get(cv2.CAP_PROP_FRAME_COUNT))\n",
        "      # print(tempy,frame_count)\n",
        "      # if(fps!=0):\n",
        "      duration = frame_count/fps\n",
        "      if(duration<10 or frame_count<20):\n",
        "        os.remove(tempy)\n",
        "        print(\"deleted\"+(tempy))\n",
        "      # else:\n",
        "      #   os.remove(tempy)\n",
        "    except:\n",
        "      os.remove(tempy)\n",
        "      print(\"deleted\"+(tempy))\n",
        "    cap.release()"
      ],
      "execution_count": 8,
      "outputs": []
    },
    {
      "cell_type": "code",
      "metadata": {
        "id": "_hWaYPeWIxFe",
        "outputId": "2cbe3b6e-9126-4744-8e41-1903c5d7c7ea",
        "colab": {
          "base_uri": "https://localhost:8080/"
        }
      },
      "source": [
        "import os\n",
        "import glob\n",
        "import keras\n",
        "classes=labels\n",
        "classes.sort()# some global params\n",
        "SIZE = (320, 240)\n",
        "CHANNELS = 3\n",
        "NBFRAME = 20\n",
        "BS = 1# pattern to get videos and classes\n",
        "glob_pattern='/content/dataset/{classname}/*.mp4'# for data augmentation\n",
        "data_aug = keras.preprocessing.image.ImageDataGenerator(\n",
        "  zoom_range=.1,\n",
        "  horizontal_flip=True,\n",
        "  rotation_range=8,\n",
        "  width_shift_range=.2,\n",
        "  height_shift_range=.2)# Create video frame generator\n",
        "train = VideoFrameGenerator(\n",
        "  classes=classes, \n",
        "  glob_pattern=glob_pattern,\n",
        "  nb_frames=NBFRAME,\n",
        "  split=.33, \n",
        "  shuffle=True,\n",
        "  batch_size=BS,\n",
        "  target_shape=SIZE,\n",
        "  nb_channel=CHANNELS,\n",
        "  transformation=data_aug,use_frame_cache=True)"
      ],
      "execution_count": 9,
      "outputs": [
        {
          "output_type": "stream",
          "text": [
            "Warning, `split` argument is replaced by `split_val`, please condider to change your source code.The `split` argument will be removed in future releases.\n"
          ],
          "name": "stderr"
        },
        {
          "output_type": "stream",
          "text": [
            "class Crime, validation count: 65, train count: 134\n",
            "class norm, validation count: 50, train count: 103\n",
            "Total data: 2 classes for 237 files for train\n"
          ],
          "name": "stdout"
        }
      ]
    },
    {
      "cell_type": "code",
      "metadata": {
        "id": "AVwb7j8lIxFm"
      },
      "source": [
        "from keras.layers import Conv2D, BatchNormalization, MaxPool2D, GlobalMaxPool2D\n",
        "def build_convnet(shape=(320, 240, 3)):\n",
        "  momentum = .9\n",
        "  model = keras.Sequential()\n",
        "  model.add(Conv2D(128, (3,3), input_shape=shape,\n",
        "      padding='same', activation='relu'))\n",
        "  model.add(Conv2D(128, (3,3), padding='same', activation='relu'))\n",
        "  model.add(BatchNormalization(momentum=momentum))\n",
        "  \n",
        "  model.add(MaxPool2D())\n",
        "  \n",
        "  model.add(Conv2D(96, (3,3), padding='same', activation='relu'))\n",
        "  model.add(Conv2D(96, (3,3), padding='same', activation='relu'))\n",
        "  # model.add(BatchNormalization(momentum=momentum))\n",
        "  \n",
        "  model.add(MaxPool2D())\n",
        "  \n",
        "  model.add(Conv2D(64, (3,3), padding='same', activation='relu'))\n",
        "  model.add(Conv2D(64, (3,3), padding='same', activation='relu'))\n",
        "  # model.add(BatchNormalization(momentum=momentum))\n",
        "  \n",
        "  model.add(MaxPool2D())\n",
        "  \n",
        "  model.add(Conv2D(32, (3,3), padding='same', activation='relu'))\n",
        "  model.add(Conv2D(32, (3,3), padding='same', activation='relu'))\n",
        "  # model.add(BatchNormalization(momentum=momentum))\n",
        "  \n",
        "  # flatten...\n",
        "  model.add(GlobalMaxPool2D())\n",
        "  return model"
      ],
      "execution_count": 10,
      "outputs": []
    },
    {
      "cell_type": "code",
      "metadata": {
        "id": "w3SW4lDkIxFs"
      },
      "source": [
        "from keras.layers import TimeDistributed, GRU, Dense, Dropout,LSTM\n",
        "def action_model(shape=(40, 320, 240, 3), nbout=1):\n",
        "  # Create our convnet with (320, 240, 3) input shape\n",
        "  convnet = build_convnet(shape[1:])\n",
        "  \n",
        "  # then create our final model\n",
        "  model = keras.Sequential()    # add the convnet with (5, 112, 112, 3) shape\n",
        "  model.add(TimeDistributed(convnet, input_shape=shape))    # here, you can also use GRU or LSTM\n",
        "  model.add(LSTM(256))    # and finally, we make a decision network\n",
        "  # model.add(Dense(128, activation='relu'))\n",
        "  # model.add(Dropout(.5))\n",
        "  # model.add(Dense(128, activation='relu'))\n",
        "  # model.add(Dropout(.5))\n",
        "  model.add(Dense(128, activation='relu'))\n",
        "  # model.add(Dropout(.5))\n",
        "  model.add(Dense(64, activation='relu'))\n",
        "  model.add(Dense(1, activation='sigmoid'))\n",
        "  return model"
      ],
      "execution_count": 12,
      "outputs": []
    },
    {
      "cell_type": "code",
      "metadata": {
        "id": "SYfPg0iGIxFx"
      },
      "source": [
        "INSHAPE=(NBFRAME,) + SIZE + (CHANNELS,) # (10, 320, 240, 3)\n",
        "model = action_model(INSHAPE, len(classes))\n",
        "optimizer = keras.optimizers.Adam(0.001)\n",
        "model.compile(\n",
        "    # optimizer,\n",
        "    \"adam\",\n",
        "    'categorical_crossentropy',\n",
        "    metrics=['acc']\n",
        ")"
      ],
      "execution_count": 13,
      "outputs": []
    },
    {
      "cell_type": "code",
      "metadata": {
        "id": "32WSZwPpIxF1",
        "outputId": "96d0141b-999a-40a7-e07b-abc49d20ffcc",
        "colab": {
          "base_uri": "https://localhost:8080/"
        }
      },
      "source": [
        "valid = train.get_validation_generator()\n",
        "test=train.get_test_generator()"
      ],
      "execution_count": 14,
      "outputs": [
        {
          "output_type": "stream",
          "text": [
            "Total data: 2 classes for 115 files for validation\n",
            "Total data: 2 classes for 0 files for test\n"
          ],
          "name": "stdout"
        }
      ]
    },
    {
      "cell_type": "code",
      "metadata": {
        "id": "rJe_dqNvIxF6",
        "outputId": "94ade7ef-67e2-4687-9a21-add193a91944",
        "colab": {
          "base_uri": "https://localhost:8080/"
        }
      },
      "source": [
        "model.summary()"
      ],
      "execution_count": 15,
      "outputs": [
        {
          "output_type": "stream",
          "text": [
            "Model: \"sequential_1\"\n",
            "_________________________________________________________________\n",
            "Layer (type)                 Output Shape              Param #   \n",
            "=================================================================\n",
            "time_distributed (TimeDistri (None, 20, 32)            465408    \n",
            "_________________________________________________________________\n",
            "lstm (LSTM)                  (None, 256)               295936    \n",
            "_________________________________________________________________\n",
            "dense (Dense)                (None, 128)               32896     \n",
            "_________________________________________________________________\n",
            "dense_1 (Dense)              (None, 64)                8256      \n",
            "_________________________________________________________________\n",
            "dense_2 (Dense)              (None, 1)                 65        \n",
            "=================================================================\n",
            "Total params: 802,561\n",
            "Trainable params: 802,305\n",
            "Non-trainable params: 256\n",
            "_________________________________________________________________\n"
          ],
          "name": "stdout"
        }
      ]
    },
    {
      "cell_type": "code",
      "metadata": {
        "id": "_CIEvnkDz-Sl",
        "outputId": "b4d81891-5b17-4879-dc9f-7cd1b8c7ff5c",
        "colab": {
          "base_uri": "https://localhost:8080/"
        }
      },
      "source": [
        "EPOCHS=10#\n",
        "#Slightly more complex Model frames and duration and frame_count<20,nbframes=20 ,without callbacks\n",
        "history=model.fit(\n",
        "train,\n",
        "validation_data=valid,\n",
        "verbose=1,\n",
        "epochs=EPOCHS\n",
        ")"
      ],
      "execution_count": 16,
      "outputs": [
        {
          "output_type": "stream",
          "text": [
            "Epoch 1/10\n",
            "237/237 [==============================] - 1168s 5s/step - loss: 1.1921e-07 - acc: 0.5000 - val_loss: 1.1921e-07 - val_acc: 0.5000\n",
            "Epoch 2/10\n",
            "237/237 [==============================] - 88s 371ms/step - loss: 1.1921e-07 - acc: 0.5000 - val_loss: 1.1921e-07 - val_acc: 0.5000\n",
            "Epoch 3/10\n",
            "237/237 [==============================] - 88s 372ms/step - loss: 1.1921e-07 - acc: 0.5000 - val_loss: 1.1921e-07 - val_acc: 0.5000\n",
            "Epoch 4/10\n",
            "237/237 [==============================] - 87s 368ms/step - loss: 1.1921e-07 - acc: 0.5000 - val_loss: 1.1921e-07 - val_acc: 0.5000\n",
            "Epoch 5/10\n",
            "237/237 [==============================] - 87s 368ms/step - loss: 1.1921e-07 - acc: 0.5000 - val_loss: 1.1921e-07 - val_acc: 0.5000\n",
            "Epoch 6/10\n",
            "237/237 [==============================] - 87s 367ms/step - loss: 1.1921e-07 - acc: 0.5000 - val_loss: 1.1921e-07 - val_acc: 0.5000\n",
            "Epoch 7/10\n",
            "237/237 [==============================] - 87s 368ms/step - loss: 1.1921e-07 - acc: 0.5000 - val_loss: 1.1921e-07 - val_acc: 0.5000\n",
            "Epoch 8/10\n",
            "237/237 [==============================] - 88s 370ms/step - loss: 1.1921e-07 - acc: 0.5000 - val_loss: 1.1921e-07 - val_acc: 0.5000\n",
            "Epoch 9/10\n",
            "237/237 [==============================] - 87s 366ms/step - loss: 1.1921e-07 - acc: 0.5000 - val_loss: 1.1921e-07 - val_acc: 0.5000\n",
            "Epoch 10/10\n",
            "237/237 [==============================] - 87s 368ms/step - loss: 1.1921e-07 - acc: 0.5000 - val_loss: 1.1921e-07 - val_acc: 0.5000\n"
          ],
          "name": "stdout"
        }
      ]
    },
    {
      "cell_type": "code",
      "metadata": {
        "id": "IIXQMelM0fXq",
        "outputId": "962ef679-0bf1-48f0-8190-ef71d79a351e",
        "colab": {
          "base_uri": "https://localhost:8080/"
        }
      },
      "source": [
        "from keras.models import model_from_json\n",
        "model_json = model.to_json()\n",
        "with open(\"/content/drive/My Drive/anomalyseg/model_less20-20sigmoid.json\", \"w\") as json_file:\n",
        "    json_file.write(model_json)\n",
        "# serialize weights to HDF5\n",
        "model.save_weights(\"/content/drive/My Drive/anomalyseg/model_less20-20sigmoid.h5\")\n",
        "print(\"Saved model to disk\")\n",
        " \n",
        "# later...\n",
        " \n",
        "# load json and create model\n",
        "json_file = open('/content/drive/My Drive/anomalyseg/model_less20-20sigmoid.json', 'r')\n",
        "loaded_model_json = json_file.read()\n",
        "json_file.close()\n",
        "loaded_model = model_from_json(loaded_model_json)\n",
        "# load weights into new model\n",
        "loaded_model.load_weights(\"/content/drive/My Drive/anomalyseg/model_less20-20sigmoid.h5\")\n",
        "print(\"Loaded model from disk\")"
      ],
      "execution_count": 17,
      "outputs": [
        {
          "output_type": "stream",
          "text": [
            "Saved model to disk\n",
            "Loaded model from disk\n"
          ],
          "name": "stdout"
        }
      ]
    },
    {
      "cell_type": "code",
      "metadata": {
        "id": "rBLZAkpQ0fX_"
      },
      "source": [
        "# model.save_weights('/content/drive/My Drive/anomalyseg/mod5fram')\n",
        "# from keras.models import load_model\n",
        "# xmodel=keras.models.load_model('/content/drive/My Drive/seg/model<5')\n",
        "# xmodel.summary()"
      ],
      "execution_count": null,
      "outputs": []
    },
    {
      "cell_type": "code",
      "metadata": {
        "id": "f3M3AcIR0fYR"
      },
      "source": [
        "loaded_model.compile(\n",
        "    # optimizer,\n",
        "    \"adam\",\n",
        "    'binary_crossentropy',\n",
        "    metrics=['acc']\n",
        ")\n",
        "loaded_model.evaluate(valid)"
      ],
      "execution_count": null,
      "outputs": []
    },
    {
      "cell_type": "code",
      "metadata": {
        "id": "TkHk_XMD0fYX"
      },
      "source": [
        "from sklearn.metrics import classification_report, confusion_matrix,accuracy_score"
      ],
      "execution_count": 18,
      "outputs": []
    },
    {
      "cell_type": "code",
      "metadata": {
        "id": "0dZ68Chs0fYd",
        "outputId": "822f8afb-ed89-4ca2-d6b7-420e810f9a81",
        "colab": {
          "base_uri": "https://localhost:8080/"
        }
      },
      "source": [
        "temp=list(map(lambda x:x.strip('/content/dataset'),valid.files))\n",
        "temp=list(map(lambda x:x.split('/')[0],temp))\n",
        "temp=list(map(lambda x:\"no\"+x if x=='rm' else x,temp))\n",
        "temp=list(map(lambda x:labels.index(x),temp))\n",
        "# len(temp)\n",
        "len(temp)"
      ],
      "execution_count": 19,
      "outputs": [
        {
          "output_type": "execute_result",
          "data": {
            "text/plain": [
              "115"
            ]
          },
          "metadata": {
            "tags": []
          },
          "execution_count": 19
        }
      ]
    },
    {
      "cell_type": "markdown",
      "metadata": {
        "id": "a2ZZczKBLhZG"
      },
      "source": [
        "## Sigmoid"
      ]
    },
    {
      "cell_type": "code",
      "metadata": {
        "id": "_gF4lxynLgfO",
        "outputId": "a7f2c3a0-ffd5-40fb-ce31-b519f9631e6e",
        "colab": {
          "base_uri": "https://localhost:8080/"
        }
      },
      "source": [
        "#Slightly more complex Model frames and duration and frame_count<20,nbframes=20 ,without callbacks\n",
        "# batch_size=64\n",
        "# y=model.predict(valid)\n",
        "y_pred = (y>0.498)*1\n",
        "print(\"confusion Matrix\")\n",
        "print(confusion_matrix(temp[:], y_pred))\n",
        "print('Classification Report')\n",
        "target_names = labels\n",
        "print(classification_report(temp[:], y_pred, target_names=target_names))\n",
        "print(accuracy_score(temp[:],y_pred))"
      ],
      "execution_count": 30,
      "outputs": [
        {
          "output_type": "stream",
          "text": [
            "confusion Matrix\n",
            "[[44 21]\n",
            " [31 19]]\n",
            "Classification Report\n",
            "              precision    recall  f1-score   support\n",
            "\n",
            "       Crime       0.59      0.68      0.63        65\n",
            "        norm       0.47      0.38      0.42        50\n",
            "\n",
            "    accuracy                           0.55       115\n",
            "   macro avg       0.53      0.53      0.53       115\n",
            "weighted avg       0.54      0.55      0.54       115\n",
            "\n",
            "0.5478260869565217\n"
          ],
          "name": "stdout"
        }
      ]
    },
    {
      "cell_type": "code",
      "metadata": {
        "id": "5xJrZoCFTaBZ",
        "outputId": "8d319a30-a1dd-49ae-dfb5-dbef6076fc04",
        "colab": {
          "base_uri": "https://localhost:8080/",
          "height": 573
        }
      },
      "source": [
        "plt.plot(history.history['acc'])\n",
        "plt.plot(history.history['val_acc'])\n",
        "plt.title('model accuracy')\n",
        "plt.ylabel('accuracy')\n",
        "plt.xlabel('epoch')\n",
        "plt.legend(['train', 'test'], loc='upper left')\n",
        "plt.show()\n",
        "# summarize history for loss\n",
        "plt.plot(history.history['loss'])\n",
        "plt.plot(history.history['val_loss'])\n",
        "plt.title('model loss')\n",
        "plt.ylabel('loss')\n",
        "plt.xlabel('epoch')\n",
        "plt.legend(['train', 'test'], loc='upper left')\n",
        "plt.show()"
      ],
      "execution_count": 21,
      "outputs": [
        {
          "output_type": "display_data",
          "data": {
            "image/png": "[encoded data removed]",
            "text/plain": [
              "<Figure size 432x288 with 1 Axes>"
            ]
          },
          "metadata": {
            "tags": [],
            "needs_background": "light"
          }
        },
        {
          "output_type": "display_data",
          "data": {
            "image/png": "[encoded data removed]",
            "text/plain": [
              "<Figure size 432x288 with 1 Axes>"
            ]
          },
          "metadata": {
            "tags": [],
            "needs_background": "light"
          }
        }
      ]
    },
    {
      "cell_type": "markdown",
      "metadata": {
        "id": "iTbtbDX4LlJc"
      },
      "source": [
        "## Softmax"
      ]
    },
    {
      "cell_type": "code",
      "metadata": {
        "id": "xavNrLzl0fYi",
        "outputId": "fc2fc995-54ea-4f39-c507-a2d2bf35c841",
        "colab": {
          "base_uri": "https://localhost:8080/"
        }
      },
      "source": [
        "#Slightly more complex Model frames and duration and frame_count<20,nbframes=20 ,without callbacks\n",
        "batch_size=64\n",
        "y=model.predict(valid)\n",
        "y_pred = np.argmax(y, axis=1)\n",
        "print(\"confusion Matrix\")\n",
        "print(confusion_matrix(temp[:], y_pred))\n",
        "print('Classification Report')\n",
        "target_names = labels\n",
        "print(classification_report(temp[:], y_pred, target_names=target_names))\n",
        "print(accuracy_score(temp[:],y_pred))"
      ],
      "execution_count": null,
      "outputs": [
        {
          "output_type": "stream",
          "text": [
            "confusion Matrix\n",
            "[[88  0]\n",
            " [84  0]]\n",
            "Classification Report\n",
            "              precision    recall  f1-score   support\n",
            "\n",
            "       Crime       0.51      1.00      0.68        88\n",
            "        norm       0.00      0.00      0.00        84\n",
            "\n",
            "    accuracy                           0.51       172\n",
            "   macro avg       0.26      0.50      0.34       172\n",
            "weighted avg       0.26      0.51      0.35       172\n",
            "\n",
            "0.5116279069767442\n"
          ],
          "name": "stdout"
        },
        {
          "output_type": "stream",
          "text": [
            "/usr/local/lib/python3.6/dist-packages/sklearn/metrics/_classification.py:1272: UndefinedMetricWarning: Precision and F-score are ill-defined and being set to 0.0 in labels with no predicted samples. Use `zero_division` parameter to control this behavior.\n",
            "  _warn_prf(average, modifier, msg_start, len(result))\n"
          ],
          "name": "stderr"
        }
      ]
    },
    {
      "cell_type": "markdown",
      "metadata": {
        "id": "xQzNgkhLLtPM"
      },
      "source": [
        "# Number of Frames:40,Kernel 5*5- dense 2 softmax"
      ]
    },
    {
      "cell_type": "code",
      "metadata": {
        "id": "a5PY5JiK96Bh",
        "outputId": "188eba55-9284-4e49-8198-f8545217a47e",
        "colab": {
          "base_uri": "https://localhost:8080/"
        }
      },
      "source": [
        "import cv2\n",
        "for cls in labels:\n",
        "  temp=os.listdir(\"/content/dataset/\"+cls)\n",
        "  for vid in temp:  \n",
        "    try:\n",
        "      tempy=os.path.join(\"/content/dataset\",cls,vid)\n",
        "      cap = cv2.VideoCapture(\"/content/dataset/\"+cls+\"/\"+vid)\n",
        "      fps = cap.get(cv2.CAP_PROP_FPS)      # OpenCV2 version 2 used \"CV_CAP_PROP_FPS\"\n",
        "      frame_count = int(cap.get(cv2.CAP_PROP_FRAME_COUNT))\n",
        "      # print(tempy,frame_count)\n",
        "      # if(fps!=0):\n",
        "      duration = frame_count/fps\n",
        "      if(duration<20 or frame_count<40):\n",
        "        os.remove(tempy)\n",
        "        print(\"deleted\"+(tempy))\n",
        "      # else:\n",
        "      #   os.remove(tempy)\n",
        "    except:\n",
        "      os.remove(tempy)\n",
        "      print(\"deleted\"+(tempy))\n",
        "    cap.release()"
      ],
      "execution_count": null,
      "outputs": [
        {
          "output_type": "stream",
          "text": [
            "deleted/content/dataset/Crime/Burglary054_x264.mp4\n",
            "deleted/content/dataset/Crime/Shoplifting036_x264.mp4\n",
            "deleted/content/dataset/Crime/Robbery087_x264.mp4\n",
            "deleted/content/dataset/Crime/Shoplifting015_x264.mp4\n",
            "deleted/content/dataset/Crime/Robbery076_x264.mp4\n",
            "deleted/content/dataset/Crime/Robbery098_x264.mp4\n",
            "deleted/content/dataset/Crime/Stealing060_x264.mp4\n",
            "deleted/content/dataset/Crime/Robbery031_x264.mp4\n",
            "deleted/content/dataset/Crime/Robbery032_x264.mp4\n",
            "deleted/content/dataset/Crime/Burglary078_x264.mp4\n",
            "deleted/content/dataset/Crime/Shoplifting044_x264.mp4\n",
            "deleted/content/dataset/Crime/Shoplifting003_x264.mp4\n",
            "deleted/content/dataset/Crime/Robbery044_x264.mp4\n",
            "deleted/content/dataset/Crime/Robbery039_x264.mp4\n",
            "deleted/content/dataset/Crime/Stealing069_x264.mp4\n",
            "deleted/content/dataset/Crime/Robbery012_x264.mp4\n",
            "deleted/content/dataset/Crime/Shoplifting027_x264.mp4\n",
            "deleted/content/dataset/Crime/Stealing095_x264.mp4\n",
            "deleted/content/dataset/Crime/Stealing066_x264.mp4\n",
            "deleted/content/dataset/Crime/Burglary092_x264.mp4\n",
            "deleted/content/dataset/Crime/Robbery003_x264.mp4\n",
            "deleted/content/dataset/Crime/Robbery072_x264.mp4\n",
            "deleted/content/dataset/Crime/Robbery068_x264.mp4\n",
            "deleted/content/dataset/Crime/Shoplifting017_x264.mp4\n",
            "deleted/content/dataset/Crime/Shoplifting033_x264.mp4\n",
            "deleted/content/dataset/Crime/Shoplifting018_x264.mp4\n",
            "deleted/content/dataset/Crime/Burglary059_x264.mp4\n",
            "deleted/content/dataset/Crime/Shoplifting021_x264.mp4\n",
            "deleted/content/dataset/Crime/Robbery053_x264.mp4\n",
            "deleted/content/dataset/Crime/Stealing093_x264.mp4\n",
            "deleted/content/dataset/Crime/Shoplifting020_x264.mp4\n",
            "deleted/content/dataset/Crime/Shoplifting050_x264.mp4\n",
            "deleted/content/dataset/Crime/Shoplifting038_x264.mp4\n",
            "deleted/content/dataset/Crime/Shoplifting037_x264.mp4\n",
            "deleted/content/dataset/Crime/Shoplifting054_x264.mp4\n",
            "deleted/content/dataset/Crime/Shoplifting032_x264.mp4\n",
            "deleted/content/dataset/Crime/Shoplifting019_x264.mp4\n",
            "deleted/content/dataset/Crime/Shoplifting052_x264.mp4\n",
            "deleted/content/dataset/Crime/Stealing067_x264.mp4\n",
            "deleted/content/dataset/Crime/Shoplifting007_x264.mp4\n",
            "deleted/content/dataset/Crime/Shoplifting006_x264.mp4\n",
            "deleted/content/dataset/Crime/Shoplifting031_x264.mp4\n",
            "deleted/content/dataset/Crime/Robbery046_x264.mp4\n",
            "deleted/content/dataset/Crime/Burglary081_x264.mp4\n",
            "deleted/content/dataset/Crime/Shoplifting010_x264.mp4\n",
            "deleted/content/dataset/Crime/Shoplifting012_x264.mp4\n",
            "deleted/content/dataset/Crime/Robbery070_x264.mp4\n",
            "deleted/content/dataset/Crime/Burglary093_x264.mp4\n",
            "deleted/content/dataset/Crime/Robbery089_x264.mp4\n",
            "deleted/content/dataset/Crime/Burglary097_x264.mp4\n",
            "deleted/content/dataset/Crime/Burglary033_x264.mp4\n",
            "deleted/content/dataset/Crime/Stealing012_x264.mp4\n",
            "deleted/content/dataset/Crime/Shoplifting008_x264.mp4\n",
            "deleted/content/dataset/Crime/Robbery074_x264.mp4\n",
            "deleted/content/dataset/Crime/Shoplifting001_x264.mp4\n",
            "deleted/content/dataset/Crime/Shoplifting043_x264.mp4\n",
            "deleted/content/dataset/Crime/Burglary018_x264.mp4\n",
            "deleted/content/dataset/Crime/Stealing024_x264.mp4\n",
            "deleted/content/dataset/Crime/Shoplifting053_x264.mp4\n",
            "deleted/content/dataset/Crime/Robbery092_x264.mp4\n",
            "deleted/content/dataset/Crime/Stealing030_x264.mp4\n",
            "deleted/content/dataset/Crime/Shoplifting004_x264.mp4\n",
            "deleted/content/dataset/Crime/Burglary043_x264.mp4\n",
            "deleted/content/dataset/Crime/Shoplifting039_x264.mp4\n",
            "deleted/content/dataset/Crime/Shoplifting029_x264.mp4\n",
            "deleted/content/dataset/Crime/Burglary038_x264.mp4\n",
            "deleted/content/dataset/Crime/Stealing031_x264.mp4\n",
            "deleted/content/dataset/Crime/Robbery016_x264.mp4\n",
            "deleted/content/dataset/Crime/Stealing029_x264.mp4\n",
            "deleted/content/dataset/Crime/Stealing003_x264.mp4\n",
            "deleted/content/dataset/Crime/Shoplifting024_x264.mp4\n",
            "deleted/content/dataset/Crime/Robbery054_x264.mp4\n",
            "deleted/content/dataset/Crime/Stealing047_x264.mp4\n",
            "deleted/content/dataset/Crime/Shoplifting016_x264.mp4\n",
            "deleted/content/dataset/Crime/Stealing028_x264.mp4\n",
            "deleted/content/dataset/Crime/Robbery001_x264.mp4\n",
            "deleted/content/dataset/Crime/Robbery040_x264.mp4\n",
            "deleted/content/dataset/Crime/Stealing091_x264.mp4\n",
            "deleted/content/dataset/Crime/Burglary050_x264.mp4\n",
            "deleted/content/dataset/norm/Stealing080_x2642.mp4\n",
            "deleted/content/dataset/norm/Robbery082_x2642.mp4\n",
            "deleted/content/dataset/norm/Stealing080_x264.mp4\n",
            "deleted/content/dataset/norm/Burglary054_x264.mp4\n",
            "deleted/content/dataset/norm/Stealing053_x2642.mp4\n",
            "deleted/content/dataset/norm/Burglary099_x264.mp4\n",
            "deleted/content/dataset/norm/Stealing111_x264.mp4\n",
            "deleted/content/dataset/norm/Robbery033_x2642.mp4\n",
            "deleted/content/dataset/norm/Robbery050_x264.mp4\n",
            "deleted/content/dataset/norm/Robbery006_x2642.mp4\n",
            "deleted/content/dataset/norm/Stealing101_x264.mp4\n",
            "deleted/content/dataset/norm/Burglary039_x264.mp4\n",
            "deleted/content/dataset/norm/Shoplifting050_x2642.mp4\n",
            "deleted/content/dataset/norm/Robbery018_x2642.mp4\n",
            "deleted/content/dataset/norm/Robbery038_x264.mp4\n",
            "deleted/content/dataset/norm/Burglary084_x264.mp4\n",
            "deleted/content/dataset/norm/Robbery056_x264.mp4\n",
            "deleted/content/dataset/norm/Robbery066_x264.mp4\n",
            "deleted/content/dataset/norm/Burglary080_x264.mp4\n",
            "deleted/content/dataset/norm/Stealing081_x2642.mp4\n",
            "deleted/content/dataset/norm/Burglary023_x264.mp4\n",
            "deleted/content/dataset/norm/Burglary081_x2642.mp4\n",
            "deleted/content/dataset/norm/Stealing015_x264.mp4\n",
            "deleted/content/dataset/norm/Robbery028_x2642.mp4\n",
            "deleted/content/dataset/norm/Stealing026_x264.mp4\n",
            "deleted/content/dataset/norm/Robbery087_x264.mp4\n",
            "deleted/content/dataset/norm/Burglary089_x2642.mp4\n",
            "deleted/content/dataset/norm/Robbery035_x264.mp4\n",
            "deleted/content/dataset/norm/Shoplifting015_x264.mp4\n",
            "deleted/content/dataset/norm/Robbery024_x264.mp4\n",
            "deleted/content/dataset/norm/Burglary011_x2642.mp4\n",
            "deleted/content/dataset/norm/Burglary047_x264.mp4\n",
            "deleted/content/dataset/norm/Stealing052_x264.mp4\n",
            "deleted/content/dataset/norm/Robbery030_x264.mp4\n",
            "deleted/content/dataset/norm/Burglary006_x2642.mp4\n",
            "deleted/content/dataset/norm/Shoplifting045_x264.mp4\n",
            "deleted/content/dataset/norm/Burglary047_x2642.mp4\n",
            "deleted/content/dataset/norm/Burglary052_x264.mp4\n",
            "deleted/content/dataset/norm/Burglary072_x264.mp4\n",
            "deleted/content/dataset/norm/Robbery021_x2642.mp4\n",
            "deleted/content/dataset/norm/Robbery076_x264.mp4\n",
            "deleted/content/dataset/norm/Stealing054_x264.mp4\n",
            "deleted/content/dataset/norm/Stealing103_x2642.mp4\n",
            "deleted/content/dataset/norm/Stealing087_x2642.mp4\n",
            "deleted/content/dataset/norm/Robbery068_x2642.mp4\n",
            "deleted/content/dataset/norm/Stealing087_x264.mp4\n",
            "deleted/content/dataset/norm/Robbery089_x2642.mp4\n",
            "deleted/content/dataset/norm/Stealing055_x2642.mp4\n",
            "deleted/content/dataset/norm/Shoplifting018_x2642.mp4\n",
            "deleted/content/dataset/norm/Stealing060_x264.mp4\n",
            "deleted/content/dataset/norm/Robbery001_x2642.mp4\n",
            "deleted/content/dataset/norm/Robbery031_x264.mp4\n",
            "deleted/content/dataset/norm/Stealing071_x2642.mp4\n",
            "deleted/content/dataset/norm/Stealing009_x2642.mp4\n",
            "deleted/content/dataset/norm/Burglary012_x2642.mp4\n",
            "deleted/content/dataset/norm/Robbery075_x2642.mp4\n",
            "deleted/content/dataset/norm/Robbery071_x2642.mp4\n",
            "deleted/content/dataset/norm/Robbery034_x2642.mp4\n",
            "deleted/content/dataset/norm/Stealing062_x2642.mp4\n",
            "deleted/content/dataset/norm/Robbery078_x2642.mp4\n",
            "deleted/content/dataset/norm/Shoplifting013_x264.mp4\n",
            "deleted/content/dataset/norm/Burglary084_x2642.mp4\n",
            "deleted/content/dataset/norm/Burglary026_x264.mp4\n",
            "deleted/content/dataset/norm/Robbery013_x2642.mp4\n",
            "deleted/content/dataset/norm/Robbery050_x2642.mp4\n",
            "deleted/content/dataset/norm/Burglary078_x264.mp4\n",
            "deleted/content/dataset/norm/Stealing093_x2642.mp4\n",
            "deleted/content/dataset/norm/Burglary021_x264.mp4\n",
            "deleted/content/dataset/norm/Burglary053_x264.mp4\n",
            "deleted/content/dataset/norm/Shoplifting007_x2642.mp4\n",
            "deleted/content/dataset/norm/Stealing091_x2642.mp4\n",
            "deleted/content/dataset/norm/Stealing042_x264.mp4\n",
            "deleted/content/dataset/norm/Burglary069_x2642.mp4\n",
            "deleted/content/dataset/norm/Stealing049_x2642.mp4\n",
            "deleted/content/dataset/norm/Robbery018_x264.mp4\n",
            "deleted/content/dataset/norm/Burglary035_x264.mp4\n",
            "deleted/content/dataset/norm/Robbery006_x264.mp4\n",
            "deleted/content/dataset/norm/Shoplifting019_x2642.mp4\n",
            "deleted/content/dataset/norm/Robbery023_x264.mp4\n",
            "deleted/content/dataset/norm/Robbery047_x264.mp4\n",
            "deleted/content/dataset/norm/Stealing015_x2642.mp4\n",
            "deleted/content/dataset/norm/Robbery064_x264.mp4\n",
            "deleted/content/dataset/norm/Stealing048_x264.mp4\n",
            "deleted/content/dataset/norm/Stealing011_x2642.mp4\n",
            "deleted/content/dataset/norm/Robbery044_x264.mp4\n",
            "deleted/content/dataset/norm/Stealing044_x264.mp4\n",
            "deleted/content/dataset/norm/Robbery051_x2642.mp4\n",
            "deleted/content/dataset/norm/Robbery065_x2642.mp4\n",
            "deleted/content/dataset/norm/Robbery046_x2642.mp4\n",
            "deleted/content/dataset/norm/Robbery039_x264.mp4\n",
            "deleted/content/dataset/norm/Stealing069_x264.mp4\n",
            "deleted/content/dataset/norm/Burglary037_x264.mp4\n",
            "deleted/content/dataset/norm/Robbery002_x2642.mp4\n",
            "deleted/content/dataset/norm/Burglary017_x2642.mp4\n",
            "deleted/content/dataset/norm/Robbery012_x264.mp4\n",
            "deleted/content/dataset/norm/Robbery007_x2642.mp4\n",
            "deleted/content/dataset/norm/Robbery075_x264.mp4\n",
            "deleted/content/dataset/norm/Burglary014_x2642.mp4\n",
            "deleted/content/dataset/norm/Stealing095_x264.mp4\n",
            "deleted/content/dataset/norm/Burglary066_x2642.mp4\n",
            "deleted/content/dataset/norm/Burglary092_x264.mp4\n",
            "deleted/content/dataset/norm/Burglary055_x2642.mp4\n",
            "deleted/content/dataset/norm/Burglary003_x264.mp4\n",
            "deleted/content/dataset/norm/Burglary098_x264.mp4\n",
            "deleted/content/dataset/norm/Burglary028_x2642.mp4\n",
            "deleted/content/dataset/norm/Burglary067_x264.mp4\n",
            "deleted/content/dataset/norm/Burglary009_x264.mp4\n",
            "deleted/content/dataset/norm/Shoplifting022_x264.mp4\n",
            "deleted/content/dataset/norm/Robbery019_x2642.mp4\n",
            "deleted/content/dataset/norm/Burglary074_x2642.mp4\n",
            "deleted/content/dataset/norm/Stealing023_x264.mp4\n",
            "deleted/content/dataset/norm/Robbery003_x264.mp4\n",
            "deleted/content/dataset/norm/Burglary076_x264.mp4\n",
            "deleted/content/dataset/norm/Robbery087_x2642.mp4\n",
            "deleted/content/dataset/norm/Robbery058_x2642.mp4\n",
            "deleted/content/dataset/norm/Stealing059_x2642.mp4\n",
            "deleted/content/dataset/norm/Stealing105_x2642.mp4\n",
            "deleted/content/dataset/norm/Burglary077_x2642.mp4\n",
            "deleted/content/dataset/norm/Robbery012_x2642.mp4\n",
            "deleted/content/dataset/norm/Robbery068_x264.mp4\n",
            "deleted/content/dataset/norm/Burglary058_x2642.mp4\n",
            "deleted/content/dataset/norm/Robbery063_x2642.mp4\n",
            "deleted/content/dataset/norm/Burglary094_x2642.mp4\n",
            "deleted/content/dataset/norm/Shoplifting049_x264.mp4\n",
            "deleted/content/dataset/norm/Burglary085_x264.mp4\n",
            "deleted/content/dataset/norm/Shoplifting017_x264.mp4\n",
            "deleted/content/dataset/norm/Robbery031_x2642.mp4\n",
            "deleted/content/dataset/norm/Burglary060_x264.mp4\n",
            "deleted/content/dataset/norm/Robbery059_x2642.mp4\n",
            "deleted/content/dataset/norm/Robbery091_x2642.mp4\n",
            "deleted/content/dataset/norm/Robbery042_x264.mp4\n",
            "deleted/content/dataset/norm/Burglary042_x2642.mp4\n",
            "deleted/content/dataset/norm/Shoplifting033_x264.mp4\n",
            "deleted/content/dataset/norm/Robbery015_x264.mp4\n",
            "deleted/content/dataset/norm/Robbery080_x2642.mp4\n",
            "deleted/content/dataset/norm/Burglary013_x2642.mp4\n",
            "deleted/content/dataset/norm/Stealing074_x2642.mp4\n",
            "deleted/content/dataset/norm/Robbery038_x2642.mp4\n",
            "deleted/content/dataset/norm/Stealing098_x264.mp4\n",
            "deleted/content/dataset/norm/Burglary059_x264.mp4\n",
            "deleted/content/dataset/norm/Robbery077_x264.mp4\n",
            "deleted/content/dataset/norm/Burglary078_x2642.mp4\n",
            "deleted/content/dataset/norm/Burglary070_x264.mp4\n",
            "deleted/content/dataset/norm/Burglary022_x2642.mp4\n",
            "deleted/content/dataset/norm/Burglary059_x2642.mp4\n",
            "deleted/content/dataset/norm/Robbery057_x2642.mp4\n",
            "deleted/content/dataset/norm/Robbery049_x2642.mp4\n",
            "deleted/content/dataset/norm/Stealing093_x264.mp4\n",
            "deleted/content/dataset/norm/Robbery074_x2642.mp4\n",
            "deleted/content/dataset/norm/Stealing108_x264.mp4\n",
            "deleted/content/dataset/norm/Burglary025_x2642.mp4\n",
            "deleted/content/dataset/norm/Stealing004_x264.mp4\n",
            "deleted/content/dataset/norm/Stealing110_x2642.mp4\n",
            "deleted/content/dataset/norm/Stealing104_x2642.mp4\n",
            "deleted/content/dataset/norm/Robbery058_x264.mp4\n",
            "deleted/content/dataset/norm/Shoplifting028_x264.mp4\n",
            "deleted/content/dataset/norm/Robbery079_x2642.mp4\n",
            "deleted/content/dataset/norm/Stealing070_x264.mp4\n",
            "deleted/content/dataset/norm/Burglary088_x2642.mp4\n",
            "deleted/content/dataset/norm/Shoplifting013_x2642.mp4\n",
            "deleted/content/dataset/norm/Stealing112_x264.mp4\n",
            "deleted/content/dataset/norm/Stealing102_x264.mp4\n",
            "deleted/content/dataset/norm/Robbery085_x2642.mp4\n",
            "deleted/content/dataset/norm/Shoplifting038_x264.mp4\n",
            "deleted/content/dataset/norm/Burglary020_x2642.mp4\n",
            "deleted/content/dataset/norm/Robbery085_x264.mp4\n",
            "deleted/content/dataset/norm/Robbery095_x264.mp4\n",
            "deleted/content/dataset/norm/Burglary092_x2642.mp4\n",
            "deleted/content/dataset/norm/Burglary042_x264.mp4\n",
            "deleted/content/dataset/norm/Burglary058_x264.mp4\n",
            "deleted/content/dataset/norm/Burglary091_x2642.mp4\n",
            "deleted/content/dataset/norm/Robbery069_x264.mp4\n",
            "deleted/content/dataset/norm/Robbery023_x2642.mp4\n",
            "deleted/content/dataset/norm/Stealing072_x264.mp4\n",
            "deleted/content/dataset/norm/Burglary012_x264.mp4\n",
            "deleted/content/dataset/norm/Robbery043_x264.mp4\n",
            "deleted/content/dataset/norm/Stealing009_x264.mp4\n",
            "deleted/content/dataset/norm/Shoplifting054_x2642.mp4\n",
            "deleted/content/dataset/norm/Burglary069_x264.mp4\n",
            "deleted/content/dataset/norm/Shoplifting037_x264.mp4\n",
            "deleted/content/dataset/norm/Robbery081_x264.mp4\n",
            "deleted/content/dataset/norm/Robbery083_x264.mp4\n",
            "deleted/content/dataset/norm/Stealing110_x264.mp4\n",
            "deleted/content/dataset/norm/Robbery025_x264.mp4\n",
            "deleted/content/dataset/norm/Robbery092_x2642.mp4\n",
            "deleted/content/dataset/norm/Burglary051_x2642.mp4\n",
            "deleted/content/dataset/norm/Burglary029_x2642.mp4\n",
            "deleted/content/dataset/norm/Shoplifting054_x264.mp4\n",
            "deleted/content/dataset/norm/Burglary100_x264.mp4\n",
            "deleted/content/dataset/norm/Burglary032_x2642.mp4\n",
            "deleted/content/dataset/norm/Robbery024_x2642.mp4\n",
            "deleted/content/dataset/norm/Burglary019_x264.mp4\n",
            "deleted/content/dataset/norm/Burglary021_x2642.mp4\n",
            "deleted/content/dataset/norm/Robbery025_x2642.mp4\n",
            "deleted/content/dataset/norm/Shoplifting019_x264.mp4\n",
            "deleted/content/dataset/norm/Burglary083_x264.mp4\n",
            "deleted/content/dataset/norm/Robbery033_x264.mp4\n",
            "deleted/content/dataset/norm/Burglary060_x2642.mp4\n",
            "deleted/content/dataset/norm/Stealing022_x264.mp4\n",
            "deleted/content/dataset/norm/Robbery048_x264.mp4\n",
            "deleted/content/dataset/norm/Stealing095_x2642.mp4\n",
            "deleted/content/dataset/norm/Burglary034_x264.mp4\n",
            "deleted/content/dataset/norm/Burglary035_x2642.mp4\n",
            "deleted/content/dataset/norm/Stealing016_x2642.mp4\n",
            "deleted/content/dataset/norm/Robbery051_x264.mp4\n",
            "deleted/content/dataset/norm/Robbery003_x2642.mp4\n",
            "deleted/content/dataset/norm/Burglary086_x264.mp4\n",
            "deleted/content/dataset/norm/Stealing082_x264.mp4\n",
            "deleted/content/dataset/norm/Burglary022_x264.mp4\n",
            "deleted/content/dataset/norm/Robbery011_x2642.mp4\n",
            "deleted/content/dataset/norm/Burglary053_x2642.mp4\n",
            "deleted/content/dataset/norm/Stealing104_x264.mp4\n",
            "deleted/content/dataset/norm/Robbery088_x264.mp4\n",
            "deleted/content/dataset/norm/Shoplifting028_x2642.mp4\n",
            "deleted/content/dataset/norm/Robbery060_x2642.mp4\n",
            "deleted/content/dataset/norm/Robbery004_x2642.mp4\n",
            "deleted/content/dataset/norm/Robbery061_x2642.mp4\n",
            "deleted/content/dataset/norm/Robbery057_x264.mp4\n",
            "deleted/content/dataset/norm/Shoplifting031_x264.mp4\n",
            "deleted/content/dataset/norm/Robbery100_x264.mp4\n",
            "deleted/content/dataset/norm/Stealing055_x264.mp4\n",
            "deleted/content/dataset/norm/Burglary088_x264.mp4\n",
            "deleted/content/dataset/norm/Robbery066_x2642.mp4\n",
            "deleted/content/dataset/norm/Stealing071_x264.mp4\n",
            "deleted/content/dataset/norm/Stealing107_x264.mp4\n",
            "deleted/content/dataset/norm/Robbery046_x264.mp4\n",
            "deleted/content/dataset/norm/Burglary073_x264.mp4\n",
            "deleted/content/dataset/norm/Robbery056_x2642.mp4\n",
            "deleted/content/dataset/norm/Burglary081_x264.mp4\n",
            "deleted/content/dataset/norm/Stealing081_x264.mp4\n",
            "deleted/content/dataset/norm/Burglary054_x2642.mp4\n",
            "deleted/content/dataset/norm/Stealing021_x264.mp4\n",
            "deleted/content/dataset/norm/Stealing018_x264.mp4\n",
            "deleted/content/dataset/norm/Burglary068_x264.mp4\n",
            "deleted/content/dataset/norm/Burglary080_x2642.mp4\n",
            "deleted/content/dataset/norm/Robbery072_x2642.mp4\n",
            "deleted/content/dataset/norm/Stealing102_x2642.mp4\n",
            "deleted/content/dataset/norm/Robbery070_x264.mp4\n",
            "deleted/content/dataset/norm/Robbery047_x2642.mp4\n",
            "deleted/content/dataset/norm/Stealing030_x2642.mp4\n",
            "deleted/content/dataset/norm/Burglary014_x264.mp4\n",
            "deleted/content/dataset/norm/Burglary093_x264.mp4\n",
            "deleted/content/dataset/norm/Burglary091_x264.mp4\n",
            "deleted/content/dataset/norm/Burglary077_x264.mp4\n",
            "deleted/content/dataset/norm/Robbery064_x2642.mp4\n",
            "deleted/content/dataset/norm/Stealing043_x2642.mp4\n",
            "deleted/content/dataset/norm/Robbery079_x264.mp4\n",
            "deleted/content/dataset/norm/Robbery007_x264.mp4\n",
            "deleted/content/dataset/norm/Burglary046_x264.mp4\n",
            "deleted/content/dataset/norm/Burglary027_x2642.mp4\n",
            "deleted/content/dataset/norm/Robbery065_x264.mp4\n",
            "deleted/content/dataset/norm/Stealing050_x2642.mp4\n",
            "deleted/content/dataset/norm/Burglary049_x2642.mp4\n",
            "deleted/content/dataset/norm/Stealing089_x2642.mp4\n",
            "deleted/content/dataset/norm/Robbery071_x264.mp4\n",
            "deleted/content/dataset/norm/Stealing031_x2642.mp4\n",
            "deleted/content/dataset/norm/Burglary019_x2642.mp4\n",
            "deleted/content/dataset/norm/Burglary082_x264.mp4\n",
            "deleted/content/dataset/norm/Robbery048_x2642.mp4\n",
            "deleted/content/dataset/norm/Robbery089_x264.mp4\n",
            "deleted/content/dataset/norm/Stealing068_x264.mp4\n",
            "deleted/content/dataset/norm/Burglary097_x264.mp4\n",
            "deleted/content/dataset/norm/Robbery095_x2642.mp4\n",
            "deleted/content/dataset/norm/Burglary030_x2642.mp4\n",
            "deleted/content/dataset/norm/Burglary089_x264.mp4\n",
            "deleted/content/dataset/norm/Stealing029_x2642.mp4\n",
            "deleted/content/dataset/norm/Stealing027_x2642.mp4\n",
            "deleted/content/dataset/norm/Burglary002_x264.mp4\n",
            "deleted/content/dataset/norm/Burglary036_x2642.mp4\n",
            "deleted/content/dataset/norm/Robbery019_x264.mp4\n",
            "deleted/content/dataset/norm/Burglary004_x2642.mp4\n",
            "deleted/content/dataset/norm/Robbery030_x2642.mp4\n",
            "deleted/content/dataset/norm/Stealing037_x2642.mp4\n",
            "deleted/content/dataset/norm/Robbery041_x2642.mp4\n",
            "deleted/content/dataset/norm/Burglary090_x2642.mp4\n",
            "deleted/content/dataset/norm/Stealing094_x2642.mp4\n",
            "deleted/content/dataset/norm/Burglary037_x2642.mp4\n",
            "deleted/content/dataset/norm/Robbery044_x2642.mp4\n",
            "deleted/content/dataset/norm/Burglary074_x264.mp4\n",
            "deleted/content/dataset/norm/Robbery049_x264.mp4\n",
            "deleted/content/dataset/norm/Robbery008_x2642.mp4\n",
            "deleted/content/dataset/norm/Stealing106_x264.mp4\n",
            "deleted/content/dataset/norm/Robbery084_x2642.mp4\n",
            "deleted/content/dataset/norm/Robbery027_x264.mp4\n",
            "deleted/content/dataset/norm/Stealing052_x2642.mp4\n",
            "deleted/content/dataset/norm/Burglary099_x2642.mp4\n",
            "deleted/content/dataset/norm/Burglary055_x264.mp4\n",
            "deleted/content/dataset/norm/Burglary016_x264.mp4\n",
            "deleted/content/dataset/norm/Burglary024_x2642.mp4\n",
            "deleted/content/dataset/norm/Robbery062_x2642.mp4\n",
            "deleted/content/dataset/norm/Burglary034_x2642.mp4\n",
            "deleted/content/dataset/norm/Burglary087_x264.mp4\n",
            "deleted/content/dataset/norm/Burglary011_x264.mp4\n",
            "deleted/content/dataset/norm/Burglary036_x264.mp4\n",
            "deleted/content/dataset/norm/Burglary028_x264.mp4\n",
            "deleted/content/dataset/norm/Stealing018_x2642.mp4\n",
            "deleted/content/dataset/norm/Burglary025_x264.mp4\n",
            "deleted/content/dataset/norm/Robbery099_x2642.mp4\n",
            "deleted/content/dataset/norm/Stealing114_x264.mp4\n",
            "deleted/content/dataset/norm/Stealing070_x2642.mp4\n",
            "deleted/content/dataset/norm/Burglary051_x264.mp4\n",
            "deleted/content/dataset/norm/Shoplifting048_x2642.mp4\n",
            "deleted/content/dataset/norm/Burglary007_x264.mp4\n",
            "deleted/content/dataset/norm/Shoplifting026_x2642.mp4\n",
            "deleted/content/dataset/norm/Shoplifting009_x264.mp4\n",
            "deleted/content/dataset/norm/Stealing097_x2642.mp4\n",
            "deleted/content/dataset/norm/Burglary071_x2642.mp4\n",
            "deleted/content/dataset/norm/Robbery074_x264.mp4\n",
            "deleted/content/dataset/norm/Burglary018_x264.mp4\n",
            "deleted/content/dataset/norm/Burglary048_x2642.mp4\n",
            "deleted/content/dataset/norm/Burglary085_x2642.mp4\n",
            "deleted/content/dataset/norm/Burglary043_x2642.mp4\n",
            "deleted/content/dataset/norm/Robbery052_x264.mp4\n",
            "deleted/content/dataset/norm/Burglary002_x2642.mp4\n",
            "deleted/content/dataset/norm/Burglary008_x2642.mp4\n",
            "deleted/content/dataset/norm/Robbery005_x2642.mp4\n",
            "deleted/content/dataset/norm/Robbery013_x264.mp4\n",
            "deleted/content/dataset/norm/Stealing107_x2642.mp4\n",
            "deleted/content/dataset/norm/Stealing078_x264.mp4\n",
            "deleted/content/dataset/norm/Burglary001_x2642.mp4\n",
            "deleted/content/dataset/norm/Robbery076_x2642.mp4\n",
            "deleted/content/dataset/norm/Burglary023_x2642.mp4\n",
            "deleted/content/dataset/norm/Burglary057_x2642.mp4\n",
            "deleted/content/dataset/norm/Shoplifting053_x264.mp4\n",
            "deleted/content/dataset/norm/Stealing027_x264.mp4\n",
            "deleted/content/dataset/norm/Stealing050_x264.mp4\n",
            "deleted/content/dataset/norm/Robbery022_x2642.mp4\n",
            "deleted/content/dataset/norm/Stealing061_x2642.mp4\n",
            "deleted/content/dataset/norm/Burglary004_x264.mp4\n",
            "deleted/content/dataset/norm/Burglary031_x264.mp4\n",
            "deleted/content/dataset/norm/Burglary030_x264.mp4\n",
            "deleted/content/dataset/norm/Stealing061_x264.mp4\n",
            "deleted/content/dataset/norm/Burglary067_x2642.mp4\n",
            "deleted/content/dataset/norm/Stealing062_x264.mp4\n",
            "deleted/content/dataset/norm/Robbery081_x2642.mp4\n",
            "deleted/content/dataset/norm/Stealing014_x264.mp4\n",
            "deleted/content/dataset/norm/Burglary100_x2642.mp4\n",
            "deleted/content/dataset/norm/Shoplifting025_x264.mp4\n",
            "deleted/content/dataset/norm/Shoplifting022_x2642.mp4\n",
            "deleted/content/dataset/norm/Burglary086_x2642.mp4\n",
            "deleted/content/dataset/norm/Stealing030_x264.mp4\n",
            "deleted/content/dataset/norm/Burglary015_x2642.mp4\n",
            "deleted/content/dataset/norm/Burglary056_x264.mp4\n",
            "deleted/content/dataset/norm/Burglary043_x264.mp4\n",
            "deleted/content/dataset/norm/Shoplifting039_x264.mp4\n",
            "deleted/content/dataset/norm/Shoplifting016_x2642.mp4\n",
            "deleted/content/dataset/norm/Burglary038_x264.mp4\n",
            "deleted/content/dataset/norm/Shoplifting026_x264.mp4\n",
            "deleted/content/dataset/norm/Burglary049_x264.mp4\n",
            "deleted/content/dataset/norm/Burglary093_x2642.mp4\n",
            "deleted/content/dataset/norm/Stealing008_x264.mp4\n",
            "deleted/content/dataset/norm/Stealing011_x264.mp4\n",
            "deleted/content/dataset/norm/Stealing031_x264.mp4\n",
            "deleted/content/dataset/norm/Burglary007_x2642.mp4\n",
            "deleted/content/dataset/norm/Robbery016_x264.mp4\n",
            "deleted/content/dataset/norm/Stealing112_x2642.mp4\n",
            "deleted/content/dataset/norm/Burglary040_x264.mp4\n",
            "deleted/content/dataset/norm/Stealing029_x264.mp4\n",
            "deleted/content/dataset/norm/Stealing058_x2642.mp4\n",
            "deleted/content/dataset/norm/Robbery091_x264.mp4\n",
            "deleted/content/dataset/norm/Stealing078_x2642.mp4\n",
            "deleted/content/dataset/norm/Stealing073_x2642.mp4\n",
            "deleted/content/dataset/norm/Burglary015_x264.mp4\n",
            "deleted/content/dataset/norm/Stealing059_x264.mp4\n",
            "deleted/content/dataset/norm/Stealing006_x264.mp4\n",
            "deleted/content/dataset/norm/Burglary090_x264.mp4\n",
            "deleted/content/dataset/norm/Burglary041_x2642.mp4\n",
            "deleted/content/dataset/norm/Stealing114_x2642.mp4\n",
            "deleted/content/dataset/norm/Stealing017_x2642.mp4\n",
            "deleted/content/dataset/norm/Robbery082_x264.mp4\n",
            "deleted/content/dataset/norm/Burglary068_x2642.mp4\n",
            "deleted/content/dataset/norm/Shoplifting025_x2642.mp4\n",
            "deleted/content/dataset/norm/Burglary026_x2642.mp4\n",
            "deleted/content/dataset/norm/Shoplifting024_x264.mp4\n",
            "deleted/content/dataset/norm/Robbery069_x2642.mp4\n",
            "deleted/content/dataset/norm/Burglary057_x264.mp4\n",
            "deleted/content/dataset/norm/Burglary087_x2642.mp4\n",
            "deleted/content/dataset/norm/Robbery022_x264.mp4\n",
            "deleted/content/dataset/norm/Burglary075_x264.mp4\n",
            "deleted/content/dataset/norm/Stealing049_x264.mp4\n",
            "deleted/content/dataset/norm/Robbery054_x264.mp4\n",
            "deleted/content/dataset/norm/Burglary013_x264.mp4\n",
            "deleted/content/dataset/norm/Burglary003_x2642.mp4\n",
            "deleted/content/dataset/norm/Burglary070_x2642.mp4\n",
            "deleted/content/dataset/norm/Burglary050_x2642.mp4\n",
            "deleted/content/dataset/norm/Shoplifting045_x2642.mp4\n",
            "deleted/content/dataset/norm/Robbery009_x264.mp4\n",
            "deleted/content/dataset/norm/Robbery011_x264.mp4\n",
            "deleted/content/dataset/norm/Stealing113_x264.mp4\n",
            "deleted/content/dataset/norm/Stealing066_x2642.mp4\n",
            "deleted/content/dataset/norm/Robbery073_x264.mp4\n",
            "deleted/content/dataset/norm/Burglary056_x2642.mp4\n",
            "deleted/content/dataset/norm/Stealing010_x264.mp4\n",
            "deleted/content/dataset/norm/Burglary096_x264.mp4\n",
            "deleted/content/dataset/norm/Burglary001_x264.mp4\n",
            "deleted/content/dataset/norm/Burglary027_x264.mp4\n",
            "deleted/content/dataset/norm/Robbery015_x2642.mp4\n",
            "deleted/content/dataset/norm/Burglary005_x264.mp4\n",
            "deleted/content/dataset/norm/Robbery008_x264.mp4\n",
            "deleted/content/dataset/norm/Stealing028_x264.mp4\n",
            "deleted/content/dataset/norm/Stealing069_x2642.mp4\n",
            "deleted/content/dataset/norm/Shoplifting031_x2642.mp4\n",
            "deleted/content/dataset/norm/Stealing037_x264.mp4\n",
            "deleted/content/dataset/norm/Shoplifting040_x2642.mp4\n",
            "deleted/content/dataset/norm/Stealing060_x2642.mp4\n",
            "deleted/content/dataset/norm/Burglary048_x264.mp4\n",
            "deleted/content/dataset/norm/Robbery084_x264.mp4\n",
            "deleted/content/dataset/norm/Robbery001_x264.mp4\n",
            "deleted/content/dataset/norm/Burglary072_x2642.mp4\n",
            "deleted/content/dataset/norm/Robbery040_x264.mp4\n",
            "deleted/content/dataset/norm/Robbery088_x2642.mp4\n",
            "deleted/content/dataset/norm/Robbery041_x264.mp4\n",
            "deleted/content/dataset/norm/Stealing100_x264.mp4\n",
            "deleted/content/dataset/norm/Stealing091_x264.mp4\n",
            "deleted/content/dataset/norm/Stealing065_x264.mp4\n",
            "deleted/content/dataset/norm/Burglary029_x264.mp4\n",
            "deleted/content/dataset/norm/Burglary041_x264.mp4\n",
            "deleted/content/dataset/norm/Burglary050_x264.mp4\n",
            "deleted/content/dataset/norm/Stealing017_x264.mp4\n",
            "deleted/content/dataset/norm/Shoplifting017_x2642.mp4\n",
            "deleted/content/dataset/norm/Shoplifting047_x264.mp4\n"
          ],
          "name": "stdout"
        }
      ]
    },
    {
      "cell_type": "code",
      "metadata": {
        "id": "Jz_I9Eln96Bt",
        "outputId": "801e3dbc-ba82-48ca-f9f0-3486f75e0b00",
        "colab": {
          "base_uri": "https://localhost:8080/"
        }
      },
      "source": [
        "import os\n",
        "import glob\n",
        "import keras\n",
        "classes=labels\n",
        "classes.sort()# some global params\n",
        "SIZE = (320, 240)\n",
        "CHANNELS = 3\n",
        "NBFRAME = 40\n",
        "BS = 1# pattern to get videos and classes\n",
        "glob_pattern='/content/dataset/{classname}/*.mp4'# for data augmentation\n",
        "data_aug = keras.preprocessing.image.ImageDataGenerator(\n",
        "  zoom_range=.1,\n",
        "  horizontal_flip=True,\n",
        "  rotation_range=8,\n",
        "  width_shift_range=.2,\n",
        "  height_shift_range=.2)# Create video frame generator\n",
        "train = VideoFrameGenerator(\n",
        "  classes=classes, \n",
        "  glob_pattern=glob_pattern,\n",
        "  nb_frames=NBFRAME,\n",
        "  split=.33, \n",
        "  shuffle=True,\n",
        "  batch_size=BS,\n",
        "  target_shape=SIZE,\n",
        "  nb_channel=CHANNELS,\n",
        "  transformation=data_aug,use_frame_cache=True)"
      ],
      "execution_count": null,
      "outputs": [
        {
          "output_type": "stream",
          "text": [
            "Warning, `split` argument is replaced by `split_val`, please condider to change your source code.The `split` argument will be removed in future releases.\n"
          ],
          "name": "stderr"
        },
        {
          "output_type": "stream",
          "text": [
            "class Crime, validation count: 88, train count: 181\n",
            "class norm, validation count: 84, train count: 173\n",
            "Total data: 2 classes for 354 files for train\n"
          ],
          "name": "stdout"
        }
      ]
    },
    {
      "cell_type": "code",
      "metadata": {
        "id": "YlKEBT1A96B6"
      },
      "source": [
        "from keras.layers import Conv2D, BatchNormalization, MaxPool2D, GlobalMaxPool2D\n",
        "def build_convnet(shape=(320, 240, 3)):\n",
        "  momentum = .9\n",
        "  model = keras.Sequential()\n",
        "  model.add(Conv2D(128, (11,11), input_shape=shape,\n",
        "      padding='same', activation='relu'))\n",
        "  model.add(Conv2D(128, (11,11), padding='same', activation='relu'))\n",
        "  model.add(BatchNormalization(momentum=momentum))\n",
        "  \n",
        "  model.add(MaxPool2D())\n",
        "  \n",
        "  model.add(Conv2D(96, (7,7), padding='same', activation='relu'))\n",
        "  model.add(Conv2D(96, (7,7), padding='same', activation='relu'))\n",
        "  # # model.add(BatchNormalization(momentum=momentum))\n",
        "  \n",
        "  # model.add(MaxPool2D())\n",
        "  \n",
        "  # model.add(Conv2D(64, (5,5), padding='same', activation='relu'))\n",
        "  # model.add(Conv2D(64, (5,5), padding='same', activation='relu'))\n",
        "  # model.add(BatchNormalization(momentum=momentum))\n",
        "  \n",
        "  model.add(MaxPool2D())\n",
        "  \n",
        "  model.add(Conv2D(32, (5,5), padding='same', activation='relu'))\n",
        "  model.add(Conv2D(32, (5,5), padding='same', activation='relu'))\n",
        "  # model.add(BatchNormalization(momentum=momentum))\n",
        "  \n",
        "  # flatten...\n",
        "  model.add(GlobalMaxPool2D())\n",
        "  return model"
      ],
      "execution_count": null,
      "outputs": []
    },
    {
      "cell_type": "code",
      "metadata": {
        "id": "Ojt4VVcs96CG"
      },
      "source": [
        "from keras.layers import TimeDistributed, GRU, Dense, Dropout,LSTM\n",
        "def action_model(shape=(40, 320, 240, 3), nbout=1):\n",
        "  # Create our convnet with (320, 240, 3) input shape\n",
        "  convnet = build_convnet(shape[1:])\n",
        "  \n",
        "  # then create our final model\n",
        "  model = keras.Sequential()    # add the convnet with (5, 112, 112, 3) shape\n",
        "  model.add(TimeDistributed(convnet, input_shape=shape))    # here, you can also use GRU or LSTM\n",
        "  model.add(GRU(128))    # and finally, we make a decision network\n",
        "  # model.add(Dense(128, activation='relu'))\n",
        "  # model.add(Dropout(.5))\n",
        "  # model.add(Dense(128, activation='relu'))\n",
        "  model.add(Dropout(.3))\n",
        "  model.add(Dense(128, activation='relu'))\n",
        "  # model.add(Dropout(.5))\n",
        "  model.add(Dense(64, activation='relu'))\n",
        "  model.add(Dense(2, activation='softmax'))\n",
        "  return model"
      ],
      "execution_count": null,
      "outputs": []
    },
    {
      "cell_type": "code",
      "metadata": {
        "id": "RUQbC0db96CK"
      },
      "source": [
        "INSHAPE=(NBFRAME,) + SIZE + (CHANNELS,) # (10, 320, 240, 3)\n",
        "model = action_model(INSHAPE, len(classes))\n",
        "optimizer = keras.optimizers.Adam(0.001)\n",
        "model.compile(\n",
        "    # optimizer,\n",
        "    \"adam\",\n",
        "    'categorical_crossentropy',\n",
        "    metrics=['acc']\n",
        ")"
      ],
      "execution_count": null,
      "outputs": []
    },
    {
      "cell_type": "code",
      "metadata": {
        "id": "XurIdd5696CR",
        "outputId": "cbf8a40a-9db6-40a2-e12f-abc508579c67",
        "colab": {
          "base_uri": "https://localhost:8080/"
        }
      },
      "source": [
        "valid = train.get_validation_generator()\n",
        "test=train.get_test_generator()"
      ],
      "execution_count": null,
      "outputs": [
        {
          "output_type": "stream",
          "text": [
            "Total data: 2 classes for 172 files for validation\n",
            "Total data: 2 classes for 0 files for test\n"
          ],
          "name": "stdout"
        }
      ]
    },
    {
      "cell_type": "code",
      "metadata": {
        "id": "dJ4E1gdK96CW",
        "outputId": "898e85ff-0fe8-4e42-d9b3-6d918cd3669d",
        "colab": {
          "base_uri": "https://localhost:8080/"
        }
      },
      "source": [
        "model.summary()"
      ],
      "execution_count": null,
      "outputs": [
        {
          "output_type": "stream",
          "text": [
            "Model: \"sequential_1\"\n",
            "_________________________________________________________________\n",
            "Layer (type)                 Output Shape              Param #   \n",
            "=================================================================\n",
            "time_distributed (TimeDistri (None, 40, 32)            3186048   \n",
            "_________________________________________________________________\n",
            "gru (GRU)                    (None, 128)               62208     \n",
            "_________________________________________________________________\n",
            "dropout (Dropout)            (None, 128)               0         \n",
            "_________________________________________________________________\n",
            "dense (Dense)                (None, 128)               16512     \n",
            "_________________________________________________________________\n",
            "dense_1 (Dense)              (None, 64)                8256      \n",
            "_________________________________________________________________\n",
            "dense_2 (Dense)              (None, 2)                 130       \n",
            "=================================================================\n",
            "Total params: 3,273,154\n",
            "Trainable params: 3,272,898\n",
            "Non-trainable params: 256\n",
            "_________________________________________________________________\n"
          ],
          "name": "stdout"
        }
      ]
    },
    {
      "cell_type": "code",
      "metadata": {
        "id": "_HFPhHO1WH14",
        "outputId": "df39a556-8f90-4a06-c57c-91ffb0e134ed",
        "colab": {
          "base_uri": "https://localhost:8080/",
          "height": 36
        }
      },
      "source": [
        "import tensorflow as tf\n",
        "tf.test.gpu_device_name()"
      ],
      "execution_count": null,
      "outputs": [
        {
          "output_type": "execute_result",
          "data": {
            "application/vnd.google.colaboratory.intrinsic+json": {
              "type": "string"
            },
            "text/plain": [
              "'/device:GPU:0'"
            ]
          },
          "metadata": {
            "tags": []
          },
          "execution_count": 19
        }
      ]
    },
    {
      "cell_type": "code",
      "metadata": {
        "id": "kD4qChuBOF5z",
        "outputId": "6f685ebf-a530-4cac-c8e2-4ccd0b52dde4",
        "colab": {
          "base_uri": "https://localhost:8080/"
        }
      },
      "source": [
        "EPOCHS=1#\n",
        "#Less complex Model frames and duration<40,nbframes=40,BS=1 ,without callbacks\n",
        "history=model.fit(\n",
        "train,\n",
        "# validation_data=valid,\n",
        "verbose=1,\n",
        "epochs=1\n",
        ")"
      ],
      "execution_count": null,
      "outputs": [
        {
          "output_type": "stream",
          "text": [
            "  2/354 [..............................] - ETA: 8:21 - loss: 0.8682 - acc: 0.0000e+00WARNING:tensorflow:Callbacks method `on_train_batch_end` is slow compared to the batch time (batch time: 0.3968s vs `on_train_batch_end` time: 2.4032s). Check your callbacks.\n",
            "354/354 [==============================] - 1244s 4s/step - loss: 0.7583 - acc: 0.5000\n"
          ],
          "name": "stdout"
        }
      ]
    },
    {
      "cell_type": "code",
      "metadata": {
        "id": "VRxSqu3q96Cf",
        "outputId": "564ea7ef-7644-4ef0-9461-fe531980974d",
        "colab": {
          "base_uri": "https://localhost:8080/"
        }
      },
      "source": [
        "from keras.models import model_from_json\n",
        "model_json = model.to_json()\n",
        "with open(\"/content/drive/My Drive/anomalyseg/model<20-40.json\", \"w\") as json_file:\n",
        "    json_file.write(model_json)\n",
        "# serialize weights to HDF5\n",
        "model.save_weights(\"/content/drive/My Drive/anomalyseg/model<20-40.h5\")\n",
        "print(\"Saved model to disk\")\n",
        " \n",
        "# later...\n",
        " \n",
        "# load json and create model\n",
        "json_file = open('/content/drive/My Drive/anomalyseg/model<20-40.json', 'r')\n",
        "loaded_model_json = json_file.read()\n",
        "json_file.close()\n",
        "loaded_model = model_from_json(loaded_model_json)\n",
        "# load weights into new model\n",
        "loaded_model.load_weights(\"/content/drive/My Drive/anomalyseg/model<20-40.h5\")\n",
        "print(\"Loaded model from disk\")"
      ],
      "execution_count": null,
      "outputs": [
        {
          "output_type": "stream",
          "text": [
            "Saved model to disk\n",
            "Loaded model from disk\n"
          ],
          "name": "stdout"
        }
      ]
    },
    {
      "cell_type": "code",
      "metadata": {
        "id": "EW2Nc0jU96Cj"
      },
      "source": [
        "# model.save_weights('/content/drive/My Drive/anomalyseg/mod5fram')\n",
        "# from keras.models import load_model\n",
        "# xmodel=keras.models.load_model('/content/drive/My Drive/seg/model<5')\n",
        "# xmodel.summary()"
      ],
      "execution_count": null,
      "outputs": []
    },
    {
      "cell_type": "code",
      "metadata": {
        "id": "7Cskc7VP96Cn"
      },
      "source": [
        "loaded_model.compile(\n",
        "    # optimizer,\n",
        "    \"adam\",\n",
        "    'binary_crossentropy',\n",
        "    metrics=['acc']\n",
        ")\n",
        "loaded_model.evaluate(valid)"
      ],
      "execution_count": null,
      "outputs": []
    },
    {
      "cell_type": "code",
      "metadata": {
        "id": "bwvQ0U7S96Cs"
      },
      "source": [
        "from sklearn.metrics import classification_report, confusion_matrix,accuracy_score"
      ],
      "execution_count": null,
      "outputs": []
    },
    {
      "cell_type": "code",
      "metadata": {
        "id": "7-KHxEX296Cx",
        "outputId": "bda6729f-69ac-4cd9-b848-989cf9e8838a",
        "colab": {
          "base_uri": "https://localhost:8080/"
        }
      },
      "source": [
        "temp=list(map(lambda x:x.strip('/content/dataset'),valid.files))\n",
        "temp=list(map(lambda x:x.split('/')[0],temp))\n",
        "temp=list(map(lambda x:\"no\"+x if x=='rm' else x,temp))\n",
        "temp=list(map(lambda x:labels.index(x),temp))\n",
        "# len(temp)\n",
        "len(temp)"
      ],
      "execution_count": null,
      "outputs": [
        {
          "output_type": "execute_result",
          "data": {
            "text/plain": [
              "172"
            ]
          },
          "metadata": {
            "tags": []
          },
          "execution_count": 27
        }
      ]
    },
    {
      "cell_type": "code",
      "metadata": {
        "id": "dmb9f8mm96C1",
        "outputId": "bc75224a-0aa0-4534-fe8b-3b8dd887bf3e",
        "colab": {
          "base_uri": "https://localhost:8080/"
        }
      },
      "source": [
        "#NB Frames=20,highly less complex model with many layers commented out,dataset<40 or frame_count<40\n",
        "batch_size=64\n",
        "y=model.predict(valid)\n",
        "y_pred = np.argmax(y, axis=1)\n",
        "print(\"confusion Matrix\")\n",
        "print(confusion_matrix(temp[:], y_pred))\n",
        "print('Classification Report')\n",
        "target_names = labels\n",
        "print(classification_report(temp[:], y_pred, target_names=target_names))\n",
        "print(accuracy_score(temp[:],y_pred))"
      ],
      "execution_count": null,
      "outputs": [
        {
          "output_type": "stream",
          "text": [
            "confusion Matrix\n",
            "[[88  0]\n",
            " [84  0]]\n",
            "Classification Report\n",
            "              precision    recall  f1-score   support\n",
            "\n",
            "       Crime       0.51      1.00      0.68        88\n",
            "        norm       0.00      0.00      0.00        84\n",
            "\n",
            "    accuracy                           0.51       172\n",
            "   macro avg       0.26      0.50      0.34       172\n",
            "weighted avg       0.26      0.51      0.35       172\n",
            "\n",
            "0.5116279069767442\n"
          ],
          "name": "stdout"
        },
        {
          "output_type": "stream",
          "text": [
            "/usr/local/lib/python3.6/dist-packages/sklearn/metrics/_classification.py:1272: UndefinedMetricWarning: Precision and F-score are ill-defined and being set to 0.0 in labels with no predicted samples. Use `zero_division` parameter to control this behavior.\n",
            "  _warn_prf(average, modifier, msg_start, len(result))\n"
          ],
          "name": "stderr"
        }
      ]
    },
    {
      "cell_type": "markdown",
      "metadata": {
        "id": "w2l6bl_U3ReV"
      },
      "source": [
        "# Number of Frames:40,Kernel 5*5- dense 1 sigmoid"
      ]
    },
    {
      "cell_type": "code",
      "metadata": {
        "id": "IRNqiRek3Ren",
        "outputId": "188eba55-9284-4e49-8198-f8545217a47e",
        "colab": {
          "base_uri": "https://localhost:8080/"
        }
      },
      "source": [
        "import cv2\n",
        "for cls in labels:\n",
        "  temp=os.listdir(\"/content/dataset/\"+cls)\n",
        "  for vid in temp:  \n",
        "    try:\n",
        "      tempy=os.path.join(\"/content/dataset\",cls,vid)\n",
        "      cap = cv2.VideoCapture(\"/content/dataset/\"+cls+\"/\"+vid)\n",
        "      fps = cap.get(cv2.CAP_PROP_FPS)      # OpenCV2 version 2 used \"CV_CAP_PROP_FPS\"\n",
        "      frame_count = int(cap.get(cv2.CAP_PROP_FRAME_COUNT))\n",
        "      # print(tempy,frame_count)\n",
        "      # if(fps!=0):\n",
        "      duration = frame_count/fps\n",
        "      if(duration<20 or frame_count<40):\n",
        "        os.remove(tempy)\n",
        "        print(\"deleted\"+(tempy))\n",
        "      # else:\n",
        "      #   os.remove(tempy)\n",
        "    except:\n",
        "      os.remove(tempy)\n",
        "      print(\"deleted\"+(tempy))\n",
        "    cap.release()"
      ],
      "execution_count": null,
      "outputs": [
        {
          "output_type": "stream",
          "text": [
            "deleted/content/dataset/Crime/Burglary054_x264.mp4\n",
            "deleted/content/dataset/Crime/Shoplifting036_x264.mp4\n",
            "deleted/content/dataset/Crime/Robbery087_x264.mp4\n",
            "deleted/content/dataset/Crime/Shoplifting015_x264.mp4\n",
            "deleted/content/dataset/Crime/Robbery076_x264.mp4\n",
            "deleted/content/dataset/Crime/Robbery098_x264.mp4\n",
            "deleted/content/dataset/Crime/Stealing060_x264.mp4\n",
            "deleted/content/dataset/Crime/Robbery031_x264.mp4\n",
            "deleted/content/dataset/Crime/Robbery032_x264.mp4\n",
            "deleted/content/dataset/Crime/Burglary078_x264.mp4\n",
            "deleted/content/dataset/Crime/Shoplifting044_x264.mp4\n",
            "deleted/content/dataset/Crime/Shoplifting003_x264.mp4\n",
            "deleted/content/dataset/Crime/Robbery044_x264.mp4\n",
            "deleted/content/dataset/Crime/Robbery039_x264.mp4\n",
            "deleted/content/dataset/Crime/Stealing069_x264.mp4\n",
            "deleted/content/dataset/Crime/Robbery012_x264.mp4\n",
            "deleted/content/dataset/Crime/Shoplifting027_x264.mp4\n",
            "deleted/content/dataset/Crime/Stealing095_x264.mp4\n",
            "deleted/content/dataset/Crime/Stealing066_x264.mp4\n",
            "deleted/content/dataset/Crime/Burglary092_x264.mp4\n",
            "deleted/content/dataset/Crime/Robbery003_x264.mp4\n",
            "deleted/content/dataset/Crime/Robbery072_x264.mp4\n",
            "deleted/content/dataset/Crime/Robbery068_x264.mp4\n",
            "deleted/content/dataset/Crime/Shoplifting017_x264.mp4\n",
            "deleted/content/dataset/Crime/Shoplifting033_x264.mp4\n",
            "deleted/content/dataset/Crime/Shoplifting018_x264.mp4\n",
            "deleted/content/dataset/Crime/Burglary059_x264.mp4\n",
            "deleted/content/dataset/Crime/Shoplifting021_x264.mp4\n",
            "deleted/content/dataset/Crime/Robbery053_x264.mp4\n",
            "deleted/content/dataset/Crime/Stealing093_x264.mp4\n",
            "deleted/content/dataset/Crime/Shoplifting020_x264.mp4\n",
            "deleted/content/dataset/Crime/Shoplifting050_x264.mp4\n",
            "deleted/content/dataset/Crime/Shoplifting038_x264.mp4\n",
            "deleted/content/dataset/Crime/Shoplifting037_x264.mp4\n",
            "deleted/content/dataset/Crime/Shoplifting054_x264.mp4\n",
            "deleted/content/dataset/Crime/Shoplifting032_x264.mp4\n",
            "deleted/content/dataset/Crime/Shoplifting019_x264.mp4\n",
            "deleted/content/dataset/Crime/Shoplifting052_x264.mp4\n",
            "deleted/content/dataset/Crime/Stealing067_x264.mp4\n",
            "deleted/content/dataset/Crime/Shoplifting007_x264.mp4\n",
            "deleted/content/dataset/Crime/Shoplifting006_x264.mp4\n",
            "deleted/content/dataset/Crime/Shoplifting031_x264.mp4\n",
            "deleted/content/dataset/Crime/Robbery046_x264.mp4\n",
            "deleted/content/dataset/Crime/Burglary081_x264.mp4\n",
            "deleted/content/dataset/Crime/Shoplifting010_x264.mp4\n",
            "deleted/content/dataset/Crime/Shoplifting012_x264.mp4\n",
            "deleted/content/dataset/Crime/Robbery070_x264.mp4\n",
            "deleted/content/dataset/Crime/Burglary093_x264.mp4\n",
            "deleted/content/dataset/Crime/Robbery089_x264.mp4\n",
            "deleted/content/dataset/Crime/Burglary097_x264.mp4\n",
            "deleted/content/dataset/Crime/Burglary033_x264.mp4\n",
            "deleted/content/dataset/Crime/Stealing012_x264.mp4\n",
            "deleted/content/dataset/Crime/Shoplifting008_x264.mp4\n",
            "deleted/content/dataset/Crime/Robbery074_x264.mp4\n",
            "deleted/content/dataset/Crime/Shoplifting001_x264.mp4\n",
            "deleted/content/dataset/Crime/Shoplifting043_x264.mp4\n",
            "deleted/content/dataset/Crime/Burglary018_x264.mp4\n",
            "deleted/content/dataset/Crime/Stealing024_x264.mp4\n",
            "deleted/content/dataset/Crime/Shoplifting053_x264.mp4\n",
            "deleted/content/dataset/Crime/Robbery092_x264.mp4\n",
            "deleted/content/dataset/Crime/Stealing030_x264.mp4\n",
            "deleted/content/dataset/Crime/Shoplifting004_x264.mp4\n",
            "deleted/content/dataset/Crime/Burglary043_x264.mp4\n",
            "deleted/content/dataset/Crime/Shoplifting039_x264.mp4\n",
            "deleted/content/dataset/Crime/Shoplifting029_x264.mp4\n",
            "deleted/content/dataset/Crime/Burglary038_x264.mp4\n",
            "deleted/content/dataset/Crime/Stealing031_x264.mp4\n",
            "deleted/content/dataset/Crime/Robbery016_x264.mp4\n",
            "deleted/content/dataset/Crime/Stealing029_x264.mp4\n",
            "deleted/content/dataset/Crime/Stealing003_x264.mp4\n",
            "deleted/content/dataset/Crime/Shoplifting024_x264.mp4\n",
            "deleted/content/dataset/Crime/Robbery054_x264.mp4\n",
            "deleted/content/dataset/Crime/Stealing047_x264.mp4\n",
            "deleted/content/dataset/Crime/Shoplifting016_x264.mp4\n",
            "deleted/content/dataset/Crime/Stealing028_x264.mp4\n",
            "deleted/content/dataset/Crime/Robbery001_x264.mp4\n",
            "deleted/content/dataset/Crime/Robbery040_x264.mp4\n",
            "deleted/content/dataset/Crime/Stealing091_x264.mp4\n",
            "deleted/content/dataset/Crime/Burglary050_x264.mp4\n",
            "deleted/content/dataset/norm/Stealing080_x2642.mp4\n",
            "deleted/content/dataset/norm/Robbery082_x2642.mp4\n",
            "deleted/content/dataset/norm/Stealing080_x264.mp4\n",
            "deleted/content/dataset/norm/Burglary054_x264.mp4\n",
            "deleted/content/dataset/norm/Stealing053_x2642.mp4\n",
            "deleted/content/dataset/norm/Burglary099_x264.mp4\n",
            "deleted/content/dataset/norm/Stealing111_x264.mp4\n",
            "deleted/content/dataset/norm/Robbery033_x2642.mp4\n",
            "deleted/content/dataset/norm/Robbery050_x264.mp4\n",
            "deleted/content/dataset/norm/Robbery006_x2642.mp4\n",
            "deleted/content/dataset/norm/Stealing101_x264.mp4\n",
            "deleted/content/dataset/norm/Burglary039_x264.mp4\n",
            "deleted/content/dataset/norm/Shoplifting050_x2642.mp4\n",
            "deleted/content/dataset/norm/Robbery018_x2642.mp4\n",
            "deleted/content/dataset/norm/Robbery038_x264.mp4\n",
            "deleted/content/dataset/norm/Burglary084_x264.mp4\n",
            "deleted/content/dataset/norm/Robbery056_x264.mp4\n",
            "deleted/content/dataset/norm/Robbery066_x264.mp4\n",
            "deleted/content/dataset/norm/Burglary080_x264.mp4\n",
            "deleted/content/dataset/norm/Stealing081_x2642.mp4\n",
            "deleted/content/dataset/norm/Burglary023_x264.mp4\n",
            "deleted/content/dataset/norm/Burglary081_x2642.mp4\n",
            "deleted/content/dataset/norm/Stealing015_x264.mp4\n",
            "deleted/content/dataset/norm/Robbery028_x2642.mp4\n",
            "deleted/content/dataset/norm/Stealing026_x264.mp4\n",
            "deleted/content/dataset/norm/Robbery087_x264.mp4\n",
            "deleted/content/dataset/norm/Burglary089_x2642.mp4\n",
            "deleted/content/dataset/norm/Robbery035_x264.mp4\n",
            "deleted/content/dataset/norm/Shoplifting015_x264.mp4\n",
            "deleted/content/dataset/norm/Robbery024_x264.mp4\n",
            "deleted/content/dataset/norm/Burglary011_x2642.mp4\n",
            "deleted/content/dataset/norm/Burglary047_x264.mp4\n",
            "deleted/content/dataset/norm/Stealing052_x264.mp4\n",
            "deleted/content/dataset/norm/Robbery030_x264.mp4\n",
            "deleted/content/dataset/norm/Burglary006_x2642.mp4\n",
            "deleted/content/dataset/norm/Shoplifting045_x264.mp4\n",
            "deleted/content/dataset/norm/Burglary047_x2642.mp4\n",
            "deleted/content/dataset/norm/Burglary052_x264.mp4\n",
            "deleted/content/dataset/norm/Burglary072_x264.mp4\n",
            "deleted/content/dataset/norm/Robbery021_x2642.mp4\n",
            "deleted/content/dataset/norm/Robbery076_x264.mp4\n",
            "deleted/content/dataset/norm/Stealing054_x264.mp4\n",
            "deleted/content/dataset/norm/Stealing103_x2642.mp4\n",
            "deleted/content/dataset/norm/Stealing087_x2642.mp4\n",
            "deleted/content/dataset/norm/Robbery068_x2642.mp4\n",
            "deleted/content/dataset/norm/Stealing087_x264.mp4\n",
            "deleted/content/dataset/norm/Robbery089_x2642.mp4\n",
            "deleted/content/dataset/norm/Stealing055_x2642.mp4\n",
            "deleted/content/dataset/norm/Shoplifting018_x2642.mp4\n",
            "deleted/content/dataset/norm/Stealing060_x264.mp4\n",
            "deleted/content/dataset/norm/Robbery001_x2642.mp4\n",
            "deleted/content/dataset/norm/Robbery031_x264.mp4\n",
            "deleted/content/dataset/norm/Stealing071_x2642.mp4\n",
            "deleted/content/dataset/norm/Stealing009_x2642.mp4\n",
            "deleted/content/dataset/norm/Burglary012_x2642.mp4\n",
            "deleted/content/dataset/norm/Robbery075_x2642.mp4\n",
            "deleted/content/dataset/norm/Robbery071_x2642.mp4\n",
            "deleted/content/dataset/norm/Robbery034_x2642.mp4\n",
            "deleted/content/dataset/norm/Stealing062_x2642.mp4\n",
            "deleted/content/dataset/norm/Robbery078_x2642.mp4\n",
            "deleted/content/dataset/norm/Shoplifting013_x264.mp4\n",
            "deleted/content/dataset/norm/Burglary084_x2642.mp4\n",
            "deleted/content/dataset/norm/Burglary026_x264.mp4\n",
            "deleted/content/dataset/norm/Robbery013_x2642.mp4\n",
            "deleted/content/dataset/norm/Robbery050_x2642.mp4\n",
            "deleted/content/dataset/norm/Burglary078_x264.mp4\n",
            "deleted/content/dataset/norm/Stealing093_x2642.mp4\n",
            "deleted/content/dataset/norm/Burglary021_x264.mp4\n",
            "deleted/content/dataset/norm/Burglary053_x264.mp4\n",
            "deleted/content/dataset/norm/Shoplifting007_x2642.mp4\n",
            "deleted/content/dataset/norm/Stealing091_x2642.mp4\n",
            "deleted/content/dataset/norm/Stealing042_x264.mp4\n",
            "deleted/content/dataset/norm/Burglary069_x2642.mp4\n",
            "deleted/content/dataset/norm/Stealing049_x2642.mp4\n",
            "deleted/content/dataset/norm/Robbery018_x264.mp4\n",
            "deleted/content/dataset/norm/Burglary035_x264.mp4\n",
            "deleted/content/dataset/norm/Robbery006_x264.mp4\n",
            "deleted/content/dataset/norm/Shoplifting019_x2642.mp4\n",
            "deleted/content/dataset/norm/Robbery023_x264.mp4\n",
            "deleted/content/dataset/norm/Robbery047_x264.mp4\n",
            "deleted/content/dataset/norm/Stealing015_x2642.mp4\n",
            "deleted/content/dataset/norm/Robbery064_x264.mp4\n",
            "deleted/content/dataset/norm/Stealing048_x264.mp4\n",
            "deleted/content/dataset/norm/Stealing011_x2642.mp4\n",
            "deleted/content/dataset/norm/Robbery044_x264.mp4\n",
            "deleted/content/dataset/norm/Stealing044_x264.mp4\n",
            "deleted/content/dataset/norm/Robbery051_x2642.mp4\n",
            "deleted/content/dataset/norm/Robbery065_x2642.mp4\n",
            "deleted/content/dataset/norm/Robbery046_x2642.mp4\n",
            "deleted/content/dataset/norm/Robbery039_x264.mp4\n",
            "deleted/content/dataset/norm/Stealing069_x264.mp4\n",
            "deleted/content/dataset/norm/Burglary037_x264.mp4\n",
            "deleted/content/dataset/norm/Robbery002_x2642.mp4\n",
            "deleted/content/dataset/norm/Burglary017_x2642.mp4\n",
            "deleted/content/dataset/norm/Robbery012_x264.mp4\n",
            "deleted/content/dataset/norm/Robbery007_x2642.mp4\n",
            "deleted/content/dataset/norm/Robbery075_x264.mp4\n",
            "deleted/content/dataset/norm/Burglary014_x2642.mp4\n",
            "deleted/content/dataset/norm/Stealing095_x264.mp4\n",
            "deleted/content/dataset/norm/Burglary066_x2642.mp4\n",
            "deleted/content/dataset/norm/Burglary092_x264.mp4\n",
            "deleted/content/dataset/norm/Burglary055_x2642.mp4\n",
            "deleted/content/dataset/norm/Burglary003_x264.mp4\n",
            "deleted/content/dataset/norm/Burglary098_x264.mp4\n",
            "deleted/content/dataset/norm/Burglary028_x2642.mp4\n",
            "deleted/content/dataset/norm/Burglary067_x264.mp4\n",
            "deleted/content/dataset/norm/Burglary009_x264.mp4\n",
            "deleted/content/dataset/norm/Shoplifting022_x264.mp4\n",
            "deleted/content/dataset/norm/Robbery019_x2642.mp4\n",
            "deleted/content/dataset/norm/Burglary074_x2642.mp4\n",
            "deleted/content/dataset/norm/Stealing023_x264.mp4\n",
            "deleted/content/dataset/norm/Robbery003_x264.mp4\n",
            "deleted/content/dataset/norm/Burglary076_x264.mp4\n",
            "deleted/content/dataset/norm/Robbery087_x2642.mp4\n",
            "deleted/content/dataset/norm/Robbery058_x2642.mp4\n",
            "deleted/content/dataset/norm/Stealing059_x2642.mp4\n",
            "deleted/content/dataset/norm/Stealing105_x2642.mp4\n",
            "deleted/content/dataset/norm/Burglary077_x2642.mp4\n",
            "deleted/content/dataset/norm/Robbery012_x2642.mp4\n",
            "deleted/content/dataset/norm/Robbery068_x264.mp4\n",
            "deleted/content/dataset/norm/Burglary058_x2642.mp4\n",
            "deleted/content/dataset/norm/Robbery063_x2642.mp4\n",
            "deleted/content/dataset/norm/Burglary094_x2642.mp4\n",
            "deleted/content/dataset/norm/Shoplifting049_x264.mp4\n",
            "deleted/content/dataset/norm/Burglary085_x264.mp4\n",
            "deleted/content/dataset/norm/Shoplifting017_x264.mp4\n",
            "deleted/content/dataset/norm/Robbery031_x2642.mp4\n",
            "deleted/content/dataset/norm/Burglary060_x264.mp4\n",
            "deleted/content/dataset/norm/Robbery059_x2642.mp4\n",
            "deleted/content/dataset/norm/Robbery091_x2642.mp4\n",
            "deleted/content/dataset/norm/Robbery042_x264.mp4\n",
            "deleted/content/dataset/norm/Burglary042_x2642.mp4\n",
            "deleted/content/dataset/norm/Shoplifting033_x264.mp4\n",
            "deleted/content/dataset/norm/Robbery015_x264.mp4\n",
            "deleted/content/dataset/norm/Robbery080_x2642.mp4\n",
            "deleted/content/dataset/norm/Burglary013_x2642.mp4\n",
            "deleted/content/dataset/norm/Stealing074_x2642.mp4\n",
            "deleted/content/dataset/norm/Robbery038_x2642.mp4\n",
            "deleted/content/dataset/norm/Stealing098_x264.mp4\n",
            "deleted/content/dataset/norm/Burglary059_x264.mp4\n",
            "deleted/content/dataset/norm/Robbery077_x264.mp4\n",
            "deleted/content/dataset/norm/Burglary078_x2642.mp4\n",
            "deleted/content/dataset/norm/Burglary070_x264.mp4\n",
            "deleted/content/dataset/norm/Burglary022_x2642.mp4\n",
            "deleted/content/dataset/norm/Burglary059_x2642.mp4\n",
            "deleted/content/dataset/norm/Robbery057_x2642.mp4\n",
            "deleted/content/dataset/norm/Robbery049_x2642.mp4\n",
            "deleted/content/dataset/norm/Stealing093_x264.mp4\n",
            "deleted/content/dataset/norm/Robbery074_x2642.mp4\n",
            "deleted/content/dataset/norm/Stealing108_x264.mp4\n",
            "deleted/content/dataset/norm/Burglary025_x2642.mp4\n",
            "deleted/content/dataset/norm/Stealing004_x264.mp4\n",
            "deleted/content/dataset/norm/Stealing110_x2642.mp4\n",
            "deleted/content/dataset/norm/Stealing104_x2642.mp4\n",
            "deleted/content/dataset/norm/Robbery058_x264.mp4\n",
            "deleted/content/dataset/norm/Shoplifting028_x264.mp4\n",
            "deleted/content/dataset/norm/Robbery079_x2642.mp4\n",
            "deleted/content/dataset/norm/Stealing070_x264.mp4\n",
            "deleted/content/dataset/norm/Burglary088_x2642.mp4\n",
            "deleted/content/dataset/norm/Shoplifting013_x2642.mp4\n",
            "deleted/content/dataset/norm/Stealing112_x264.mp4\n",
            "deleted/content/dataset/norm/Stealing102_x264.mp4\n",
            "deleted/content/dataset/norm/Robbery085_x2642.mp4\n",
            "deleted/content/dataset/norm/Shoplifting038_x264.mp4\n",
            "deleted/content/dataset/norm/Burglary020_x2642.mp4\n",
            "deleted/content/dataset/norm/Robbery085_x264.mp4\n",
            "deleted/content/dataset/norm/Robbery095_x264.mp4\n",
            "deleted/content/dataset/norm/Burglary092_x2642.mp4\n",
            "deleted/content/dataset/norm/Burglary042_x264.mp4\n",
            "deleted/content/dataset/norm/Burglary058_x264.mp4\n",
            "deleted/content/dataset/norm/Burglary091_x2642.mp4\n",
            "deleted/content/dataset/norm/Robbery069_x264.mp4\n",
            "deleted/content/dataset/norm/Robbery023_x2642.mp4\n",
            "deleted/content/dataset/norm/Stealing072_x264.mp4\n",
            "deleted/content/dataset/norm/Burglary012_x264.mp4\n",
            "deleted/content/dataset/norm/Robbery043_x264.mp4\n",
            "deleted/content/dataset/norm/Stealing009_x264.mp4\n",
            "deleted/content/dataset/norm/Shoplifting054_x2642.mp4\n",
            "deleted/content/dataset/norm/Burglary069_x264.mp4\n",
            "deleted/content/dataset/norm/Shoplifting037_x264.mp4\n",
            "deleted/content/dataset/norm/Robbery081_x264.mp4\n",
            "deleted/content/dataset/norm/Robbery083_x264.mp4\n",
            "deleted/content/dataset/norm/Stealing110_x264.mp4\n",
            "deleted/content/dataset/norm/Robbery025_x264.mp4\n",
            "deleted/content/dataset/norm/Robbery092_x2642.mp4\n",
            "deleted/content/dataset/norm/Burglary051_x2642.mp4\n",
            "deleted/content/dataset/norm/Burglary029_x2642.mp4\n",
            "deleted/content/dataset/norm/Shoplifting054_x264.mp4\n",
            "deleted/content/dataset/norm/Burglary100_x264.mp4\n",
            "deleted/content/dataset/norm/Burglary032_x2642.mp4\n",
            "deleted/content/dataset/norm/Robbery024_x2642.mp4\n",
            "deleted/content/dataset/norm/Burglary019_x264.mp4\n",
            "deleted/content/dataset/norm/Burglary021_x2642.mp4\n",
            "deleted/content/dataset/norm/Robbery025_x2642.mp4\n",
            "deleted/content/dataset/norm/Shoplifting019_x264.mp4\n",
            "deleted/content/dataset/norm/Burglary083_x264.mp4\n",
            "deleted/content/dataset/norm/Robbery033_x264.mp4\n",
            "deleted/content/dataset/norm/Burglary060_x2642.mp4\n",
            "deleted/content/dataset/norm/Stealing022_x264.mp4\n",
            "deleted/content/dataset/norm/Robbery048_x264.mp4\n",
            "deleted/content/dataset/norm/Stealing095_x2642.mp4\n",
            "deleted/content/dataset/norm/Burglary034_x264.mp4\n",
            "deleted/content/dataset/norm/Burglary035_x2642.mp4\n",
            "deleted/content/dataset/norm/Stealing016_x2642.mp4\n",
            "deleted/content/dataset/norm/Robbery051_x264.mp4\n",
            "deleted/content/dataset/norm/Robbery003_x2642.mp4\n",
            "deleted/content/dataset/norm/Burglary086_x264.mp4\n",
            "deleted/content/dataset/norm/Stealing082_x264.mp4\n",
            "deleted/content/dataset/norm/Burglary022_x264.mp4\n",
            "deleted/content/dataset/norm/Robbery011_x2642.mp4\n",
            "deleted/content/dataset/norm/Burglary053_x2642.mp4\n",
            "deleted/content/dataset/norm/Stealing104_x264.mp4\n",
            "deleted/content/dataset/norm/Robbery088_x264.mp4\n",
            "deleted/content/dataset/norm/Shoplifting028_x2642.mp4\n",
            "deleted/content/dataset/norm/Robbery060_x2642.mp4\n",
            "deleted/content/dataset/norm/Robbery004_x2642.mp4\n",
            "deleted/content/dataset/norm/Robbery061_x2642.mp4\n",
            "deleted/content/dataset/norm/Robbery057_x264.mp4\n",
            "deleted/content/dataset/norm/Shoplifting031_x264.mp4\n",
            "deleted/content/dataset/norm/Robbery100_x264.mp4\n",
            "deleted/content/dataset/norm/Stealing055_x264.mp4\n",
            "deleted/content/dataset/norm/Burglary088_x264.mp4\n",
            "deleted/content/dataset/norm/Robbery066_x2642.mp4\n",
            "deleted/content/dataset/norm/Stealing071_x264.mp4\n",
            "deleted/content/dataset/norm/Stealing107_x264.mp4\n",
            "deleted/content/dataset/norm/Robbery046_x264.mp4\n",
            "deleted/content/dataset/norm/Burglary073_x264.mp4\n",
            "deleted/content/dataset/norm/Robbery056_x2642.mp4\n",
            "deleted/content/dataset/norm/Burglary081_x264.mp4\n",
            "deleted/content/dataset/norm/Stealing081_x264.mp4\n",
            "deleted/content/dataset/norm/Burglary054_x2642.mp4\n",
            "deleted/content/dataset/norm/Stealing021_x264.mp4\n",
            "deleted/content/dataset/norm/Stealing018_x264.mp4\n",
            "deleted/content/dataset/norm/Burglary068_x264.mp4\n",
            "deleted/content/dataset/norm/Burglary080_x2642.mp4\n",
            "deleted/content/dataset/norm/Robbery072_x2642.mp4\n",
            "deleted/content/dataset/norm/Stealing102_x2642.mp4\n",
            "deleted/content/dataset/norm/Robbery070_x264.mp4\n",
            "deleted/content/dataset/norm/Robbery047_x2642.mp4\n",
            "deleted/content/dataset/norm/Stealing030_x2642.mp4\n",
            "deleted/content/dataset/norm/Burglary014_x264.mp4\n",
            "deleted/content/dataset/norm/Burglary093_x264.mp4\n",
            "deleted/content/dataset/norm/Burglary091_x264.mp4\n",
            "deleted/content/dataset/norm/Burglary077_x264.mp4\n",
            "deleted/content/dataset/norm/Robbery064_x2642.mp4\n",
            "deleted/content/dataset/norm/Stealing043_x2642.mp4\n",
            "deleted/content/dataset/norm/Robbery079_x264.mp4\n",
            "deleted/content/dataset/norm/Robbery007_x264.mp4\n",
            "deleted/content/dataset/norm/Burglary046_x264.mp4\n",
            "deleted/content/dataset/norm/Burglary027_x2642.mp4\n",
            "deleted/content/dataset/norm/Robbery065_x264.mp4\n",
            "deleted/content/dataset/norm/Stealing050_x2642.mp4\n",
            "deleted/content/dataset/norm/Burglary049_x2642.mp4\n",
            "deleted/content/dataset/norm/Stealing089_x2642.mp4\n",
            "deleted/content/dataset/norm/Robbery071_x264.mp4\n",
            "deleted/content/dataset/norm/Stealing031_x2642.mp4\n",
            "deleted/content/dataset/norm/Burglary019_x2642.mp4\n",
            "deleted/content/dataset/norm/Burglary082_x264.mp4\n",
            "deleted/content/dataset/norm/Robbery048_x2642.mp4\n",
            "deleted/content/dataset/norm/Robbery089_x264.mp4\n",
            "deleted/content/dataset/norm/Stealing068_x264.mp4\n",
            "deleted/content/dataset/norm/Burglary097_x264.mp4\n",
            "deleted/content/dataset/norm/Robbery095_x2642.mp4\n",
            "deleted/content/dataset/norm/Burglary030_x2642.mp4\n",
            "deleted/content/dataset/norm/Burglary089_x264.mp4\n",
            "deleted/content/dataset/norm/Stealing029_x2642.mp4\n",
            "deleted/content/dataset/norm/Stealing027_x2642.mp4\n",
            "deleted/content/dataset/norm/Burglary002_x264.mp4\n",
            "deleted/content/dataset/norm/Burglary036_x2642.mp4\n",
            "deleted/content/dataset/norm/Robbery019_x264.mp4\n",
            "deleted/content/dataset/norm/Burglary004_x2642.mp4\n",
            "deleted/content/dataset/norm/Robbery030_x2642.mp4\n",
            "deleted/content/dataset/norm/Stealing037_x2642.mp4\n",
            "deleted/content/dataset/norm/Robbery041_x2642.mp4\n",
            "deleted/content/dataset/norm/Burglary090_x2642.mp4\n",
            "deleted/content/dataset/norm/Stealing094_x2642.mp4\n",
            "deleted/content/dataset/norm/Burglary037_x2642.mp4\n",
            "deleted/content/dataset/norm/Robbery044_x2642.mp4\n",
            "deleted/content/dataset/norm/Burglary074_x264.mp4\n",
            "deleted/content/dataset/norm/Robbery049_x264.mp4\n",
            "deleted/content/dataset/norm/Robbery008_x2642.mp4\n",
            "deleted/content/dataset/norm/Stealing106_x264.mp4\n",
            "deleted/content/dataset/norm/Robbery084_x2642.mp4\n",
            "deleted/content/dataset/norm/Robbery027_x264.mp4\n",
            "deleted/content/dataset/norm/Stealing052_x2642.mp4\n",
            "deleted/content/dataset/norm/Burglary099_x2642.mp4\n",
            "deleted/content/dataset/norm/Burglary055_x264.mp4\n",
            "deleted/content/dataset/norm/Burglary016_x264.mp4\n",
            "deleted/content/dataset/norm/Burglary024_x2642.mp4\n",
            "deleted/content/dataset/norm/Robbery062_x2642.mp4\n",
            "deleted/content/dataset/norm/Burglary034_x2642.mp4\n",
            "deleted/content/dataset/norm/Burglary087_x264.mp4\n",
            "deleted/content/dataset/norm/Burglary011_x264.mp4\n",
            "deleted/content/dataset/norm/Burglary036_x264.mp4\n",
            "deleted/content/dataset/norm/Burglary028_x264.mp4\n",
            "deleted/content/dataset/norm/Stealing018_x2642.mp4\n",
            "deleted/content/dataset/norm/Burglary025_x264.mp4\n",
            "deleted/content/dataset/norm/Robbery099_x2642.mp4\n",
            "deleted/content/dataset/norm/Stealing114_x264.mp4\n",
            "deleted/content/dataset/norm/Stealing070_x2642.mp4\n",
            "deleted/content/dataset/norm/Burglary051_x264.mp4\n",
            "deleted/content/dataset/norm/Shoplifting048_x2642.mp4\n",
            "deleted/content/dataset/norm/Burglary007_x264.mp4\n",
            "deleted/content/dataset/norm/Shoplifting026_x2642.mp4\n",
            "deleted/content/dataset/norm/Shoplifting009_x264.mp4\n",
            "deleted/content/dataset/norm/Stealing097_x2642.mp4\n",
            "deleted/content/dataset/norm/Burglary071_x2642.mp4\n",
            "deleted/content/dataset/norm/Robbery074_x264.mp4\n",
            "deleted/content/dataset/norm/Burglary018_x264.mp4\n",
            "deleted/content/dataset/norm/Burglary048_x2642.mp4\n",
            "deleted/content/dataset/norm/Burglary085_x2642.mp4\n",
            "deleted/content/dataset/norm/Burglary043_x2642.mp4\n",
            "deleted/content/dataset/norm/Robbery052_x264.mp4\n",
            "deleted/content/dataset/norm/Burglary002_x2642.mp4\n",
            "deleted/content/dataset/norm/Burglary008_x2642.mp4\n",
            "deleted/content/dataset/norm/Robbery005_x2642.mp4\n",
            "deleted/content/dataset/norm/Robbery013_x264.mp4\n",
            "deleted/content/dataset/norm/Stealing107_x2642.mp4\n",
            "deleted/content/dataset/norm/Stealing078_x264.mp4\n",
            "deleted/content/dataset/norm/Burglary001_x2642.mp4\n",
            "deleted/content/dataset/norm/Robbery076_x2642.mp4\n",
            "deleted/content/dataset/norm/Burglary023_x2642.mp4\n",
            "deleted/content/dataset/norm/Burglary057_x2642.mp4\n",
            "deleted/content/dataset/norm/Shoplifting053_x264.mp4\n",
            "deleted/content/dataset/norm/Stealing027_x264.mp4\n",
            "deleted/content/dataset/norm/Stealing050_x264.mp4\n",
            "deleted/content/dataset/norm/Robbery022_x2642.mp4\n",
            "deleted/content/dataset/norm/Stealing061_x2642.mp4\n",
            "deleted/content/dataset/norm/Burglary004_x264.mp4\n",
            "deleted/content/dataset/norm/Burglary031_x264.mp4\n",
            "deleted/content/dataset/norm/Burglary030_x264.mp4\n",
            "deleted/content/dataset/norm/Stealing061_x264.mp4\n",
            "deleted/content/dataset/norm/Burglary067_x2642.mp4\n",
            "deleted/content/dataset/norm/Stealing062_x264.mp4\n",
            "deleted/content/dataset/norm/Robbery081_x2642.mp4\n",
            "deleted/content/dataset/norm/Stealing014_x264.mp4\n",
            "deleted/content/dataset/norm/Burglary100_x2642.mp4\n",
            "deleted/content/dataset/norm/Shoplifting025_x264.mp4\n",
            "deleted/content/dataset/norm/Shoplifting022_x2642.mp4\n",
            "deleted/content/dataset/norm/Burglary086_x2642.mp4\n",
            "deleted/content/dataset/norm/Stealing030_x264.mp4\n",
            "deleted/content/dataset/norm/Burglary015_x2642.mp4\n",
            "deleted/content/dataset/norm/Burglary056_x264.mp4\n",
            "deleted/content/dataset/norm/Burglary043_x264.mp4\n",
            "deleted/content/dataset/norm/Shoplifting039_x264.mp4\n",
            "deleted/content/dataset/norm/Shoplifting016_x2642.mp4\n",
            "deleted/content/dataset/norm/Burglary038_x264.mp4\n",
            "deleted/content/dataset/norm/Shoplifting026_x264.mp4\n",
            "deleted/content/dataset/norm/Burglary049_x264.mp4\n",
            "deleted/content/dataset/norm/Burglary093_x2642.mp4\n",
            "deleted/content/dataset/norm/Stealing008_x264.mp4\n",
            "deleted/content/dataset/norm/Stealing011_x264.mp4\n",
            "deleted/content/dataset/norm/Stealing031_x264.mp4\n",
            "deleted/content/dataset/norm/Burglary007_x2642.mp4\n",
            "deleted/content/dataset/norm/Robbery016_x264.mp4\n",
            "deleted/content/dataset/norm/Stealing112_x2642.mp4\n",
            "deleted/content/dataset/norm/Burglary040_x264.mp4\n",
            "deleted/content/dataset/norm/Stealing029_x264.mp4\n",
            "deleted/content/dataset/norm/Stealing058_x2642.mp4\n",
            "deleted/content/dataset/norm/Robbery091_x264.mp4\n",
            "deleted/content/dataset/norm/Stealing078_x2642.mp4\n",
            "deleted/content/dataset/norm/Stealing073_x2642.mp4\n",
            "deleted/content/dataset/norm/Burglary015_x264.mp4\n",
            "deleted/content/dataset/norm/Stealing059_x264.mp4\n",
            "deleted/content/dataset/norm/Stealing006_x264.mp4\n",
            "deleted/content/dataset/norm/Burglary090_x264.mp4\n",
            "deleted/content/dataset/norm/Burglary041_x2642.mp4\n",
            "deleted/content/dataset/norm/Stealing114_x2642.mp4\n",
            "deleted/content/dataset/norm/Stealing017_x2642.mp4\n",
            "deleted/content/dataset/norm/Robbery082_x264.mp4\n",
            "deleted/content/dataset/norm/Burglary068_x2642.mp4\n",
            "deleted/content/dataset/norm/Shoplifting025_x2642.mp4\n",
            "deleted/content/dataset/norm/Burglary026_x2642.mp4\n",
            "deleted/content/dataset/norm/Shoplifting024_x264.mp4\n",
            "deleted/content/dataset/norm/Robbery069_x2642.mp4\n",
            "deleted/content/dataset/norm/Burglary057_x264.mp4\n",
            "deleted/content/dataset/norm/Burglary087_x2642.mp4\n",
            "deleted/content/dataset/norm/Robbery022_x264.mp4\n",
            "deleted/content/dataset/norm/Burglary075_x264.mp4\n",
            "deleted/content/dataset/norm/Stealing049_x264.mp4\n",
            "deleted/content/dataset/norm/Robbery054_x264.mp4\n",
            "deleted/content/dataset/norm/Burglary013_x264.mp4\n",
            "deleted/content/dataset/norm/Burglary003_x2642.mp4\n",
            "deleted/content/dataset/norm/Burglary070_x2642.mp4\n",
            "deleted/content/dataset/norm/Burglary050_x2642.mp4\n",
            "deleted/content/dataset/norm/Shoplifting045_x2642.mp4\n",
            "deleted/content/dataset/norm/Robbery009_x264.mp4\n",
            "deleted/content/dataset/norm/Robbery011_x264.mp4\n",
            "deleted/content/dataset/norm/Stealing113_x264.mp4\n",
            "deleted/content/dataset/norm/Stealing066_x2642.mp4\n",
            "deleted/content/dataset/norm/Robbery073_x264.mp4\n",
            "deleted/content/dataset/norm/Burglary056_x2642.mp4\n",
            "deleted/content/dataset/norm/Stealing010_x264.mp4\n",
            "deleted/content/dataset/norm/Burglary096_x264.mp4\n",
            "deleted/content/dataset/norm/Burglary001_x264.mp4\n",
            "deleted/content/dataset/norm/Burglary027_x264.mp4\n",
            "deleted/content/dataset/norm/Robbery015_x2642.mp4\n",
            "deleted/content/dataset/norm/Burglary005_x264.mp4\n",
            "deleted/content/dataset/norm/Robbery008_x264.mp4\n",
            "deleted/content/dataset/norm/Stealing028_x264.mp4\n",
            "deleted/content/dataset/norm/Stealing069_x2642.mp4\n",
            "deleted/content/dataset/norm/Shoplifting031_x2642.mp4\n",
            "deleted/content/dataset/norm/Stealing037_x264.mp4\n",
            "deleted/content/dataset/norm/Shoplifting040_x2642.mp4\n",
            "deleted/content/dataset/norm/Stealing060_x2642.mp4\n",
            "deleted/content/dataset/norm/Burglary048_x264.mp4\n",
            "deleted/content/dataset/norm/Robbery084_x264.mp4\n",
            "deleted/content/dataset/norm/Robbery001_x264.mp4\n",
            "deleted/content/dataset/norm/Burglary072_x2642.mp4\n",
            "deleted/content/dataset/norm/Robbery040_x264.mp4\n",
            "deleted/content/dataset/norm/Robbery088_x2642.mp4\n",
            "deleted/content/dataset/norm/Robbery041_x264.mp4\n",
            "deleted/content/dataset/norm/Stealing100_x264.mp4\n",
            "deleted/content/dataset/norm/Stealing091_x264.mp4\n",
            "deleted/content/dataset/norm/Stealing065_x264.mp4\n",
            "deleted/content/dataset/norm/Burglary029_x264.mp4\n",
            "deleted/content/dataset/norm/Burglary041_x264.mp4\n",
            "deleted/content/dataset/norm/Burglary050_x264.mp4\n",
            "deleted/content/dataset/norm/Stealing017_x264.mp4\n",
            "deleted/content/dataset/norm/Shoplifting017_x2642.mp4\n",
            "deleted/content/dataset/norm/Shoplifting047_x264.mp4\n"
          ],
          "name": "stdout"
        }
      ]
    },
    {
      "cell_type": "code",
      "metadata": {
        "id": "tgS3Mp203Re_",
        "outputId": "7a54baae-c689-4ad5-b8a2-23881e6d278f",
        "colab": {
          "base_uri": "https://localhost:8080/"
        }
      },
      "source": [
        "import os\n",
        "import glob\n",
        "import keras\n",
        "classes=labels\n",
        "classes.sort()# some global params\n",
        "SIZE = (320, 240)\n",
        "CHANNELS = 3\n",
        "NBFRAME = 40\n",
        "BS = 1# pattern to get videos and classes\n",
        "glob_pattern='/content/dataset/{classname}/*.mp4'# for data augmentation\n",
        "data_aug = keras.preprocessing.image.ImageDataGenerator(\n",
        "  zoom_range=.1,\n",
        "  horizontal_flip=True,\n",
        "  rotation_range=8,\n",
        "  width_shift_range=.2,\n",
        "  height_shift_range=.2)# Create video frame generator\n",
        "train = VideoFrameGenerator(\n",
        "  classes=classes, \n",
        "  glob_pattern=glob_pattern,\n",
        "  nb_frames=NBFRAME,\n",
        "  split=.33, \n",
        "  shuffle=True,\n",
        "  batch_size=BS,\n",
        "  target_shape=SIZE,\n",
        "  nb_channel=CHANNELS,\n",
        "  transformation=data_aug,use_frame_cache=True)"
      ],
      "execution_count": null,
      "outputs": [
        {
          "output_type": "stream",
          "text": [
            "Warning, `split` argument is replaced by `split_val`, please condider to change your source code.The `split` argument will be removed in future releases.\n"
          ],
          "name": "stderr"
        },
        {
          "output_type": "stream",
          "text": [
            "class Crime, validation count: 65, train count: 134\n",
            "class norm, validation count: 50, train count: 103\n",
            "Total data: 2 classes for 237 files for train\n"
          ],
          "name": "stdout"
        }
      ]
    },
    {
      "cell_type": "code",
      "metadata": {
        "id": "if1WZw843RfL"
      },
      "source": [
        "from keras.layers import Conv2D, BatchNormalization, MaxPool2D, GlobalMaxPool2D\n",
        "def build_convnet(shape=(320, 240, 3)):\n",
        "  momentum = .9\n",
        "  model = keras.Sequential()\n",
        "  model.add(Conv2D(128, (11,11), input_shape=shape,\n",
        "      padding='same', activation='relu'))\n",
        "  model.add(Conv2D(128, (11,11), padding='same', activation='relu'))\n",
        "  model.add(BatchNormalization(momentum=momentum))\n",
        "  \n",
        "  model.add(MaxPool2D())\n",
        "  \n",
        "  model.add(Conv2D(96, (7,7), padding='same', activation='relu'))\n",
        "  model.add(Conv2D(96, (7,7), padding='same', activation='relu'))\n",
        "  # # model.add(BatchNormalization(momentum=momentum))\n",
        "  \n",
        "  # model.add(MaxPool2D())\n",
        "  \n",
        "  # model.add(Conv2D(64, (5,5), padding='same', activation='relu'))\n",
        "  # model.add(Conv2D(64, (5,5), padding='same', activation='relu'))\n",
        "  # model.add(BatchNormalization(momentum=momentum))\n",
        "  \n",
        "  model.add(MaxPool2D())\n",
        "  \n",
        "  model.add(Conv2D(32, (5,5), padding='same', activation='relu'))\n",
        "  model.add(Conv2D(32, (5,5), padding='same', activation='relu'))\n",
        "  # model.add(BatchNormalization(momentum=momentum))\n",
        "  \n",
        "  # flatten...\n",
        "  model.add(GlobalMaxPool2D())\n",
        "  return model"
      ],
      "execution_count": null,
      "outputs": []
    },
    {
      "cell_type": "code",
      "metadata": {
        "id": "hk2K_p5r3RfS"
      },
      "source": [
        "from keras.layers import TimeDistributed, GRU, Dense, Dropout,LSTM\n",
        "def action_model(shape=(40, 320, 240, 3), nbout=1):\n",
        "  # Create our convnet with (320, 240, 3) input shape\n",
        "  convnet = build_convnet(shape[1:])\n",
        "  \n",
        "  # then create our final model\n",
        "  model = keras.Sequential()    # add the convnet with (5, 112, 112, 3) shape\n",
        "  model.add(TimeDistributed(convnet, input_shape=shape))    # here, you can also use GRU or LSTM\n",
        "  model.add(GRU(128))    # and finally, we make a decision network\n",
        "  # model.add(Dense(128, activation='relu'))\n",
        "  # model.add(Dropout(.5))\n",
        "  # model.add(Dense(128, activation='relu'))\n",
        "  model.add(Dropout(.3))\n",
        "  model.add(Dense(128, activation='relu'))\n",
        "  # model.add(Dropout(.5))\n",
        "  model.add(Dense(64, activation='relu'))\n",
        "  model.add(Dense(1, activation='sigmoid'))\n",
        "  return model"
      ],
      "execution_count": null,
      "outputs": []
    },
    {
      "cell_type": "code",
      "metadata": {
        "id": "Da9Nkl6t3RfY"
      },
      "source": [
        "INSHAPE=(NBFRAME,) + SIZE + (CHANNELS,) # (10, 320, 240, 3)\n",
        "model = action_model(INSHAPE, len(classes))\n",
        "optimizer = keras.optimizers.Adam(0.001)\n",
        "model.compile(\n",
        "    # optimizer,\n",
        "    \"adam\",\n",
        "    'binary_crossentropy',\n",
        "    metrics=['acc']\n",
        ")"
      ],
      "execution_count": null,
      "outputs": []
    },
    {
      "cell_type": "code",
      "metadata": {
        "id": "DV5_oMXR3Rfe",
        "outputId": "aec32d51-d728-478c-d364-cfcad0366964",
        "colab": {
          "base_uri": "https://localhost:8080/"
        }
      },
      "source": [
        "valid = train.get_validation_generator()\n",
        "test=train.get_test_generator()"
      ],
      "execution_count": null,
      "outputs": [
        {
          "output_type": "stream",
          "text": [
            "Total data: 2 classes for 115 files for validation\n",
            "Total data: 2 classes for 0 files for test\n"
          ],
          "name": "stdout"
        }
      ]
    },
    {
      "cell_type": "code",
      "metadata": {
        "id": "56ZWhuOj3Rfh",
        "outputId": "7a9255b3-8cc1-48c8-fcf7-77cd569b68fd",
        "colab": {
          "base_uri": "https://localhost:8080/"
        }
      },
      "source": [
        "model.summary()"
      ],
      "execution_count": null,
      "outputs": [
        {
          "output_type": "stream",
          "text": [
            "Model: \"sequential_5\"\n",
            "_________________________________________________________________\n",
            "Layer (type)                 Output Shape              Param #   \n",
            "=================================================================\n",
            "time_distributed_2 (TimeDist (None, 40, 32)            3186048   \n",
            "_________________________________________________________________\n",
            "gru_2 (GRU)                  (None, 128)               62208     \n",
            "_________________________________________________________________\n",
            "dropout_2 (Dropout)          (None, 128)               0         \n",
            "_________________________________________________________________\n",
            "dense_6 (Dense)              (None, 128)               16512     \n",
            "_________________________________________________________________\n",
            "dense_7 (Dense)              (None, 64)                8256      \n",
            "_________________________________________________________________\n",
            "dense_8 (Dense)              (None, 1)                 65        \n",
            "=================================================================\n",
            "Total params: 3,273,089\n",
            "Trainable params: 3,272,833\n",
            "Non-trainable params: 256\n",
            "_________________________________________________________________\n"
          ],
          "name": "stdout"
        }
      ]
    },
    {
      "cell_type": "code",
      "metadata": {
        "id": "RtQDvTL13Rfm",
        "outputId": "7355a192-6481-41ad-90ad-fe80dfb3e65a",
        "colab": {
          "base_uri": "https://localhost:8080/",
          "height": 36
        }
      },
      "source": [
        "import tensorflow as tf\n",
        "tf.test.gpu_device_name()"
      ],
      "execution_count": null,
      "outputs": [
        {
          "output_type": "execute_result",
          "data": {
            "application/vnd.google.colaboratory.intrinsic+json": {
              "type": "string"
            },
            "text/plain": [
              "'/device:GPU:0'"
            ]
          },
          "metadata": {
            "tags": []
          },
          "execution_count": 43
        }
      ]
    },
    {
      "cell_type": "code",
      "metadata": {
        "id": "3LyPT7Ks3Rfq",
        "outputId": "9305d9ec-8428-4ec8-abc2-f3c12c633cc8",
        "colab": {
          "base_uri": "https://localhost:8080/"
        }
      },
      "source": [
        "EPOCHS=1#\n",
        "#Less complex Model frames and duration<40,nbframes=40,BS=1 ,without callbacks\n",
        "history=model.fit(\n",
        "train,\n",
        "# validation_data=valid,\n",
        "verbose=1,\n",
        "epochs=1\n",
        ")"
      ],
      "execution_count": null,
      "outputs": [
        {
          "output_type": "stream",
          "text": [
            "  2/237 [..............................] - ETA: 5:35 - loss: 0.7131 - acc: 0.5000WARNING:tensorflow:Callbacks method `on_train_batch_end` is slow compared to the batch time (batch time: 0.3941s vs `on_train_batch_end` time: 2.4097s). Check your callbacks.\n",
            "237/237 [==============================] - 916s 4s/step - loss: 0.7015 - acc: 0.5000\n"
          ],
          "name": "stdout"
        }
      ]
    },
    {
      "cell_type": "code",
      "metadata": {
        "id": "BmcjSW1X3Rft",
        "outputId": "7c18a8dd-4840-4e0e-cadb-7d3e664c6c24",
        "colab": {
          "base_uri": "https://localhost:8080/"
        }
      },
      "source": [
        "from keras.models import model_from_json\n",
        "model_json = model.to_json()\n",
        "with open(\"/content/drive/My Drive/anomalyseg/model<20-40-sigmoid.json\", \"w\") as json_file:\n",
        "    json_file.write(model_json)\n",
        "# serialize weights to HDF5\n",
        "model.save_weights(\"/content/drive/My Drive/anomalyseg/model<20-40-sigmoid.h5\")\n",
        "print(\"Saved model to disk\")\n",
        " \n",
        "# later...\n",
        " \n",
        "# load json and create model\n",
        "json_file = open('/content/drive/My Drive/anomalyseg/model<20-40-sigmoid.json', 'r')\n",
        "loaded_model_json = json_file.read()\n",
        "json_file.close()\n",
        "loaded_model = model_from_json(loaded_model_json)\n",
        "# load weights into new model\n",
        "loaded_model.load_weights(\"/content/drive/My Drive/anomalyseg/model<20-40-sigmoid.h5\")\n",
        "print(\"Loaded model from disk\")"
      ],
      "execution_count": null,
      "outputs": [
        {
          "output_type": "stream",
          "text": [
            "Saved model to disk\n",
            "Loaded model from disk\n"
          ],
          "name": "stdout"
        }
      ]
    },
    {
      "cell_type": "code",
      "metadata": {
        "id": "HJCiBZIn3Rfx"
      },
      "source": [
        "# model.save_weights('/content/drive/My Drive/anomalyseg/mod5fram')\n",
        "# from keras.models import load_model\n",
        "# xmodel=keras.models.load_model('/content/drive/My Drive/seg/model<5')\n",
        "# xmodel.summary()"
      ],
      "execution_count": null,
      "outputs": []
    },
    {
      "cell_type": "code",
      "metadata": {
        "id": "bYr40glC3Rf2"
      },
      "source": [
        "loaded_model.compile(\n",
        "    # optimizer,\n",
        "    \"adam\",\n",
        "    'binary_crossentropy',\n",
        "    metrics=['acc']\n",
        ")\n",
        "loaded_model.evaluate(valid)"
      ],
      "execution_count": null,
      "outputs": []
    },
    {
      "cell_type": "code",
      "metadata": {
        "id": "k6Wa4vn53Rf5"
      },
      "source": [
        "from sklearn.metrics import classification_report, confusion_matrix,accuracy_score"
      ],
      "execution_count": null,
      "outputs": []
    },
    {
      "cell_type": "code",
      "metadata": {
        "id": "fCge6Uow3Rf8",
        "outputId": "912e168e-c39d-4be0-dbc8-a56b8a2e3611",
        "colab": {
          "base_uri": "https://localhost:8080/"
        }
      },
      "source": [
        "temp=list(map(lambda x:x.strip('/content/dataset'),valid.files))\n",
        "temp=list(map(lambda x:x.split('/')[0],temp))\n",
        "temp=list(map(lambda x:\"no\"+x if x=='rm' else x,temp))\n",
        "temp=list(map(lambda x:labels.index(x),temp))\n",
        "# len(temp)\n",
        "len(temp)"
      ],
      "execution_count": null,
      "outputs": [
        {
          "output_type": "execute_result",
          "data": {
            "text/plain": [
              "115"
            ]
          },
          "metadata": {
            "tags": []
          },
          "execution_count": 47
        }
      ]
    },
    {
      "cell_type": "code",
      "metadata": {
        "id": "iZz-pojA9z1w",
        "outputId": "988c6c9b-1220-4985-f060-86c56edfa293",
        "colab": {
          "base_uri": "https://localhost:8080/"
        }
      },
      "source": [
        "y"
      ],
      "execution_count": null,
      "outputs": [
        {
          "output_type": "execute_result",
          "data": {
            "text/plain": [
              "array([[0.47261178],\n",
              "       [0.46839407],\n",
              "       [0.47261178],\n",
              "       [0.47261178],\n",
              "       [0.47261178],\n",
              "       [0.47261178],\n",
              "       [0.4850407 ],\n",
              "       [0.47261178],\n",
              "       [0.47261178],\n",
              "       [0.47261178],\n",
              "       [0.47261178],\n",
              "       [0.47261178],\n",
              "       [0.4850428 ],\n",
              "       [0.4850428 ],\n",
              "       [0.47261178],\n",
              "       [0.4945669 ],\n",
              "       [0.47261178],\n",
              "       [0.4850428 ],\n",
              "       [0.50948435],\n",
              "       [0.47261178],\n",
              "       [0.4798968 ],\n",
              "       [0.48500985],\n",
              "       [0.4798968 ],\n",
              "       [0.4850407 ],\n",
              "       [0.49456635],\n",
              "       [0.47261178],\n",
              "       [0.4850428 ],\n",
              "       [0.48503992],\n",
              "       [0.47261178],\n",
              "       [0.47261178],\n",
              "       [0.48511127],\n",
              "       [0.4885535 ],\n",
              "       [0.47261178],\n",
              "       [0.47261178],\n",
              "       [0.4850428 ],\n",
              "       [0.4956033 ],\n",
              "       [0.4818251 ],\n",
              "       [0.4850428 ],\n",
              "       [0.4945669 ],\n",
              "       [0.47261178],\n",
              "       [0.4798968 ],\n",
              "       [0.47261178],\n",
              "       [0.4850428 ],\n",
              "       [0.47261178],\n",
              "       [0.48547804],\n",
              "       [0.47261178],\n",
              "       [0.47261178],\n",
              "       [0.5050988 ],\n",
              "       [0.47261178],\n",
              "       [0.4945669 ],\n",
              "       [0.47261178],\n",
              "       [0.4850407 ],\n",
              "       [0.47261178],\n",
              "       [0.47261178],\n",
              "       [0.4798968 ],\n",
              "       [0.47261178],\n",
              "       [0.4850428 ],\n",
              "       [0.4850407 ],\n",
              "       [0.47261178],\n",
              "       [0.47261178],\n",
              "       [0.47261178],\n",
              "       [0.48508316],\n",
              "       [0.47261178],\n",
              "       [0.4890231 ],\n",
              "       [0.4798968 ],\n",
              "       [0.4798968 ],\n",
              "       [0.47261178],\n",
              "       [0.4993999 ],\n",
              "       [0.47261178],\n",
              "       [0.48504075],\n",
              "       [0.48498932],\n",
              "       [0.48504275],\n",
              "       [0.4850428 ],\n",
              "       [0.47261178],\n",
              "       [0.47261178],\n",
              "       [0.47261178],\n",
              "       [0.4850428 ],\n",
              "       [0.4850407 ],\n",
              "       [0.4850428 ],\n",
              "       [0.47261178],\n",
              "       [0.4850407 ],\n",
              "       [0.46392068],\n",
              "       [0.47261178],\n",
              "       [0.4919551 ],\n",
              "       [0.51763713],\n",
              "       [0.4850428 ],\n",
              "       [0.47261178],\n",
              "       [0.47261178],\n",
              "       [0.47261178],\n",
              "       [0.4850407 ],\n",
              "       [0.47261178],\n",
              "       [0.4827685 ],\n",
              "       [0.4850428 ],\n",
              "       [0.47261178],\n",
              "       [0.49547783],\n",
              "       [0.47261178],\n",
              "       [0.48491362],\n",
              "       [0.47261178],\n",
              "       [0.47261178],\n",
              "       [0.48025256],\n",
              "       [0.47261178],\n",
              "       [0.4850428 ],\n",
              "       [0.48502374],\n",
              "       [0.47261178],\n",
              "       [0.4798968 ],\n",
              "       [0.47261178],\n",
              "       [0.47261178],\n",
              "       [0.4850407 ],\n",
              "       [0.47261178],\n",
              "       [0.4798968 ],\n",
              "       [0.4850428 ],\n",
              "       [0.48504046],\n",
              "       [0.4850407 ],\n",
              "       [0.511847  ],\n",
              "       [0.4850428 ]], dtype=float32)"
            ]
          },
          "metadata": {
            "tags": []
          },
          "execution_count": 49
        }
      ]
    },
    {
      "cell_type": "code",
      "metadata": {
        "id": "T9CMaQNp3RgA",
        "outputId": "b3e9829b-11e0-4ecd-a4d6-3ed68a9d701d",
        "colab": {
          "base_uri": "https://localhost:8080/"
        }
      },
      "source": [
        "#NB Frames=20,highly less complex model with many layers commented out,dataset<40 or frame_count<40\n",
        "# batch_size=64\n",
        "# y=model.predict(valid)\n",
        "y_pred = (y>0.48)*1\n",
        "print(\"confusion Matrix\")\n",
        "print(confusion_matrix(temp[:], y_pred))\n",
        "print('Classification Report')\n",
        "target_names = labels\n",
        "print(classification_report(temp[:], y_pred, target_names=target_names))\n",
        "print(accuracy_score(temp[:],y_pred))"
      ],
      "execution_count": null,
      "outputs": [
        {
          "output_type": "stream",
          "text": [
            "confusion Matrix\n",
            "[[38 27]\n",
            " [24 26]]\n",
            "Classification Report\n",
            "              precision    recall  f1-score   support\n",
            "\n",
            "       Crime       0.61      0.58      0.60        65\n",
            "        norm       0.49      0.52      0.50        50\n",
            "\n",
            "    accuracy                           0.56       115\n",
            "   macro avg       0.55      0.55      0.55       115\n",
            "weighted avg       0.56      0.56      0.56       115\n",
            "\n",
            "0.5565217391304348\n"
          ],
          "name": "stdout"
        }
      ]
    },
    {
      "cell_type": "markdown",
      "metadata": {
        "id": "7OlgUPd6qP77"
      },
      "source": [
        "# Number of frames 80 , kernel same as before,sigmoid-1 epoch"
      ]
    },
    {
      "cell_type": "code",
      "metadata": {
        "id": "ogntnCMr3r5T",
        "outputId": "9e1f9fa9-4724-4dc7-b805-96b5a6f2036a",
        "colab": {
          "base_uri": "https://localhost:8080/"
        }
      },
      "source": [
        "import cv2\n",
        "for cls in labels:\n",
        "  temp=os.listdir(\"/content/dataset/\"+cls)\n",
        "  for vid in temp:  \n",
        "    try:\n",
        "      tempy=os.path.join(\"/content/dataset\",cls,vid)\n",
        "      cap = cv2.VideoCapture(\"/content/dataset/\"+cls+\"/\"+vid)\n",
        "      fps = cap.get(cv2.CAP_PROP_FPS)      # OpenCV2 version 2 used \"CV_CAP_PROP_FPS\"\n",
        "      frame_count = int(cap.get(cv2.CAP_PROP_FRAME_COUNT))\n",
        "      print(tempy,frame_count)\n",
        "      # if(fps!=0):\n",
        "      duration = frame_count/fps\n",
        "      if(duration<40 or frame_count<80):\n",
        "        os.remove(tempy)\n",
        "        print(\"deleted\"+(tempy))\n",
        "      # else:\n",
        "      #   os.remove(tempy)\n",
        "    except:\n",
        "      os.remove(tempy)\n",
        "      print(\"deleted\"+(tempy))\n",
        "    cap.release()"
      ],
      "execution_count": null,
      "outputs": [
        {
          "output_type": "stream",
          "text": [
            "/content/dataset/Crime/Burglary071_x264.mp4 2720\n",
            "/content/dataset/Crime/Burglary086_x264.mp4 3240\n",
            "/content/dataset/Crime/Robbery061_x264.mp4 1870\n",
            "/content/dataset/Crime/Burglary001_x264.mp4 3600\n",
            "/content/dataset/Crime/Burglary037_x264.mp4 1610\n",
            "/content/dataset/Crime/Burglary008_x264.mp4 2650\n",
            "/content/dataset/Crime/Stealing104_x264.mp4 2780\n",
            "/content/dataset/Crime/Robbery080_x264.mp4 1610\n",
            "/content/dataset/Crime/Burglary082_x264.mp4 1630\n",
            "/content/dataset/Crime/Shoplifting040_x264.mp4 1980\n",
            "/content/dataset/Crime/Robbery007_x264.mp4 1550\n",
            "/content/dataset/Crime/Burglary032_x264.mp4 14080\n",
            "/content/dataset/Crime/Stealing050_x264.mp4 2530\n",
            "/content/dataset/Crime/Burglary055_x264.mp4 2480\n",
            "/content/dataset/Crime/Stealing022_x264.mp4 1680\n",
            "/content/dataset/Crime/Robbery010_x264.mp4 1280\n",
            "/content/dataset/Crime/Burglary095_x264.mp4 22780\n",
            "/content/dataset/Crime/Burglary040_x264.mp4 4500\n",
            "/content/dataset/Crime/Robbery025_x264.mp4 1440\n",
            "/content/dataset/Crime/Stealing078_x264.mp4 1750\n",
            "/content/dataset/Crime/Stealing089_x264.mp4 11840\n",
            "/content/dataset/Crime/Stealing052_x264.mp4 3150\n",
            "/content/dataset/Crime/Burglary016_x264.mp4 4750\n",
            "/content/dataset/Crime/Burglary023_x264.mp4 9720\n",
            "/content/dataset/Crime/Burglary088_x264.mp4 4680\n",
            "/content/dataset/Crime/Stealing110_x264.mp4 1289\n",
            "/content/dataset/Crime/Stealing100_x264.mp4 14830\n",
            "/content/dataset/Crime/Robbery088_x264.mp4 4290\n",
            "/content/dataset/Crime/Shoplifting041_x264.mp4 2460\n",
            "/content/dataset/Crime/Robbery024_x264.mp4 2370\n",
            "/content/dataset/Crime/Shoplifting013_x264.mp4 1950\n",
            "/content/dataset/Crime/Robbery020_x264.mp4 2440\n",
            "/content/dataset/Crime/Robbery006_x264.mp4 2750\n",
            "/content/dataset/Crime/Burglary020_x264.mp4 2200\n",
            "/content/dataset/Crime/Shoplifting025_x264.mp4 1490\n",
            "/content/dataset/Crime/Burglary045_x264.mp4 6230\n",
            "/content/dataset/Crime/Burglary048_x264.mp4 1400\n",
            "/content/dataset/Crime/Robbery028_x264.mp4 1350\n",
            "/content/dataset/Crime/Stealing049_x264.mp4 1220\n",
            "/content/dataset/Crime/Burglary014_x264.mp4 2575\n",
            "/content/dataset/Crime/Robbery059_x264.mp4 8270\n",
            "/content/dataset/Crime/Robbery067_x264.mp4 1260\n",
            "/content/dataset/Crime/Stealing065_x264.mp4 4840\n",
            "/content/dataset/Crime/Burglary062_x264.mp4 6600\n",
            "/content/dataset/Crime/Stealing042_x264.mp4 4200\n",
            "/content/dataset/Crime/Robbery014_x264.mp4 2970\n",
            "/content/dataset/Crime/Stealing094_x264.mp4 2720\n",
            "/content/dataset/Crime/Burglary066_x264.mp4 1740\n",
            "/content/dataset/Crime/Burglary073_x264.mp4 2260\n",
            "/content/dataset/Crime/Robbery049_x264.mp4 1980\n",
            "/content/dataset/Crime/Burglary046_x264.mp4 1780\n",
            "/content/dataset/Crime/Robbery099_x264.mp4 1200\n",
            "/content/dataset/Crime/Robbery015_x264.mp4 2460\n",
            "/content/dataset/Crime/Burglary072_x264.mp4 2304\n",
            "/content/dataset/Crime/Stealing109_x264.mp4 5640\n",
            "/content/dataset/Crime/Robbery013_x264.mp4 3510\n",
            "/content/dataset/Crime/Burglary009_x264.mp4 1350\n",
            "/content/dataset/Crime/Stealing068_x264.mp4 5410\n",
            "/content/dataset/Crime/Burglary089_x264.mp4 3150\n",
            "/content/dataset/Crime/Robbery022_x264.mp4 3110\n",
            "/content/dataset/Crime/Robbery011_x264.mp4 1261\n",
            "/content/dataset/Crime/Stealing051_x264.mp4 1680\n",
            "/content/dataset/Crime/Burglary058_x264.mp4 11370\n",
            "/content/dataset/Crime/Robbery082_x264.mp4 1380\n",
            "/content/dataset/Crime/Stealing111_x264.mp4 4560\n",
            "/content/dataset/Crime/Burglary077_x264.mp4 1860\n",
            "/content/dataset/Crime/Stealing018_x264.mp4 1800\n",
            "/content/dataset/Crime/Robbery026_x264.mp4 1910\n",
            "/content/dataset/Crime/Stealing045_x264.mp4 6602\n",
            "/content/dataset/Crime/Burglary027_x264.mp4 3090\n",
            "/content/dataset/Crime/Stealing026_x264.mp4 1370\n",
            "/content/dataset/Crime/Burglary061_x264.mp4 1760\n",
            "/content/dataset/Crime/Burglary021_x264.mp4 1440\n",
            "/content/dataset/Crime/Stealing015_x264.mp4 1490\n",
            "/content/dataset/Crime/Stealing084_x264.mp4 14130\n",
            "/content/dataset/Crime/Burglary064_x264.mp4 31780\n",
            "/content/dataset/Crime/Burglary041_x264.mp4 1740\n",
            "/content/dataset/Crime/Robbery062_x264.mp4 1740\n",
            "/content/dataset/Crime/Burglary065_x264.mp4 5470\n",
            "/content/dataset/Crime/Burglary024_x264.mp4 1410\n",
            "/content/dataset/Crime/Burglary085_x264.mp4 2140\n",
            "/content/dataset/Crime/Stealing048_x264.mp4 6810\n",
            "/content/dataset/Crime/Burglary010_x264.mp4 2650\n",
            "/content/dataset/Crime/Stealing075_x264.mp4 5040\n",
            "/content/dataset/Crime/Robbery034_x264.mp4 5330\n",
            "/content/dataset/Crime/Stealing074_x264.mp4 1490\n",
            "/content/dataset/Crime/Burglary076_x264.mp4 10600\n",
            "/content/dataset/Crime/Stealing072_x264.mp4 11610\n",
            "/content/dataset/Crime/Robbery052_x264.mp4 1834\n",
            "/content/dataset/Crime/Burglary087_x264.mp4 2190\n",
            "/content/dataset/Crime/Stealing112_x264.mp4 1610\n",
            "/content/dataset/Crime/Shoplifting022_x264.mp4 1760\n",
            "/content/dataset/Crime/Burglary075_x264.mp4 12915\n",
            "/content/dataset/Crime/Stealing044_x264.mp4 1350\n",
            "/content/dataset/Crime/Stealing017_x264.mp4 1580\n",
            "/content/dataset/Crime/Burglary079_x264.mp4 6020\n",
            "/content/dataset/Crime/Robbery009_x264.mp4 1910\n",
            "/content/dataset/Crime/Stealing043_x264.mp4 4080\n",
            "/content/dataset/Crime/Stealing059_x264.mp4 1878\n",
            "/content/dataset/Crime/Shoplifting045_x264.mp4 1620\n",
            "/content/dataset/Crime/Stealing013_x264.mp4 4280\n",
            "/content/dataset/Crime/Burglary039_x264.mp4 6770\n",
            "/content/dataset/Crime/Robbery058_x264.mp4 1560\n",
            "/content/dataset/Crime/Burglary031_x264.mp4 4130\n",
            "/content/dataset/Crime/Stealing063_x264.mp4 2950\n",
            "/content/dataset/Crime/Burglary056_x264.mp4 1410\n",
            "/content/dataset/Crime/Stealing006_x264.mp4 2250\n",
            "/content/dataset/Crime/Robbery008_x264.mp4 1690\n",
            "/content/dataset/Crime/Burglary022_x264.mp4 2570\n",
            "/content/dataset/Crime/Burglary047_x264.mp4 2391\n",
            "/content/dataset/Crime/Burglary096_x264.mp4 5490\n",
            "/content/dataset/Crime/Stealing061_x264.mp4 1910\n",
            "/content/dataset/Crime/Stealing020_x264.mp4 4290\n",
            "/content/dataset/Crime/Burglary029_x264.mp4 4560\n",
            "/content/dataset/Crime/Stealing002_x264.mp4 1530\n",
            "/content/dataset/Crime/Burglary025_x264.mp4 5650\n",
            "/content/dataset/Crime/Stealing037_x264.mp4 4620\n",
            "/content/dataset/Crime/Stealing035_x264.mp4 5161\n",
            "/content/dataset/Crime/Robbery047_x264.mp4 1290\n",
            "/content/dataset/Crime/Burglary090_x264.mp4 2472\n",
            "/content/dataset/Crime/Robbery078_x264.mp4 1573\n",
            "/content/dataset/Crime/Stealing011_x264.mp4 3480\n",
            "/content/dataset/Crime/Robbery084_x264.mp4 2851\n",
            "/content/dataset/Crime/Burglary083_x264.mp4 3630\n",
            "/content/dataset/Crime/Robbery085_x264.mp4 1830\n",
            "/content/dataset/Crime/Robbery057_x264.mp4 2100\n",
            "/content/dataset/Crime/Burglary063_x264.mp4 2233\n",
            "/content/dataset/Crime/Robbery019_x264.mp4 5330\n",
            "/content/dataset/Crime/Burglary012_x264.mp4 1680\n",
            "/content/dataset/Crime/Stealing032_x264.mp4 1560\n",
            "/content/dataset/Crime/Stealing079_x264.mp4 2910\n",
            "/content/dataset/Crime/Stealing055_x264.mp4 1340\n",
            "/content/dataset/Crime/Burglary057_x264.mp4 5520\n",
            "/content/dataset/Crime/Robbery075_x264.mp4 2549\n",
            "/content/dataset/Crime/Burglary067_x264.mp4 1290\n",
            "/content/dataset/Crime/Burglary091_x264.mp4 2960\n",
            "/content/dataset/Crime/Stealing021_x264.mp4 4110\n",
            "/content/dataset/Crime/Burglary042_x264.mp4 3800\n",
            "/content/dataset/Crime/Stealing014_x264.mp4 3300\n",
            "/content/dataset/Crime/Robbery027_x264.mp4 4600\n",
            "/content/dataset/Crime/Burglary069_x264.mp4 2100\n",
            "/content/dataset/Crime/Robbery065_x264.mp4 2370\n",
            "/content/dataset/Crime/Burglary084_x264.mp4 4100\n",
            "/content/dataset/Crime/Robbery056_x264.mp4 2670\n",
            "/content/dataset/Crime/Robbery038_x264.mp4 1370\n",
            "/content/dataset/Crime/Stealing054_x264.mp4 1300\n",
            "/content/dataset/Crime/Shoplifting034_x264.mp4 4200\n",
            "/content/dataset/Crime/Shoplifting026_x264.mp4 1320\n",
            "/content/dataset/Crime/Burglary052_x264.mp4 8370\n",
            "/content/dataset/Crime/Robbery081_x264.mp4 5370\n",
            "/content/dataset/Crime/Burglary011_x264.mp4 1800\n",
            "/content/dataset/Crime/Robbery097_x264.mp4 1520\n",
            "/content/dataset/Crime/Burglary002_x264.mp4 3060\n",
            "/content/dataset/Crime/Stealing023_x264.mp4 2620\n",
            "/content/dataset/Crime/Robbery073_x264.mp4 3450\n",
            "/content/dataset/Crime/Stealing108_x264.mp4 2820\n",
            "/content/dataset/Crime/Burglary049_x264.mp4 9150\n",
            "/content/dataset/Crime/Burglary013_x264.mp4 2100\n",
            "/content/dataset/Crime/Robbery055_x264.mp4 1838\n",
            "/content/dataset/Crime/Stealing007_x264.mp4 1960\n",
            "/content/dataset/Crime/Stealing077_x264.mp4 2550\n",
            "/content/dataset/Crime/Robbery066_x264.mp4 4130\n",
            "/content/dataset/Crime/Burglary005_x264.mp4 2690\n",
            "/content/dataset/Crime/Robbery100_x264.mp4 3420\n",
            "/content/dataset/Crime/Robbery041_x264.mp4 1320\n",
            "/content/dataset/Crime/Shoplifting030_x264.mp4 3321\n",
            "/content/dataset/Crime/Stealing008_x264.mp4 3390\n",
            "/content/dataset/Crime/Robbery090_x264.mp4 1470\n",
            "/content/dataset/Crime/Stealing114_x264.mp4 1200\n",
            "/content/dataset/Crime/Burglary026_x264.mp4 1410\n",
            "/content/dataset/Crime/Robbery030_x264.mp4 2537\n",
            "/content/dataset/Crime/Stealing103_x264.mp4 4830\n",
            "/content/dataset/Crime/Stealing096_x264.mp4 3900\n",
            "/content/dataset/Crime/Stealing092_x264.mp4 8140\n",
            "/content/dataset/Crime/Stealing027_x264.mp4 1740\n",
            "/content/dataset/Crime/Burglary074_x264.mp4 1790\n",
            "/content/dataset/Crime/Burglary053_x264.mp4 3270\n",
            "/content/dataset/Crime/Robbery051_x264.mp4 1530\n",
            "/content/dataset/Crime/Burglary006_x264.mp4 7800\n",
            "/content/dataset/Crime/Burglary044_x264.mp4 2770\n",
            "/content/dataset/Crime/Burglary099_x264.mp4 1320\n",
            "/content/dataset/Crime/Burglary100_x264.mp4 7010\n",
            "/content/dataset/Crime/Robbery096_x264.mp4 1360\n",
            "/content/dataset/Crime/Stealing019_x264.mp4 1411\n",
            "/content/dataset/Crime/Stealing098_x264.mp4 2200\n",
            "/content/dataset/Crime/Burglary035_x264.mp4 4050\n",
            "/content/dataset/Crime/Robbery035_x264.mp4 1440\n",
            "/content/dataset/Crime/Robbery091_x264.mp4 1680\n",
            "/content/dataset/Crime/Robbery060_x264.mp4 1620\n",
            "/content/dataset/Crime/Stealing053_x264.mp4 10290\n",
            "/content/dataset/Crime/Burglary019_x264.mp4 2610\n",
            "/content/dataset/Crime/Burglary004_x264.mp4 1710\n",
            "/content/dataset/Crime/Robbery017_x264.mp4 1640\n",
            "/content/dataset/Crime/Stealing107_x264.mp4 4350\n",
            "/content/dataset/Crime/Stealing010_x264.mp4 1380\n",
            "/content/dataset/Crime/Stealing009_x264.mp4 1220\n",
            "/content/dataset/Crime/Stealing087_x264.mp4 4830\n",
            "/content/dataset/Crime/Robbery018_x264.mp4 2790\n",
            "/content/dataset/Crime/Stealing058_x264.mp4 4170\n",
            "/content/dataset/norm/Stealing013_x2642.mp4 3450\n",
            "/content/dataset/norm/Shoplifting053_x2642.mp4 1260\n",
            "/content/dataset/norm/Stealing086_x2642.mp4 11970\n",
            "/content/dataset/norm/Shoplifting042_x264.mp4 2371\n",
            "/content/dataset/norm/Robbery061_x264.mp4 1431\n",
            "/content/dataset/norm/Robbery042_x2642.mp4 1260\n",
            "/content/dataset/norm/Stealing068_x2642.mp4 1320\n",
            "/content/dataset/norm/Burglary008_x264.mp4 2190\n",
            "/content/dataset/norm/Stealing079_x2642.mp4 1650\n",
            "/content/dataset/norm/Shoplifting052_x2642.mp4 1560\n",
            "/content/dataset/norm/Shoplifting040_x264.mp4 25458\n",
            "/content/dataset/norm/Stealing046_x264.mp4 9305\n",
            "/content/dataset/norm/Burglary032_x264.mp4 1295\n",
            "/content/dataset/norm/Shoplifting036_x2642.mp4 3030\n",
            "/content/dataset/norm/Robbery055_x2642.mp4 1320\n",
            "/content/dataset/norm/Burglary095_x264.mp4 15155\n",
            "/content/dataset/norm/Shoplifting008_x2642.mp4 5100\n",
            "/content/dataset/norm/Stealing019_x2642.mp4 1500\n",
            "/content/dataset/norm/Stealing092_x2642.mp4 2040\n",
            "/content/dataset/norm/Burglary076_x2642.mp4 2100\n",
            "/content/dataset/norm/Stealing086_x264.mp4 5896\n",
            "/content/dataset/norm/Shoplifting041_x264.mp4 3335\n",
            "/content/dataset/norm/Robbery017_x2642.mp4 1230\n",
            "/content/dataset/norm/Shoplifting038_x2642.mp4 2400\n",
            "/content/dataset/norm/Burglary045_x264.mp4 3207\n",
            "/content/dataset/norm/Robbery086_x2642.mp4 1770\n",
            "/content/dataset/norm/Stealing004_x2642.mp4 5490\n",
            "/content/dataset/norm/Shoplifting014_x264.mp4 55198\n",
            "/content/dataset/norm/Robbery067_x264.mp4 1991\n",
            "/content/dataset/norm/Robbery045_x264.mp4 1331\n",
            "/content/dataset/norm/Robbery098_x264.mp4 4356\n",
            "/content/dataset/norm/Stealing025_x264.mp4 4315\n",
            "/content/dataset/norm/Stealing003_x2642.mp4 2520\n",
            "/content/dataset/norm/Shoplifting009_x2642.mp4 4410\n",
            "/content/dataset/norm/Shoplifting020_x2642.mp4 2310\n",
            "/content/dataset/norm/Robbery054_x2642.mp4 1320\n",
            "/content/dataset/norm/Robbery014_x264.mp4 8778\n",
            "/content/dataset/norm/Stealing020_x2642.mp4 1500\n",
            "/content/dataset/norm/Stealing036_x2642.mp4 1230\n",
            "/content/dataset/norm/Shoplifting015_x2642.mp4 1980\n",
            "/content/dataset/norm/Robbery037_x2642.mp4 5430\n",
            "/content/dataset/norm/Shoplifting003_x2642.mp4 7200\n",
            "/content/dataset/norm/Shoplifting012_x264.mp4 15433\n",
            "/content/dataset/norm/Shoplifting044_x264.mp4 3276\n",
            "/content/dataset/norm/Shoplifting042_x2642.mp4 2100\n",
            "/content/dataset/norm/Burglary031_x2642.mp4 1980\n",
            "/content/dataset/norm/Shoplifting043_x2642.mp4 7230\n",
            "/content/dataset/norm/Robbery098_x2642.mp4 7740\n",
            "/content/dataset/norm/Burglary063_x2642.mp4 1500\n",
            "/content/dataset/norm/Robbery032_x264.mp4 4150\n",
            "/content/dataset/norm/Stealing008_x2642.mp4 1500\n",
            "/content/dataset/norm/Burglary045_x2642.mp4 1920\n",
            "/content/dataset/norm/Shoplifting020_x264.mp4 3520\n",
            "/content/dataset/norm/Stealing077_x2642.mp4 2250\n",
            "/content/dataset/norm/Burglary095_x2642.mp4 2790\n",
            "/content/dataset/norm/Shoplifting048_x264.mp4 2108\n",
            "/content/dataset/norm/Robbery026_x264.mp4 7365\n",
            "/content/dataset/norm/Stealing045_x264.mp4 1254\n",
            "/content/dataset/norm/Stealing088_x264.mp4 9855\n",
            "/content/dataset/norm/Burglary065_x2642.mp4 2790\n",
            "/content/dataset/norm/Burglary061_x264.mp4 3240\n",
            "/content/dataset/norm/Burglary064_x264.mp4 1374\n",
            "/content/dataset/norm/Burglary017_x264.mp4 1613\n",
            "/content/dataset/norm/Stealing063_x2642.mp4 1410\n",
            "/content/dataset/norm/Robbery086_x264.mp4 4454\n",
            "/content/dataset/norm/Robbery062_x264.mp4 2110\n",
            "/content/dataset/norm/Shoplifting012_x2642.mp4 7950\n",
            "/content/dataset/norm/Shoplifting004_x2642.mp4 4500\n",
            "/content/dataset/norm/Robbery097_x2642.mp4 1200\n",
            "/content/dataset/norm/Burglary065_x264.mp4 1372\n",
            "/content/dataset/norm/Burglary024_x264.mp4 2355\n",
            "/content/dataset/norm/Stealing032_x2642.mp4 2280\n",
            "/content/dataset/norm/Robbery073_x2642.mp4 3810\n",
            "/content/dataset/norm/Stealing096_x2642.mp4 1590\n",
            "/content/dataset/norm/Shoplifting043_x264.mp4 2109\n",
            "/content/dataset/norm/Robbery037_x264.mp4 2477\n",
            "/content/dataset/norm/Stealing057_x264.mp4 1765\n",
            "/content/dataset/norm/Robbery026_x2642.mp4 4110\n",
            "/content/dataset/norm/Robbery035_x2642.mp4 3030\n",
            "/content/dataset/norm/Stealing012_x2642.mp4 1980\n",
            "/content/dataset/norm/Burglary079_x2642.mp4 7830\n",
            "/content/dataset/norm/Robbery005_x264.mp4 2029\n",
            "/content/dataset/norm/Stealing013_x264.mp4 1751\n",
            "/content/dataset/norm/Robbery014_x2642.mp4 3780\n",
            "/content/dataset/norm/Shoplifting052_x264.mp4 5896\n",
            "/content/dataset/norm/Stealing063_x264.mp4 7591\n",
            "/content/dataset/norm/Shoplifting021_x264.mp4 1301\n",
            "/content/dataset/norm/Stealing024_x264.mp4 1215\n",
            "/content/dataset/norm/Shoplifting047_x2642.mp4 1410\n",
            "/content/dataset/norm/Stealing045_x2642.mp4 3090\n",
            "/content/dataset/norm/Burglary039_x2642.mp4 2550\n",
            "/content/dataset/norm/Shoplifting001_x2642.mp4 1560\n",
            "/content/dataset/norm/Robbery096_x2642.mp4 2190\n",
            "/content/dataset/norm/Stealing025_x2642.mp4 16560\n",
            "/content/dataset/norm/Shoplifting039_x2642.mp4 2100\n",
            "/content/dataset/norm/Stealing002_x264.mp4 1267\n",
            "/content/dataset/norm/Shoplifting051_x2642.mp4 4620\n",
            "/content/dataset/norm/Shoplifting006_x2642.mp4 1650\n",
            "/content/dataset/norm/Stealing035_x264.mp4 5375\n",
            "/content/dataset/norm/Robbery002_x264.mp4 2203\n",
            "/content/dataset/norm/Shoplifting044_x2642.mp4 11040\n",
            "/content/dataset/norm/Shoplifting003_x264.mp4 3317\n",
            "/content/dataset/norm/Shoplifting010_x264.mp4 1986\n",
            "/content/dataset/norm/Burglary010_x2642.mp4 2880\n",
            "/content/dataset/norm/Stealing032_x264.mp4 1645\n",
            "/content/dataset/norm/Stealing079_x264.mp4 1596\n",
            "/content/dataset/norm/Stealing054_x2642.mp4 1470\n",
            "/content/dataset/norm/Shoplifting018_x264.mp4 1882\n",
            "/content/dataset/norm/Robbery021_x264.mp4 7226\n",
            "/content/dataset/norm/Shoplifting041_x2642.mp4 6810\n",
            "/content/dataset/norm/Burglary061_x2642.mp4 4050\n",
            "/content/dataset/norm/Burglary064_x2642.mp4 15540\n",
            "/content/dataset/norm/Shoplifting021_x2642.mp4 2100\n",
            "/content/dataset/norm/Shoplifting007_x264.mp4 4374\n",
            "/content/dataset/norm/Burglary005_x2642.mp4 4770\n",
            "/content/dataset/norm/Shoplifting034_x2642.mp4 4680\n",
            "/content/dataset/norm/Robbery094_x264.mp4 2986\n",
            "/content/dataset/norm/Stealing016_x264.mp4 1200\n",
            "/content/dataset/norm/Shoplifting006_x264.mp4 1406\n",
            "/content/dataset/norm/Shoplifting034_x264.mp4 3437\n",
            "/content/dataset/norm/Shoplifting055_x264.mp4 3846\n",
            "/content/dataset/norm/Robbery055_x264.mp4 6639\n",
            "/content/dataset/norm/Robbery052_x2642.mp4 1830\n",
            "/content/dataset/norm/Stealing098_x2642.mp4 1440\n",
            "/content/dataset/norm/Stealing088_x2642.mp4 2640\n",
            "/content/dataset/norm/Stealing077_x264.mp4 14435\n",
            "/content/dataset/norm/Stealing101_x2642.mp4 1200\n",
            "/content/dataset/norm/Stealing109_x2642.mp4 3210\n",
            "/content/dataset/norm/Shoplifting030_x264.mp4 15264\n",
            "/content/dataset/norm/Robbery090_x264.mp4 4716\n",
            "/content/dataset/norm/Stealing010_x2642.mp4 1710\n",
            "/content/dataset/norm/Stealing096_x264.mp4 1358\n",
            "/content/dataset/norm/Stealing092_x264.mp4 3541\n",
            "/content/dataset/norm/Shoplifting055_x2642.mp4 2220\n",
            "/content/dataset/norm/Shoplifting014_x2642.mp4 10980\n",
            "/content/dataset/norm/Stealing083_x2642.mp4 3000\n",
            "/content/dataset/norm/Burglary062_x2642.mp4 4020\n",
            "/content/dataset/norm/Shoplifting001_x264.mp4 2344\n",
            "/content/dataset/norm/Shoplifting008_x264.mp4 3677\n",
            "/content/dataset/norm/Burglary044_x264.mp4 3610\n",
            "/content/dataset/norm/Shoplifting004_x264.mp4 1923\n",
            "/content/dataset/norm/Shoplifting030_x2642.mp4 5850\n",
            "/content/dataset/norm/Stealing019_x264.mp4 2252\n",
            "/content/dataset/norm/Shoplifting051_x264.mp4 1968\n",
            "/content/dataset/norm/Stealing044_x2642.mp4 1590\n",
            "/content/dataset/norm/Robbery020_x2642.mp4 1410\n",
            "/content/dataset/norm/Burglary075_x2642.mp4 2700\n",
            "/content/dataset/norm/Stealing023_x2642.mp4 2160\n",
            "/content/dataset/norm/Stealing053_x264.mp4 2807\n",
            "/content/dataset/norm/Robbery017_x264.mp4 1858\n",
            "/content/dataset/norm/Burglary052_x2642.mp4 1500\n",
            "/content/dataset/norm/Burglary083_x2642.mp4 2250\n",
            "/content/dataset/norm/Shoplifting050_x264.mp4 2256\n"
          ],
          "name": "stdout"
        }
      ]
    },
    {
      "cell_type": "code",
      "metadata": {
        "id": "43Hk1h4F3r5o",
        "outputId": "8017e58b-c483-4661-c76f-903c3aac964a",
        "colab": {
          "base_uri": "https://localhost:8080/"
        }
      },
      "source": [
        "import os\n",
        "import glob\n",
        "import keras\n",
        "classes=labels\n",
        "classes.sort()# some global params\n",
        "SIZE = (320, 240)\n",
        "CHANNELS = 3\n",
        "NBFRAME = 80\n",
        "BS = 1# pattern to get videos and classes\n",
        "glob_pattern='/content/dataset/{classname}/*.mp4'# for data augmentation\n",
        "data_aug = keras.preprocessing.image.ImageDataGenerator(\n",
        "  zoom_range=.1,\n",
        "  horizontal_flip=True,\n",
        "  rotation_range=8,\n",
        "  width_shift_range=.2,\n",
        "  height_shift_range=.2)# Create video frame generator\n",
        "train = VideoFrameGenerator(\n",
        "  classes=classes, \n",
        "  glob_pattern=glob_pattern,\n",
        "  nb_frames=NBFRAME,\n",
        "  split=.33, \n",
        "  shuffle=True,\n",
        "  batch_size=BS,\n",
        "  target_shape=SIZE,\n",
        "  nb_channel=CHANNELS,\n",
        "  transformation=data_aug,use_frame_cache=True)"
      ],
      "execution_count": null,
      "outputs": [
        {
          "output_type": "stream",
          "text": [
            "Warning, `split` argument is replaced by `split_val`, please condider to change your source code.The `split` argument will be removed in future releases.\n"
          ],
          "name": "stderr"
        },
        {
          "output_type": "stream",
          "text": [
            "class Crime, validation count: 65, train count: 134\n",
            "class norm, validation count: 50, train count: 103\n",
            "Total data: 2 classes for 237 files for train\n"
          ],
          "name": "stdout"
        }
      ]
    },
    {
      "cell_type": "code",
      "metadata": {
        "id": "jzJQiYuy3r5x"
      },
      "source": [
        "from keras.layers import Conv2D, BatchNormalization, MaxPool2D, GlobalMaxPool2D\n",
        "def build_convnet(shape=(320, 240, 3)):\n",
        "  momentum = .9\n",
        "  model = keras.Sequential()\n",
        "  model.add(Conv2D(64, (19,19), input_shape=shape,\n",
        "      padding='same', activation='relu'))\n",
        "  model.add(Conv2D(64, (17,17), padding='same', activation='relu'))\n",
        "  model.add(BatchNormalization(momentum=momentum))\n",
        "  \n",
        "  model.add(MaxPool2D())\n",
        "  \n",
        "  model.add(Conv2D(48, (13,13), padding='same', activation='relu'))\n",
        "  # model.add(Conv2D(48, (12,12), padding='same', activation='relu'))\n",
        "  model.add(BatchNormalization(momentum=momentum))\n",
        "  \n",
        "  # model.add(MaxPool2D())\n",
        "  \n",
        "  model.add(Conv2D(64, (8,8), padding='same', activation='relu'))\n",
        "  # model.add(Conv2D(64, (8,8), padding='same', activation='relu'))\n",
        "  # model.add(BatchNormalization(momentum=momentum))\n",
        "  \n",
        "  model.add(MaxPool2D())\n",
        "  \n",
        "  model.add(Conv2D(32, (6,6), padding='same', activation='relu'))\n",
        "  # model.add(Conv2D(32, (6,6), padding='same', activation='relu'))\n",
        "  # model.add(BatchNormalization(momentum=momentum))\n",
        "  \n",
        "  # flatten...\n",
        "  model.add(GlobalMaxPool2D())\n",
        "  return model"
      ],
      "execution_count": null,
      "outputs": []
    },
    {
      "cell_type": "code",
      "metadata": {
        "id": "VEDqV0H53r54"
      },
      "source": [
        "from keras.layers import TimeDistributed, GRU, Dense, Dropout,LSTM\n",
        "def action_model(shape=(40, 320, 240, 3), nbout=1):\n",
        "  # Create our convnet with (320, 240, 3) input shape\n",
        "  convnet = build_convnet(shape[1:])\n",
        "  \n",
        "  # then create our final model\n",
        "  model = keras.Sequential()    # add the convnet with (5, 112, 112, 3) shape\n",
        "  model.add(TimeDistributed(convnet, input_shape=shape))    # here, you can also use GRU or LSTM\n",
        "  model.add(LSTM(64,return_sequences=True))    # and finally, we make a decision network\n",
        "  # model.add(Dense(128, activation='relu'))\n",
        "  # model.add(Dropout(.5))\n",
        "  # model.add(Dense(128, activation='relu'))\n",
        "  # model.add(Dropout(.5))\n",
        "  model.add(LSTM(32)) \n",
        "  model.add(Dense(64, activation='relu'))\n",
        "  # model.add(LSTM(64)) \n",
        "  # model.add(Dropout(.5))\n",
        "  model.add(Dense(32, activation='relu'))\n",
        "  model.add(Dense(1, activation='sigmoid'))\n",
        "  return model"
      ],
      "execution_count": null,
      "outputs": []
    },
    {
      "cell_type": "code",
      "metadata": {
        "id": "sWzdVobA3r59"
      },
      "source": [
        "INSHAPE=(NBFRAME,) + SIZE + (CHANNELS,) # (10, 320, 240, 3)\n",
        "model = action_model(INSHAPE, len(classes))\n",
        "optimizer = keras.optimizers.Adam(0.001)\n",
        "model.compile(\n",
        "    # optimizer,\n",
        "    \"adam\",\n",
        "    'binary_crossentropy',\n",
        "    metrics=['acc']\n",
        ")"
      ],
      "execution_count": null,
      "outputs": []
    },
    {
      "cell_type": "code",
      "metadata": {
        "id": "779PgHhR3r6C",
        "outputId": "aefadbe6-3478-4a8c-cc12-847fb02851c1",
        "colab": {
          "base_uri": "https://localhost:8080/"
        }
      },
      "source": [
        "valid = train.get_validation_generator()\n",
        "test=train.get_test_generator()"
      ],
      "execution_count": null,
      "outputs": [
        {
          "output_type": "stream",
          "text": [
            "Total data: 2 classes for 115 files for validation\n",
            "Total data: 2 classes for 0 files for test\n"
          ],
          "name": "stdout"
        }
      ]
    },
    {
      "cell_type": "code",
      "metadata": {
        "id": "jyb9B3Ab3r6H",
        "outputId": "2c1b64aa-1e9e-46f6-892d-3bd85d6d2a2f",
        "colab": {
          "base_uri": "https://localhost:8080/"
        }
      },
      "source": [
        "model.summary()"
      ],
      "execution_count": null,
      "outputs": [
        {
          "output_type": "stream",
          "text": [
            "Model: \"sequential_1\"\n",
            "_________________________________________________________________\n",
            "Layer (type)                 Output Shape              Param #   \n",
            "=================================================================\n",
            "time_distributed (TimeDistri (None, 80, 32)            2043280   \n",
            "_________________________________________________________________\n",
            "lstm (LSTM)                  (None, 80, 64)            24832     \n",
            "_________________________________________________________________\n",
            "lstm_1 (LSTM)                (None, 32)                12416     \n",
            "_________________________________________________________________\n",
            "dense (Dense)                (None, 64)                2112      \n",
            "_________________________________________________________________\n",
            "dense_1 (Dense)              (None, 32)                2080      \n",
            "_________________________________________________________________\n",
            "dense_2 (Dense)              (None, 1)                 33        \n",
            "=================================================================\n",
            "Total params: 2,084,753\n",
            "Trainable params: 2,084,529\n",
            "Non-trainable params: 224\n",
            "_________________________________________________________________\n"
          ],
          "name": "stdout"
        }
      ]
    },
    {
      "cell_type": "code",
      "metadata": {
        "id": "tl1k5ik_3r6N",
        "outputId": "ad048b3d-7bcb-44ad-c77b-8bc71f9c3e02",
        "colab": {
          "base_uri": "https://localhost:8080/"
        }
      },
      "source": [
        "EPOCHS=1#\n",
        "#More complex Model frames and duration<40,nbframes=20,BS=1 ,without callbacks\n",
        "history=model.fit(\n",
        "train,\n",
        "# validation_data=valid,\n",
        "verbose=1,\n",
        "epochs=1\n",
        ")"
      ],
      "execution_count": null,
      "outputs": [
        {
          "output_type": "stream",
          "text": [
            "  2/237 [..............................] - ETA: 8:16 - loss: 0.7043 - acc: 0.5000WARNING:tensorflow:Callbacks method `on_train_batch_end` is slow compared to the batch time (batch time: 0.5336s vs `on_train_batch_end` time: 3.5137s). Check your callbacks.\n",
            "237/237 [==============================] - 1124s 5s/step - loss: 0.6933 - acc: 0.5000\n"
          ],
          "name": "stdout"
        }
      ]
    },
    {
      "cell_type": "code",
      "metadata": {
        "id": "nroILz4L3r6R",
        "outputId": "fae97de4-7270-4354-825a-fc86f36db2f4",
        "colab": {
          "base_uri": "https://localhost:8080/"
        }
      },
      "source": [
        "from keras.models import model_from_json\n",
        "# model_json = model.to_json()\n",
        "# !mk dir '/content/drive/My Drive/anomalyseg'\n",
        "# with open(\"/content/drive/My Drive/anomalyseg/model<40,80-80.json\", \"w\") as json_file:\n",
        "#     json_file.write(model_json)\n",
        "# # serialize weights to HDF5\n",
        "# model.save_weights(\"/content/drive/My Drive/anomalyseg/model<40,80-80.h5\")\n",
        "# print(\"Saved model to disk\")\n",
        " \n",
        "# # later...\n",
        " \n",
        "# load json and create model\n",
        "json_file = open('/content/drive/My Drive/anomalyseg/model<40,80-80.json', 'r')\n",
        "loaded_model_json = json_file.read()\n",
        "json_file.close()\n",
        "loaded_model = model_from_json(loaded_model_json)\n",
        "# load weights into new model\n",
        "loaded_model.load_weights(\"/content/drive/My Drive/anomalyseg/model<40,80-80.h5\")\n",
        "print(\"Loaded model from disk\")"
      ],
      "execution_count": null,
      "outputs": [
        {
          "output_type": "stream",
          "text": [
            "Loaded model from disk\n"
          ],
          "name": "stdout"
        }
      ]
    },
    {
      "cell_type": "code",
      "metadata": {
        "id": "zFylSz_t3r6a"
      },
      "source": [
        "loaded_model.compile(\n",
        "    # optimizer,\n",
        "    \"adam\",\n",
        "    'binary_crossentropy',\n",
        "    metrics=['acc']\n",
        ")\n",
        "loaded_model.evaluate(valid)"
      ],
      "execution_count": null,
      "outputs": []
    },
    {
      "cell_type": "code",
      "metadata": {
        "id": "NSFd82Lp3r6d"
      },
      "source": [
        "from sklearn.metrics import classification_report, confusion_matrix,accuracy_score"
      ],
      "execution_count": null,
      "outputs": []
    },
    {
      "cell_type": "code",
      "metadata": {
        "id": "Py6EIEc43r6h",
        "outputId": "0648ccc2-2b1e-46a9-ac33-f17e6daf3788",
        "colab": {
          "base_uri": "https://localhost:8080/"
        }
      },
      "source": [
        "temp=list(map(lambda x:x.strip('/content/dataset'),valid.files))\n",
        "temp=list(map(lambda x:x.split('/')[0],temp))\n",
        "temp=list(map(lambda x:\"no\"+x if x=='rm' else x,temp))\n",
        "temp=list(map(lambda x:labels.index(x),temp))\n",
        "# len(temp)\n",
        "len(temp)"
      ],
      "execution_count": null,
      "outputs": [
        {
          "output_type": "execute_result",
          "data": {
            "text/plain": [
              "115"
            ]
          },
          "metadata": {
            "tags": []
          },
          "execution_count": 16
        }
      ]
    },
    {
      "cell_type": "code",
      "metadata": {
        "id": "-DBSL6Iu3r6m",
        "outputId": "d5e01d9c-d07d-4a6a-e2f6-782d796c4b08",
        "colab": {
          "base_uri": "https://localhost:8080/"
        }
      },
      "source": [
        "#NB Frames=20,highly less complex model with many layers commented out,dataset<40 or frame_count<40\n",
        "# batch_size=64\n",
        "# y=loaded_model.predict(valid)\n",
        "y_pred = (y>0.5)*1 \n",
        "print(\"confusion Matrix\")\n",
        "print(confusion_matrix(temp[:], y_pred))\n",
        "print('Classification Report')\n",
        "target_names = labels\n",
        "print(classification_report(temp[:], y_pred, target_names=target_names))\n",
        "print(accuracy_score(temp[:],y_pred))"
      ],
      "execution_count": null,
      "outputs": [
        {
          "output_type": "stream",
          "text": [
            "confusion Matrix\n",
            "[[32 33]\n",
            " [33 17]]\n",
            "Classification Report\n",
            "              precision    recall  f1-score   support\n",
            "\n",
            "       Crime       0.49      0.49      0.49        65\n",
            "        norm       0.34      0.34      0.34        50\n",
            "\n",
            "    accuracy                           0.43       115\n",
            "   macro avg       0.42      0.42      0.42       115\n",
            "weighted avg       0.43      0.43      0.43       115\n",
            "\n",
            "0.4260869565217391\n"
          ],
          "name": "stdout"
        }
      ]
    },
    {
      "cell_type": "code",
      "metadata": {
        "id": "irrc9LJse-f2"
      },
      "source": [
        ""
      ],
      "execution_count": null,
      "outputs": []
    },
    {
      "cell_type": "markdown",
      "metadata": {
        "id": "bLNz2H4Me-39"
      },
      "source": [
        "# Number of frames 80 , More Complex Model,sigmoid-10 epoch"
      ]
    },
    {
      "cell_type": "code",
      "metadata": {
        "id": "9W_P9uDFe-3_",
        "outputId": "bdce993b-7d73-4ce0-e0ea-c09c86fcb872",
        "colab": {
          "base_uri": "https://localhost:8080/"
        }
      },
      "source": [
        "import cv2\n",
        "for cls in labels:\n",
        "  temp=os.listdir(\"/content/dataset/\"+cls)\n",
        "  for vid in temp:  \n",
        "    try:\n",
        "      tempy=os.path.join(\"/content/dataset\",cls,vid)\n",
        "      cap = cv2.VideoCapture(\"/content/dataset/\"+cls+\"/\"+vid)\n",
        "      fps = cap.get(cv2.CAP_PROP_FPS)      # OpenCV2 version 2 used \"CV_CAP_PROP_FPS\"\n",
        "      frame_count = int(cap.get(cv2.CAP_PROP_FRAME_COUNT))\n",
        "      print(tempy,frame_count)\n",
        "      # if(fps!=0):\n",
        "      duration = frame_count/fps\n",
        "      if(duration<40 or frame_count<80):\n",
        "        os.remove(tempy)\n",
        "        print(\"deleted\"+(tempy))\n",
        "      # else:\n",
        "      #   os.remove(tempy)\n",
        "    except:\n",
        "      os.remove(tempy)\n",
        "      print(\"deleted\"+(tempy))\n",
        "    cap.release()"
      ],
      "execution_count": 49,
      "outputs": [
        {
          "output_type": "stream",
          "text": [
            "/content/dataset/Crime/Stealing104_x264.mp4 2780\n",
            "/content/dataset/Crime/Burglary017_x264.mp4 720\n",
            "deleted/content/dataset/Crime/Burglary017_x264.mp4\n",
            "/content/dataset/Crime/Shoplifting030_x264.mp4 3321\n",
            "/content/dataset/Crime/Burglary083_x264.mp4 3630\n",
            "/content/dataset/Crime/Stealing053_x264.mp4 10290\n",
            "/content/dataset/Crime/Burglary015_x264.mp4 1050\n",
            "deleted/content/dataset/Crime/Burglary015_x264.mp4\n",
            "/content/dataset/Crime/Stealing080_x264.mp4 900\n",
            "deleted/content/dataset/Crime/Stealing080_x264.mp4\n",
            "/content/dataset/Crime/Robbery052_x264.mp4 1834\n",
            "/content/dataset/Crime/Robbery080_x264.mp4 1610\n",
            "/content/dataset/Crime/Burglary044_x264.mp4 2770\n",
            "/content/dataset/Crime/Robbery071_x264.mp4 890\n",
            "deleted/content/dataset/Crime/Robbery071_x264.mp4\n",
            "/content/dataset/Crime/Stealing011_x264.mp4 3480\n",
            "/content/dataset/Crime/Burglary022_x264.mp4 2570\n",
            "/content/dataset/Crime/Stealing054_x264.mp4 1300\n",
            "/content/dataset/Crime/Robbery069_x264.mp4 660\n",
            "deleted/content/dataset/Crime/Robbery069_x264.mp4\n",
            "/content/dataset/Crime/Stealing058_x264.mp4 4170\n",
            "/content/dataset/Crime/Burglary023_x264.mp4 9720\n",
            "/content/dataset/Crime/Burglary070_x264.mp4 780\n",
            "deleted/content/dataset/Crime/Burglary070_x264.mp4\n",
            "/content/dataset/Crime/Robbery051_x264.mp4 1530\n",
            "/content/dataset/Crime/Robbery011_x264.mp4 1261\n",
            "/content/dataset/Crime/Stealing086_x264.mp4 670\n",
            "deleted/content/dataset/Crime/Stealing086_x264.mp4\n",
            "/content/dataset/Crime/Stealing048_x264.mp4 6810\n",
            "/content/dataset/Crime/Shoplifting028_x264.mp4 621\n",
            "deleted/content/dataset/Crime/Shoplifting028_x264.mp4\n",
            "/content/dataset/Crime/Burglary080_x264.mp4 996\n",
            "deleted/content/dataset/Crime/Burglary080_x264.mp4\n",
            "/content/dataset/Crime/Robbery064_x264.mp4 850\n",
            "deleted/content/dataset/Crime/Robbery064_x264.mp4\n",
            "/content/dataset/Crime/Burglary061_x264.mp4 1760\n",
            "/content/dataset/Crime/Stealing015_x264.mp4 1490\n",
            "/content/dataset/Crime/Robbery023_x264.mp4 930\n",
            "deleted/content/dataset/Crime/Robbery023_x264.mp4\n",
            "/content/dataset/Crime/Robbery067_x264.mp4 1260\n",
            "/content/dataset/Crime/Stealing065_x264.mp4 4840\n",
            "/content/dataset/Crime/Stealing043_x264.mp4 4080\n",
            "/content/dataset/Crime/Stealing094_x264.mp4 2720\n",
            "/content/dataset/Crime/Burglary035_x264.mp4 4050\n",
            "/content/dataset/Crime/Robbery028_x264.mp4 1350\n",
            "/content/dataset/Crime/Robbery075_x264.mp4 2549\n",
            "/content/dataset/Crime/Robbery096_x264.mp4 1360\n",
            "/content/dataset/Crime/Shoplifting047_x264.mp4 1120\n",
            "deleted/content/dataset/Crime/Shoplifting047_x264.mp4\n",
            "/content/dataset/Crime/Burglary075_x264.mp4 12915\n",
            "/content/dataset/Crime/Stealing044_x264.mp4 1350\n",
            "/content/dataset/Crime/Robbery041_x264.mp4 1320\n",
            "/content/dataset/Crime/Stealing083_x264.mp4 900\n",
            "deleted/content/dataset/Crime/Stealing083_x264.mp4\n",
            "/content/dataset/Crime/Robbery085_x264.mp4 1830\n",
            "/content/dataset/Crime/Stealing035_x264.mp4 5161\n",
            "/content/dataset/Crime/Robbery002_x264.mp4 1140\n",
            "deleted/content/dataset/Crime/Robbery002_x264.mp4\n",
            "/content/dataset/Crime/Burglary072_x264.mp4 2304\n",
            "/content/dataset/Crime/Robbery021_x264.mp4 1020\n",
            "deleted/content/dataset/Crime/Robbery021_x264.mp4\n",
            "/content/dataset/Crime/Shoplifting048_x264.mp4 1170\n",
            "deleted/content/dataset/Crime/Shoplifting048_x264.mp4\n",
            "/content/dataset/Crime/Stealing113_x264.mp4 880\n",
            "deleted/content/dataset/Crime/Stealing113_x264.mp4\n",
            "/content/dataset/Crime/Stealing075_x264.mp4 5040\n",
            "/content/dataset/Crime/Stealing014_x264.mp4 3300\n",
            "/content/dataset/Crime/Robbery086_x264.mp4 1130\n",
            "deleted/content/dataset/Crime/Robbery086_x264.mp4\n",
            "/content/dataset/Crime/Stealing002_x264.mp4 1530\n",
            "/content/dataset/Crime/Robbery025_x264.mp4 1440\n",
            "/content/dataset/Crime/Stealing084_x264.mp4 14130\n",
            "/content/dataset/Crime/Burglary016_x264.mp4 4750\n",
            "/content/dataset/Crime/Burglary001_x264.mp4 3600\n",
            "/content/dataset/Crime/Burglary052_x264.mp4 8370\n",
            "/content/dataset/Crime/Stealing010_x264.mp4 1380\n",
            "/content/dataset/Crime/Stealing006_x264.mp4 2250\n",
            "/content/dataset/Crime/Stealing062_x264.mp4 830\n",
            "deleted/content/dataset/Crime/Stealing062_x264.mp4\n",
            "/content/dataset/Crime/Burglary085_x264.mp4 2140\n",
            "/content/dataset/Crime/Robbery005_x264.mp4 610\n",
            "deleted/content/dataset/Crime/Robbery005_x264.mp4\n",
            "/content/dataset/Crime/Robbery056_x264.mp4 2670\n",
            "/content/dataset/Crime/Shoplifting049_x264.mp4 800\n",
            "deleted/content/dataset/Crime/Shoplifting049_x264.mp4\n",
            "/content/dataset/Crime/Stealing057_x264.mp4 630\n",
            "deleted/content/dataset/Crime/Stealing057_x264.mp4\n",
            "/content/dataset/Crime/Stealing019_x264.mp4 1411\n",
            "/content/dataset/Crime/Stealing108_x264.mp4 2820\n",
            "/content/dataset/Crime/Robbery079_x264.mp4 720\n",
            "deleted/content/dataset/Crime/Robbery079_x264.mp4\n",
            "/content/dataset/Crime/Robbery037_x264.mp4 1020\n",
            "deleted/content/dataset/Crime/Robbery037_x264.mp4\n",
            "/content/dataset/Crime/Stealing025_x264.mp4 1050\n",
            "deleted/content/dataset/Crime/Stealing025_x264.mp4\n",
            "/content/dataset/Crime/Burglary068_x264.mp4 660\n",
            "deleted/content/dataset/Crime/Burglary068_x264.mp4\n",
            "/content/dataset/Crime/Stealing007_x264.mp4 1960\n",
            "/content/dataset/Crime/Burglary053_x264.mp4 3270\n",
            "/content/dataset/Crime/Stealing027_x264.mp4 1740\n",
            "/content/dataset/Crime/Burglary028_x264.mp4 930\n",
            "deleted/content/dataset/Crime/Burglary028_x264.mp4\n",
            "/content/dataset/Crime/Robbery090_x264.mp4 1470\n",
            "/content/dataset/Crime/Robbery022_x264.mp4 3110\n",
            "/content/dataset/Crime/Burglary064_x264.mp4 31780\n",
            "/content/dataset/Crime/Robbery091_x264.mp4 1680\n",
            "/content/dataset/Crime/Stealing046_x264.mp4 1050\n",
            "deleted/content/dataset/Crime/Stealing046_x264.mp4\n",
            "/content/dataset/Crime/Robbery033_x264.mp4 840\n",
            "deleted/content/dataset/Crime/Robbery033_x264.mp4\n",
            "/content/dataset/Crime/Burglary069_x264.mp4 2100\n",
            "/content/dataset/Crime/Robbery030_x264.mp4 2537\n",
            "/content/dataset/Crime/Burglary039_x264.mp4 6770\n",
            "/content/dataset/Crime/Burglary014_x264.mp4 2575\n",
            "/content/dataset/Crime/Burglary009_x264.mp4 1350\n",
            "/content/dataset/Crime/Robbery042_x264.mp4 760\n",
            "deleted/content/dataset/Crime/Robbery042_x264.mp4\n",
            "/content/dataset/Crime/Burglary031_x264.mp4 4130\n",
            "/content/dataset/Crime/Robbery099_x264.mp4 1200\n",
            "/content/dataset/Crime/Stealing105_x264.mp4 720\n",
            "deleted/content/dataset/Crime/Stealing105_x264.mp4\n",
            "/content/dataset/Crime/Robbery055_x264.mp4 1838\n",
            "/content/dataset/Crime/Burglary005_x264.mp4 2690\n",
            "/content/dataset/Crime/Robbery084_x264.mp4 2851\n",
            "/content/dataset/Crime/Burglary094_x264.mp4 740\n",
            "deleted/content/dataset/Crime/Burglary094_x264.mp4\n",
            "/content/dataset/Crime/Stealing017_x264.mp4 1580\n",
            "/content/dataset/Crime/Robbery059_x264.mp4 8270\n",
            "/content/dataset/Crime/Robbery038_x264.mp4 1370\n",
            "/content/dataset/Crime/Stealing114_x264.mp4 1200\n",
            "/content/dataset/Crime/Shoplifting009_x264.mp4 820\n",
            "deleted/content/dataset/Crime/Shoplifting009_x264.mp4\n",
            "/content/dataset/Crime/Stealing074_x264.mp4 1490\n",
            "/content/dataset/Crime/Robbery035_x264.mp4 1440\n",
            "/content/dataset/Crime/Robbery063_x264.mp4 760\n",
            "deleted/content/dataset/Crime/Robbery063_x264.mp4\n",
            "/content/dataset/Crime/Burglary034_x264.mp4 860\n",
            "deleted/content/dataset/Crime/Burglary034_x264.mp4\n",
            "/content/dataset/Crime/Burglary027_x264.mp4 3090\n",
            "/content/dataset/Crime/Burglary055_x264.mp4 2480\n",
            "/content/dataset/Crime/Robbery006_x264.mp4 2750\n",
            "/content/dataset/Crime/Robbery073_x264.mp4 3450\n",
            "/content/dataset/Crime/Burglary032_x264.mp4 14080\n",
            "/content/dataset/Crime/Stealing051_x264.mp4 1680\n",
            "/content/dataset/Crime/Burglary013_x264.mp4 2100\n",
            "/content/dataset/Crime/Burglary062_x264.mp4 6600\n",
            "/content/dataset/Crime/Stealing089_x264.mp4 11840\n",
            "/content/dataset/Crime/Robbery057_x264.mp4 2100\n",
            "/content/dataset/Crime/Robbery027_x264.mp4 4600\n",
            "/content/dataset/Crime/Stealing061_x264.mp4 1910\n",
            "/content/dataset/Crime/Stealing059_x264.mp4 1878\n",
            "/content/dataset/Crime/Burglary045_x264.mp4 6230\n",
            "/content/dataset/Crime/Stealing037_x264.mp4 4620\n",
            "/content/dataset/Crime/Burglary047_x264.mp4 2391\n",
            "/content/dataset/Crime/Shoplifting034_x264.mp4 4200\n",
            "/content/dataset/Crime/Stealing072_x264.mp4 11610\n",
            "/content/dataset/Crime/Stealing022_x264.mp4 1680\n",
            "/content/dataset/Crime/Stealing098_x264.mp4 2200\n",
            "/content/dataset/Crime/Burglary019_x264.mp4 2610\n",
            "/content/dataset/Crime/Burglary067_x264.mp4 1290\n",
            "/content/dataset/Crime/Shoplifting055_x264.mp4 880\n",
            "deleted/content/dataset/Crime/Shoplifting055_x264.mp4\n",
            "/content/dataset/Crime/Burglary071_x264.mp4 2720\n",
            "/content/dataset/Crime/Stealing077_x264.mp4 2550\n",
            "/content/dataset/Crime/Burglary060_x264.mp4 720\n",
            "deleted/content/dataset/Crime/Burglary060_x264.mp4\n",
            "/content/dataset/Crime/Shoplifting022_x264.mp4 1760\n",
            "/content/dataset/Crime/Burglary036_x264.mp4 990\n",
            "deleted/content/dataset/Crime/Burglary036_x264.mp4\n",
            "/content/dataset/Crime/Stealing088_x264.mp4 740\n",
            "deleted/content/dataset/Crime/Stealing088_x264.mp4\n",
            "/content/dataset/Crime/Stealing049_x264.mp4 1220\n",
            "/content/dataset/Crime/Robbery013_x264.mp4 3510\n",
            "/content/dataset/Crime/Burglary003_x264.mp4 1170\n",
            "deleted/content/dataset/Crime/Burglary003_x264.mp4\n",
            "/content/dataset/Crime/Robbery024_x264.mp4 2370\n",
            "/content/dataset/Crime/Burglary098_x264.mp4 900\n",
            "deleted/content/dataset/Crime/Burglary098_x264.mp4\n",
            "/content/dataset/Crime/Robbery061_x264.mp4 1870\n",
            "/content/dataset/Crime/Stealing036_x264.mp4 620\n",
            "deleted/content/dataset/Crime/Stealing036_x264.mp4\n",
            "/content/dataset/Crime/Shoplifting042_x264.mp4 910\n",
            "deleted/content/dataset/Crime/Shoplifting042_x264.mp4\n",
            "/content/dataset/Crime/Stealing020_x264.mp4 4290\n",
            "/content/dataset/Crime/Robbery050_x264.mp4 940\n",
            "deleted/content/dataset/Crime/Robbery050_x264.mp4\n",
            "/content/dataset/Crime/Burglary066_x264.mp4 1740\n",
            "/content/dataset/Crime/Burglary058_x264.mp4 11370\n",
            "/content/dataset/Crime/Burglary048_x264.mp4 1400\n",
            "/content/dataset/Crime/Burglary004_x264.mp4 1710\n",
            "/content/dataset/Crime/Burglary087_x264.mp4 2190\n",
            "/content/dataset/Crime/Burglary088_x264.mp4 4680\n",
            "/content/dataset/Crime/Burglary063_x264.mp4 2233\n",
            "/content/dataset/Crime/Burglary049_x264.mp4 9150\n",
            "/content/dataset/Crime/Robbery062_x264.mp4 1740\n",
            "/content/dataset/Crime/Robbery007_x264.mp4 1550\n",
            "/content/dataset/Crime/Robbery043_x264.mp4 990\n",
            "deleted/content/dataset/Crime/Robbery043_x264.mp4\n",
            "/content/dataset/Crime/Shoplifting025_x264.mp4 1490\n",
            "/content/dataset/Crime/Burglary025_x264.mp4 5650\n",
            "/content/dataset/Crime/Stealing068_x264.mp4 5410\n",
            "/content/dataset/Crime/Burglary029_x264.mp4 4560\n",
            "/content/dataset/Crime/Burglary041_x264.mp4 1740\n",
            "/content/dataset/Crime/Burglary065_x264.mp4 5470\n",
            "/content/dataset/Crime/Shoplifting013_x264.mp4 1950\n",
            "/content/dataset/Crime/Stealing103_x264.mp4 4830\n",
            "/content/dataset/Crime/Burglary074_x264.mp4 1790\n",
            "/content/dataset/Crime/Burglary090_x264.mp4 2472\n",
            "/content/dataset/Crime/Robbery045_x264.mp4 1190\n",
            "deleted/content/dataset/Crime/Robbery045_x264.mp4\n",
            "/content/dataset/Crime/Stealing032_x264.mp4 1560\n",
            "/content/dataset/Crime/Stealing078_x264.mp4 1750\n",
            "/content/dataset/Crime/Burglary091_x264.mp4 2960\n",
            "/content/dataset/Crime/Stealing070_x264.mp4 800\n",
            "deleted/content/dataset/Crime/Stealing070_x264.mp4\n",
            "/content/dataset/Crime/Burglary040_x264.mp4 4500\n",
            "/content/dataset/Crime/Burglary082_x264.mp4 1630\n",
            "/content/dataset/Crime/Stealing109_x264.mp4 5640\n",
            "/content/dataset/Crime/Burglary077_x264.mp4 1860\n",
            "/content/dataset/Crime/Shoplifting005_x264.mp4 624\n",
            "deleted/content/dataset/Crime/Shoplifting005_x264.mp4\n",
            "/content/dataset/Crime/Robbery078_x264.mp4 1573\n",
            "/content/dataset/Crime/Robbery100_x264.mp4 3420\n",
            "/content/dataset/Crime/Burglary073_x264.mp4 2260\n",
            "/content/dataset/Crime/Robbery010_x264.mp4 1280\n",
            "/content/dataset/Crime/Stealing100_x264.mp4 14830\n",
            "/content/dataset/Crime/Stealing097_x264.mp4 630\n",
            "deleted/content/dataset/Crime/Stealing097_x264.mp4\n",
            "/content/dataset/Crime/Burglary099_x264.mp4 1320\n",
            "/content/dataset/Crime/Stealing106_x264.mp4 1140\n",
            "deleted/content/dataset/Crime/Stealing106_x264.mp4\n",
            "/content/dataset/Crime/Stealing026_x264.mp4 1370\n",
            "/content/dataset/Crime/Robbery019_x264.mp4 5330\n",
            "/content/dataset/Crime/Shoplifting045_x264.mp4 1620\n",
            "/content/dataset/Crime/Burglary006_x264.mp4 7800\n",
            "/content/dataset/Crime/Burglary046_x264.mp4 1780\n",
            "/content/dataset/Crime/Burglary026_x264.mp4 1410\n",
            "/content/dataset/Crime/Stealing102_x264.mp4 770\n",
            "deleted/content/dataset/Crime/Stealing102_x264.mp4\n",
            "/content/dataset/Crime/Robbery060_x264.mp4 1620\n",
            "/content/dataset/Crime/Stealing096_x264.mp4 3900\n",
            "/content/dataset/Crime/Stealing092_x264.mp4 8140\n",
            "/content/dataset/Crime/Burglary051_x264.mp4 1156\n",
            "deleted/content/dataset/Crime/Burglary051_x264.mp4\n",
            "/content/dataset/Crime/Robbery083_x264.mp4 960\n",
            "deleted/content/dataset/Crime/Robbery083_x264.mp4\n",
            "/content/dataset/Crime/Robbery088_x264.mp4 4290\n",
            "/content/dataset/Crime/Robbery077_x264.mp4 810\n",
            "deleted/content/dataset/Crime/Robbery077_x264.mp4\n",
            "/content/dataset/Crime/Robbery014_x264.mp4 2970\n",
            "/content/dataset/Crime/Stealing063_x264.mp4 2950\n",
            "/content/dataset/Crime/Robbery026_x264.mp4 1910\n",
            "/content/dataset/Crime/Shoplifting051_x264.mp4 780\n",
            "deleted/content/dataset/Crime/Shoplifting051_x264.mp4\n",
            "/content/dataset/Crime/Shoplifting026_x264.mp4 1320\n",
            "/content/dataset/Crime/Burglary020_x264.mp4 2200\n",
            "/content/dataset/Crime/Stealing079_x264.mp4 2910\n",
            "/content/dataset/Crime/Robbery034_x264.mp4 5330\n",
            "/content/dataset/Crime/Burglary086_x264.mp4 3240\n",
            "/content/dataset/Crime/Stealing107_x264.mp4 4350\n",
            "/content/dataset/Crime/Burglary079_x264.mp4 6020\n",
            "/content/dataset/Crime/Burglary021_x264.mp4 1440\n",
            "/content/dataset/Crime/Burglary011_x264.mp4 1800\n",
            "/content/dataset/Crime/Robbery058_x264.mp4 1560\n",
            "/content/dataset/Crime/Robbery097_x264.mp4 1520\n",
            "/content/dataset/Crime/Robbery020_x264.mp4 2440\n",
            "/content/dataset/Crime/Stealing004_x264.mp4 1033\n",
            "deleted/content/dataset/Crime/Stealing004_x264.mp4\n",
            "/content/dataset/Crime/Stealing050_x264.mp4 2530\n",
            "/content/dataset/Crime/Stealing112_x264.mp4 1610\n",
            "/content/dataset/Crime/Shoplifting041_x264.mp4 2460\n",
            "/content/dataset/Crime/Stealing042_x264.mp4 4200\n",
            "/content/dataset/Crime/Burglary095_x264.mp4 22780\n",
            "/content/dataset/Crime/Burglary089_x264.mp4 3150\n",
            "/content/dataset/Crime/Stealing016_x264.mp4 1040\n",
            "deleted/content/dataset/Crime/Stealing016_x264.mp4\n",
            "/content/dataset/Crime/Burglary002_x264.mp4 3060\n",
            "/content/dataset/Crime/Robbery081_x264.mp4 5370\n",
            "/content/dataset/Crime/Shoplifting040_x264.mp4 1980\n",
            "/content/dataset/Crime/Stealing081_x264.mp4 950\n",
            "deleted/content/dataset/Crime/Stealing081_x264.mp4\n",
            "/content/dataset/Crime/Stealing052_x264.mp4 3150\n",
            "/content/dataset/Crime/Robbery048_x264.mp4 860\n",
            "deleted/content/dataset/Crime/Robbery048_x264.mp4\n",
            "/content/dataset/Crime/Stealing023_x264.mp4 2620\n",
            "/content/dataset/Crime/Robbery049_x264.mp4 1980\n",
            "/content/dataset/Crime/Robbery094_x264.mp4 960\n",
            "deleted/content/dataset/Crime/Robbery094_x264.mp4\n",
            "/content/dataset/Crime/Burglary100_x264.mp4 7010\n",
            "/content/dataset/Crime/Stealing110_x264.mp4 1289\n",
            "/content/dataset/Crime/Robbery017_x264.mp4 1640\n",
            "/content/dataset/Crime/Stealing087_x264.mp4 4830\n",
            "/content/dataset/Crime/Burglary042_x264.mp4 3800\n",
            "/content/dataset/Crime/Burglary076_x264.mp4 10600\n",
            "/content/dataset/Crime/Robbery008_x264.mp4 1690\n",
            "/content/dataset/Crime/Stealing055_x264.mp4 1340\n",
            "/content/dataset/Crime/Burglary096_x264.mp4 5490\n",
            "/content/dataset/Crime/Stealing045_x264.mp4 6602\n",
            "/content/dataset/Crime/Burglary012_x264.mp4 1680\n",
            "/content/dataset/Crime/Burglary037_x264.mp4 1610\n",
            "/content/dataset/Crime/Stealing018_x264.mp4 1800\n",
            "/content/dataset/Crime/Burglary030_x264.mp4 620\n",
            "deleted/content/dataset/Crime/Burglary030_x264.mp4\n",
            "/content/dataset/Crime/Stealing021_x264.mp4 4110\n",
            "/content/dataset/Crime/Stealing073_x264.mp4 650\n",
            "deleted/content/dataset/Crime/Stealing073_x264.mp4\n",
            "/content/dataset/Crime/Stealing009_x264.mp4 1220\n",
            "/content/dataset/Crime/Stealing111_x264.mp4 4560\n",
            "/content/dataset/Crime/Robbery082_x264.mp4 1380\n",
            "/content/dataset/Crime/Burglary084_x264.mp4 4100\n",
            "/content/dataset/Crime/Robbery066_x264.mp4 4130\n",
            "/content/dataset/Crime/Robbery018_x264.mp4 2790\n",
            "/content/dataset/Crime/Robbery015_x264.mp4 2460\n",
            "/content/dataset/Crime/Robbery029_x264.mp4 930\n",
            "deleted/content/dataset/Crime/Robbery029_x264.mp4\n",
            "/content/dataset/Crime/Burglary008_x264.mp4 2650\n",
            "/content/dataset/Crime/Robbery065_x264.mp4 2370\n",
            "/content/dataset/Crime/Burglary007_x264.mp4 1080\n",
            "deleted/content/dataset/Crime/Burglary007_x264.mp4\n",
            "/content/dataset/Crime/Burglary057_x264.mp4 5520\n",
            "/content/dataset/Crime/Stealing082_x264.mp4 850\n",
            "deleted/content/dataset/Crime/Stealing082_x264.mp4\n",
            "/content/dataset/Crime/Robbery095_x264.mp4 650\n",
            "deleted/content/dataset/Crime/Robbery095_x264.mp4\n",
            "/content/dataset/Crime/Robbery004_x264.mp4 810\n",
            "deleted/content/dataset/Crime/Robbery004_x264.mp4\n",
            "/content/dataset/Crime/Stealing013_x264.mp4 4280\n",
            "/content/dataset/Crime/Robbery009_x264.mp4 1910\n",
            "/content/dataset/Crime/Stealing101_x264.mp4 1010\n",
            "deleted/content/dataset/Crime/Stealing101_x264.mp4\n",
            "/content/dataset/Crime/Shoplifting014_x264.mp4 830\n",
            "deleted/content/dataset/Crime/Shoplifting014_x264.mp4\n",
            "/content/dataset/Crime/Robbery047_x264.mp4 1290\n",
            "/content/dataset/Crime/Stealing071_x264.mp4 960\n",
            "deleted/content/dataset/Crime/Stealing071_x264.mp4\n",
            "/content/dataset/Crime/Burglary024_x264.mp4 1410\n",
            "/content/dataset/Crime/Stealing008_x264.mp4 3390\n",
            "/content/dataset/Crime/Burglary010_x264.mp4 2650\n",
            "/content/dataset/Crime/Burglary056_x264.mp4 1410\n",
            "/content/dataset/norm/Stealing044_x2642.mp4 1590\n",
            "/content/dataset/norm/Robbery040_x2642.mp4 720\n",
            "deleted/content/dataset/norm/Robbery040_x2642.mp4\n",
            "/content/dataset/norm/Burglary076_x2642.mp4 2100\n",
            "/content/dataset/norm/Burglary017_x264.mp4 1613\n",
            "/content/dataset/norm/Shoplifting030_x264.mp4 15264\n",
            "/content/dataset/norm/Shoplifting003_x2642.mp4 7200\n",
            "/content/dataset/norm/Stealing024_x2642.mp4 1170\n",
            "deleted/content/dataset/norm/Stealing024_x2642.mp4\n",
            "/content/dataset/norm/Stealing053_x264.mp4 2807\n",
            "/content/dataset/norm/Stealing047_x2642.mp4 600\n",
            "deleted/content/dataset/norm/Stealing047_x2642.mp4\n",
            "/content/dataset/norm/Burglary005_x2642.mp4 4770\n",
            "/content/dataset/norm/Robbery080_x264.mp4 688\n",
            "deleted/content/dataset/norm/Robbery080_x264.mp4\n",
            "/content/dataset/norm/Burglary044_x264.mp4 3610\n",
            "/content/dataset/norm/Shoplifting041_x2642.mp4 6810\n",
            "/content/dataset/norm/Burglary018_x2642.mp4 600\n",
            "deleted/content/dataset/norm/Burglary018_x2642.mp4\n",
            "/content/dataset/norm/Stealing057_x2642.mp4 780\n",
            "deleted/content/dataset/norm/Stealing057_x2642.mp4\n",
            "/content/dataset/norm/Robbery032_x2642.mp4 1050\n",
            "deleted/content/dataset/norm/Robbery032_x2642.mp4\n",
            "/content/dataset/norm/Stealing098_x2642.mp4 1440\n",
            "/content/dataset/norm/Stealing058_x264.mp4 895\n",
            "deleted/content/dataset/norm/Stealing058_x264.mp4\n",
            "/content/dataset/norm/Shoplifting016_x264.mp4 733\n",
            "deleted/content/dataset/norm/Shoplifting016_x264.mp4\n",
            "/content/dataset/norm/Stealing003_x264.mp4 1076\n",
            "deleted/content/dataset/norm/Stealing003_x264.mp4\n",
            "/content/dataset/norm/Stealing083_x2642.mp4 3000\n",
            "/content/dataset/norm/Stealing086_x264.mp4 5896\n",
            "/content/dataset/norm/Shoplifting010_x2642.mp4 690\n",
            "deleted/content/dataset/norm/Shoplifting010_x2642.mp4\n",
            "/content/dataset/norm/Burglary061_x264.mp4 3240\n",
            "/content/dataset/norm/Robbery072_x264.mp4 644\n",
            "deleted/content/dataset/norm/Robbery072_x264.mp4\n",
            "/content/dataset/norm/Shoplifting030_x2642.mp4 5850\n",
            "/content/dataset/norm/Burglary044_x2642.mp4 600\n",
            "deleted/content/dataset/norm/Burglary044_x2642.mp4\n",
            "/content/dataset/norm/Robbery067_x264.mp4 1991\n",
            "/content/dataset/norm/Stealing043_x264.mp4 813\n",
            "deleted/content/dataset/norm/Stealing043_x264.mp4\n",
            "/content/dataset/norm/Shoplifting024_x2642.mp4 810\n",
            "deleted/content/dataset/norm/Shoplifting024_x2642.mp4\n",
            "/content/dataset/norm/Shoplifting044_x2642.mp4 11040\n",
            "/content/dataset/norm/Stealing084_x2642.mp4 750\n",
            "deleted/content/dataset/norm/Stealing084_x2642.mp4\n",
            "/content/dataset/norm/Shoplifting032_x264.mp4 676\n",
            "deleted/content/dataset/norm/Shoplifting032_x264.mp4\n",
            "/content/dataset/norm/Stealing094_x264.mp4 1149\n",
            "deleted/content/dataset/norm/Stealing094_x264.mp4\n",
            "/content/dataset/norm/Shoplifting052_x2642.mp4 1560\n",
            "/content/dataset/norm/Robbery028_x264.mp4 1092\n",
            "deleted/content/dataset/norm/Robbery028_x264.mp4\n",
            "/content/dataset/norm/Robbery096_x264.mp4 782\n",
            "deleted/content/dataset/norm/Robbery096_x264.mp4\n",
            "/content/dataset/norm/Shoplifting001_x2642.mp4 1560\n",
            "/content/dataset/norm/Burglary010_x2642.mp4 2880\n",
            "/content/dataset/norm/Stealing083_x264.mp4 756\n",
            "deleted/content/dataset/norm/Stealing083_x264.mp4\n",
            "/content/dataset/norm/Stealing035_x264.mp4 5375\n",
            "/content/dataset/norm/Shoplifting049_x2642.mp4 1050\n",
            "deleted/content/dataset/norm/Shoplifting049_x2642.mp4\n",
            "/content/dataset/norm/Robbery002_x264.mp4 2203\n",
            "/content/dataset/norm/Robbery021_x264.mp4 7226\n",
            "/content/dataset/norm/Shoplifting048_x264.mp4 2108\n",
            "/content/dataset/norm/Stealing075_x264.mp4 624\n",
            "deleted/content/dataset/norm/Stealing075_x264.mp4\n",
            "/content/dataset/norm/Shoplifting027_x264.mp4 769\n",
            "deleted/content/dataset/norm/Shoplifting027_x264.mp4\n",
            "/content/dataset/norm/Robbery086_x264.mp4 4454\n",
            "/content/dataset/norm/Stealing002_x264.mp4 1267\n",
            "/content/dataset/norm/Burglary073_x2642.mp4 660\n",
            "deleted/content/dataset/norm/Burglary073_x2642.mp4\n",
            "/content/dataset/norm/Stealing084_x264.mp4 905\n",
            "deleted/content/dataset/norm/Stealing084_x264.mp4\n",
            "/content/dataset/norm/Stealing008_x2642.mp4 1500\n",
            "/content/dataset/norm/Robbery017_x2642.mp4 1230\n",
            "/content/dataset/norm/Burglary064_x2642.mp4 15540\n",
            "/content/dataset/norm/Stealing012_x2642.mp4 1980\n",
            "/content/dataset/norm/Stealing006_x2642.mp4 870\n",
            "deleted/content/dataset/norm/Stealing006_x2642.mp4\n",
            "/content/dataset/norm/Robbery005_x264.mp4 2029\n",
            "/content/dataset/norm/Shoplifting004_x264.mp4 1923\n",
            "/content/dataset/norm/Stealing067_x2642.mp4 900\n",
            "deleted/content/dataset/norm/Stealing067_x2642.mp4\n",
            "/content/dataset/norm/Shoplifting043_x2642.mp4 7230\n",
            "/content/dataset/norm/Stealing002_x2642.mp4 900\n",
            "deleted/content/dataset/norm/Stealing002_x2642.mp4\n",
            "/content/dataset/norm/Stealing057_x264.mp4 1765\n",
            "/content/dataset/norm/Shoplifting007_x264.mp4 4374\n",
            "/content/dataset/norm/Shoplifting042_x2642.mp4 2100\n",
            "/content/dataset/norm/Stealing019_x264.mp4 2252\n",
            "/content/dataset/norm/Robbery037_x264.mp4 2477\n",
            "/content/dataset/norm/Stealing025_x264.mp4 4315\n",
            "/content/dataset/norm/Shoplifting036_x2642.mp4 3030\n",
            "/content/dataset/norm/Stealing007_x264.mp4 840\n",
            "deleted/content/dataset/norm/Stealing007_x264.mp4\n",
            "/content/dataset/norm/Robbery090_x264.mp4 4716\n",
            "/content/dataset/norm/Burglary064_x264.mp4 1374\n",
            "/content/dataset/norm/Stealing028_x2642.mp4 1110\n",
            "deleted/content/dataset/norm/Stealing028_x2642.mp4\n",
            "/content/dataset/norm/Burglary031_x2642.mp4 1980\n",
            "/content/dataset/norm/Stealing046_x264.mp4 9305\n",
            "/content/dataset/norm/Shoplifting004_x2642.mp4 4500\n",
            "/content/dataset/norm/Robbery100_x2642.mp4 960\n",
            "deleted/content/dataset/norm/Robbery100_x2642.mp4\n",
            "/content/dataset/norm/Burglary082_x2642.mp4 1080\n",
            "deleted/content/dataset/norm/Burglary082_x2642.mp4\n",
            "/content/dataset/norm/Robbery090_x2642.mp4 780\n",
            "deleted/content/dataset/norm/Robbery090_x2642.mp4\n",
            "/content/dataset/norm/Shoplifting010_x264.mp4 1986\n",
            "/content/dataset/norm/Robbery099_x264.mp4 606\n",
            "deleted/content/dataset/norm/Robbery099_x264.mp4\n",
            "/content/dataset/norm/Stealing105_x264.mp4 618\n",
            "deleted/content/dataset/norm/Stealing105_x264.mp4\n",
            "/content/dataset/norm/Stealing019_x2642.mp4 1500\n",
            "/content/dataset/norm/Robbery055_x264.mp4 6639\n",
            "/content/dataset/norm/Burglary062_x2642.mp4 4020\n",
            "/content/dataset/norm/Shoplifting047_x2642.mp4 1410\n",
            "/content/dataset/norm/Stealing036_x2642.mp4 1230\n",
            "/content/dataset/norm/Stealing025_x2642.mp4 16560\n",
            "/content/dataset/norm/Stealing067_x264.mp4 1100\n",
            "deleted/content/dataset/norm/Stealing067_x264.mp4\n",
            "/content/dataset/norm/Burglary094_x264.mp4 691\n",
            "deleted/content/dataset/norm/Burglary094_x264.mp4\n",
            "/content/dataset/norm/Burglary079_x2642.mp4 7830\n",
            "/content/dataset/norm/Robbery059_x264.mp4 1154\n",
            "deleted/content/dataset/norm/Robbery059_x264.mp4\n",
            "/content/dataset/norm/Shoplifting037_x2642.mp4 1080\n",
            "deleted/content/dataset/norm/Shoplifting037_x2642.mp4\n",
            "/content/dataset/norm/Burglary052_x2642.mp4 1500\n",
            "/content/dataset/norm/Stealing074_x264.mp4 670\n",
            "deleted/content/dataset/norm/Stealing074_x264.mp4\n",
            "/content/dataset/norm/Burglary096_x2642.mp4 780\n",
            "deleted/content/dataset/norm/Burglary096_x2642.mp4\n",
            "/content/dataset/norm/Shoplifting038_x2642.mp4 2400\n",
            "/content/dataset/norm/Robbery063_x264.mp4 883\n",
            "deleted/content/dataset/norm/Robbery063_x264.mp4\n",
            "/content/dataset/norm/Shoplifting020_x2642.mp4 2310\n",
            "/content/dataset/norm/Robbery026_x2642.mp4 4110\n",
            "/content/dataset/norm/Robbery098_x264.mp4 4356\n",
            "/content/dataset/norm/Burglary032_x264.mp4 1295\n",
            "/content/dataset/norm/Stealing051_x264.mp4 1080\n",
            "deleted/content/dataset/norm/Stealing051_x264.mp4\n",
            "/content/dataset/norm/Burglary062_x264.mp4 771\n",
            "deleted/content/dataset/norm/Burglary062_x264.mp4\n",
            "/content/dataset/norm/Stealing089_x264.mp4 944\n",
            "deleted/content/dataset/norm/Stealing089_x264.mp4\n",
            "/content/dataset/norm/Shoplifting009_x2642.mp4 4410\n",
            "/content/dataset/norm/Stealing077_x2642.mp4 2250\n",
            "/content/dataset/norm/Stealing092_x2642.mp4 2040\n",
            "/content/dataset/norm/Burglary045_x264.mp4 3207\n",
            "/content/dataset/norm/Shoplifting034_x264.mp4 3437\n",
            "/content/dataset/norm/Stealing032_x2642.mp4 2280\n",
            "/content/dataset/norm/Shoplifting006_x264.mp4 1406\n",
            "/content/dataset/norm/Stealing045_x2642.mp4 3090\n",
            "/content/dataset/norm/Burglary063_x2642.mp4 1500\n",
            "/content/dataset/norm/Stealing024_x264.mp4 1215\n",
            "/content/dataset/norm/Shoplifting055_x264.mp4 3846\n",
            "/content/dataset/norm/Burglary071_x264.mp4 833\n",
            "deleted/content/dataset/norm/Burglary071_x264.mp4\n",
            "/content/dataset/norm/Stealing079_x2642.mp4 1650\n",
            "/content/dataset/norm/Stealing077_x264.mp4 14435\n",
            "/content/dataset/norm/Stealing088_x264.mp4 9855\n",
            "/content/dataset/norm/Stealing048_x2642.mp4 960\n",
            "deleted/content/dataset/norm/Stealing048_x2642.mp4\n",
            "/content/dataset/norm/Shoplifting043_x264.mp4 2109\n",
            "/content/dataset/norm/Stealing012_x264.mp4 713\n",
            "deleted/content/dataset/norm/Stealing012_x264.mp4\n",
            "/content/dataset/norm/Stealing054_x2642.mp4 1470\n",
            "/content/dataset/norm/Burglary045_x2642.mp4 1920\n",
            "/content/dataset/norm/Robbery061_x264.mp4 1431\n",
            "/content/dataset/norm/Stealing036_x264.mp4 1003\n",
            "deleted/content/dataset/norm/Stealing036_x264.mp4\n",
            "/content/dataset/norm/Shoplifting042_x264.mp4 2371\n",
            "/content/dataset/norm/Stealing020_x264.mp4 853\n",
            "deleted/content/dataset/norm/Stealing020_x264.mp4\n",
            "/content/dataset/norm/Robbery042_x2642.mp4 1260\n",
            "/content/dataset/norm/Burglary066_x264.mp4 708\n",
            "deleted/content/dataset/norm/Burglary066_x264.mp4\n",
            "/content/dataset/norm/Burglary040_x2642.mp4 780\n",
            "deleted/content/dataset/norm/Burglary040_x2642.mp4\n",
            "/content/dataset/norm/Stealing113_x2642.mp4 630\n",
            "deleted/content/dataset/norm/Stealing113_x2642.mp4\n",
            "/content/dataset/norm/Robbery097_x2642.mp4 1200\n",
            "/content/dataset/norm/Shoplifting052_x264.mp4 5896\n",
            "/content/dataset/norm/Burglary063_x264.mp4 780\n",
            "deleted/content/dataset/norm/Burglary063_x264.mp4\n",
            "/content/dataset/norm/Robbery029_x2642.mp4 900\n",
            "deleted/content/dataset/norm/Robbery029_x2642.mp4\n",
            "/content/dataset/norm/Robbery062_x264.mp4 2110\n",
            "/content/dataset/norm/Shoplifting014_x2642.mp4 10980\n",
            "/content/dataset/norm/Robbery045_x2642.mp4 1020\n",
            "deleted/content/dataset/norm/Robbery045_x2642.mp4\n",
            "/content/dataset/norm/Burglary065_x264.mp4 1372\n",
            "/content/dataset/norm/Stealing088_x2642.mp4 2640\n",
            "/content/dataset/norm/Stealing096_x2642.mp4 1590\n",
            "/content/dataset/norm/Stealing103_x264.mp4 847\n",
            "deleted/content/dataset/norm/Stealing103_x264.mp4\n",
            "/content/dataset/norm/Robbery045_x264.mp4 1331\n",
            "/content/dataset/norm/Shoplifting036_x264.mp4 657\n",
            "deleted/content/dataset/norm/Shoplifting036_x264.mp4\n",
            "/content/dataset/norm/Stealing032_x264.mp4 1645\n",
            "/content/dataset/norm/Robbery055_x2642.mp4 1320\n",
            "/content/dataset/norm/Robbery053_x264.mp4 1085\n",
            "deleted/content/dataset/norm/Robbery053_x264.mp4\n",
            "/content/dataset/norm/Burglary039_x2642.mp4 2550\n",
            "/content/dataset/norm/Stealing109_x264.mp4 953\n",
            "deleted/content/dataset/norm/Stealing109_x264.mp4\n",
            "/content/dataset/norm/Shoplifting034_x2642.mp4 4680\n",
            "/content/dataset/norm/Shoplifting044_x264.mp4 3276\n",
            "/content/dataset/norm/Shoplifting005_x264.mp4 891\n",
            "deleted/content/dataset/norm/Shoplifting005_x264.mp4\n",
            "/content/dataset/norm/Shoplifting008_x2642.mp4 5100\n",
            "/content/dataset/norm/Robbery078_x264.mp4 681\n",
            "deleted/content/dataset/norm/Robbery078_x264.mp4\n",
            "/content/dataset/norm/Stealing065_x2642.mp4 600\n",
            "deleted/content/dataset/norm/Stealing065_x2642.mp4\n",
            "/content/dataset/norm/Shoplifting055_x2642.mp4 2220\n",
            "/content/dataset/norm/Robbery010_x264.mp4 811\n",
            "deleted/content/dataset/norm/Robbery010_x264.mp4\n",
            "/content/dataset/norm/Stealing020_x2642.mp4 1500\n",
            "/content/dataset/norm/Robbery054_x2642.mp4 1320\n",
            "/content/dataset/norm/Robbery086_x2642.mp4 1770\n",
            "/content/dataset/norm/Stealing097_x264.mp4 650\n",
            "deleted/content/dataset/norm/Stealing097_x264.mp4\n",
            "/content/dataset/norm/Robbery035_x2642.mp4 3030\n",
            "/content/dataset/norm/Burglary006_x264.mp4 1187\n",
            "deleted/content/dataset/norm/Burglary006_x264.mp4\n",
            "/content/dataset/norm/Shoplifting050_x264.mp4 2256\n",
            "/content/dataset/norm/Shoplifting032_x2642.mp4 690\n",
            "deleted/content/dataset/norm/Shoplifting032_x2642.mp4\n",
            "/content/dataset/norm/Robbery060_x264.mp4 606\n",
            "deleted/content/dataset/norm/Robbery060_x264.mp4\n",
            "/content/dataset/norm/Shoplifting012_x2642.mp4 7950\n",
            "/content/dataset/norm/Stealing096_x264.mp4 1358\n",
            "/content/dataset/norm/Shoplifting006_x2642.mp4 1650\n",
            "/content/dataset/norm/Stealing092_x264.mp4 3541\n",
            "/content/dataset/norm/Burglary075_x2642.mp4 2700\n",
            "/content/dataset/norm/Shoplifting001_x264.mp4 2344\n",
            "/content/dataset/norm/Shoplifting021_x264.mp4 1301\n",
            "/content/dataset/norm/Stealing101_x2642.mp4 1200\n",
            "/content/dataset/norm/Robbery014_x264.mp4 8778\n",
            "/content/dataset/norm/Stealing063_x264.mp4 7591\n",
            "/content/dataset/norm/Robbery026_x264.mp4 7365\n",
            "/content/dataset/norm/Shoplifting051_x264.mp4 1968\n",
            "/content/dataset/norm/Burglary020_x264.mp4 810\n",
            "deleted/content/dataset/norm/Burglary020_x264.mp4\n",
            "/content/dataset/norm/Robbery009_x2642.mp4 1050\n",
            "deleted/content/dataset/norm/Robbery009_x2642.mp4\n",
            "/content/dataset/norm/Stealing079_x264.mp4 1596\n",
            "/content/dataset/norm/Shoplifting021_x2642.mp4 2100\n",
            "/content/dataset/norm/Robbery034_x264.mp4 832\n",
            "deleted/content/dataset/norm/Robbery034_x264.mp4\n",
            "/content/dataset/norm/Stealing003_x2642.mp4 2520\n",
            "/content/dataset/norm/Shoplifting033_x2642.mp4 630\n",
            "deleted/content/dataset/norm/Shoplifting033_x2642.mp4\n",
            "/content/dataset/norm/Robbery016_x2642.mp4 810\n",
            "deleted/content/dataset/norm/Robbery016_x2642.mp4\n",
            "/content/dataset/norm/Burglary079_x264.mp4 1103\n",
            "deleted/content/dataset/norm/Burglary079_x264.mp4\n",
            "/content/dataset/norm/Robbery073_x2642.mp4 3810\n",
            "/content/dataset/norm/Shoplifting029_x264.mp4 747\n",
            "deleted/content/dataset/norm/Shoplifting029_x264.mp4\n",
            "/content/dataset/norm/Shoplifting012_x264.mp4 15433\n",
            "/content/dataset/norm/Shoplifting005_x2642.mp4 600\n",
            "deleted/content/dataset/norm/Shoplifting005_x2642.mp4\n",
            "/content/dataset/norm/Shoplifting051_x2642.mp4 4620\n",
            "/content/dataset/norm/Robbery097_x264.mp4 1036\n",
            "deleted/content/dataset/norm/Robbery097_x264.mp4\n",
            "/content/dataset/norm/Robbery053_x2642.mp4 600\n",
            "deleted/content/dataset/norm/Robbery053_x2642.mp4\n",
            "/content/dataset/norm/Stealing086_x2642.mp4 11970\n",
            "/content/dataset/norm/Robbery020_x264.mp4 903\n",
            "deleted/content/dataset/norm/Robbery020_x264.mp4\n",
            "/content/dataset/norm/Robbery014_x2642.mp4 3780\n",
            "/content/dataset/norm/Stealing108_x2642.mp4 870\n",
            "deleted/content/dataset/norm/Stealing108_x2642.mp4\n",
            "/content/dataset/norm/Robbery027_x2642.mp4 720\n",
            "deleted/content/dataset/norm/Robbery027_x2642.mp4\n",
            "/content/dataset/norm/Burglary095_x2642.mp4 2790\n",
            "/content/dataset/norm/Stealing047_x264.mp4 602\n",
            "deleted/content/dataset/norm/Stealing047_x264.mp4\n",
            "/content/dataset/norm/Robbery092_x264.mp4 600\n",
            "deleted/content/dataset/norm/Robbery092_x264.mp4\n",
            "/content/dataset/norm/Shoplifting041_x264.mp4 3335\n",
            "/content/dataset/norm/Shoplifting020_x264.mp4 3520\n",
            "/content/dataset/norm/Burglary095_x264.mp4 15155\n",
            "/content/dataset/norm/Burglary083_x2642.mp4 2250\n",
            "/content/dataset/norm/Stealing022_x2642.mp4 900\n",
            "deleted/content/dataset/norm/Stealing022_x2642.mp4\n",
            "/content/dataset/norm/Stealing035_x2642.mp4 960\n",
            "deleted/content/dataset/norm/Stealing035_x2642.mp4\n",
            "/content/dataset/norm/Stealing016_x264.mp4 1200\n",
            "/content/dataset/norm/Shoplifting040_x264.mp4 25458\n",
            "/content/dataset/norm/Robbery020_x2642.mp4 1410\n",
            "/content/dataset/norm/Stealing007_x2642.mp4 600\n",
            "deleted/content/dataset/norm/Stealing007_x2642.mp4\n",
            "/content/dataset/norm/Shoplifting008_x264.mp4 3677\n",
            "/content/dataset/norm/Burglary065_x2642.mp4 2790\n",
            "/content/dataset/norm/Robbery067_x2642.mp4 750\n",
            "deleted/content/dataset/norm/Robbery067_x2642.mp4\n",
            "/content/dataset/norm/Stealing026_x2642.mp4 1080\n",
            "deleted/content/dataset/norm/Stealing026_x2642.mp4\n",
            "/content/dataset/norm/Stealing010_x2642.mp4 1710\n",
            "/content/dataset/norm/Stealing063_x2642.mp4 1410\n",
            "/content/dataset/norm/Stealing051_x2642.mp4 810\n",
            "deleted/content/dataset/norm/Stealing051_x2642.mp4\n",
            "/content/dataset/norm/Robbery094_x264.mp4 2986\n",
            "/content/dataset/norm/Burglary061_x2642.mp4 4050\n",
            "/content/dataset/norm/Shoplifting027_x2642.mp4 1050\n",
            "deleted/content/dataset/norm/Shoplifting027_x2642.mp4\n",
            "/content/dataset/norm/Robbery017_x264.mp4 1858\n",
            "/content/dataset/norm/Stealing109_x2642.mp4 3210\n",
            "/content/dataset/norm/Robbery032_x264.mp4 4150\n",
            "/content/dataset/norm/Robbery010_x2642.mp4 1050\n",
            "deleted/content/dataset/norm/Robbery010_x2642.mp4\n",
            "/content/dataset/norm/Burglary046_x2642.mp4 600\n",
            "deleted/content/dataset/norm/Burglary046_x2642.mp4\n",
            "/content/dataset/norm/Stealing082_x2642.mp4 600\n",
            "deleted/content/dataset/norm/Stealing082_x2642.mp4\n",
            "/content/dataset/norm/Stealing068_x2642.mp4 1320\n",
            "/content/dataset/norm/Stealing045_x264.mp4 1254\n",
            "/content/dataset/norm/Shoplifting029_x2642.mp4 1050\n",
            "deleted/content/dataset/norm/Shoplifting029_x2642.mp4\n",
            "/content/dataset/norm/Burglary009_x2642.mp4 780\n",
            "deleted/content/dataset/norm/Burglary009_x2642.mp4\n",
            "/content/dataset/norm/Robbery037_x2642.mp4 5430\n",
            "/content/dataset/norm/Stealing023_x2642.mp4 2160\n",
            "/content/dataset/norm/Stealing073_x264.mp4 774\n",
            "deleted/content/dataset/norm/Stealing073_x264.mp4\n",
            "/content/dataset/norm/Stealing066_x264.mp4 780\n",
            "deleted/content/dataset/norm/Stealing066_x264.mp4\n",
            "/content/dataset/norm/Robbery098_x2642.mp4 7740\n",
            "/content/dataset/norm/Stealing004_x2642.mp4 5490\n",
            "/content/dataset/norm/Robbery029_x264.mp4 683\n",
            "deleted/content/dataset/norm/Robbery029_x264.mp4\n",
            "/content/dataset/norm/Burglary008_x264.mp4 2190\n",
            "/content/dataset/norm/Shoplifting003_x264.mp4 3317\n",
            "/content/dataset/norm/Burglary016_x2642.mp4 660\n",
            "deleted/content/dataset/norm/Burglary016_x2642.mp4\n",
            "/content/dataset/norm/Robbery052_x2642.mp4 1830\n",
            "/content/dataset/norm/Robbery004_x264.mp4 779\n",
            "deleted/content/dataset/norm/Robbery004_x264.mp4\n",
            "/content/dataset/norm/Stealing013_x264.mp4 1751\n",
            "/content/dataset/norm/Shoplifting039_x2642.mp4 2100\n",
            "/content/dataset/norm/Shoplifting014_x264.mp4 55198\n",
            "/content/dataset/norm/Robbery096_x2642.mp4 2190\n",
            "/content/dataset/norm/Burglary033_x264.mp4 1009\n",
            "deleted/content/dataset/norm/Burglary033_x264.mp4\n",
            "/content/dataset/norm/Stealing013_x2642.mp4 3450\n",
            "/content/dataset/norm/Shoplifting015_x2642.mp4 1980\n",
            "/content/dataset/norm/Burglary024_x264.mp4 2355\n",
            "/content/dataset/norm/Shoplifting018_x264.mp4 1882\n",
            "/content/dataset/norm/Shoplifting053_x2642.mp4 1260\n",
            "/content/dataset/norm/Burglary010_x264.mp4 638\n",
            "deleted/content/dataset/norm/Burglary010_x264.mp4\n",
            "/content/dataset/norm/Stealing100_x2642.mp4 630\n",
            "deleted/content/dataset/norm/Stealing100_x2642.mp4\n"
          ],
          "name": "stdout"
        }
      ]
    },
    {
      "cell_type": "code",
      "metadata": {
        "id": "QmNoBTk-e-4I",
        "outputId": "2ec272fa-7941-4a05-ef2b-679d3c16c81a",
        "colab": {
          "base_uri": "https://localhost:8080/"
        }
      },
      "source": [
        "import os\n",
        "import glob\n",
        "import keras\n",
        "classes=labels\n",
        "classes.sort()# some global params\n",
        "SIZE = (320, 240)\n",
        "CHANNELS = 3\n",
        "NBFRAME = 80\n",
        "BS = 1# pattern to get videos and classes\n",
        "glob_pattern='/content/dataset/{classname}/*.mp4'# for data augmentation\n",
        "data_aug = keras.preprocessing.image.ImageDataGenerator(\n",
        "  zoom_range=.1,\n",
        "  horizontal_flip=True,\n",
        "  rotation_range=8,\n",
        "  width_shift_range=.2,\n",
        "  height_shift_range=.2)# Create video frame generator\n",
        "train = VideoFrameGenerator(\n",
        "  classes=classes, \n",
        "  glob_pattern=glob_pattern,\n",
        "  nb_frames=NBFRAME,\n",
        "  split=.33, \n",
        "  shuffle=True,\n",
        "  batch_size=BS,\n",
        "  target_shape=SIZE,\n",
        "  nb_channel=CHANNELS,\n",
        "  transformation=data_aug,use_frame_cache=True)"
      ],
      "execution_count": 50,
      "outputs": [
        {
          "output_type": "stream",
          "text": [
            "Warning, `split` argument is replaced by `split_val`, please condider to change your source code.The `split` argument will be removed in future releases.\n"
          ],
          "name": "stderr"
        },
        {
          "output_type": "stream",
          "text": [
            "class Crime, validation count: 65, train count: 134\n",
            "class norm, validation count: 50, train count: 103\n",
            "Total data: 2 classes for 237 files for train\n"
          ],
          "name": "stdout"
        }
      ]
    },
    {
      "cell_type": "code",
      "metadata": {
        "id": "G2GhFoj9e-4N"
      },
      "source": [
        "from keras.layers import Conv2D, BatchNormalization, MaxPool2D, GlobalMaxPool2D\n",
        "def build_convnet(shape=(320, 240, 3)):\n",
        "  momentum = .9\n",
        "  model = keras.Sequential()\n",
        "  model.add(Conv2D(64, (11,11), input_shape=shape,\n",
        "      padding='same', activation='relu'))\n",
        "  model.add(Conv2D(64, (11,11), padding='same', activation='relu'))\n",
        "  model.add(BatchNormalization(momentum=momentum))\n",
        "  \n",
        "  model.add(MaxPool2D())\n",
        "  \n",
        "  model.add(Conv2D(48, (9,9), padding='same', activation='relu'))\n",
        "  model.add(Conv2D(48, (9,9), padding='same', activation='relu'))\n",
        "  model.add(BatchNormalization(momentum=momentum))\n",
        "  \n",
        "  model.add(MaxPool2D())\n",
        "  \n",
        "  model.add(Conv2D(64, (7,7), padding='same', activation='relu'))\n",
        "  model.add(Conv2D(64, (7,7), padding='same', activation='relu'))\n",
        "  model.add(BatchNormalization(momentum=momentum))\n",
        "  \n",
        "  model.add(MaxPool2D())\n",
        "  \n",
        "  model.add(Conv2D(32, (5,5), padding='same', activation='relu'))\n",
        "  model.add(Conv2D(32, (3,3), padding='same', activation='relu'))\n",
        "  model.add(BatchNormalization(momentum=momentum))\n",
        "  \n",
        "  # flatten...\n",
        "  model.add(GlobalMaxPool2D())\n",
        "  return model"
      ],
      "execution_count": null,
      "outputs": []
    },
    {
      "cell_type": "code",
      "metadata": {
        "id": "tjtFupXBe-4S"
      },
      "source": [
        "from keras.layers import TimeDistributed, GRU, Dense, Dropout,LSTM\n",
        "def action_model(shape=(40, 320, 240, 3), nbout=1):\n",
        "  # Create our convnet with (320, 240, 3) input shape\n",
        "  convnet = build_convnet(shape[1:])\n",
        "  \n",
        "  # then create our final model\n",
        "  model = keras.Sequential()    # add the convnet with (5, 112, 112, 3) shape\n",
        "  model.add(TimeDistributed(convnet, input_shape=shape))    # here, you can also use GRU or LSTM\n",
        "  model.add(LSTM(64,return_sequences=True))    # and finally, we make a decision network\n",
        "  # model.add(Dense(128, activation='relu'))\n",
        "  # model.add(Dropout(.5))\n",
        "  model.add(Dense(128, activation='relu'))\n",
        "  # model.add(Dropout(.5))\n",
        "  model.add(LSTM(32)) \n",
        "  model.add(Dense(64, activation='relu'))\n",
        "  # model.add(LSTM(64)) \n",
        "  # model.add(Dropout(.5))\n",
        "  model.add(Dense(32, activation='relu'))\n",
        "  model.add(Dense(1, activation='sigmoid'))\n",
        "  return model"
      ],
      "execution_count": null,
      "outputs": []
    },
    {
      "cell_type": "code",
      "metadata": {
        "id": "atuMcp1Ne-4W"
      },
      "source": [
        "INSHAPE=(NBFRAME,) + SIZE + (CHANNELS,) # (10, 320, 240, 3)\n",
        "model = action_model(INSHAPE, len(classes))\n",
        "optimizer = keras.optimizers.Adam(0.001)\n",
        "model.compile(\n",
        "    # optimizer,\n",
        "    \"adam\",\n",
        "    'binary_crossentropy',\n",
        "    metrics=['acc']\n",
        ")"
      ],
      "execution_count": null,
      "outputs": []
    },
    {
      "cell_type": "code",
      "metadata": {
        "id": "YWh5vxAMe-4a",
        "outputId": "8b56b617-56a5-486d-c5a0-77f0d67bb446",
        "colab": {
          "base_uri": "https://localhost:8080/"
        }
      },
      "source": [
        "valid = train.get_validation_generator()\n",
        "test=train.get_test_generator()"
      ],
      "execution_count": 51,
      "outputs": [
        {
          "output_type": "stream",
          "text": [
            "Total data: 2 classes for 115 files for validation\n",
            "Total data: 2 classes for 0 files for test\n"
          ],
          "name": "stdout"
        }
      ]
    },
    {
      "cell_type": "code",
      "metadata": {
        "id": "h15e3Yk9e-4f"
      },
      "source": [
        "# model.summary()"
      ],
      "execution_count": 17,
      "outputs": []
    },
    {
      "cell_type": "code",
      "metadata": {
        "id": "3LDQrj89e-4k",
        "outputId": "a11586cc-c509-46f3-adcd-c1b19cea53ee",
        "colab": {
          "base_uri": "https://localhost:8080/"
        }
      },
      "source": [
        "EPOCHS=1#\n",
        "#More complex Model frames and duration<40,nbframes=20,BS=1 ,without callbacks\n",
        "history=model.fit(\n",
        "train,\n",
        "# validation_data=valid,\n",
        "verbose=1,\n",
        "epochs=10\n",
        ")"
      ],
      "execution_count": null,
      "outputs": [
        {
          "output_type": "stream",
          "text": [
            "Epoch 1/10\n",
            "  2/237 [..............................] - ETA: 3:41 - loss: 0.6991 - acc: 0.5000WARNING:tensorflow:Callbacks method `on_train_batch_end` is slow compared to the batch time (batch time: 0.3712s vs `on_train_batch_end` time: 1.4618s). Check your callbacks.\n",
            "237/237 [==============================] - 813s 3s/step - loss: 0.6932 - acc: 0.5000\n",
            "Epoch 2/10\n",
            "237/237 [==============================] - 434s 2s/step - loss: 0.6931 - acc: 0.5000\n",
            "Epoch 3/10\n",
            "237/237 [==============================] - 433s 2s/step - loss: 0.6931 - acc: 0.5000\n",
            "Epoch 4/10\n",
            "237/237 [==============================] - 434s 2s/step - loss: 0.6931 - acc: 0.5000\n",
            "Epoch 5/10\n",
            "237/237 [==============================] - 434s 2s/step - loss: 0.6931 - acc: 0.5000\n",
            "Epoch 6/10\n",
            "237/237 [==============================] - 434s 2s/step - loss: 0.6931 - acc: 0.5000\n",
            "Epoch 7/10\n",
            "237/237 [==============================] - 434s 2s/step - loss: 0.6931 - acc: 0.5000\n",
            "Epoch 8/10\n",
            "237/237 [==============================] - 434s 2s/step - loss: 0.6931 - acc: 0.5000\n",
            "Epoch 9/10\n",
            "237/237 [==============================] - 434s 2s/step - loss: 0.6931 - acc: 0.5000\n",
            "Epoch 10/10\n",
            "237/237 [==============================] - 434s 2s/step - loss: 0.6931 - acc: 0.5000\n"
          ],
          "name": "stdout"
        }
      ]
    },
    {
      "cell_type": "code",
      "metadata": {
        "id": "j8t0vUoTe-4n",
        "outputId": "43b85a8b-5e07-4710-9422-5878db9d00b7",
        "colab": {
          "base_uri": "https://localhost:8080/"
        }
      },
      "source": [
        "from keras.models import model_from_json\n",
        "# model_json = model.to_json()\n",
        "# # !mk dir '/content/drive/My Drive/anomalyseg'\n",
        "# with open(\"/content/drive/My Drive/anomalyseg/model<40,80-8010ep.json\", \"w\") as json_file:\n",
        "#     json_file.write(model_json)\n",
        "# # serialize weights to HDF5\n",
        "# model.save_weights(\"/content/drive/My Drive/anomalyseg/model<40,80-8010ep.h5\")\n",
        "# print(\"Saved model to disk\")\n",
        " \n",
        "# # later...\n",
        " \n",
        "# load json and create model\n",
        "json_file = open('/content/drive/My Drive/anomalyseg/model_40,80-8010ep.json', 'r')\n",
        "loaded_model_json = json_file.read()\n",
        "json_file.close()\n",
        "loaded_model = model_from_json(loaded_model_json)\n",
        "# load weights into new model\n",
        "loaded_model.load_weights(\"/content/drive/My Drive/anomalyseg/model_40,80-8010ep.h5\")\n",
        "print(\"Loaded model from disk\")"
      ],
      "execution_count": 22,
      "outputs": [
        {
          "output_type": "stream",
          "text": [
            "Loaded model from disk\n"
          ],
          "name": "stdout"
        }
      ]
    },
    {
      "cell_type": "code",
      "metadata": {
        "id": "rAGwkhqJe-4s"
      },
      "source": [
        "loaded_model.compile(\n",
        "    # optimizer,\n",
        "    \"adam\",\n",
        "    'binary_crossentropy',\n",
        "    metrics=['acc']\n",
        ")\n",
        "# loaded_model.evaluate(valid)"
      ],
      "execution_count": 45,
      "outputs": []
    },
    {
      "cell_type": "code",
      "metadata": {
        "id": "rngmmIc3e-41"
      },
      "source": [
        "from sklearn.metrics import classification_report, confusion_matrix,accuracy_score"
      ],
      "execution_count": 46,
      "outputs": []
    },
    {
      "cell_type": "code",
      "metadata": {
        "id": "aYnR3CN3e-44",
        "outputId": "eca07e6e-43c6-415f-ad55-0c235d4c8521",
        "colab": {
          "base_uri": "https://localhost:8080/"
        }
      },
      "source": [
        "temp=list(map(lambda x:x.strip('/content/dataset'),valid.files))\n",
        "temp=list(map(lambda x:x.split('/')[0],temp))\n",
        "temp=list(map(lambda x:\"no\"+x if x=='rm' else x,temp))\n",
        "temp=list(map(lambda x:labels.index(x),temp))\n",
        "# len(temp)\n",
        "len(temp)"
      ],
      "execution_count": 53,
      "outputs": [
        {
          "output_type": "execute_result",
          "data": {
            "text/plain": [
              "115"
            ]
          },
          "metadata": {
            "tags": []
          },
          "execution_count": 53
        }
      ]
    },
    {
      "cell_type": "markdown",
      "metadata": {
        "id": "GxYSc3I4JurW"
      },
      "source": [
        "## Loaded_model"
      ]
    },
    {
      "cell_type": "code",
      "metadata": {
        "id": "MUOca5qGEhk-",
        "outputId": "cce19881-9e2a-4201-b69d-c4d9ae899433",
        "colab": {
          "base_uri": "https://localhost:8080/"
        }
      },
      "source": [
        "#NB Frames=80,highly complex model with many layers,dataset<40 or frame_count<80_done using loaded_model\n",
        "# batch_size=64\n",
        "# y=loaded_model.predict(valid)\n",
        "y_pred = (y>0.5)*1 \n",
        "print(\"confusion Matrix\")\n",
        "print(confusion_matrix(temp[:], y_pred))\n",
        "print('Classification Report')\n",
        "target_names = labels\n",
        "print(classification_report(temp[:], y_pred, target_names=target_names))\n",
        "print(accuracy_score(temp[:],y_pred))"
      ],
      "execution_count": 62,
      "outputs": [
        {
          "output_type": "stream",
          "text": [
            "confusion Matrix\n",
            "[[30 35]\n",
            " [18 32]]\n",
            "Classification Report\n",
            "              precision    recall  f1-score   support\n",
            "\n",
            "       Crime       0.62      0.46      0.53        65\n",
            "        norm       0.48      0.64      0.55        50\n",
            "\n",
            "    accuracy                           0.54       115\n",
            "   macro avg       0.55      0.55      0.54       115\n",
            "weighted avg       0.56      0.54      0.54       115\n",
            "\n",
            "0.5391304347826087\n"
          ],
          "name": "stdout"
        }
      ]
    },
    {
      "cell_type": "markdown",
      "metadata": {
        "id": "N0CE4PZ8J0uW"
      },
      "source": [
        "## Done using trained model"
      ]
    },
    {
      "cell_type": "code",
      "metadata": {
        "id": "P7ICIf5ce-48",
        "outputId": "106b9253-7005-402a-d0c5-1e1aa613c9f5",
        "colab": {
          "base_uri": "https://localhost:8080/"
        }
      },
      "source": [
        "#NB Frames=80,highly complex model with many layers,dataset<40 or frame_count<40\n",
        "# batch_size=64\n",
        "# y=loaded_model.predict(valid)\n",
        "y_pred = (y>0.5)*1 \n",
        "print(\"confusion Matrix\")\n",
        "print(confusion_matrix(temp[:], y_pred))\n",
        "print('Classification Report')\n",
        "target_names = labels\n",
        "print(classification_report(temp[:], y_pred, target_names=target_names))\n",
        "print(accuracy_score(temp[:],y_pred))"
      ],
      "execution_count": null,
      "outputs": [
        {
          "output_type": "stream",
          "text": [
            "confusion Matrix\n",
            "[[29 36]\n",
            " [21 29]]\n",
            "Classification Report\n",
            "              precision    recall  f1-score   support\n",
            "\n",
            "       Crime       0.58      0.45      0.50        65\n",
            "        norm       0.45      0.58      0.50        50\n",
            "\n",
            "    accuracy                           0.50       115\n",
            "   macro avg       0.51      0.51      0.50       115\n",
            "weighted avg       0.52      0.50      0.50       115\n",
            "\n",
            "0.5043478260869565\n"
          ],
          "name": "stdout"
        }
      ]
    },
    {
      "cell_type": "markdown",
      "metadata": {
        "id": "A4AbzQQyM7ZR"
      },
      "source": [
        "# More"
      ]
    },
    {
      "cell_type": "code",
      "metadata": {
        "id": "hys50t7D3vJS",
        "outputId": "3966c597-4b97-4669-c740-3192b67586f3",
        "colab": {
          "base_uri": "https://localhost:8080/"
        }
      },
      "source": [
        "import cv2\n",
        "for cls in labels:\n",
        "  temp=os.listdir(\"/content/dataset/\"+cls)\n",
        "  for vid in temp:  \n",
        "    try:\n",
        "      tempy=os.path.join(\"/content/dataset\",cls,vid)\n",
        "      cap = cv2.VideoCapture(\"/content/dataset/\"+cls+\"/\"+vid)\n",
        "      fps = cap.get(cv2.CAP_PROP_FPS)      # OpenCV2 version 2 used \"CV_CAP_PROP_FPS\"\n",
        "      frame_count = int(cap.get(cv2.CAP_PROP_FRAME_COUNT))\n",
        "      print(tempy,frame_count)\n",
        "      # if(fps!=0):\n",
        "      duration = frame_count/fps\n",
        "      if(duration<40 or frame_count<40):\n",
        "        os.remove(tempy)\n",
        "        print(\"deleted\"+(tempy))\n",
        "      # else:\n",
        "      #   os.remove(tempy)\n",
        "    except:\n",
        "      os.remove(tempy)\n",
        "      print(\"deleted\"+(tempy))\n",
        "    cap.release()"
      ],
      "execution_count": null,
      "outputs": [
        {
          "output_type": "stream",
          "text": [
            "/content/dataset/Crime/Burglary061_x264.mp4 1760\n",
            "/content/dataset/Crime/Shoplifting041_x264.mp4 2460\n",
            "/content/dataset/Crime/Stealing080_x264.mp4 900\n",
            "deleted/content/dataset/Crime/Stealing080_x264.mp4\n",
            "/content/dataset/Crime/Burglary064_x264.mp4 31780\n",
            "/content/dataset/Crime/Burglary099_x264.mp4 1320\n",
            "/content/dataset/Crime/Stealing111_x264.mp4 4560\n",
            "/content/dataset/Crime/Stealing083_x264.mp4 900\n",
            "deleted/content/dataset/Crime/Stealing083_x264.mp4\n",
            "/content/dataset/Crime/Robbery050_x264.mp4 940\n",
            "deleted/content/dataset/Crime/Robbery050_x264.mp4\n",
            "/content/dataset/Crime/Burglary063_x264.mp4 2233\n",
            "/content/dataset/Crime/Stealing101_x264.mp4 1010\n",
            "deleted/content/dataset/Crime/Stealing101_x264.mp4\n",
            "/content/dataset/Crime/Stealing096_x264.mp4 3900\n",
            "/content/dataset/Crime/Burglary039_x264.mp4 6770\n",
            "/content/dataset/Crime/Robbery038_x264.mp4 1370\n",
            "/content/dataset/Crime/Burglary084_x264.mp4 4100\n",
            "/content/dataset/Crime/Robbery056_x264.mp4 2670\n",
            "/content/dataset/Crime/Robbery066_x264.mp4 4130\n",
            "/content/dataset/Crime/Robbery099_x264.mp4 1200\n",
            "/content/dataset/Crime/Robbery005_x264.mp4 610\n",
            "deleted/content/dataset/Crime/Robbery005_x264.mp4\n",
            "/content/dataset/Crime/Burglary080_x264.mp4 996\n",
            "deleted/content/dataset/Crime/Burglary080_x264.mp4\n",
            "/content/dataset/Crime/Burglary023_x264.mp4 9720\n",
            "/content/dataset/Crime/Burglary066_x264.mp4 1740\n",
            "/content/dataset/Crime/Robbery034_x264.mp4 5330\n",
            "/content/dataset/Crime/Robbery026_x264.mp4 1910\n",
            "/content/dataset/Crime/Stealing015_x264.mp4 1490\n",
            "/content/dataset/Crime/Stealing026_x264.mp4 1370\n",
            "/content/dataset/Crime/Stealing092_x264.mp4 8140\n",
            "/content/dataset/Crime/Robbery035_x264.mp4 1440\n",
            "/content/dataset/Crime/Robbery024_x264.mp4 2370\n",
            "/content/dataset/Crime/Burglary047_x264.mp4 2391\n",
            "/content/dataset/Crime/Stealing052_x264.mp4 3150\n",
            "/content/dataset/Crime/Robbery030_x264.mp4 2537\n",
            "/content/dataset/Crime/Shoplifting045_x264.mp4 1620\n",
            "/content/dataset/Crime/Robbery063_x264.mp4 760\n",
            "deleted/content/dataset/Crime/Robbery063_x264.mp4\n",
            "/content/dataset/Crime/Burglary044_x264.mp4 2770\n",
            "/content/dataset/Crime/Burglary052_x264.mp4 8370\n",
            "/content/dataset/Crime/Burglary072_x264.mp4 2304\n",
            "/content/dataset/Crime/Stealing054_x264.mp4 1300\n",
            "/content/dataset/Crime/Stealing013_x264.mp4 4280\n",
            "/content/dataset/Crime/Shoplifting048_x264.mp4 1170\n",
            "deleted/content/dataset/Crime/Shoplifting048_x264.mp4\n",
            "/content/dataset/Crime/Stealing087_x264.mp4 4830\n",
            "/content/dataset/Crime/Robbery067_x264.mp4 1260\n",
            "/content/dataset/Crime/Robbery094_x264.mp4 960\n",
            "deleted/content/dataset/Crime/Robbery094_x264.mp4\n",
            "/content/dataset/Crime/Shoplifting013_x264.mp4 1950\n",
            "/content/dataset/Crime/Stealing035_x264.mp4 5161\n",
            "/content/dataset/Crime/Burglary026_x264.mp4 1410\n",
            "/content/dataset/Crime/Stealing020_x264.mp4 4290\n",
            "/content/dataset/Crime/Robbery055_x264.mp4 1838\n",
            "/content/dataset/Crime/Stealing002_x264.mp4 1530\n",
            "/content/dataset/Crime/Burglary021_x264.mp4 1440\n",
            "/content/dataset/Crime/Robbery010_x264.mp4 1280\n",
            "/content/dataset/Crime/Burglary053_x264.mp4 3270\n",
            "/content/dataset/Crime/Burglary008_x264.mp4 2650\n",
            "/content/dataset/Crime/Stealing042_x264.mp4 4200\n",
            "/content/dataset/Crime/Robbery018_x264.mp4 2790\n",
            "/content/dataset/Crime/Robbery062_x264.mp4 1740\n",
            "/content/dataset/Crime/Burglary035_x264.mp4 4050\n",
            "/content/dataset/Crime/Stealing084_x264.mp4 14130\n",
            "/content/dataset/Crime/Robbery006_x264.mp4 2750\n",
            "/content/dataset/Crime/Robbery045_x264.mp4 1190\n",
            "deleted/content/dataset/Crime/Robbery045_x264.mp4\n",
            "/content/dataset/Crime/Robbery023_x264.mp4 930\n",
            "deleted/content/dataset/Crime/Robbery023_x264.mp4\n",
            "/content/dataset/Crime/Robbery047_x264.mp4 1290\n",
            "/content/dataset/Crime/Robbery064_x264.mp4 850\n",
            "deleted/content/dataset/Crime/Robbery064_x264.mp4\n",
            "/content/dataset/Crime/Stealing048_x264.mp4 6810\n",
            "/content/dataset/Crime/Stealing044_x264.mp4 1350\n",
            "/content/dataset/Crime/Burglary037_x264.mp4 1610\n",
            "/content/dataset/Crime/Robbery075_x264.mp4 2549\n",
            "/content/dataset/Crime/Stealing086_x264.mp4 670\n",
            "deleted/content/dataset/Crime/Stealing086_x264.mp4\n",
            "/content/dataset/Crime/Burglary003_x264.mp4 1170\n",
            "deleted/content/dataset/Crime/Burglary003_x264.mp4\n",
            "/content/dataset/Crime/Burglary098_x264.mp4 900\n",
            "deleted/content/dataset/Crime/Burglary098_x264.mp4\n",
            "/content/dataset/Crime/Burglary067_x264.mp4 1290\n",
            "/content/dataset/Crime/Burglary009_x264.mp4 1350\n",
            "/content/dataset/Crime/Shoplifting022_x264.mp4 1760\n",
            "/content/dataset/Crime/Stealing094_x264.mp4 2720\n",
            "/content/dataset/Crime/Burglary017_x264.mp4 720\n",
            "deleted/content/dataset/Crime/Burglary017_x264.mp4\n",
            "/content/dataset/Crime/Stealing023_x264.mp4 2620\n",
            "/content/dataset/Crime/Burglary076_x264.mp4 10600\n",
            "/content/dataset/Crime/Stealing046_x264.mp4 1050\n",
            "deleted/content/dataset/Crime/Stealing046_x264.mp4\n",
            "/content/dataset/Crime/Stealing105_x264.mp4 720\n",
            "deleted/content/dataset/Crime/Stealing105_x264.mp4\n",
            "/content/dataset/Crime/Shoplifting049_x264.mp4 800\n",
            "deleted/content/dataset/Crime/Shoplifting049_x264.mp4\n",
            "/content/dataset/Crime/Burglary085_x264.mp4 2140\n",
            "/content/dataset/Crime/Burglary060_x264.mp4 720\n",
            "deleted/content/dataset/Crime/Burglary060_x264.mp4\n",
            "/content/dataset/Crime/Robbery042_x264.mp4 760\n",
            "deleted/content/dataset/Crime/Robbery042_x264.mp4\n",
            "/content/dataset/Crime/Robbery015_x264.mp4 2460\n",
            "/content/dataset/Crime/Stealing098_x264.mp4 2200\n",
            "/content/dataset/Crime/Shoplifting055_x264.mp4 880\n",
            "deleted/content/dataset/Crime/Shoplifting055_x264.mp4\n",
            "/content/dataset/Crime/Robbery077_x264.mp4 810\n",
            "deleted/content/dataset/Crime/Robbery077_x264.mp4\n",
            "/content/dataset/Crime/Burglary070_x264.mp4 780\n",
            "deleted/content/dataset/Crime/Burglary070_x264.mp4\n",
            "/content/dataset/Crime/Robbery020_x264.mp4 2440\n",
            "/content/dataset/Crime/Stealing089_x264.mp4 11840\n",
            "/content/dataset/Crime/Robbery080_x264.mp4 1610\n",
            "/content/dataset/Crime/Stealing108_x264.mp4 2820\n",
            "/content/dataset/Crime/Burglary032_x264.mp4 14080\n",
            "/content/dataset/Crime/Stealing004_x264.mp4 1033\n",
            "deleted/content/dataset/Crime/Stealing004_x264.mp4\n",
            "/content/dataset/Crime/Burglary010_x264.mp4 2650\n",
            "/content/dataset/Crime/Robbery029_x264.mp4 930\n",
            "deleted/content/dataset/Crime/Robbery029_x264.mp4\n",
            "/content/dataset/Crime/Robbery058_x264.mp4 1560\n",
            "/content/dataset/Crime/Shoplifting028_x264.mp4 621\n",
            "deleted/content/dataset/Crime/Shoplifting028_x264.mp4\n",
            "/content/dataset/Crime/Stealing070_x264.mp4 800\n",
            "deleted/content/dataset/Crime/Stealing070_x264.mp4\n",
            "/content/dataset/Crime/Stealing112_x264.mp4 1610\n",
            "/content/dataset/Crime/Stealing102_x264.mp4 770\n",
            "deleted/content/dataset/Crime/Stealing102_x264.mp4\n",
            "/content/dataset/Crime/Robbery085_x264.mp4 1830\n",
            "/content/dataset/Crime/Robbery095_x264.mp4 650\n",
            "deleted/content/dataset/Crime/Robbery095_x264.mp4\n",
            "/content/dataset/Crime/Stealing058_x264.mp4 4170\n",
            "/content/dataset/Crime/Burglary079_x264.mp4 6020\n",
            "/content/dataset/Crime/Burglary042_x264.mp4 3800\n",
            "/content/dataset/Crime/Stealing036_x264.mp4 620\n",
            "deleted/content/dataset/Crime/Stealing036_x264.mp4\n",
            "/content/dataset/Crime/Shoplifting051_x264.mp4 780\n",
            "deleted/content/dataset/Crime/Shoplifting051_x264.mp4\n",
            "/content/dataset/Crime/Burglary058_x264.mp4 11370\n",
            "/content/dataset/Crime/Robbery069_x264.mp4 660\n",
            "deleted/content/dataset/Crime/Robbery069_x264.mp4\n",
            "/content/dataset/Crime/Robbery014_x264.mp4 2970\n",
            "/content/dataset/Crime/Stealing072_x264.mp4 11610\n",
            "/content/dataset/Crime/Burglary012_x264.mp4 1680\n",
            "/content/dataset/Crime/Robbery043_x264.mp4 990\n",
            "deleted/content/dataset/Crime/Robbery043_x264.mp4\n",
            "/content/dataset/Crime/Burglary062_x264.mp4 6600\n",
            "/content/dataset/Crime/Stealing009_x264.mp4 1220\n",
            "/content/dataset/Crime/Burglary069_x264.mp4 2100\n",
            "/content/dataset/Crime/Stealing032_x264.mp4 1560\n",
            "/content/dataset/Crime/Robbery081_x264.mp4 5370\n",
            "/content/dataset/Crime/Robbery083_x264.mp4 960\n",
            "deleted/content/dataset/Crime/Robbery083_x264.mp4\n",
            "/content/dataset/Crime/Stealing110_x264.mp4 1289\n",
            "/content/dataset/Crime/Robbery025_x264.mp4 1440\n",
            "/content/dataset/Crime/Robbery096_x264.mp4 1360\n",
            "/content/dataset/Crime/Robbery086_x264.mp4 1130\n",
            "deleted/content/dataset/Crime/Robbery086_x264.mp4\n",
            "/content/dataset/Crime/Burglary100_x264.mp4 7010\n",
            "/content/dataset/Crime/Robbery061_x264.mp4 1870\n",
            "/content/dataset/Crime/Burglary019_x264.mp4 2610\n",
            "/content/dataset/Crime/Stealing088_x264.mp4 740\n",
            "deleted/content/dataset/Crime/Stealing088_x264.mp4\n",
            "/content/dataset/Crime/Burglary083_x264.mp4 3630\n",
            "/content/dataset/Crime/Robbery033_x264.mp4 840\n",
            "deleted/content/dataset/Crime/Robbery033_x264.mp4\n",
            "/content/dataset/Crime/Stealing079_x264.mp4 2910\n",
            "/content/dataset/Crime/Stealing022_x264.mp4 1680\n",
            "/content/dataset/Crime/Burglary024_x264.mp4 1410\n",
            "/content/dataset/Crime/Burglary045_x264.mp4 6230\n",
            "/content/dataset/Crime/Robbery048_x264.mp4 860\n",
            "deleted/content/dataset/Crime/Robbery048_x264.mp4\n",
            "/content/dataset/Crime/Burglary034_x264.mp4 860\n",
            "deleted/content/dataset/Crime/Burglary034_x264.mp4\n",
            "/content/dataset/Crime/Robbery051_x264.mp4 1530\n",
            "/content/dataset/Crime/Burglary086_x264.mp4 3240\n",
            "/content/dataset/Crime/Stealing082_x264.mp4 850\n",
            "deleted/content/dataset/Crime/Stealing082_x264.mp4\n",
            "/content/dataset/Crime/Burglary022_x264.mp4 2570\n",
            "/content/dataset/Crime/Stealing104_x264.mp4 2780\n",
            "/content/dataset/Crime/Robbery088_x264.mp4 4290\n",
            "/content/dataset/Crime/Burglary095_x264.mp4 22780\n",
            "/content/dataset/Crime/Robbery057_x264.mp4 2100\n",
            "/content/dataset/Crime/Robbery100_x264.mp4 3420\n",
            "/content/dataset/Crime/Stealing055_x264.mp4 1340\n",
            "/content/dataset/Crime/Burglary088_x264.mp4 4680\n",
            "/content/dataset/Crime/Stealing071_x264.mp4 960\n",
            "deleted/content/dataset/Crime/Stealing071_x264.mp4\n",
            "/content/dataset/Crime/Stealing107_x264.mp4 4350\n",
            "/content/dataset/Crime/Burglary073_x264.mp4 2260\n",
            "/content/dataset/Crime/Stealing081_x264.mp4 950\n",
            "deleted/content/dataset/Crime/Stealing081_x264.mp4\n",
            "/content/dataset/Crime/Stealing021_x264.mp4 4110\n",
            "/content/dataset/Crime/Stealing018_x264.mp4 1800\n",
            "/content/dataset/Crime/Burglary068_x264.mp4 660\n",
            "deleted/content/dataset/Crime/Burglary068_x264.mp4\n",
            "/content/dataset/Crime/Burglary014_x264.mp4 2575\n",
            "/content/dataset/Crime/Burglary091_x264.mp4 2960\n",
            "/content/dataset/Crime/Burglary077_x264.mp4 1860\n",
            "/content/dataset/Crime/Burglary094_x264.mp4 740\n",
            "deleted/content/dataset/Crime/Burglary094_x264.mp4\n",
            "/content/dataset/Crime/Robbery079_x264.mp4 720\n",
            "deleted/content/dataset/Crime/Robbery079_x264.mp4\n",
            "/content/dataset/Crime/Robbery007_x264.mp4 1550\n",
            "/content/dataset/Crime/Robbery060_x264.mp4 1620\n",
            "/content/dataset/Crime/Burglary046_x264.mp4 1780\n",
            "/content/dataset/Crime/Robbery065_x264.mp4 2370\n",
            "/content/dataset/Crime/Robbery071_x264.mp4 890\n",
            "deleted/content/dataset/Crime/Robbery071_x264.mp4\n",
            "/content/dataset/Crime/Robbery097_x264.mp4 1520\n",
            "/content/dataset/Crime/Stealing075_x264.mp4 5040\n",
            "/content/dataset/Crime/Burglary082_x264.mp4 1630\n",
            "/content/dataset/Crime/Robbery021_x264.mp4 1020\n",
            "deleted/content/dataset/Crime/Robbery021_x264.mp4\n",
            "/content/dataset/Crime/Stealing068_x264.mp4 5410\n",
            "/content/dataset/Crime/Robbery004_x264.mp4 810\n",
            "deleted/content/dataset/Crime/Robbery004_x264.mp4\n",
            "/content/dataset/Crime/Stealing016_x264.mp4 1040\n",
            "deleted/content/dataset/Crime/Stealing016_x264.mp4\n",
            "/content/dataset/Crime/Burglary089_x264.mp4 3150\n",
            "/content/dataset/Crime/Burglary002_x264.mp4 3060\n",
            "/content/dataset/Crime/Robbery019_x264.mp4 5330\n",
            "/content/dataset/Crime/Shoplifting030_x264.mp4 3321\n",
            "/content/dataset/Crime/Stealing045_x264.mp4 6602\n",
            "/content/dataset/Crime/Stealing077_x264.mp4 2550\n",
            "/content/dataset/Crime/Shoplifting042_x264.mp4 910\n",
            "deleted/content/dataset/Crime/Shoplifting042_x264.mp4\n",
            "/content/dataset/Crime/Burglary074_x264.mp4 1790\n",
            "/content/dataset/Crime/Stealing053_x264.mp4 10290\n",
            "/content/dataset/Crime/Robbery049_x264.mp4 1980\n",
            "/content/dataset/Crime/Stealing106_x264.mp4 1140\n",
            "deleted/content/dataset/Crime/Stealing106_x264.mp4\n",
            "/content/dataset/Crime/Burglary071_x264.mp4 2720\n",
            "/content/dataset/Crime/Robbery027_x264.mp4 4600\n",
            "/content/dataset/Crime/Burglary055_x264.mp4 2480\n",
            "/content/dataset/Crime/Burglary016_x264.mp4 4750\n",
            "/content/dataset/Crime/Robbery078_x264.mp4 1573\n",
            "/content/dataset/Crime/Burglary087_x264.mp4 2190\n",
            "/content/dataset/Crime/Stealing007_x264.mp4 1960\n",
            "/content/dataset/Crime/Burglary011_x264.mp4 1800\n",
            "/content/dataset/Crime/Stealing051_x264.mp4 1680\n",
            "/content/dataset/Crime/Burglary036_x264.mp4 990\n",
            "deleted/content/dataset/Crime/Burglary036_x264.mp4\n",
            "/content/dataset/Crime/Stealing109_x264.mp4 5640\n",
            "/content/dataset/Crime/Burglary028_x264.mp4 930\n",
            "deleted/content/dataset/Crime/Burglary028_x264.mp4\n",
            "/content/dataset/Crime/Burglary025_x264.mp4 5650\n",
            "/content/dataset/Crime/Burglary065_x264.mp4 5470\n",
            "/content/dataset/Crime/Stealing114_x264.mp4 1200\n",
            "/content/dataset/Crime/Burglary051_x264.mp4 1156\n",
            "deleted/content/dataset/Crime/Burglary051_x264.mp4\n",
            "/content/dataset/Crime/Burglary007_x264.mp4 1080\n",
            "deleted/content/dataset/Crime/Burglary007_x264.mp4\n",
            "/content/dataset/Crime/Shoplifting009_x264.mp4 820\n",
            "deleted/content/dataset/Crime/Shoplifting009_x264.mp4\n",
            "/content/dataset/Crime/Robbery037_x264.mp4 1020\n",
            "deleted/content/dataset/Crime/Robbery037_x264.mp4\n",
            "/content/dataset/Crime/Robbery052_x264.mp4 1834\n",
            "/content/dataset/Crime/Stealing043_x264.mp4 4080\n",
            "/content/dataset/Crime/Robbery013_x264.mp4 3510\n",
            "/content/dataset/Crime/Stealing019_x264.mp4 1411\n",
            "/content/dataset/Crime/Stealing078_x264.mp4 1750\n",
            "/content/dataset/Crime/Stealing027_x264.mp4 1740\n",
            "/content/dataset/Crime/Stealing050_x264.mp4 2530\n",
            "/content/dataset/Crime/Shoplifting034_x264.mp4 4200\n",
            "/content/dataset/Crime/Burglary004_x264.mp4 1710\n",
            "/content/dataset/Crime/Burglary031_x264.mp4 4130\n",
            "/content/dataset/Crime/Stealing057_x264.mp4 630\n",
            "deleted/content/dataset/Crime/Stealing057_x264.mp4\n",
            "/content/dataset/Crime/Burglary030_x264.mp4 620\n",
            "deleted/content/dataset/Crime/Burglary030_x264.mp4\n",
            "/content/dataset/Crime/Stealing061_x264.mp4 1910\n",
            "/content/dataset/Crime/Stealing062_x264.mp4 830\n",
            "deleted/content/dataset/Crime/Stealing062_x264.mp4\n",
            "/content/dataset/Crime/Stealing014_x264.mp4 3300\n",
            "/content/dataset/Crime/Shoplifting025_x264.mp4 1490\n",
            "/content/dataset/Crime/Stealing103_x264.mp4 4830\n",
            "/content/dataset/Crime/Robbery002_x264.mp4 1140\n",
            "deleted/content/dataset/Crime/Robbery002_x264.mp4\n",
            "/content/dataset/Crime/Burglary056_x264.mp4 1410\n",
            "/content/dataset/Crime/Stealing073_x264.mp4 650\n",
            "deleted/content/dataset/Crime/Stealing073_x264.mp4\n",
            "/content/dataset/Crime/Shoplifting026_x264.mp4 1320\n",
            "/content/dataset/Crime/Burglary049_x264.mp4 9150\n",
            "/content/dataset/Crime/Stealing074_x264.mp4 1490\n",
            "/content/dataset/Crime/Stealing008_x264.mp4 3390\n",
            "/content/dataset/Crime/Stealing011_x264.mp4 3480\n",
            "/content/dataset/Crime/Burglary040_x264.mp4 4500\n",
            "/content/dataset/Crime/Robbery091_x264.mp4 1680\n",
            "/content/dataset/Crime/Burglary015_x264.mp4 1050\n",
            "deleted/content/dataset/Crime/Burglary015_x264.mp4\n",
            "/content/dataset/Crime/Stealing059_x264.mp4 1878\n",
            "/content/dataset/Crime/Stealing006_x264.mp4 2250\n",
            "/content/dataset/Crime/Burglary090_x264.mp4 2472\n",
            "/content/dataset/Crime/Shoplifting005_x264.mp4 624\n",
            "deleted/content/dataset/Crime/Shoplifting005_x264.mp4\n",
            "/content/dataset/Crime/Robbery082_x264.mp4 1380\n",
            "/content/dataset/Crime/Burglary057_x264.mp4 5520\n",
            "/content/dataset/Crime/Robbery022_x264.mp4 3110\n",
            "/content/dataset/Crime/Burglary075_x264.mp4 12915\n",
            "/content/dataset/Crime/Stealing097_x264.mp4 630\n",
            "deleted/content/dataset/Crime/Stealing097_x264.mp4\n",
            "/content/dataset/Crime/Stealing049_x264.mp4 1220\n",
            "/content/dataset/Crime/Burglary013_x264.mp4 2100\n",
            "/content/dataset/Crime/Stealing025_x264.mp4 1050\n",
            "deleted/content/dataset/Crime/Stealing025_x264.mp4\n",
            "/content/dataset/Crime/Shoplifting014_x264.mp4 830\n",
            "deleted/content/dataset/Crime/Shoplifting014_x264.mp4\n",
            "/content/dataset/Crime/Robbery009_x264.mp4 1910\n",
            "/content/dataset/Crime/Robbery011_x264.mp4 1261\n",
            "/content/dataset/Crime/Stealing113_x264.mp4 880\n",
            "deleted/content/dataset/Crime/Stealing113_x264.mp4\n",
            "/content/dataset/Crime/Robbery090_x264.mp4 1470\n",
            "/content/dataset/Crime/Robbery073_x264.mp4 3450\n",
            "/content/dataset/Crime/Stealing010_x264.mp4 1380\n",
            "/content/dataset/Crime/Burglary096_x264.mp4 5490\n",
            "/content/dataset/Crime/Burglary001_x264.mp4 3600\n",
            "/content/dataset/Crime/Burglary027_x264.mp4 3090\n",
            "/content/dataset/Crime/Robbery059_x264.mp4 8270\n",
            "/content/dataset/Crime/Burglary005_x264.mp4 2690\n",
            "/content/dataset/Crime/Robbery008_x264.mp4 1690\n",
            "/content/dataset/Crime/Stealing037_x264.mp4 4620\n",
            "/content/dataset/Crime/Burglary020_x264.mp4 2200\n",
            "/content/dataset/Crime/Burglary048_x264.mp4 1400\n",
            "/content/dataset/Crime/Robbery084_x264.mp4 2851\n",
            "/content/dataset/Crime/Robbery017_x264.mp4 1640\n",
            "/content/dataset/Crime/Stealing063_x264.mp4 2950\n",
            "/content/dataset/Crime/Robbery041_x264.mp4 1320\n",
            "/content/dataset/Crime/Stealing100_x264.mp4 14830\n",
            "/content/dataset/Crime/Stealing065_x264.mp4 4840\n",
            "/content/dataset/Crime/Burglary029_x264.mp4 4560\n",
            "/content/dataset/Crime/Burglary041_x264.mp4 1740\n",
            "/content/dataset/Crime/Robbery028_x264.mp4 1350\n",
            "/content/dataset/Crime/Shoplifting040_x264.mp4 1980\n",
            "/content/dataset/Crime/Stealing017_x264.mp4 1580\n",
            "/content/dataset/Crime/Burglary006_x264.mp4 7800\n",
            "/content/dataset/Crime/Shoplifting047_x264.mp4 1120\n",
            "deleted/content/dataset/Crime/Shoplifting047_x264.mp4\n",
            "/content/dataset/norm/Burglary061_x264.mp4 3240\n",
            "/content/dataset/norm/Shoplifting041_x264.mp4 3335\n",
            "/content/dataset/norm/Robbery053_x2642.mp4 600\n",
            "deleted/content/dataset/norm/Robbery053_x2642.mp4\n",
            "/content/dataset/norm/Burglary064_x264.mp4 1374\n",
            "/content/dataset/norm/Robbery086_x2642.mp4 1770\n",
            "/content/dataset/norm/Stealing083_x264.mp4 756\n",
            "deleted/content/dataset/norm/Stealing083_x264.mp4\n",
            "/content/dataset/norm/Burglary045_x2642.mp4 1920\n",
            "/content/dataset/norm/Burglary044_x2642.mp4 600\n",
            "deleted/content/dataset/norm/Burglary044_x2642.mp4\n",
            "/content/dataset/norm/Burglary063_x264.mp4 780\n",
            "deleted/content/dataset/norm/Burglary063_x264.mp4\n",
            "/content/dataset/norm/Stealing096_x264.mp4 1358\n",
            "/content/dataset/norm/Stealing113_x2642.mp4 630\n",
            "deleted/content/dataset/norm/Stealing113_x2642.mp4\n",
            "/content/dataset/norm/Stealing007_x2642.mp4 600\n",
            "deleted/content/dataset/norm/Stealing007_x2642.mp4\n",
            "/content/dataset/norm/Stealing004_x2642.mp4 5490\n",
            "/content/dataset/norm/Robbery035_x2642.mp4 3030\n",
            "/content/dataset/norm/Stealing048_x2642.mp4 960\n",
            "deleted/content/dataset/norm/Stealing048_x2642.mp4\n",
            "/content/dataset/norm/Robbery099_x264.mp4 606\n",
            "deleted/content/dataset/norm/Robbery099_x264.mp4\n",
            "/content/dataset/norm/Stealing108_x2642.mp4 870\n",
            "deleted/content/dataset/norm/Stealing108_x2642.mp4\n",
            "/content/dataset/norm/Robbery005_x264.mp4 2029\n",
            "/content/dataset/norm/Shoplifting024_x2642.mp4 810\n",
            "deleted/content/dataset/norm/Shoplifting024_x2642.mp4\n",
            "/content/dataset/norm/Burglary061_x2642.mp4 4050\n",
            "/content/dataset/norm/Burglary066_x264.mp4 708\n",
            "deleted/content/dataset/norm/Burglary066_x264.mp4\n",
            "/content/dataset/norm/Robbery034_x264.mp4 832\n",
            "deleted/content/dataset/norm/Robbery034_x264.mp4\n",
            "/content/dataset/norm/Shoplifting014_x2642.mp4 10980\n",
            "/content/dataset/norm/Robbery026_x264.mp4 7365\n",
            "/content/dataset/norm/Shoplifting036_x264.mp4 657\n",
            "deleted/content/dataset/norm/Shoplifting036_x264.mp4\n",
            "/content/dataset/norm/Shoplifting008_x2642.mp4 5100\n",
            "/content/dataset/norm/Stealing092_x264.mp4 3541\n",
            "/content/dataset/norm/Robbery063_x264.mp4 883\n",
            "deleted/content/dataset/norm/Robbery063_x264.mp4\n",
            "/content/dataset/norm/Burglary044_x264.mp4 3610\n",
            "/content/dataset/norm/Robbery042_x2642.mp4 1260\n",
            "/content/dataset/norm/Shoplifting021_x2642.mp4 2100\n",
            "/content/dataset/norm/Stealing013_x264.mp4 1751\n",
            "/content/dataset/norm/Stealing008_x2642.mp4 1500\n",
            "/content/dataset/norm/Robbery098_x264.mp4 4356\n",
            "/content/dataset/norm/Shoplifting048_x264.mp4 2108\n",
            "/content/dataset/norm/Shoplifting044_x2642.mp4 11040\n",
            "/content/dataset/norm/Robbery067_x264.mp4 1991\n",
            "/content/dataset/norm/Robbery094_x264.mp4 2986\n",
            "/content/dataset/norm/Shoplifting015_x2642.mp4 1980\n",
            "/content/dataset/norm/Robbery032_x264.mp4 4150\n",
            "/content/dataset/norm/Stealing082_x2642.mp4 600\n",
            "deleted/content/dataset/norm/Stealing082_x2642.mp4\n",
            "/content/dataset/norm/Shoplifting005_x2642.mp4 600\n",
            "deleted/content/dataset/norm/Shoplifting005_x2642.mp4\n",
            "/content/dataset/norm/Stealing045_x2642.mp4 3090\n",
            "/content/dataset/norm/Burglary073_x2642.mp4 660\n",
            "deleted/content/dataset/norm/Burglary073_x2642.mp4\n",
            "/content/dataset/norm/Robbery073_x2642.mp4 3810\n",
            "/content/dataset/norm/Stealing035_x264.mp4 5375\n",
            "/content/dataset/norm/Robbery014_x2642.mp4 3780\n",
            "/content/dataset/norm/Stealing020_x264.mp4 853\n",
            "deleted/content/dataset/norm/Stealing020_x264.mp4\n",
            "/content/dataset/norm/Stealing101_x2642.mp4 1200\n",
            "/content/dataset/norm/Robbery040_x2642.mp4 720\n",
            "deleted/content/dataset/norm/Robbery040_x2642.mp4\n",
            "/content/dataset/norm/Robbery017_x2642.mp4 1230\n",
            "/content/dataset/norm/Shoplifting049_x2642.mp4 1050\n",
            "deleted/content/dataset/norm/Shoplifting049_x2642.mp4\n",
            "/content/dataset/norm/Robbery055_x264.mp4 6639\n",
            "/content/dataset/norm/Stealing002_x264.mp4 1267\n",
            "/content/dataset/norm/Shoplifting044_x264.mp4 3276\n",
            "/content/dataset/norm/Robbery010_x264.mp4 811\n",
            "deleted/content/dataset/norm/Robbery010_x264.mp4\n",
            "/content/dataset/norm/Stealing086_x2642.mp4 11970\n",
            "/content/dataset/norm/Burglary008_x264.mp4 2190\n",
            "/content/dataset/norm/Shoplifting003_x264.mp4 3317\n",
            "/content/dataset/norm/Robbery062_x264.mp4 2110\n",
            "/content/dataset/norm/Stealing084_x264.mp4 905\n",
            "deleted/content/dataset/norm/Stealing084_x264.mp4\n",
            "/content/dataset/norm/Robbery045_x264.mp4 1331\n",
            "/content/dataset/norm/Stealing025_x2642.mp4 16560\n",
            "/content/dataset/norm/Robbery016_x2642.mp4 810\n",
            "deleted/content/dataset/norm/Robbery016_x2642.mp4\n",
            "/content/dataset/norm/Shoplifting001_x2642.mp4 1560\n",
            "/content/dataset/norm/Stealing024_x2642.mp4 1170\n",
            "deleted/content/dataset/norm/Stealing024_x2642.mp4\n",
            "/content/dataset/norm/Robbery090_x2642.mp4 780\n",
            "deleted/content/dataset/norm/Robbery090_x2642.mp4\n",
            "/content/dataset/norm/Burglary082_x2642.mp4 1080\n",
            "deleted/content/dataset/norm/Burglary082_x2642.mp4\n",
            "/content/dataset/norm/Shoplifting033_x2642.mp4 630\n",
            "deleted/content/dataset/norm/Shoplifting033_x2642.mp4\n",
            "/content/dataset/norm/Stealing012_x2642.mp4 1980\n",
            "/content/dataset/norm/Shoplifting027_x264.mp4 769\n",
            "deleted/content/dataset/norm/Shoplifting027_x264.mp4\n",
            "/content/dataset/norm/Robbery067_x2642.mp4 750\n",
            "deleted/content/dataset/norm/Robbery067_x2642.mp4\n",
            "/content/dataset/norm/Stealing098_x2642.mp4 1440\n",
            "/content/dataset/norm/Stealing092_x2642.mp4 2040\n",
            "/content/dataset/norm/Stealing066_x264.mp4 780\n",
            "deleted/content/dataset/norm/Stealing066_x264.mp4\n",
            "/content/dataset/norm/Stealing086_x264.mp4 5896\n",
            "/content/dataset/norm/Robbery100_x2642.mp4 960\n",
            "deleted/content/dataset/norm/Robbery100_x2642.mp4\n",
            "/content/dataset/norm/Stealing094_x264.mp4 1149\n",
            "deleted/content/dataset/norm/Stealing094_x264.mp4\n",
            "/content/dataset/norm/Robbery098_x2642.mp4 7740\n",
            "/content/dataset/norm/Burglary017_x264.mp4 1613\n",
            "/content/dataset/norm/Robbery072_x264.mp4 644\n",
            "deleted/content/dataset/norm/Robbery072_x264.mp4\n",
            "/content/dataset/norm/Stealing036_x2642.mp4 1230\n",
            "/content/dataset/norm/Stealing044_x2642.mp4 1590\n",
            "/content/dataset/norm/Stealing046_x264.mp4 9305\n",
            "/content/dataset/norm/Stealing105_x264.mp4 618\n",
            "deleted/content/dataset/norm/Stealing105_x264.mp4\n",
            "/content/dataset/norm/Stealing065_x2642.mp4 600\n",
            "deleted/content/dataset/norm/Stealing065_x2642.mp4\n",
            "/content/dataset/norm/Robbery027_x2642.mp4 720\n",
            "deleted/content/dataset/norm/Robbery027_x2642.mp4\n",
            "/content/dataset/norm/Stealing022_x2642.mp4 900\n",
            "deleted/content/dataset/norm/Stealing022_x2642.mp4\n",
            "/content/dataset/norm/Shoplifting018_x264.mp4 1882\n",
            "/content/dataset/norm/Robbery037_x2642.mp4 5430\n",
            "/content/dataset/norm/Burglary079_x2642.mp4 7830\n",
            "/content/dataset/norm/Shoplifting055_x264.mp4 3846\n",
            "/content/dataset/norm/Shoplifting042_x2642.mp4 2100\n",
            "/content/dataset/norm/Robbery009_x2642.mp4 1050\n",
            "deleted/content/dataset/norm/Robbery009_x2642.mp4\n",
            "/content/dataset/norm/Shoplifting021_x264.mp4 1301\n",
            "/content/dataset/norm/Stealing068_x2642.mp4 1320\n",
            "/content/dataset/norm/Robbery020_x264.mp4 903\n",
            "deleted/content/dataset/norm/Robbery020_x264.mp4\n",
            "/content/dataset/norm/Stealing013_x2642.mp4 3450\n",
            "/content/dataset/norm/Robbery053_x264.mp4 1085\n",
            "deleted/content/dataset/norm/Robbery053_x264.mp4\n",
            "/content/dataset/norm/Stealing089_x264.mp4 944\n",
            "deleted/content/dataset/norm/Stealing089_x264.mp4\n",
            "/content/dataset/norm/Stealing063_x2642.mp4 1410\n",
            "/content/dataset/norm/Robbery080_x264.mp4 688\n",
            "deleted/content/dataset/norm/Robbery080_x264.mp4\n",
            "/content/dataset/norm/Burglary032_x264.mp4 1295\n",
            "/content/dataset/norm/Shoplifting020_x264.mp4 3520\n",
            "/content/dataset/norm/Stealing028_x2642.mp4 1110\n",
            "deleted/content/dataset/norm/Stealing028_x2642.mp4\n",
            "/content/dataset/norm/Burglary095_x2642.mp4 2790\n",
            "/content/dataset/norm/Burglary010_x264.mp4 638\n",
            "deleted/content/dataset/norm/Burglary010_x264.mp4\n",
            "/content/dataset/norm/Burglary076_x2642.mp4 2100\n",
            "/content/dataset/norm/Robbery029_x264.mp4 683\n",
            "deleted/content/dataset/norm/Robbery029_x264.mp4\n",
            "/content/dataset/norm/Stealing096_x2642.mp4 1590\n",
            "/content/dataset/norm/Shoplifting050_x264.mp4 2256\n",
            "/content/dataset/norm/Stealing010_x2642.mp4 1710\n",
            "/content/dataset/norm/Shoplifting012_x2642.mp4 7950\n",
            "/content/dataset/norm/Stealing058_x264.mp4 895\n",
            "deleted/content/dataset/norm/Stealing058_x264.mp4\n",
            "/content/dataset/norm/Burglary079_x264.mp4 1103\n",
            "deleted/content/dataset/norm/Burglary079_x264.mp4\n",
            "/content/dataset/norm/Robbery054_x2642.mp4 1320\n",
            "/content/dataset/norm/Stealing109_x2642.mp4 3210\n",
            "/content/dataset/norm/Stealing054_x2642.mp4 1470\n",
            "/content/dataset/norm/Stealing036_x264.mp4 1003\n",
            "deleted/content/dataset/norm/Stealing036_x264.mp4\n",
            "/content/dataset/norm/Shoplifting051_x264.mp4 1968\n",
            "/content/dataset/norm/Shoplifting036_x2642.mp4 3030\n",
            "/content/dataset/norm/Robbery014_x264.mp4 8778\n",
            "/content/dataset/norm/Robbery026_x2642.mp4 4110\n",
            "/content/dataset/norm/Burglary062_x264.mp4 771\n",
            "deleted/content/dataset/norm/Burglary062_x264.mp4\n",
            "/content/dataset/norm/Shoplifting037_x2642.mp4 1080\n",
            "deleted/content/dataset/norm/Shoplifting037_x2642.mp4\n",
            "/content/dataset/norm/Burglary016_x2642.mp4 660\n",
            "deleted/content/dataset/norm/Burglary016_x2642.mp4\n",
            "/content/dataset/norm/Stealing032_x264.mp4 1645\n",
            "/content/dataset/norm/Shoplifting030_x2642.mp4 5850\n",
            "/content/dataset/norm/Shoplifting034_x2642.mp4 4680\n",
            "/content/dataset/norm/Stealing077_x2642.mp4 2250\n",
            "/content/dataset/norm/Robbery096_x264.mp4 782\n",
            "deleted/content/dataset/norm/Robbery096_x264.mp4\n",
            "/content/dataset/norm/Robbery086_x264.mp4 4454\n",
            "/content/dataset/norm/Robbery010_x2642.mp4 1050\n",
            "deleted/content/dataset/norm/Robbery010_x2642.mp4\n",
            "/content/dataset/norm/Shoplifting029_x2642.mp4 1050\n",
            "deleted/content/dataset/norm/Shoplifting029_x2642.mp4\n",
            "/content/dataset/norm/Shoplifting051_x2642.mp4 4620\n",
            "/content/dataset/norm/Shoplifting032_x264.mp4 676\n",
            "deleted/content/dataset/norm/Shoplifting032_x264.mp4\n",
            "/content/dataset/norm/Robbery061_x264.mp4 1431\n",
            "/content/dataset/norm/Stealing088_x264.mp4 9855\n",
            "/content/dataset/norm/Stealing083_x2642.mp4 3000\n",
            "/content/dataset/norm/Burglary083_x2642.mp4 2250\n",
            "/content/dataset/norm/Shoplifting052_x264.mp4 5896\n",
            "/content/dataset/norm/Stealing079_x264.mp4 1596\n",
            "/content/dataset/norm/Stealing020_x2642.mp4 1500\n",
            "/content/dataset/norm/Burglary031_x2642.mp4 1980\n",
            "/content/dataset/norm/Burglary024_x264.mp4 2355\n",
            "/content/dataset/norm/Burglary045_x264.mp4 3207\n",
            "/content/dataset/norm/Robbery045_x2642.mp4 1020\n",
            "deleted/content/dataset/norm/Robbery045_x2642.mp4\n",
            "/content/dataset/norm/Burglary064_x2642.mp4 15540\n",
            "/content/dataset/norm/Stealing084_x2642.mp4 750\n",
            "deleted/content/dataset/norm/Stealing084_x2642.mp4\n",
            "/content/dataset/norm/Stealing003_x2642.mp4 2520\n",
            "/content/dataset/norm/Stealing023_x2642.mp4 2160\n",
            "/content/dataset/norm/Stealing067_x264.mp4 1100\n",
            "deleted/content/dataset/norm/Stealing067_x264.mp4\n",
            "/content/dataset/norm/Shoplifting007_x264.mp4 4374\n",
            "/content/dataset/norm/Shoplifting006_x264.mp4 1406\n",
            "/content/dataset/norm/Burglary095_x264.mp4 15155\n",
            "/content/dataset/norm/Shoplifting010_x264.mp4 1986\n",
            "/content/dataset/norm/Robbery032_x2642.mp4 1050\n",
            "deleted/content/dataset/norm/Robbery032_x2642.mp4\n",
            "/content/dataset/norm/Burglary010_x2642.mp4 2880\n",
            "/content/dataset/norm/Shoplifting012_x264.mp4 15433\n",
            "/content/dataset/norm/Burglary094_x264.mp4 691\n",
            "deleted/content/dataset/norm/Burglary094_x264.mp4\n",
            "/content/dataset/norm/Robbery029_x2642.mp4 900\n",
            "deleted/content/dataset/norm/Robbery029_x2642.mp4\n",
            "/content/dataset/norm/Robbery060_x264.mp4 606\n",
            "deleted/content/dataset/norm/Robbery060_x264.mp4\n",
            "/content/dataset/norm/Shoplifting009_x2642.mp4 4410\n",
            "/content/dataset/norm/Shoplifting006_x2642.mp4 1650\n",
            "/content/dataset/norm/Shoplifting047_x2642.mp4 1410\n",
            "/content/dataset/norm/Burglary052_x2642.mp4 1500\n",
            "/content/dataset/norm/Robbery097_x264.mp4 1036\n",
            "deleted/content/dataset/norm/Robbery097_x264.mp4\n",
            "/content/dataset/norm/Stealing075_x264.mp4 624\n",
            "deleted/content/dataset/norm/Stealing075_x264.mp4\n",
            "/content/dataset/norm/Robbery096_x2642.mp4 2190\n",
            "/content/dataset/norm/Robbery021_x264.mp4 7226\n",
            "/content/dataset/norm/Stealing002_x2642.mp4 900\n",
            "deleted/content/dataset/norm/Stealing002_x2642.mp4\n",
            "/content/dataset/norm/Robbery004_x264.mp4 779\n",
            "deleted/content/dataset/norm/Robbery004_x264.mp4\n",
            "/content/dataset/norm/Burglary033_x264.mp4 1009\n",
            "deleted/content/dataset/norm/Burglary033_x264.mp4\n",
            "/content/dataset/norm/Stealing012_x264.mp4 713\n",
            "deleted/content/dataset/norm/Stealing012_x264.mp4\n",
            "/content/dataset/norm/Stealing016_x264.mp4 1200\n",
            "/content/dataset/norm/Shoplifting008_x264.mp4 3677\n",
            "/content/dataset/norm/Shoplifting052_x2642.mp4 1560\n",
            "/content/dataset/norm/Stealing026_x2642.mp4 1080\n",
            "deleted/content/dataset/norm/Stealing026_x2642.mp4\n",
            "/content/dataset/norm/Burglary096_x2642.mp4 780\n",
            "deleted/content/dataset/norm/Burglary096_x2642.mp4\n",
            "/content/dataset/norm/Burglary063_x2642.mp4 1500\n",
            "/content/dataset/norm/Shoplifting030_x264.mp4 15264\n",
            "/content/dataset/norm/Stealing045_x264.mp4 1254\n",
            "/content/dataset/norm/Stealing077_x264.mp4 14435\n",
            "/content/dataset/norm/Shoplifting042_x264.mp4 2371\n",
            "/content/dataset/norm/Stealing053_x264.mp4 2807\n",
            "/content/dataset/norm/Burglary071_x264.mp4 833\n",
            "deleted/content/dataset/norm/Burglary071_x264.mp4\n",
            "/content/dataset/norm/Robbery078_x264.mp4 681\n",
            "deleted/content/dataset/norm/Robbery078_x264.mp4\n",
            "/content/dataset/norm/Stealing007_x264.mp4 840\n",
            "deleted/content/dataset/norm/Stealing007_x264.mp4\n",
            "/content/dataset/norm/Stealing032_x2642.mp4 2280\n",
            "/content/dataset/norm/Stealing051_x264.mp4 1080\n",
            "deleted/content/dataset/norm/Stealing051_x264.mp4\n",
            "/content/dataset/norm/Stealing109_x264.mp4 953\n",
            "deleted/content/dataset/norm/Stealing109_x264.mp4\n",
            "/content/dataset/norm/Robbery097_x2642.mp4 1200\n",
            "/content/dataset/norm/Burglary065_x264.mp4 1372\n",
            "/content/dataset/norm/Stealing088_x2642.mp4 2640\n",
            "/content/dataset/norm/Robbery037_x264.mp4 2477\n",
            "/content/dataset/norm/Shoplifting001_x264.mp4 2344\n",
            "/content/dataset/norm/Shoplifting043_x264.mp4 2109\n",
            "/content/dataset/norm/Burglary046_x2642.mp4 600\n",
            "deleted/content/dataset/norm/Burglary046_x2642.mp4\n",
            "/content/dataset/norm/Stealing024_x264.mp4 1215\n",
            "/content/dataset/norm/Stealing043_x264.mp4 813\n",
            "deleted/content/dataset/norm/Stealing043_x264.mp4\n",
            "/content/dataset/norm/Stealing019_x264.mp4 2252\n",
            "/content/dataset/norm/Stealing100_x2642.mp4 630\n",
            "deleted/content/dataset/norm/Stealing100_x2642.mp4\n",
            "/content/dataset/norm/Shoplifting032_x2642.mp4 690\n",
            "deleted/content/dataset/norm/Shoplifting032_x2642.mp4\n",
            "/content/dataset/norm/Shoplifting053_x2642.mp4 1260\n",
            "/content/dataset/norm/Shoplifting034_x264.mp4 3437\n",
            "/content/dataset/norm/Shoplifting043_x2642.mp4 7230\n",
            "/content/dataset/norm/Burglary075_x2642.mp4 2700\n",
            "/content/dataset/norm/Stealing079_x2642.mp4 1650\n",
            "/content/dataset/norm/Shoplifting020_x2642.mp4 2310\n",
            "/content/dataset/norm/Stealing057_x264.mp4 1765\n",
            "/content/dataset/norm/Robbery092_x264.mp4 600\n",
            "deleted/content/dataset/norm/Robbery092_x264.mp4\n",
            "/content/dataset/norm/Shoplifting055_x2642.mp4 2220\n",
            "/content/dataset/norm/Stealing103_x264.mp4 847\n",
            "deleted/content/dataset/norm/Stealing103_x264.mp4\n",
            "/content/dataset/norm/Robbery002_x264.mp4 2203\n",
            "/content/dataset/norm/Stealing006_x2642.mp4 870\n",
            "deleted/content/dataset/norm/Stealing006_x2642.mp4\n",
            "/content/dataset/norm/Shoplifting004_x264.mp4 1923\n",
            "/content/dataset/norm/Shoplifting010_x2642.mp4 690\n",
            "deleted/content/dataset/norm/Shoplifting010_x2642.mp4\n",
            "/content/dataset/norm/Shoplifting029_x264.mp4 747\n",
            "deleted/content/dataset/norm/Shoplifting029_x264.mp4\n",
            "/content/dataset/norm/Stealing035_x2642.mp4 960\n",
            "deleted/content/dataset/norm/Stealing035_x2642.mp4\n",
            "/content/dataset/norm/Stealing073_x264.mp4 774\n",
            "deleted/content/dataset/norm/Stealing073_x264.mp4\n",
            "/content/dataset/norm/Shoplifting039_x2642.mp4 2100\n",
            "/content/dataset/norm/Stealing074_x264.mp4 670\n",
            "deleted/content/dataset/norm/Stealing074_x264.mp4\n",
            "/content/dataset/norm/Stealing019_x2642.mp4 1500\n",
            "/content/dataset/norm/Burglary062_x2642.mp4 4020\n",
            "/content/dataset/norm/Burglary065_x2642.mp4 2790\n",
            "/content/dataset/norm/Stealing003_x264.mp4 1076\n",
            "deleted/content/dataset/norm/Stealing003_x264.mp4\n",
            "/content/dataset/norm/Shoplifting005_x264.mp4 891\n",
            "deleted/content/dataset/norm/Shoplifting005_x264.mp4\n",
            "/content/dataset/norm/Stealing057_x2642.mp4 780\n",
            "deleted/content/dataset/norm/Stealing057_x2642.mp4\n",
            "/content/dataset/norm/Burglary039_x2642.mp4 2550\n",
            "/content/dataset/norm/Stealing067_x2642.mp4 900\n",
            "deleted/content/dataset/norm/Stealing067_x2642.mp4\n",
            "/content/dataset/norm/Stealing097_x264.mp4 650\n",
            "deleted/content/dataset/norm/Stealing097_x264.mp4\n",
            "/content/dataset/norm/Robbery020_x2642.mp4 1410\n",
            "/content/dataset/norm/Stealing047_x264.mp4 602\n",
            "deleted/content/dataset/norm/Stealing047_x264.mp4\n",
            "/content/dataset/norm/Shoplifting027_x2642.mp4 1050\n",
            "deleted/content/dataset/norm/Shoplifting027_x2642.mp4\n",
            "/content/dataset/norm/Stealing025_x264.mp4 4315\n",
            "/content/dataset/norm/Shoplifting014_x264.mp4 55198\n",
            "/content/dataset/norm/Shoplifting038_x2642.mp4 2400\n",
            "/content/dataset/norm/Shoplifting004_x2642.mp4 4500\n",
            "/content/dataset/norm/Shoplifting016_x264.mp4 733\n",
            "deleted/content/dataset/norm/Shoplifting016_x264.mp4\n",
            "/content/dataset/norm/Stealing051_x2642.mp4 810\n",
            "deleted/content/dataset/norm/Stealing051_x2642.mp4\n",
            "/content/dataset/norm/Robbery090_x264.mp4 4716\n",
            "/content/dataset/norm/Shoplifting003_x2642.mp4 7200\n",
            "/content/dataset/norm/Burglary005_x2642.mp4 4770\n",
            "/content/dataset/norm/Robbery059_x264.mp4 1154\n",
            "deleted/content/dataset/norm/Robbery059_x264.mp4\n",
            "/content/dataset/norm/Robbery052_x2642.mp4 1830\n",
            "/content/dataset/norm/Burglary020_x264.mp4 810\n",
            "deleted/content/dataset/norm/Burglary020_x264.mp4\n",
            "/content/dataset/norm/Robbery055_x2642.mp4 1320\n",
            "/content/dataset/norm/Burglary018_x2642.mp4 600\n",
            "deleted/content/dataset/norm/Burglary018_x2642.mp4\n",
            "/content/dataset/norm/Burglary009_x2642.mp4 780\n",
            "deleted/content/dataset/norm/Burglary009_x2642.mp4\n",
            "/content/dataset/norm/Robbery017_x264.mp4 1858\n",
            "/content/dataset/norm/Stealing063_x264.mp4 7591\n",
            "/content/dataset/norm/Stealing047_x2642.mp4 600\n",
            "deleted/content/dataset/norm/Stealing047_x2642.mp4\n",
            "/content/dataset/norm/Robbery028_x264.mp4 1092\n",
            "deleted/content/dataset/norm/Robbery028_x264.mp4\n",
            "/content/dataset/norm/Shoplifting040_x264.mp4 25458\n",
            "/content/dataset/norm/Burglary040_x2642.mp4 780\n",
            "deleted/content/dataset/norm/Burglary040_x2642.mp4\n",
            "/content/dataset/norm/Burglary006_x264.mp4 1187\n",
            "deleted/content/dataset/norm/Burglary006_x264.mp4\n",
            "/content/dataset/norm/Shoplifting041_x2642.mp4 6810\n"
          ],
          "name": "stdout"
        }
      ]
    },
    {
      "cell_type": "code",
      "metadata": {
        "id": "RbAm52f93vJZ",
        "outputId": "640325e3-7729-4012-808c-61cec38dd918",
        "colab": {
          "base_uri": "https://localhost:8080/"
        }
      },
      "source": [
        "import os\n",
        "import glob\n",
        "import keras\n",
        "classes=labels\n",
        "classes.sort()# some global params\n",
        "SIZE = (320, 240)\n",
        "CHANNELS = 3\n",
        "NBFRAME = 20\n",
        "BS = 1# pattern to get videos and classes\n",
        "glob_pattern='/content/dataset/{classname}/*.mp4'# for data augmentation\n",
        "data_aug = keras.preprocessing.image.ImageDataGenerator(\n",
        "  zoom_range=.1,\n",
        "  horizontal_flip=True,\n",
        "  rotation_range=8,\n",
        "  width_shift_range=.2,\n",
        "  height_shift_range=.2)# Create video frame generator\n",
        "train = VideoFrameGenerator(\n",
        "  classes=classes, \n",
        "  glob_pattern=glob_pattern,\n",
        "  nb_frames=NBFRAME,\n",
        "  split=.33, \n",
        "  shuffle=True,\n",
        "  batch_size=BS,\n",
        "  target_shape=SIZE,\n",
        "  nb_channel=CHANNELS,\n",
        "  transformation=data_aug,use_frame_cache=True)"
      ],
      "execution_count": null,
      "outputs": [
        {
          "output_type": "stream",
          "text": [
            "Warning, `split` argument is replaced by `split_val`, please condider to change your source code.The `split` argument will be removed in future releases.\n"
          ],
          "name": "stderr"
        },
        {
          "output_type": "stream",
          "text": [
            "class Crime, validation count: 65, train count: 134\n",
            "class norm, validation count: 50, train count: 103\n",
            "Total data: 2 classes for 237 files for train\n"
          ],
          "name": "stdout"
        }
      ]
    },
    {
      "cell_type": "code",
      "metadata": {
        "id": "IugRcgMF3vJh"
      },
      "source": [
        "from keras.layers import Conv2D, BatchNormalization, MaxPool2D, GlobalMaxPool2D\n",
        "def build_convnet(shape=(320, 240, 3)):\n",
        "  momentum = .9\n",
        "  model = keras.Sequential()\n",
        "  model.add(Conv2D(128, (3,3), input_shape=shape,\n",
        "      padding='same', activation='relu'))\n",
        "  model.add(Conv2D(128, (3,3), padding='same', activation='relu'))\n",
        "  model.add(BatchNormalization(momentum=momentum))\n",
        "  \n",
        "  model.add(MaxPool2D())\n",
        "  \n",
        "  model.add(Conv2D(96, (3,3), padding='same', activation='relu'))\n",
        "  model.add(Conv2D(96, (3,3), padding='same', activation='relu'))\n",
        "  # model.add(BatchNormalization(momentum=momentum))\n",
        "  \n",
        "  model.add(MaxPool2D())\n",
        "  \n",
        "  model.add(Conv2D(64, (3,3), padding='same', activation='relu'))\n",
        "  model.add(Conv2D(64, (3,3), padding='same', activation='relu'))\n",
        "  # model.add(BatchNormalization(momentum=momentum))\n",
        "  \n",
        "  model.add(MaxPool2D())\n",
        "  \n",
        "  model.add(Conv2D(32, (3,3), padding='same', activation='relu'))\n",
        "  model.add(Conv2D(32, (3,3), padding='same', activation='relu'))\n",
        "  # model.add(BatchNormalization(momentum=momentum))\n",
        "  \n",
        "  # flatten...\n",
        "  model.add(GlobalMaxPool2D())\n",
        "  return model"
      ],
      "execution_count": null,
      "outputs": []
    },
    {
      "cell_type": "code",
      "metadata": {
        "id": "kGpKUju-3vJm"
      },
      "source": [
        "from keras.layers import TimeDistributed, GRU, Dense, Dropout,LSTM\n",
        "def action_model(shape=(40, 320, 240, 3), nbout=1):\n",
        "  # Create our convnet with (320, 240, 3) input shape\n",
        "  convnet = build_convnet(shape[1:])\n",
        "  \n",
        "  # then create our final model\n",
        "  model = keras.Sequential()    # add the convnet with (5, 112, 112, 3) shape\n",
        "  model.add(TimeDistributed(convnet, input_shape=shape))    # here, you can also use GRU or LSTM\n",
        "  model.add(LSTM(64))    # and finally, we make a decision network\n",
        "  # model.add(Dense(128, activation='relu'))\n",
        "  # model.add(Dropout(.5))\n",
        "  # model.add(Dense(128, activation='relu'))\n",
        "  # model.add(Dropout(.5))\n",
        "  model.add(Dense(128, activation='relu'))\n",
        "  # model.add(Dropout(.5))\n",
        "  model.add(Dense(64, activation='relu'))\n",
        "  model.add(Dense(1, activation='sigmoid'))\n",
        "  return model"
      ],
      "execution_count": null,
      "outputs": []
    },
    {
      "cell_type": "code",
      "metadata": {
        "id": "z422bRne3vJq"
      },
      "source": [
        "INSHAPE=(NBFRAME,) + SIZE + (CHANNELS,) # (10, 320, 240, 3)\n",
        "model = action_model(INSHAPE, len(classes))\n",
        "optimizer = keras.optimizers.Adam(0.001)\n",
        "model.compile(\n",
        "    # optimizer,\n",
        "    \"adam\",\n",
        "    'binary_crossentropy',\n",
        "    metrics=['acc']\n",
        ")"
      ],
      "execution_count": null,
      "outputs": []
    },
    {
      "cell_type": "code",
      "metadata": {
        "id": "1uZp13Ne3vJw",
        "outputId": "5f18d549-83fe-408c-b5ce-8a758a609377",
        "colab": {
          "base_uri": "https://localhost:8080/"
        }
      },
      "source": [
        "valid = train.get_validation_generator()\n",
        "test=train.get_test_generator()"
      ],
      "execution_count": null,
      "outputs": [
        {
          "output_type": "stream",
          "text": [
            "Total data: 2 classes for 115 files for validation\n",
            "Total data: 2 classes for 0 files for test\n"
          ],
          "name": "stdout"
        }
      ]
    },
    {
      "cell_type": "code",
      "metadata": {
        "id": "sZonBAHF3vJ0",
        "outputId": "7e75b9ef-7445-403e-8756-917da14cd6f5",
        "colab": {
          "base_uri": "https://localhost:8080/"
        }
      },
      "source": [
        "model.summary()"
      ],
      "execution_count": null,
      "outputs": [
        {
          "output_type": "stream",
          "text": [
            "Model: \"sequential_15\"\n",
            "_________________________________________________________________\n",
            "Layer (type)                 Output Shape              Param #   \n",
            "=================================================================\n",
            "time_distributed_7 (TimeDist (None, 20, 32)            465408    \n",
            "_________________________________________________________________\n",
            "lstm_7 (LSTM)                (None, 64)                24832     \n",
            "_________________________________________________________________\n",
            "dense_21 (Dense)             (None, 128)               8320      \n",
            "_________________________________________________________________\n",
            "dense_22 (Dense)             (None, 64)                8256      \n",
            "_________________________________________________________________\n",
            "dense_23 (Dense)             (None, 1)                 65        \n",
            "=================================================================\n",
            "Total params: 506,881\n",
            "Trainable params: 506,625\n",
            "Non-trainable params: 256\n",
            "_________________________________________________________________\n"
          ],
          "name": "stdout"
        }
      ]
    },
    {
      "cell_type": "code",
      "metadata": {
        "id": "-ackvh5X3vJ4",
        "outputId": "2dbbd657-ddf9-4002-d36a-92e1c25196cb",
        "colab": {
          "base_uri": "https://localhost:8080/"
        }
      },
      "source": [
        "EPOCHS=5#\n",
        "#More complex Model frames and duration<40,nbframes=20,BS=1 ,without callbacks\n",
        "history=model.fit(\n",
        "train,\n",
        "validation_data=valid,\n",
        "verbose=1,\n",
        "epochs=10\n",
        ")"
      ],
      "execution_count": null,
      "outputs": [
        {
          "output_type": "stream",
          "text": [
            "237/237 [==============================] - ETA: 0s - loss: 0.6932 - acc: 0.5000"
          ],
          "name": "stdout"
        }
      ]
    },
    {
      "cell_type": "code",
      "metadata": {
        "id": "DE5Jr4gs3vJ8"
      },
      "source": [
        "from keras.models import model_from_json\n",
        "# model_json = model.to_json()\n",
        "# with open(\"/content/drive/My Drive/anomalyseg/model3.json\", \"w\") as json_file:\n",
        "#     json_file.write(model_json)\n",
        "# # serialize weights to HDF5\n",
        "# model.save_weights(\"/content/drive/My Drive/anomalyseg/model3.h5\")\n",
        "# print(\"Saved model to disk\")\n",
        " \n",
        "# later...\n",
        " \n",
        "# load json and create model\n",
        "json_file = open('/content/drive/My Drive/anomalyseg/model3.json', 'r')\n",
        "loaded_model_json = json_file.read()\n",
        "json_file.close()\n",
        "loaded_model = model_from_json(loaded_model_json)\n",
        "# load weights into new model\n",
        "loaded_model.load_weights(\"/content/drive/My Drive/anomalyseg/model3.h5\")\n",
        "print(\"Loaded model from disk\")"
      ],
      "execution_count": null,
      "outputs": []
    },
    {
      "cell_type": "code",
      "metadata": {
        "id": "IoU5TEIP3vKA"
      },
      "source": [
        "# model.save_weights('/content/drive/My Drive/anomalyseg/mod5fram')\n",
        "# from keras.models import load_model\n",
        "# xmodel=keras.models.load_model('/content/drive/My Drive/seg/model<5')\n",
        "# xmodel.summary()"
      ],
      "execution_count": null,
      "outputs": []
    },
    {
      "cell_type": "code",
      "metadata": {
        "id": "ZOTCUmuO3vKD",
        "outputId": "11668f72-6af2-4ce7-829e-5edf3b6d0434",
        "colab": {
          "base_uri": "https://localhost:8080/"
        }
      },
      "source": [
        "loaded_model.compile(\n",
        "    # optimizer,\n",
        "    \"adam\",\n",
        "    'binary_crossentropy',\n",
        "    metrics=['acc']\n",
        ")\n",
        "loaded_model.evaluate(valid)"
      ],
      "execution_count": null,
      "outputs": [
        {
          "output_type": "stream",
          "text": [
            "115/115 [==============================] - 13s 116ms/step - loss: 0.6940 - acc: 0.4348\n"
          ],
          "name": "stdout"
        },
        {
          "output_type": "execute_result",
          "data": {
            "text/plain": [
              "[0.6940000653266907, 0.43478259444236755]"
            ]
          },
          "metadata": {
            "tags": []
          },
          "execution_count": 59
        }
      ]
    },
    {
      "cell_type": "code",
      "metadata": {
        "id": "uRlvrkra3vKI"
      },
      "source": [
        "from sklearn.metrics import classification_report, confusion_matrix,accuracy_score"
      ],
      "execution_count": null,
      "outputs": []
    },
    {
      "cell_type": "code",
      "metadata": {
        "id": "KBJtNv943vKL"
      },
      "source": [
        "temp=list(map(lambda x:x.strip('/content/dataset'),valid.files))\n",
        "temp=list(map(lambda x:x.split('/')[0],temp))\n",
        "temp=list(map(lambda x:\"no\"+x if x=='rm' else x,temp))\n",
        "temp=list(map(lambda x:labels.index(x),temp))\n",
        "# len(temp)\n",
        "len(temp)"
      ],
      "execution_count": null,
      "outputs": []
    },
    {
      "cell_type": "code",
      "metadata": {
        "id": "hbGM83SY3vKP",
        "outputId": "9c7aa798-2123-451f-bef4-71420d2747a0",
        "colab": {
          "base_uri": "https://localhost:8080/"
        }
      },
      "source": [
        "#NB Frames=20,highly less complex model with many layers commented out,dataset<40 or frame_count<40\n",
        "batch_size=64\n",
        "y=model.predict(valid)\n",
        "y_pred = np.argmax(y, axis=1)\n",
        "print(\"confusion Matrix\")\n",
        "print(confusion_matrix(temp[:], y_pred))\n",
        "print('Classification Report')\n",
        "target_names = labels\n",
        "print(classification_report(temp[:], y_pred, target_names=target_names))\n",
        "print(accuracy_score(temp[:],y_pred))"
      ],
      "execution_count": null,
      "outputs": [
        {
          "output_type": "stream",
          "text": [
            "confusion Matrix\n",
            "[[ 0 65]\n",
            " [ 0 50]]\n",
            "Classification Report\n",
            "              precision    recall  f1-score   support\n",
            "\n",
            "       Crime       0.00      0.00      0.00        65\n",
            "        norm       0.43      1.00      0.61        50\n",
            "\n",
            "    accuracy                           0.43       115\n",
            "   macro avg       0.22      0.50      0.30       115\n",
            "weighted avg       0.19      0.43      0.26       115\n",
            "\n",
            "0.43478260869565216\n"
          ],
          "name": "stdout"
        },
        {
          "output_type": "stream",
          "text": [
            "/usr/local/lib/python3.6/dist-packages/sklearn/metrics/_classification.py:1272: UndefinedMetricWarning: Precision and F-score are ill-defined and being set to 0.0 in labels with no predicted samples. Use `zero_division` parameter to control this behavior.\n",
            "  _warn_prf(average, modifier, msg_start, len(result))\n"
          ],
          "name": "stderr"
        }
      ]
    },
    {
      "cell_type": "code",
      "metadata": {
        "id": "tcQ0S8xsHJms",
        "outputId": "73bc7d21-cd25-4091-e378-cc2b6fb8ae57",
        "colab": {
          "base_uri": "https://localhost:8080/"
        }
      },
      "source": [
        "EPOCHS=5#\n",
        "#Less Complex Model 128 96 and all\n",
        "callbacks = [\n",
        "keras.callbacks.ReduceLROnPlateau(verbose=1),\n",
        "keras.callbacks.ModelCheckpoint(\n",
        "    'chkp/weights.{epoch:02d}-{val_loss:.2f}.hdf5',\n",
        "    verbose=1),\n",
        "]\n",
        "history=model.fit(\n",
        "train,\n",
        "validation_data=valid,\n",
        "verbose=1,\n",
        "epochs=EPOCHS,\n",
        "callbacks=callbacks\n",
        ")"
      ],
      "execution_count": null,
      "outputs": [
        {
          "output_type": "stream",
          "text": [
            "Epoch 1/5\n",
            "16/16 [==============================] - ETA: 0s - loss: 0.6710 - acc: 0.6719\n",
            "Epoch 00001: saving model to chkp/weights.01-0.66.hdf5\n",
            "16/16 [==============================] - 193s 12s/step - loss: 0.6710 - acc: 0.6719 - val_loss: 0.6571 - val_acc: 0.6719\n",
            "Epoch 2/5\n",
            "16/16 [==============================] - ETA: 0s - loss: 0.6505 - acc: 0.6484\n",
            "Epoch 00002: saving model to chkp/weights.02-0.64.hdf5\n",
            "16/16 [==============================] - 9s 552ms/step - loss: 0.6505 - acc: 0.6484 - val_loss: 0.6355 - val_acc: 0.6719\n",
            "Epoch 3/5\n",
            "16/16 [==============================] - ETA: 0s - loss: 0.6764 - acc: 0.6094\n",
            "Epoch 00003: saving model to chkp/weights.03-0.66.hdf5\n",
            "16/16 [==============================] - 9s 552ms/step - loss: 0.6764 - acc: 0.6094 - val_loss: 0.6581 - val_acc: 0.6719\n",
            "Epoch 4/5\n",
            "16/16 [==============================] - ETA: 0s - loss: 0.6919 - acc: 0.6562\n",
            "Epoch 00004: saving model to chkp/weights.04-0.68.hdf5\n",
            "16/16 [==============================] - 9s 557ms/step - loss: 0.6919 - acc: 0.6562 - val_loss: 0.6843 - val_acc: 0.6094\n",
            "Epoch 5/5\n",
            "16/16 [==============================] - ETA: 0s - loss: 0.6169 - acc: 0.6562\n",
            "Epoch 00005: saving model to chkp/weights.05-0.64.hdf5\n",
            "16/16 [==============================] - 9s 553ms/step - loss: 0.6169 - acc: 0.6562 - val_loss: 0.6413 - val_acc: 0.6719\n"
          ],
          "name": "stdout"
        }
      ]
    },
    {
      "cell_type": "code",
      "metadata": {
        "id": "IREuRHrDUqSV",
        "outputId": "ad99a76e-ae08-477c-d342-26af94567dfd",
        "colab": {
          "base_uri": "https://localhost:8080/"
        }
      },
      "source": [
        "EPOCHS=5# create a \"chkp\" directory before to run that\n",
        "# Less Complex Model without drop out and reduced units\n",
        "history=model.fit(\n",
        "train,\n",
        "# validation_data=valid,\n",
        "verbose=1,\n",
        "epochs=10\n",
        "# ,callbacks=callbacks\n",
        ")"
      ],
      "execution_count": null,
      "outputs": [
        {
          "output_type": "stream",
          "text": [
            "Epoch 1/10\n",
            "16/16 [==============================] - 9s 542ms/step - loss: 0.6783 - acc: 0.6719\n",
            "Epoch 2/10\n",
            "16/16 [==============================] - 28s 2s/step - loss: 0.6526 - acc: 0.6797\n",
            "Epoch 3/10\n",
            "16/16 [==============================] - 9s 540ms/step - loss: 0.6408 - acc: 0.6719\n",
            "Epoch 4/10\n",
            "16/16 [==============================] - 9s 548ms/step - loss: 0.6246 - acc: 0.6953\n",
            "Epoch 5/10\n",
            "16/16 [==============================] - 9s 547ms/step - loss: 0.6317 - acc: 0.6875\n",
            "Epoch 6/10\n",
            "16/16 [==============================] - 9s 537ms/step - loss: 0.6315 - acc: 0.6875\n",
            "Epoch 7/10\n",
            "16/16 [==============================] - 9s 535ms/step - loss: 0.6377 - acc: 0.6719\n",
            "Epoch 8/10\n",
            "16/16 [==============================] - 9s 547ms/step - loss: 0.6381 - acc: 0.6875\n",
            "Epoch 9/10\n",
            "16/16 [==============================] - 9s 541ms/step - loss: 0.6349 - acc: 0.6797\n",
            "Epoch 10/10\n",
            "16/16 [==============================] - 9s 542ms/step - loss: 0.6416 - acc: 0.6641\n"
          ],
          "name": "stdout"
        }
      ]
    },
    {
      "cell_type": "code",
      "metadata": {
        "id": "pkbJM7ZmkkXD",
        "outputId": "89d0bb96-1b65-437f-a246-baa95be0886f",
        "colab": {
          "base_uri": "https://localhost:8080/"
        }
      },
      "source": [
        "#Segmented and removed duration < 1, less complex neural net\n",
        "history=model.fit(\n",
        "train,\n",
        "# validation_data=valid,\n",
        "verbose=1,\n",
        "epochs=10\n",
        "# ,callbacks=callbacks\n",
        ")"
      ],
      "execution_count": null,
      "outputs": [
        {
          "output_type": "stream",
          "text": [
            "Epoch 1/10\n",
            "29/29 [==============================] - 557s 19s/step - loss: 0.6941 - acc: 0.5345\n",
            "Epoch 2/10\n",
            "29/29 [==============================] - 25s 861ms/step - loss: 0.6883 - acc: 0.5603\n",
            "Epoch 3/10\n",
            "29/29 [==============================] - 17s 592ms/step - loss: 0.6836 - acc: 0.5733\n",
            "Epoch 4/10\n",
            "29/29 [==============================] - 17s 592ms/step - loss: 0.6869 - acc: 0.5647\n",
            "Epoch 5/10\n",
            "29/29 [==============================] - 17s 594ms/step - loss: 0.6864 - acc: 0.5647\n",
            "Epoch 6/10\n",
            "29/29 [==============================] - 17s 586ms/step - loss: 0.6870 - acc: 0.5603\n",
            "Epoch 7/10\n",
            "29/29 [==============================] - 17s 582ms/step - loss: 0.6856 - acc: 0.5690\n",
            "Epoch 8/10\n",
            "29/29 [==============================] - 17s 591ms/step - loss: 0.6858 - acc: 0.5647\n",
            "Epoch 9/10\n",
            "29/29 [==============================] - 17s 594ms/step - loss: 0.6871 - acc: 0.5603\n",
            "Epoch 10/10\n",
            "29/29 [==============================] - 17s 599ms/step - loss: 0.6877 - acc: 0.5603\n"
          ],
          "name": "stdout"
        }
      ]
    },
    {
      "cell_type": "code",
      "metadata": {
        "id": "uF0KzVxOzkPe",
        "outputId": "b3910a90-8848-45f2-8feb-c5b0de83d9a9",
        "colab": {
          "base_uri": "https://localhost:8080/"
        }
      },
      "source": [
        "model.evaluate_generator(valid)"
      ],
      "execution_count": null,
      "outputs": [
        {
          "output_type": "stream",
          "text": [
            "WARNING:tensorflow:From <ipython-input-118-72167c2d045e>:1: Model.evaluate_generator (from tensorflow.python.keras.engine.training) is deprecated and will be removed in a future version.\n",
            "Instructions for updating:\n",
            "Please use Model.evaluate, which supports generators.\n"
          ],
          "name": "stdout"
        },
        {
          "output_type": "execute_result",
          "data": {
            "text/plain": [
              "[0.6496166586875916, 0.671875]"
            ]
          },
          "metadata": {
            "tags": []
          },
          "execution_count": 118
        }
      ]
    },
    {
      "cell_type": "code",
      "metadata": {
        "id": "udoWVoleOh5Q",
        "outputId": "6f45277c-9222-4635-9fe6-a3913374f97e",
        "colab": {
          "base_uri": "https://localhost:8080/"
        }
      },
      "source": [
        "model.evaluate_generator(valid)"
      ],
      "execution_count": null,
      "outputs": [
        {
          "output_type": "stream",
          "text": [
            "WARNING:tensorflow:From <ipython-input-45-72167c2d045e>:1: Model.evaluate_generator (from tensorflow.python.keras.engine.training) is deprecated and will be removed in a future version.\n",
            "Instructions for updating:\n",
            "Please use Model.evaluate, which supports generators.\n"
          ],
          "name": "stdout"
        },
        {
          "output_type": "execute_result",
          "data": {
            "text/plain": [
              "[0.6937780380249023, 0.4285714328289032]"
            ]
          },
          "metadata": {
            "tags": []
          },
          "execution_count": 45
        }
      ]
    },
    {
      "cell_type": "code",
      "metadata": {
        "id": "zm1G8-Xi9L0o",
        "outputId": "b9e2e14f-3910-41e8-ce92-f15536ee28a3",
        "colab": {
          "base_uri": "https://localhost:8080/"
        }
      },
      "source": [
        "model.save('/content/drive/My Drive/seg/model3.model')\n",
        "from keras.models import load_model\n",
        "xmodel=keras.models.load_model('/content/drive/My Drive/seg/model3.model')\n",
        "xmodel.summary()"
      ],
      "execution_count": null,
      "outputs": [
        {
          "output_type": "stream",
          "text": [
            "WARNING:tensorflow:From /usr/local/lib/python3.6/dist-packages/tensorflow/python/training/tracking/tracking.py:111: Model.state_updates (from tensorflow.python.keras.engine.training) is deprecated and will be removed in a future version.\n",
            "Instructions for updating:\n",
            "This property should not be used in TensorFlow 2.0, as updates are applied automatically.\n",
            "WARNING:tensorflow:From /usr/local/lib/python3.6/dist-packages/tensorflow/python/training/tracking/tracking.py:111: Layer.updates (from tensorflow.python.keras.engine.base_layer) is deprecated and will be removed in a future version.\n",
            "Instructions for updating:\n",
            "This property should not be used in TensorFlow 2.0, as updates are applied automatically.\n",
            "INFO:tensorflow:Assets written to: /content/drive/My Drive/seg/model2/assets\n",
            "Model: \"sequential_3\"\n",
            "_________________________________________________________________\n",
            "Layer (type)                 Output Shape              Param #   \n",
            "=================================================================\n",
            "time_distributed_1 (TimeDist (None, 5, 128)            630720    \n",
            "_________________________________________________________________\n",
            "lstm_1 (LSTM)                (None, 64)                49408     \n",
            "_________________________________________________________________\n",
            "dense_5 (Dense)              (None, 128)               8320      \n",
            "_________________________________________________________________\n",
            "dropout_3 (Dropout)          (None, 128)               0         \n",
            "_________________________________________________________________\n",
            "dense_6 (Dense)              (None, 128)               16512     \n",
            "_________________________________________________________________\n",
            "dropout_4 (Dropout)          (None, 128)               0         \n",
            "_________________________________________________________________\n",
            "dense_7 (Dense)              (None, 128)               16512     \n",
            "_________________________________________________________________\n",
            "dropout_5 (Dropout)          (None, 128)               0         \n",
            "_________________________________________________________________\n",
            "dense_8 (Dense)              (None, 64)                8256      \n",
            "_________________________________________________________________\n",
            "dense_9 (Dense)              (None, 4)                 260       \n",
            "=================================================================\n",
            "Total params: 729,988\n",
            "Trainable params: 729,220\n",
            "Non-trainable params: 768\n",
            "_________________________________________________________________\n"
          ],
          "name": "stdout"
        }
      ]
    },
    {
      "cell_type": "code",
      "metadata": {
        "id": "hZURQkWd9rac"
      },
      "source": [
        "# # model.save_weights('/content/drive/My Drive/Dataset')\n",
        "# xmodel = action_model(INSHAPE, len(classes))\n",
        "# optimizer = keras.optimizers.Adam(0.001)\n",
        "# xmodel.compile(\n",
        "#     optimizer,\n",
        "#     'categorical_crossentropy',\n",
        "#     metrics=['acc']\n",
        "# )"
      ],
      "execution_count": null,
      "outputs": []
    },
    {
      "cell_type": "code",
      "metadata": {
        "id": "bLR9BI8iA7Sd"
      },
      "source": [
        "# xmodel.load_weights('/content/drive/My Drive/Dataset')"
      ],
      "execution_count": null,
      "outputs": []
    },
    {
      "cell_type": "code",
      "metadata": {
        "id": "0fsKdHBUj81z",
        "outputId": "6f91620e-a8e7-4980-d1c8-1bd5c1584711",
        "colab": {
          "base_uri": "https://localhost:8080/"
        }
      },
      "source": [
        "temp=list(map(lambda x:x.strip('/content/dataset'),valid.files))\n",
        "temp=list(map(lambda x:x.split('/')[0],temp))\n",
        "temp=list(map(lambda x:\"no\"+x if x=='rm' else x,temp))\n",
        "temp=list(map(lambda x:labels.index(x),temp))\n",
        "# len(temp)\n",
        "len(temp)"
      ],
      "execution_count": null,
      "outputs": [
        {
          "output_type": "execute_result",
          "data": {
            "text/plain": [
              "298"
            ]
          },
          "metadata": {
            "tags": []
          },
          "execution_count": 49
        }
      ]
    },
    {
      "cell_type": "code",
      "metadata": {
        "id": "bPvQqWfjPSyZ",
        "outputId": "6f7c8986-f73b-4927-d16e-ef281284567c",
        "colab": {
          "base_uri": "https://localhost:8080/"
        }
      },
      "source": [
        "# trained on binary classification after removing frames less than 40,80,160(simpler network)\n",
        "batch_size=64\n",
        "y=model.predict(valid)\n",
        "y_pred = np.argmax(y, axis=1)\n",
        "print(\"confusion Matrix\")\n",
        "print(confusion_matrix(temp[:], y_pred))\n",
        "print('Classification Report')\n",
        "target_names = labels\n",
        "print(classification_report(temp[:], y_pred, target_names=target_names))"
      ],
      "execution_count": null,
      "outputs": [
        {
          "output_type": "stream",
          "text": [
            "confusion Matrix\n",
            "[[43  0]\n",
            " [21  0]]\n",
            "Classification Report\n",
            "              precision    recall  f1-score   support\n",
            "\n",
            "       Crime       0.67      1.00      0.80        43\n",
            "        norm       0.00      0.00      0.00        21\n",
            "\n",
            "    accuracy                           0.67        64\n",
            "   macro avg       0.34      0.50      0.40        64\n",
            "weighted avg       0.45      0.67      0.54        64\n",
            "\n"
          ],
          "name": "stdout"
        },
        {
          "output_type": "stream",
          "text": [
            "/usr/local/lib/python3.6/dist-packages/sklearn/metrics/_classification.py:1272: UndefinedMetricWarning: Precision and F-score are ill-defined and being set to 0.0 in labels with no predicted samples. Use `zero_division` parameter to control this behavior.\n",
            "  _warn_prf(average, modifier, msg_start, len(result))\n"
          ],
          "name": "stderr"
        }
      ]
    },
    {
      "cell_type": "code",
      "metadata": {
        "id": "EuL7EIrRwfx2",
        "outputId": "377a6ebe-9f7f-46f7-f7ae-bc9e7eea9abe",
        "colab": {
          "base_uri": "https://localhost:8080/"
        }
      },
      "source": [
        "len(y_pred)"
      ],
      "execution_count": null,
      "outputs": [
        {
          "output_type": "execute_result",
          "data": {
            "text/plain": [
              "326"
            ]
          },
          "metadata": {
            "tags": []
          },
          "execution_count": 46
        }
      ]
    },
    {
      "cell_type": "code",
      "metadata": {
        "id": "vp4U_rEQvDHT",
        "outputId": "98d8bfce-188a-4fa4-8421-c5dfabaa912e",
        "colab": {
          "base_uri": "https://localhost:8080/"
        }
      },
      "source": [
        "# trained on binary classification after removing frames less than 40(complex network)\n",
        "y=model.predict(valid)\n",
        "y_pred = np.argmax(y, axis=1)\n",
        "print(\"confusion Matrix\")\n",
        "print(confusion_matrix(temp[:326], y_pred))\n",
        "print('Classification Report')\n",
        "target_names = labels\n",
        "print(classification_report(temp[:326], y_pred, target_names=target_names))"
      ],
      "execution_count": null,
      "outputs": [
        {
          "output_type": "stream",
          "text": [
            "confusion Matrix\n",
            "[[114   0]\n",
            " [212   0]]\n",
            "Classification Report\n",
            "              precision    recall  f1-score   support\n",
            "\n",
            "       Crime       0.35      1.00      0.52       114\n",
            "        norm       0.00      0.00      0.00       212\n",
            "\n",
            "    accuracy                           0.35       326\n",
            "   macro avg       0.17      0.50      0.26       326\n",
            "weighted avg       0.12      0.35      0.18       326\n",
            "\n"
          ],
          "name": "stdout"
        },
        {
          "output_type": "stream",
          "text": [
            "/usr/local/lib/python3.6/dist-packages/sklearn/metrics/_classification.py:1272: UndefinedMetricWarning: Precision and F-score are ill-defined and being set to 0.0 in labels with no predicted samples. Use `zero_division` parameter to control this behavior.\n",
            "  _warn_prf(average, modifier, msg_start, len(result))\n"
          ],
          "name": "stderr"
        }
      ]
    },
    {
      "cell_type": "code",
      "metadata": {
        "id": "SqByzoOgbDHS",
        "outputId": "54663ec0-7fb1-4316-d287-0cfe4dc3ad4d",
        "colab": {
          "base_uri": "https://localhost:8080/"
        }
      },
      "source": [
        "# after removinf segments with frames less than 10 , depth = 5\n",
        "batch_size=64\n",
        "y=model.predict(valid)\n",
        "y_pred = np.argmax(y, axis=1)\n",
        "print(\"confusion Matrix\")\n",
        "print(confusion_matrix(temp[:-3], y_pred))\n",
        "print('Classification Report')\n",
        "target_names = labels\n",
        "print(classification_report(temp[:-3], y_pred, target_names=target_names))"
      ],
      "execution_count": null,
      "outputs": [
        {
          "output_type": "stream",
          "text": [
            "confusion Matrix\n",
            "[[ 0 65]\n",
            " [ 0 47]]\n",
            "Classification Report\n",
            "              precision    recall  f1-score   support\n",
            "\n",
            "       Crime       0.00      0.00      0.00        65\n",
            "        norm       0.42      1.00      0.59        47\n",
            "\n",
            "    accuracy                           0.42       112\n",
            "   macro avg       0.21      0.50      0.30       112\n",
            "weighted avg       0.18      0.42      0.25       112\n",
            "\n"
          ],
          "name": "stdout"
        },
        {
          "output_type": "stream",
          "text": [
            "/usr/local/lib/python3.6/dist-packages/sklearn/metrics/_classification.py:1272: UndefinedMetricWarning: Precision and F-score are ill-defined and being set to 0.0 in labels with no predicted samples. Use `zero_division` parameter to control this behavior.\n",
            "  _warn_prf(average, modifier, msg_start, len(result))\n"
          ],
          "name": "stderr"
        }
      ]
    },
    {
      "cell_type": "code",
      "metadata": {
        "id": "ovjtjyJsRC1f",
        "outputId": "2d2d5a4c-7fe4-4562-c96d-c6030bef9e28",
        "colab": {
          "base_uri": "https://localhost:8080/"
        }
      },
      "source": [
        "history.history"
      ],
      "execution_count": null,
      "outputs": [
        {
          "output_type": "execute_result",
          "data": {
            "text/plain": [
              "{'acc': [0.26724138855934143,\n",
              "  0.3017241358757019,\n",
              "  0.24568966031074524,\n",
              "  0.2844827473163605,\n",
              "  0.3017241358757019],\n",
              " 'loss': [1.423452615737915,\n",
              "  1.4363266229629517,\n",
              "  1.4211052656173706,\n",
              "  1.400246024131775,\n",
              "  1.385802149772644],\n",
              " 'lr': [0.001, 0.001, 0.001, 0.001, 0.001],\n",
              " 'val_acc': [0.3125,\n",
              "  0.2946428656578064,\n",
              "  0.2946428656578064,\n",
              "  0.3303571343421936,\n",
              "  0.2767857015132904],\n",
              " 'val_loss': [1.336680293083191,\n",
              "  1.3574830293655396,\n",
              "  1.3498440980911255,\n",
              "  1.35509192943573,\n",
              "  1.3534997701644897]}"
            ]
          },
          "metadata": {
            "tags": []
          },
          "execution_count": 57
        }
      ]
    },
    {
      "cell_type": "code",
      "metadata": {
        "id": "lDaOyNwiSLtq",
        "outputId": "3f91d2e0-5efd-432c-89f2-d8eaaff33aa3",
        "colab": {
          "base_uri": "https://localhost:8080/",
          "height": 573
        }
      },
      "source": [
        "plt.plot(history.history['acc'])\n",
        "plt.plot(history.history['val_acc'])\n",
        "plt.title('model accuracy')\n",
        "plt.ylabel('accuracy')\n",
        "plt.xlabel('epoch')\n",
        "plt.legend(['train', 'test'], loc='upper left')\n",
        "plt.show()\n",
        "# summarize history for loss\n",
        "plt.plot(history.history['loss'])\n",
        "plt.plot(history.history['val_loss'])\n",
        "plt.title('model loss')\n",
        "plt.ylabel('loss')\n",
        "plt.xlabel('epoch')\n",
        "plt.legend(['train', 'test'], loc='upper left')\n",
        "plt.show()"
      ],
      "execution_count": null,
      "outputs": [
        {
          "output_type": "display_data",
          "data": {
            "image/png": "[encoded data removed]",
            "text/plain": [
              "<Figure size 432x288 with 1 Axes>"
            ]
          },
          "metadata": {
            "tags": [],
            "needs_background": "light"
          }
        },
        {
          "output_type": "display_data",
          "data": {
            "image/png": "[encoded data removed]",
            "text/plain": [
              "<Figure size 432x288 with 1 Axes>"
            ]
          },
          "metadata": {
            "tags": [],
            "needs_background": "light"
          }
        }
      ]
    }
  ]
}